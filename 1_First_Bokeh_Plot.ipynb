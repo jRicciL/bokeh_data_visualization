{
 "cells": [
  {
   "cell_type": "markdown",
   "metadata": {},
   "source": [
    "Bokeh cuenta con algunas interfaces\n",
    "- bokeh.plotting()"
   ]
  },
  {
   "cell_type": "code",
   "execution_count": 1,
   "metadata": {},
   "outputs": [],
   "source": [
    "# Bokeh: Gráfica de líneas\n",
    "from bokeh.plotting import figure\n",
    "# Figure es uno de los elementos más importantes\n",
    "from bokeh.io import output_notebook, show"
   ]
  },
  {
   "cell_type": "markdown",
   "metadata": {},
   "source": [
    "## Bokeh glyphs\n",
    "En bokeh las formas geométricas usadas para generar una gráfica son llamadas *glyphs*. Los *glyphs* básicos son:\n",
    "1. Line plots\n",
    "- Bar plots\n",
    "- Patch plots\n",
    "- Scatter plots"
   ]
  },
  {
   "cell_type": "code",
   "execution_count": 2,
   "metadata": {},
   "outputs": [],
   "source": [
    "# Ahora creamos un pequeño dataset\n",
    "import numpy as np\n",
    "\n",
    "x = np.arange(-10, 10, 0.5)\n",
    "y = 1 / (1 + np.exp(- x))"
   ]
  },
  {
   "cell_type": "code",
   "execution_count": 3,
   "metadata": {},
   "outputs": [
    {
     "data": {
      "text/html": [
       "\n",
       "    <div class=\"bk-root\">\n",
       "        <a href=\"https://bokeh.pydata.org\" target=\"_blank\" class=\"bk-logo bk-logo-small bk-logo-notebook\"></a>\n",
       "        <span id=\"1001\">Loading BokehJS ...</span>\n",
       "    </div>"
      ]
     },
     "metadata": {},
     "output_type": "display_data"
    },
    {
     "data": {
      "application/javascript": [
       "\n",
       "(function(root) {\n",
       "  function now() {\n",
       "    return new Date();\n",
       "  }\n",
       "\n",
       "  var force = true;\n",
       "\n",
       "  if (typeof root._bokeh_onload_callbacks === \"undefined\" || force === true) {\n",
       "    root._bokeh_onload_callbacks = [];\n",
       "    root._bokeh_is_loading = undefined;\n",
       "  }\n",
       "\n",
       "  var JS_MIME_TYPE = 'application/javascript';\n",
       "  var HTML_MIME_TYPE = 'text/html';\n",
       "  var EXEC_MIME_TYPE = 'application/vnd.bokehjs_exec.v0+json';\n",
       "  var CLASS_NAME = 'output_bokeh rendered_html';\n",
       "\n",
       "  /**\n",
       "   * Render data to the DOM node\n",
       "   */\n",
       "  function render(props, node) {\n",
       "    var script = document.createElement(\"script\");\n",
       "    node.appendChild(script);\n",
       "  }\n",
       "\n",
       "  /**\n",
       "   * Handle when an output is cleared or removed\n",
       "   */\n",
       "  function handleClearOutput(event, handle) {\n",
       "    var cell = handle.cell;\n",
       "\n",
       "    var id = cell.output_area._bokeh_element_id;\n",
       "    var server_id = cell.output_area._bokeh_server_id;\n",
       "    // Clean up Bokeh references\n",
       "    if (id != null && id in Bokeh.index) {\n",
       "      Bokeh.index[id].model.document.clear();\n",
       "      delete Bokeh.index[id];\n",
       "    }\n",
       "\n",
       "    if (server_id !== undefined) {\n",
       "      // Clean up Bokeh references\n",
       "      var cmd = \"from bokeh.io.state import curstate; print(curstate().uuid_to_server['\" + server_id + \"'].get_sessions()[0].document.roots[0]._id)\";\n",
       "      cell.notebook.kernel.execute(cmd, {\n",
       "        iopub: {\n",
       "          output: function(msg) {\n",
       "            var id = msg.content.text.trim();\n",
       "            if (id in Bokeh.index) {\n",
       "              Bokeh.index[id].model.document.clear();\n",
       "              delete Bokeh.index[id];\n",
       "            }\n",
       "          }\n",
       "        }\n",
       "      });\n",
       "      // Destroy server and session\n",
       "      var cmd = \"import bokeh.io.notebook as ion; ion.destroy_server('\" + server_id + \"')\";\n",
       "      cell.notebook.kernel.execute(cmd);\n",
       "    }\n",
       "  }\n",
       "\n",
       "  /**\n",
       "   * Handle when a new output is added\n",
       "   */\n",
       "  function handleAddOutput(event, handle) {\n",
       "    var output_area = handle.output_area;\n",
       "    var output = handle.output;\n",
       "\n",
       "    // limit handleAddOutput to display_data with EXEC_MIME_TYPE content only\n",
       "    if ((output.output_type != \"display_data\") || (!output.data.hasOwnProperty(EXEC_MIME_TYPE))) {\n",
       "      return\n",
       "    }\n",
       "\n",
       "    var toinsert = output_area.element.find(\".\" + CLASS_NAME.split(' ')[0]);\n",
       "\n",
       "    if (output.metadata[EXEC_MIME_TYPE][\"id\"] !== undefined) {\n",
       "      toinsert[toinsert.length - 1].firstChild.textContent = output.data[JS_MIME_TYPE];\n",
       "      // store reference to embed id on output_area\n",
       "      output_area._bokeh_element_id = output.metadata[EXEC_MIME_TYPE][\"id\"];\n",
       "    }\n",
       "    if (output.metadata[EXEC_MIME_TYPE][\"server_id\"] !== undefined) {\n",
       "      var bk_div = document.createElement(\"div\");\n",
       "      bk_div.innerHTML = output.data[HTML_MIME_TYPE];\n",
       "      var script_attrs = bk_div.children[0].attributes;\n",
       "      for (var i = 0; i < script_attrs.length; i++) {\n",
       "        toinsert[toinsert.length - 1].firstChild.setAttribute(script_attrs[i].name, script_attrs[i].value);\n",
       "      }\n",
       "      // store reference to server id on output_area\n",
       "      output_area._bokeh_server_id = output.metadata[EXEC_MIME_TYPE][\"server_id\"];\n",
       "    }\n",
       "  }\n",
       "\n",
       "  function register_renderer(events, OutputArea) {\n",
       "\n",
       "    function append_mime(data, metadata, element) {\n",
       "      // create a DOM node to render to\n",
       "      var toinsert = this.create_output_subarea(\n",
       "        metadata,\n",
       "        CLASS_NAME,\n",
       "        EXEC_MIME_TYPE\n",
       "      );\n",
       "      this.keyboard_manager.register_events(toinsert);\n",
       "      // Render to node\n",
       "      var props = {data: data, metadata: metadata[EXEC_MIME_TYPE]};\n",
       "      render(props, toinsert[toinsert.length - 1]);\n",
       "      element.append(toinsert);\n",
       "      return toinsert\n",
       "    }\n",
       "\n",
       "    /* Handle when an output is cleared or removed */\n",
       "    events.on('clear_output.CodeCell', handleClearOutput);\n",
       "    events.on('delete.Cell', handleClearOutput);\n",
       "\n",
       "    /* Handle when a new output is added */\n",
       "    events.on('output_added.OutputArea', handleAddOutput);\n",
       "\n",
       "    /**\n",
       "     * Register the mime type and append_mime function with output_area\n",
       "     */\n",
       "    OutputArea.prototype.register_mime_type(EXEC_MIME_TYPE, append_mime, {\n",
       "      /* Is output safe? */\n",
       "      safe: true,\n",
       "      /* Index of renderer in `output_area.display_order` */\n",
       "      index: 0\n",
       "    });\n",
       "  }\n",
       "\n",
       "  // register the mime type if in Jupyter Notebook environment and previously unregistered\n",
       "  if (root.Jupyter !== undefined) {\n",
       "    var events = require('base/js/events');\n",
       "    var OutputArea = require('notebook/js/outputarea').OutputArea;\n",
       "\n",
       "    if (OutputArea.prototype.mime_types().indexOf(EXEC_MIME_TYPE) == -1) {\n",
       "      register_renderer(events, OutputArea);\n",
       "    }\n",
       "  }\n",
       "\n",
       "  \n",
       "  if (typeof (root._bokeh_timeout) === \"undefined\" || force === true) {\n",
       "    root._bokeh_timeout = Date.now() + 5000;\n",
       "    root._bokeh_failed_load = false;\n",
       "  }\n",
       "\n",
       "  var NB_LOAD_WARNING = {'data': {'text/html':\n",
       "     \"<div style='background-color: #fdd'>\\n\"+\n",
       "     \"<p>\\n\"+\n",
       "     \"BokehJS does not appear to have successfully loaded. If loading BokehJS from CDN, this \\n\"+\n",
       "     \"may be due to a slow or bad network connection. Possible fixes:\\n\"+\n",
       "     \"</p>\\n\"+\n",
       "     \"<ul>\\n\"+\n",
       "     \"<li>re-rerun `output_notebook()` to attempt to load from CDN again, or</li>\\n\"+\n",
       "     \"<li>use INLINE resources instead, as so:</li>\\n\"+\n",
       "     \"</ul>\\n\"+\n",
       "     \"<code>\\n\"+\n",
       "     \"from bokeh.resources import INLINE\\n\"+\n",
       "     \"output_notebook(resources=INLINE)\\n\"+\n",
       "     \"</code>\\n\"+\n",
       "     \"</div>\"}};\n",
       "\n",
       "  function display_loaded() {\n",
       "    var el = document.getElementById(\"1001\");\n",
       "    if (el != null) {\n",
       "      el.textContent = \"BokehJS is loading...\";\n",
       "    }\n",
       "    if (root.Bokeh !== undefined) {\n",
       "      if (el != null) {\n",
       "        el.textContent = \"BokehJS \" + root.Bokeh.version + \" successfully loaded.\";\n",
       "      }\n",
       "    } else if (Date.now() < root._bokeh_timeout) {\n",
       "      setTimeout(display_loaded, 100)\n",
       "    }\n",
       "  }\n",
       "\n",
       "\n",
       "  function run_callbacks() {\n",
       "    try {\n",
       "      root._bokeh_onload_callbacks.forEach(function(callback) {\n",
       "        if (callback != null)\n",
       "          callback();\n",
       "      });\n",
       "    } finally {\n",
       "      delete root._bokeh_onload_callbacks\n",
       "    }\n",
       "    console.debug(\"Bokeh: all callbacks have finished\");\n",
       "  }\n",
       "\n",
       "  function load_libs(css_urls, js_urls, callback) {\n",
       "    if (css_urls == null) css_urls = [];\n",
       "    if (js_urls == null) js_urls = [];\n",
       "\n",
       "    root._bokeh_onload_callbacks.push(callback);\n",
       "    if (root._bokeh_is_loading > 0) {\n",
       "      console.debug(\"Bokeh: BokehJS is being loaded, scheduling callback at\", now());\n",
       "      return null;\n",
       "    }\n",
       "    if (js_urls == null || js_urls.length === 0) {\n",
       "      run_callbacks();\n",
       "      return null;\n",
       "    }\n",
       "    console.debug(\"Bokeh: BokehJS not loaded, scheduling load and callback at\", now());\n",
       "    root._bokeh_is_loading = css_urls.length + js_urls.length;\n",
       "\n",
       "    function on_load() {\n",
       "      root._bokeh_is_loading--;\n",
       "      if (root._bokeh_is_loading === 0) {\n",
       "        console.debug(\"Bokeh: all BokehJS libraries/stylesheets loaded\");\n",
       "        run_callbacks()\n",
       "      }\n",
       "    }\n",
       "\n",
       "    function on_error() {\n",
       "      console.error(\"failed to load \" + url);\n",
       "    }\n",
       "\n",
       "    for (var i = 0; i < css_urls.length; i++) {\n",
       "      var url = css_urls[i];\n",
       "      const element = document.createElement(\"link\");\n",
       "      element.onload = on_load;\n",
       "      element.onerror = on_error;\n",
       "      element.rel = \"stylesheet\";\n",
       "      element.type = \"text/css\";\n",
       "      element.href = url;\n",
       "      console.debug(\"Bokeh: injecting link tag for BokehJS stylesheet: \", url);\n",
       "      document.body.appendChild(element);\n",
       "    }\n",
       "\n",
       "    for (var i = 0; i < js_urls.length; i++) {\n",
       "      var url = js_urls[i];\n",
       "      var element = document.createElement('script');\n",
       "      element.onload = on_load;\n",
       "      element.onerror = on_error;\n",
       "      element.async = false;\n",
       "      element.src = url;\n",
       "      console.debug(\"Bokeh: injecting script tag for BokehJS library: \", url);\n",
       "      document.head.appendChild(element);\n",
       "    }\n",
       "  };var element = document.getElementById(\"1001\");\n",
       "  if (element == null) {\n",
       "    console.error(\"Bokeh: ERROR: autoload.js configured with elementid '1001' but no matching script tag was found. \")\n",
       "    return false;\n",
       "  }\n",
       "\n",
       "  function inject_raw_css(css) {\n",
       "    const element = document.createElement(\"style\");\n",
       "    element.appendChild(document.createTextNode(css));\n",
       "    document.body.appendChild(element);\n",
       "  }\n",
       "\n",
       "  var js_urls = [\"https://cdn.pydata.org/bokeh/release/bokeh-1.3.4.min.js\", \"https://cdn.pydata.org/bokeh/release/bokeh-widgets-1.3.4.min.js\", \"https://cdn.pydata.org/bokeh/release/bokeh-tables-1.3.4.min.js\", \"https://cdn.pydata.org/bokeh/release/bokeh-gl-1.3.4.min.js\"];\n",
       "  var css_urls = [];\n",
       "\n",
       "  var inline_js = [\n",
       "    function(Bokeh) {\n",
       "      Bokeh.set_log_level(\"info\");\n",
       "    },\n",
       "    \n",
       "    function(Bokeh) {\n",
       "      \n",
       "    },\n",
       "    function(Bokeh) {} // ensure no trailing comma for IE\n",
       "  ];\n",
       "\n",
       "  function run_inline_js() {\n",
       "    \n",
       "    if ((root.Bokeh !== undefined) || (force === true)) {\n",
       "      for (var i = 0; i < inline_js.length; i++) {\n",
       "        inline_js[i].call(root, root.Bokeh);\n",
       "      }if (force === true) {\n",
       "        display_loaded();\n",
       "      }} else if (Date.now() < root._bokeh_timeout) {\n",
       "      setTimeout(run_inline_js, 100);\n",
       "    } else if (!root._bokeh_failed_load) {\n",
       "      console.log(\"Bokeh: BokehJS failed to load within specified timeout.\");\n",
       "      root._bokeh_failed_load = true;\n",
       "    } else if (force !== true) {\n",
       "      var cell = $(document.getElementById(\"1001\")).parents('.cell').data().cell;\n",
       "      cell.output_area.append_execute_result(NB_LOAD_WARNING)\n",
       "    }\n",
       "\n",
       "  }\n",
       "\n",
       "  if (root._bokeh_is_loading === 0) {\n",
       "    console.debug(\"Bokeh: BokehJS loaded, going straight to plotting\");\n",
       "    run_inline_js();\n",
       "  } else {\n",
       "    load_libs(css_urls, js_urls, function() {\n",
       "      console.debug(\"Bokeh: BokehJS plotting callback run at\", now());\n",
       "      run_inline_js();\n",
       "    });\n",
       "  }\n",
       "}(window));"
      ],
      "application/vnd.bokehjs_load.v0+json": "\n(function(root) {\n  function now() {\n    return new Date();\n  }\n\n  var force = true;\n\n  if (typeof root._bokeh_onload_callbacks === \"undefined\" || force === true) {\n    root._bokeh_onload_callbacks = [];\n    root._bokeh_is_loading = undefined;\n  }\n\n  \n\n  \n  if (typeof (root._bokeh_timeout) === \"undefined\" || force === true) {\n    root._bokeh_timeout = Date.now() + 5000;\n    root._bokeh_failed_load = false;\n  }\n\n  var NB_LOAD_WARNING = {'data': {'text/html':\n     \"<div style='background-color: #fdd'>\\n\"+\n     \"<p>\\n\"+\n     \"BokehJS does not appear to have successfully loaded. If loading BokehJS from CDN, this \\n\"+\n     \"may be due to a slow or bad network connection. Possible fixes:\\n\"+\n     \"</p>\\n\"+\n     \"<ul>\\n\"+\n     \"<li>re-rerun `output_notebook()` to attempt to load from CDN again, or</li>\\n\"+\n     \"<li>use INLINE resources instead, as so:</li>\\n\"+\n     \"</ul>\\n\"+\n     \"<code>\\n\"+\n     \"from bokeh.resources import INLINE\\n\"+\n     \"output_notebook(resources=INLINE)\\n\"+\n     \"</code>\\n\"+\n     \"</div>\"}};\n\n  function display_loaded() {\n    var el = document.getElementById(\"1001\");\n    if (el != null) {\n      el.textContent = \"BokehJS is loading...\";\n    }\n    if (root.Bokeh !== undefined) {\n      if (el != null) {\n        el.textContent = \"BokehJS \" + root.Bokeh.version + \" successfully loaded.\";\n      }\n    } else if (Date.now() < root._bokeh_timeout) {\n      setTimeout(display_loaded, 100)\n    }\n  }\n\n\n  function run_callbacks() {\n    try {\n      root._bokeh_onload_callbacks.forEach(function(callback) {\n        if (callback != null)\n          callback();\n      });\n    } finally {\n      delete root._bokeh_onload_callbacks\n    }\n    console.debug(\"Bokeh: all callbacks have finished\");\n  }\n\n  function load_libs(css_urls, js_urls, callback) {\n    if (css_urls == null) css_urls = [];\n    if (js_urls == null) js_urls = [];\n\n    root._bokeh_onload_callbacks.push(callback);\n    if (root._bokeh_is_loading > 0) {\n      console.debug(\"Bokeh: BokehJS is being loaded, scheduling callback at\", now());\n      return null;\n    }\n    if (js_urls == null || js_urls.length === 0) {\n      run_callbacks();\n      return null;\n    }\n    console.debug(\"Bokeh: BokehJS not loaded, scheduling load and callback at\", now());\n    root._bokeh_is_loading = css_urls.length + js_urls.length;\n\n    function on_load() {\n      root._bokeh_is_loading--;\n      if (root._bokeh_is_loading === 0) {\n        console.debug(\"Bokeh: all BokehJS libraries/stylesheets loaded\");\n        run_callbacks()\n      }\n    }\n\n    function on_error() {\n      console.error(\"failed to load \" + url);\n    }\n\n    for (var i = 0; i < css_urls.length; i++) {\n      var url = css_urls[i];\n      const element = document.createElement(\"link\");\n      element.onload = on_load;\n      element.onerror = on_error;\n      element.rel = \"stylesheet\";\n      element.type = \"text/css\";\n      element.href = url;\n      console.debug(\"Bokeh: injecting link tag for BokehJS stylesheet: \", url);\n      document.body.appendChild(element);\n    }\n\n    for (var i = 0; i < js_urls.length; i++) {\n      var url = js_urls[i];\n      var element = document.createElement('script');\n      element.onload = on_load;\n      element.onerror = on_error;\n      element.async = false;\n      element.src = url;\n      console.debug(\"Bokeh: injecting script tag for BokehJS library: \", url);\n      document.head.appendChild(element);\n    }\n  };var element = document.getElementById(\"1001\");\n  if (element == null) {\n    console.error(\"Bokeh: ERROR: autoload.js configured with elementid '1001' but no matching script tag was found. \")\n    return false;\n  }\n\n  function inject_raw_css(css) {\n    const element = document.createElement(\"style\");\n    element.appendChild(document.createTextNode(css));\n    document.body.appendChild(element);\n  }\n\n  var js_urls = [\"https://cdn.pydata.org/bokeh/release/bokeh-1.3.4.min.js\", \"https://cdn.pydata.org/bokeh/release/bokeh-widgets-1.3.4.min.js\", \"https://cdn.pydata.org/bokeh/release/bokeh-tables-1.3.4.min.js\", \"https://cdn.pydata.org/bokeh/release/bokeh-gl-1.3.4.min.js\"];\n  var css_urls = [];\n\n  var inline_js = [\n    function(Bokeh) {\n      Bokeh.set_log_level(\"info\");\n    },\n    \n    function(Bokeh) {\n      \n    },\n    function(Bokeh) {} // ensure no trailing comma for IE\n  ];\n\n  function run_inline_js() {\n    \n    if ((root.Bokeh !== undefined) || (force === true)) {\n      for (var i = 0; i < inline_js.length; i++) {\n        inline_js[i].call(root, root.Bokeh);\n      }if (force === true) {\n        display_loaded();\n      }} else if (Date.now() < root._bokeh_timeout) {\n      setTimeout(run_inline_js, 100);\n    } else if (!root._bokeh_failed_load) {\n      console.log(\"Bokeh: BokehJS failed to load within specified timeout.\");\n      root._bokeh_failed_load = true;\n    } else if (force !== true) {\n      var cell = $(document.getElementById(\"1001\")).parents('.cell').data().cell;\n      cell.output_area.append_execute_result(NB_LOAD_WARNING)\n    }\n\n  }\n\n  if (root._bokeh_is_loading === 0) {\n    console.debug(\"Bokeh: BokehJS loaded, going straight to plotting\");\n    run_inline_js();\n  } else {\n    load_libs(css_urls, js_urls, function() {\n      console.debug(\"Bokeh: BokehJS plotting callback run at\", now());\n      run_inline_js();\n    });\n  }\n}(window));"
     },
     "metadata": {},
     "output_type": "display_data"
    }
   ],
   "source": [
    "output_notebook()"
   ]
  },
  {
   "cell_type": "markdown",
   "metadata": {},
   "source": [
    "### Lineplot"
   ]
  },
  {
   "cell_type": "code",
   "execution_count": 4,
   "metadata": {},
   "outputs": [
    {
     "data": {
      "text/html": [
       "\n",
       "\n",
       "\n",
       "\n",
       "\n",
       "\n",
       "  <div class=\"bk-root\" id=\"fc7926f9-3c2d-4544-bdd5-277232aca4bc\" data-root-id=\"1002\"></div>\n"
      ]
     },
     "metadata": {},
     "output_type": "display_data"
    },
    {
     "data": {
      "application/javascript": [
       "(function(root) {\n",
       "  function embed_document(root) {\n",
       "    \n",
       "  var docs_json = {\"51745e46-a4a8-4d29-a48a-a3276ebe93b3\":{\"roots\":{\"references\":[{\"attributes\":{\"below\":[{\"id\":\"1011\",\"type\":\"LinearAxis\"}],\"center\":[{\"id\":\"1015\",\"type\":\"Grid\"},{\"id\":\"1020\",\"type\":\"Grid\"}],\"left\":[{\"id\":\"1016\",\"type\":\"LinearAxis\"}],\"renderers\":[{\"id\":\"1037\",\"type\":\"GlyphRenderer\"},{\"id\":\"1042\",\"type\":\"GlyphRenderer\"}],\"title\":{\"id\":\"1045\",\"type\":\"Title\"},\"toolbar\":{\"id\":\"1027\",\"type\":\"Toolbar\"},\"x_range\":{\"id\":\"1003\",\"type\":\"DataRange1d\"},\"x_scale\":{\"id\":\"1007\",\"type\":\"LinearScale\"},\"y_range\":{\"id\":\"1005\",\"type\":\"DataRange1d\"},\"y_scale\":{\"id\":\"1009\",\"type\":\"LinearScale\"}},\"id\":\"1002\",\"subtype\":\"Figure\",\"type\":\"Plot\"},{\"attributes\":{},\"id\":\"1047\",\"type\":\"BasicTickFormatter\"},{\"attributes\":{},\"id\":\"1050\",\"type\":\"Selection\"},{\"attributes\":{},\"id\":\"1017\",\"type\":\"BasicTicker\"},{\"attributes\":{\"formatter\":{\"id\":\"1047\",\"type\":\"BasicTickFormatter\"},\"ticker\":{\"id\":\"1017\",\"type\":\"BasicTicker\"}},\"id\":\"1016\",\"type\":\"LinearAxis\"},{\"attributes\":{},\"id\":\"1026\",\"type\":\"HelpTool\"},{\"attributes\":{},\"id\":\"1049\",\"type\":\"BasicTickFormatter\"},{\"attributes\":{},\"id\":\"1051\",\"type\":\"UnionRenderers\"},{\"attributes\":{},\"id\":\"1052\",\"type\":\"Selection\"},{\"attributes\":{\"ticker\":{\"id\":\"1012\",\"type\":\"BasicTicker\"}},\"id\":\"1015\",\"type\":\"Grid\"},{\"attributes\":{\"fill_alpha\":{\"value\":0.1},\"fill_color\":{\"value\":\"#1f77b4\"},\"line_alpha\":{\"value\":0.1},\"line_color\":{\"value\":\"#1f77b4\"},\"size\":{\"units\":\"screen\",\"value\":15},\"x\":{\"field\":\"x\"},\"y\":{\"field\":\"y\"}},\"id\":\"1041\",\"type\":\"Cross\"},{\"attributes\":{},\"id\":\"1022\",\"type\":\"WheelZoomTool\"},{\"attributes\":{},\"id\":\"1053\",\"type\":\"UnionRenderers\"},{\"attributes\":{\"source\":{\"id\":\"1034\",\"type\":\"ColumnDataSource\"}},\"id\":\"1038\",\"type\":\"CDSView\"},{\"attributes\":{\"line_color\":\"#1f77b4\",\"x\":{\"field\":\"x\"},\"y\":{\"field\":\"y\"}},\"id\":\"1035\",\"type\":\"Line\"},{\"attributes\":{\"bottom_units\":\"screen\",\"fill_alpha\":{\"value\":0.5},\"fill_color\":{\"value\":\"lightgrey\"},\"left_units\":\"screen\",\"level\":\"overlay\",\"line_alpha\":{\"value\":1.0},\"line_color\":{\"value\":\"black\"},\"line_dash\":[4,4],\"line_width\":{\"value\":2},\"render_mode\":\"css\",\"right_units\":\"screen\",\"top_units\":\"screen\"},\"id\":\"1054\",\"type\":\"BoxAnnotation\"},{\"attributes\":{\"callback\":null},\"id\":\"1005\",\"type\":\"DataRange1d\"},{\"attributes\":{\"fill_color\":{\"value\":\"#1f77b4\"},\"line_color\":{\"value\":\"#1f77b4\"},\"size\":{\"units\":\"screen\",\"value\":15},\"x\":{\"field\":\"x\"},\"y\":{\"field\":\"y\"}},\"id\":\"1040\",\"type\":\"Cross\"},{\"attributes\":{\"formatter\":{\"id\":\"1049\",\"type\":\"BasicTickFormatter\"},\"ticker\":{\"id\":\"1012\",\"type\":\"BasicTicker\"}},\"id\":\"1011\",\"type\":\"LinearAxis\"},{\"attributes\":{},\"id\":\"1007\",\"type\":\"LinearScale\"},{\"attributes\":{\"overlay\":{\"id\":\"1054\",\"type\":\"BoxAnnotation\"}},\"id\":\"1023\",\"type\":\"BoxZoomTool\"},{\"attributes\":{\"callback\":null,\"data\":{\"x\":{\"__ndarray__\":\"AAAAAAAAJMAAAAAAAAAjwAAAAAAAACLAAAAAAAAAIcAAAAAAAAAgwAAAAAAAAB7AAAAAAAAAHMAAAAAAAAAawAAAAAAAABjAAAAAAAAAFsAAAAAAAAAUwAAAAAAAABLAAAAAAAAAEMAAAAAAAAAMwAAAAAAAAAjAAAAAAAAABMAAAAAAAAAAwAAAAAAAAPi/AAAAAAAA8L8AAAAAAADgvwAAAAAAAAAAAAAAAAAA4D8AAAAAAADwPwAAAAAAAPg/AAAAAAAAAEAAAAAAAAAEQAAAAAAAAAhAAAAAAAAADEAAAAAAAAAQQAAAAAAAABJAAAAAAAAAFEAAAAAAAAAWQAAAAAAAABhAAAAAAAAAGkAAAAAAAAAcQAAAAAAAAB5AAAAAAAAAIEAAAAAAAAAhQAAAAAAAACJAAAAAAAAAI0A=\",\"dtype\":\"float64\",\"shape\":[40]},\"y\":{\"__ndarray__\":\"YNkd5DLNBz8SuMVl2J4TP0bkM1ZvLCA/GNGMb+CpKj+m99LXPfo1P/MbcRULHUI/iRHfinPaTT+qX6wsaphYPw+A+nJ3QWQ/Z3AURtmrcD+Oj2N99ml7PztcQHpSgIY/w8JDHvpqkj+UrcyBBgSeP0VUkDw0SKg/R0hTEnFrsz+uMawrFYS+P7AbWjW4Wcc/hrpUFFY20T/eeFlWoCnYPwAAAAAAAOA/kUPT1C/r4z+9otX11GTnPxR5qfKRKeo/yXmKWn0v7D/4lrXdkZLtP736Nrx8e+4/k5rxy98P7z/q4Q0vqGzvP4/+Frb+pe8/4jgFEyzJ7z8g13NNqN7vP4EFjYi+6+8/0KnpyrPz7z88SB1jifjvP7mjOr14++8/ogVFuED97z8zB/lhVf7vP8GcCjn9/u8/09E8CWP/7z8=\",\"dtype\":\"float64\",\"shape\":[40]}},\"selected\":{\"id\":\"1052\",\"type\":\"Selection\"},\"selection_policy\":{\"id\":\"1053\",\"type\":\"UnionRenderers\"}},\"id\":\"1039\",\"type\":\"ColumnDataSource\"},{\"attributes\":{\"data_source\":{\"id\":\"1039\",\"type\":\"ColumnDataSource\"},\"glyph\":{\"id\":\"1040\",\"type\":\"Cross\"},\"hover_glyph\":null,\"muted_glyph\":null,\"nonselection_glyph\":{\"id\":\"1041\",\"type\":\"Cross\"},\"selection_glyph\":null,\"view\":{\"id\":\"1043\",\"type\":\"CDSView\"}},\"id\":\"1042\",\"type\":\"GlyphRenderer\"},{\"attributes\":{},\"id\":\"1025\",\"type\":\"ResetTool\"},{\"attributes\":{\"data_source\":{\"id\":\"1034\",\"type\":\"ColumnDataSource\"},\"glyph\":{\"id\":\"1035\",\"type\":\"Line\"},\"hover_glyph\":null,\"muted_glyph\":null,\"nonselection_glyph\":{\"id\":\"1036\",\"type\":\"Line\"},\"selection_glyph\":null,\"view\":{\"id\":\"1038\",\"type\":\"CDSView\"}},\"id\":\"1037\",\"type\":\"GlyphRenderer\"},{\"attributes\":{\"callback\":null},\"id\":\"1003\",\"type\":\"DataRange1d\"},{\"attributes\":{},\"id\":\"1009\",\"type\":\"LinearScale\"},{\"attributes\":{\"line_alpha\":0.1,\"line_color\":\"#1f77b4\",\"x\":{\"field\":\"x\"},\"y\":{\"field\":\"y\"}},\"id\":\"1036\",\"type\":\"Line\"},{\"attributes\":{\"callback\":null,\"data\":{\"x\":{\"__ndarray__\":\"AAAAAAAAJMAAAAAAAAAjwAAAAAAAACLAAAAAAAAAIcAAAAAAAAAgwAAAAAAAAB7AAAAAAAAAHMAAAAAAAAAawAAAAAAAABjAAAAAAAAAFsAAAAAAAAAUwAAAAAAAABLAAAAAAAAAEMAAAAAAAAAMwAAAAAAAAAjAAAAAAAAABMAAAAAAAAAAwAAAAAAAAPi/AAAAAAAA8L8AAAAAAADgvwAAAAAAAAAAAAAAAAAA4D8AAAAAAADwPwAAAAAAAPg/AAAAAAAAAEAAAAAAAAAEQAAAAAAAAAhAAAAAAAAADEAAAAAAAAAQQAAAAAAAABJAAAAAAAAAFEAAAAAAAAAWQAAAAAAAABhAAAAAAAAAGkAAAAAAAAAcQAAAAAAAAB5AAAAAAAAAIEAAAAAAAAAhQAAAAAAAACJAAAAAAAAAI0A=\",\"dtype\":\"float64\",\"shape\":[40]},\"y\":{\"__ndarray__\":\"YNkd5DLNBz8SuMVl2J4TP0bkM1ZvLCA/GNGMb+CpKj+m99LXPfo1P/MbcRULHUI/iRHfinPaTT+qX6wsaphYPw+A+nJ3QWQ/Z3AURtmrcD+Oj2N99ml7PztcQHpSgIY/w8JDHvpqkj+UrcyBBgSeP0VUkDw0SKg/R0hTEnFrsz+uMawrFYS+P7AbWjW4Wcc/hrpUFFY20T/eeFlWoCnYPwAAAAAAAOA/kUPT1C/r4z+9otX11GTnPxR5qfKRKeo/yXmKWn0v7D/4lrXdkZLtP736Nrx8e+4/k5rxy98P7z/q4Q0vqGzvP4/+Frb+pe8/4jgFEyzJ7z8g13NNqN7vP4EFjYi+6+8/0KnpyrPz7z88SB1jifjvP7mjOr14++8/ogVFuED97z8zB/lhVf7vP8GcCjn9/u8/09E8CWP/7z8=\",\"dtype\":\"float64\",\"shape\":[40]}},\"selected\":{\"id\":\"1050\",\"type\":\"Selection\"},\"selection_policy\":{\"id\":\"1051\",\"type\":\"UnionRenderers\"}},\"id\":\"1034\",\"type\":\"ColumnDataSource\"},{\"attributes\":{},\"id\":\"1021\",\"type\":\"PanTool\"},{\"attributes\":{\"dimension\":1,\"ticker\":{\"id\":\"1017\",\"type\":\"BasicTicker\"}},\"id\":\"1020\",\"type\":\"Grid\"},{\"attributes\":{\"source\":{\"id\":\"1039\",\"type\":\"ColumnDataSource\"}},\"id\":\"1043\",\"type\":\"CDSView\"},{\"attributes\":{\"active_drag\":\"auto\",\"active_inspect\":\"auto\",\"active_multi\":null,\"active_scroll\":\"auto\",\"active_tap\":\"auto\",\"tools\":[{\"id\":\"1021\",\"type\":\"PanTool\"},{\"id\":\"1022\",\"type\":\"WheelZoomTool\"},{\"id\":\"1023\",\"type\":\"BoxZoomTool\"},{\"id\":\"1024\",\"type\":\"SaveTool\"},{\"id\":\"1025\",\"type\":\"ResetTool\"},{\"id\":\"1026\",\"type\":\"HelpTool\"}]},\"id\":\"1027\",\"type\":\"Toolbar\"},{\"attributes\":{},\"id\":\"1012\",\"type\":\"BasicTicker\"},{\"attributes\":{},\"id\":\"1024\",\"type\":\"SaveTool\"},{\"attributes\":{\"text\":\"\"},\"id\":\"1045\",\"type\":\"Title\"}],\"root_ids\":[\"1002\"]},\"title\":\"Bokeh Application\",\"version\":\"1.3.4\"}};\n",
       "  var render_items = [{\"docid\":\"51745e46-a4a8-4d29-a48a-a3276ebe93b3\",\"roots\":{\"1002\":\"fc7926f9-3c2d-4544-bdd5-277232aca4bc\"}}];\n",
       "  root.Bokeh.embed.embed_items_notebook(docs_json, render_items);\n",
       "\n",
       "  }\n",
       "  if (root.Bokeh !== undefined) {\n",
       "    embed_document(root);\n",
       "  } else {\n",
       "    var attempts = 0;\n",
       "    var timer = setInterval(function(root) {\n",
       "      if (root.Bokeh !== undefined) {\n",
       "        embed_document(root);\n",
       "        clearInterval(timer);\n",
       "      }\n",
       "      attempts++;\n",
       "      if (attempts > 100) {\n",
       "        console.log(\"Bokeh: ERROR: Unable to run BokehJS code because BokehJS library is missing\");\n",
       "        clearInterval(timer);\n",
       "      }\n",
       "    }, 10, root)\n",
       "  }\n",
       "})(window);"
      ],
      "application/vnd.bokehjs_exec.v0+json": ""
     },
     "metadata": {
      "application/vnd.bokehjs_exec.v0+json": {
       "id": "1002"
      }
     },
     "output_type": "display_data"
    }
   ],
   "source": [
    "# Instanciamos un objeto Figure\n",
    "f = figure()\n",
    "# Creamos el line plot\n",
    "# Estos son los requisítos mínimos para crear un plot\n",
    "f.line(x, y)\n",
    "# Creamos marcadores que se dibujarán ene los puntos donde y y x se intersectan\n",
    "f.cross(x, y, size = 15)\n",
    "# El método show muestra la figura\n",
    "show(f)"
   ]
  },
  {
   "cell_type": "markdown",
   "metadata": {},
   "source": [
    "## Barplot"
   ]
  },
  {
   "cell_type": "code",
   "execution_count": 24,
   "metadata": {},
   "outputs": [
    {
     "data": {
      "text/html": [
       "\n",
       "\n",
       "\n",
       "\n",
       "\n",
       "\n",
       "  <div class=\"bk-root\" id=\"a028884d-eb87-4eba-abc7-6c957161e8b8\" data-root-id=\"3494\"></div>\n"
      ]
     },
     "metadata": {},
     "output_type": "display_data"
    },
    {
     "data": {
      "application/javascript": [
       "(function(root) {\n",
       "  function embed_document(root) {\n",
       "    \n",
       "  var docs_json = {\"39177986-4274-48c9-a1b9-de0b5c881443\":{\"roots\":{\"references\":[{\"attributes\":{\"aspect_scale\":2,\"below\":[{\"id\":\"3503\",\"type\":\"LinearAxis\"}],\"center\":[{\"id\":\"3507\",\"type\":\"Grid\"},{\"id\":\"3512\",\"type\":\"Grid\"}],\"left\":[{\"id\":\"3508\",\"type\":\"LinearAxis\"}],\"renderers\":[{\"id\":\"3529\",\"type\":\"GlyphRenderer\"}],\"title\":{\"id\":\"3669\",\"type\":\"Title\"},\"toolbar\":{\"id\":\"3519\",\"type\":\"Toolbar\"},\"x_range\":{\"id\":\"3495\",\"type\":\"DataRange1d\"},\"x_scale\":{\"id\":\"3499\",\"type\":\"LinearScale\"},\"y_range\":{\"id\":\"3497\",\"type\":\"DataRange1d\"},\"y_scale\":{\"id\":\"3501\",\"type\":\"LinearScale\"}},\"id\":\"3494\",\"subtype\":\"Figure\",\"type\":\"Plot\"},{\"attributes\":{\"active_drag\":\"auto\",\"active_inspect\":\"auto\",\"active_multi\":null,\"active_scroll\":\"auto\",\"active_tap\":\"auto\",\"tools\":[{\"id\":\"3513\",\"type\":\"PanTool\"},{\"id\":\"3514\",\"type\":\"WheelZoomTool\"},{\"id\":\"3515\",\"type\":\"BoxZoomTool\"},{\"id\":\"3516\",\"type\":\"SaveTool\"},{\"id\":\"3517\",\"type\":\"ResetTool\"},{\"id\":\"3518\",\"type\":\"HelpTool\"}]},\"id\":\"3519\",\"type\":\"Toolbar\"},{\"attributes\":{\"text\":\"\"},\"id\":\"3669\",\"type\":\"Title\"},{\"attributes\":{\"data_source\":{\"id\":\"3526\",\"type\":\"ColumnDataSource\"},\"glyph\":{\"id\":\"3527\",\"type\":\"VBar\"},\"hover_glyph\":null,\"muted_glyph\":null,\"nonselection_glyph\":{\"id\":\"3528\",\"type\":\"VBar\"},\"selection_glyph\":null,\"view\":{\"id\":\"3530\",\"type\":\"CDSView\"}},\"id\":\"3529\",\"type\":\"GlyphRenderer\"},{\"attributes\":{},\"id\":\"3513\",\"type\":\"PanTool\"},{\"attributes\":{\"callback\":null},\"id\":\"3495\",\"type\":\"DataRange1d\"},{\"attributes\":{},\"id\":\"3514\",\"type\":\"WheelZoomTool\"},{\"attributes\":{},\"id\":\"3499\",\"type\":\"LinearScale\"},{\"attributes\":{\"overlay\":{\"id\":\"3676\",\"type\":\"BoxAnnotation\"}},\"id\":\"3515\",\"type\":\"BoxZoomTool\"},{\"attributes\":{},\"id\":\"3516\",\"type\":\"SaveTool\"},{\"attributes\":{\"fill_color\":{\"value\":\"#FFA33D\"},\"line_color\":{\"value\":\"#FFA33D\"},\"top\":{\"field\":\"top\"},\"width\":{\"value\":0.05},\"x\":{\"field\":\"x\"}},\"id\":\"3527\",\"type\":\"VBar\"},{\"attributes\":{},\"id\":\"3517\",\"type\":\"ResetTool\"},{\"attributes\":{\"callback\":null},\"id\":\"3497\",\"type\":\"DataRange1d\"},{\"attributes\":{\"fill_alpha\":{\"value\":0.1},\"fill_color\":{\"value\":\"#1f77b4\"},\"line_alpha\":{\"value\":0.1},\"line_color\":{\"value\":\"#1f77b4\"},\"top\":{\"field\":\"top\"},\"width\":{\"value\":0.05},\"x\":{\"field\":\"x\"}},\"id\":\"3528\",\"type\":\"VBar\"},{\"attributes\":{},\"id\":\"3518\",\"type\":\"HelpTool\"},{\"attributes\":{},\"id\":\"3501\",\"type\":\"LinearScale\"},{\"attributes\":{\"bottom_units\":\"screen\",\"fill_alpha\":{\"value\":0.5},\"fill_color\":{\"value\":\"lightgrey\"},\"left_units\":\"screen\",\"level\":\"overlay\",\"line_alpha\":{\"value\":1.0},\"line_color\":{\"value\":\"black\"},\"line_dash\":[4,4],\"line_width\":{\"value\":2},\"render_mode\":\"css\",\"right_units\":\"screen\",\"top_units\":\"screen\"},\"id\":\"3676\",\"type\":\"BoxAnnotation\"},{\"attributes\":{\"formatter\":{\"id\":\"3673\",\"type\":\"BasicTickFormatter\"},\"ticker\":{\"id\":\"3504\",\"type\":\"BasicTicker\"}},\"id\":\"3503\",\"type\":\"LinearAxis\"},{\"attributes\":{},\"id\":\"3674\",\"type\":\"Selection\"},{\"attributes\":{},\"id\":\"3509\",\"type\":\"BasicTicker\"},{\"attributes\":{},\"id\":\"3504\",\"type\":\"BasicTicker\"},{\"attributes\":{},\"id\":\"3675\",\"type\":\"UnionRenderers\"},{\"attributes\":{\"ticker\":{\"id\":\"3504\",\"type\":\"BasicTicker\"}},\"id\":\"3507\",\"type\":\"Grid\"},{\"attributes\":{\"source\":{\"id\":\"3526\",\"type\":\"ColumnDataSource\"}},\"id\":\"3530\",\"type\":\"CDSView\"},{\"attributes\":{\"dimension\":1,\"ticker\":{\"id\":\"3509\",\"type\":\"BasicTicker\"}},\"id\":\"3512\",\"type\":\"Grid\"},{\"attributes\":{\"formatter\":{\"id\":\"3671\",\"type\":\"BasicTickFormatter\"},\"ticker\":{\"id\":\"3509\",\"type\":\"BasicTicker\"}},\"id\":\"3508\",\"type\":\"LinearAxis\"},{\"attributes\":{},\"id\":\"3671\",\"type\":\"BasicTickFormatter\"},{\"attributes\":{},\"id\":\"3673\",\"type\":\"BasicTickFormatter\"},{\"attributes\":{\"callback\":null,\"data\":{\"top\":{\"__ndarray__\":\"lu3Z8VTHRj+eZyNTg8RQPxftQdXQW1g/3PlkpW91YT/Dr90277FoPxdRIMvkO3E/ThW1FUi8dz/fUOk62CCAP0QZAsTGoIU/XOI3pXGejD8ouhtwE6+SPxjSvuyHEpg/wqVLeqKanj/VcUrwPDKjP1l8Vckww6c/frhFS3AGrT+9QQfD6H2xPwCfonOqzbQ/7x70LAFquD/he3CFmUW8PyeyWPsaJ8A/JMg0SXk2wj+O/SN9c0PEPxgJAiYTP8Y/oZJvu4kZyD8MzXeM+8LJP53fXdtdLMs/td2egFdIzD87yMnvEQzNP0F/Ctbob80/QX8K1uhvzT87yMnvEQzNP7XdnoBXSMw/nd9d210syz8MzXeM+8LJP6GSb7uJGcg/GAkCJhM/xj+O/SN9c0PEPyTINEl5NsI/J7JY+xonwD/he3CFmUW8P/Ue9CwBarg/AJ+ic6rNtD+7QQfD6H2xP364RUtwBq0/X3xVyTDDpz/VcUrwPDKjP7elS3qimp4/GNK+7IcSmD8uuhtwE6+SP1HiN6Vxnow/MxkCxMaghT/ZUOk62CCAP04VtRVIvHc/D1Egy+Q7cT+qr90277FoP9f5ZKVvdWE/F+1B1dBbWD+VZyNTg8RQP3/t2fFUx0Y/\",\"dtype\":\"float64\",\"shape\":[60]},\"x\":{\"__ndarray__\":\"AAAAAAAACMAzMzMzMzMHwGZmZmZmZgbAmZmZmZmZBcDMzMzMzMwEwP///////wPAMjMzMzMzA8BlZmZmZmYCwJiZmZmZmQHAy8zMzMzMAMD8////////v2JmZmZmZv6/yMzMzMzM/L8uMzMzMzP7v5SZmZmZmfm/+v//////979gZmZmZmb2v8bMzMzMzPS/LDMzMzMz87+SmZmZmZnxv/D//////++/vMzMzMzM7L+ImZmZmZnpv1RmZmZmZua/IDMzMzMz47/Y///////fv3CZmZmZmdm/CDMzMzMz079AmZmZmZnJv+CYmZmZmbm/AAAAAAAA6DxgmpmZmZm5PwCamZmZmck/aDMzMzMz0z/QmZmZmZnZPxwAAAAAAOA/UDMzMzMz4z+EZmZmZmbmP7iZmZmZmek/7MzMzMzM7D8QAAAAAADwP6iZmZmZmfE/RDMzMzMz8z/gzMzMzMz0P3hmZmZmZvY/EAAAAAAA+D+smZmZmZn5P0gzMzMzM/s/4MzMzMzM/D94ZmZmZmb+PwoAAAAAAABA2MzMzMzMAECkmZmZmZkBQHBmZmZmZgJAPjMzMzMzA0AMAAAAAAAEQNjMzMzMzARApJmZmZmZBUByZmZmZmYGQEAzMzMzMwdA\",\"dtype\":\"float64\",\"shape\":[60]}},\"selected\":{\"id\":\"3674\",\"type\":\"Selection\"},\"selection_policy\":{\"id\":\"3675\",\"type\":\"UnionRenderers\"}},\"id\":\"3526\",\"type\":\"ColumnDataSource\"}],\"root_ids\":[\"3494\"]},\"title\":\"Bokeh Application\",\"version\":\"1.3.4\"}};\n",
       "  var render_items = [{\"docid\":\"39177986-4274-48c9-a1b9-de0b5c881443\",\"roots\":{\"3494\":\"a028884d-eb87-4eba-abc7-6c957161e8b8\"}}];\n",
       "  root.Bokeh.embed.embed_items_notebook(docs_json, render_items);\n",
       "\n",
       "  }\n",
       "  if (root.Bokeh !== undefined) {\n",
       "    embed_document(root);\n",
       "  } else {\n",
       "    var attempts = 0;\n",
       "    var timer = setInterval(function(root) {\n",
       "      if (root.Bokeh !== undefined) {\n",
       "        embed_document(root);\n",
       "        clearInterval(timer);\n",
       "      }\n",
       "      attempts++;\n",
       "      if (attempts > 100) {\n",
       "        console.log(\"Bokeh: ERROR: Unable to run BokehJS code because BokehJS library is missing\");\n",
       "        clearInterval(timer);\n",
       "      }\n",
       "    }, 10, root)\n",
       "  }\n",
       "})(window);"
      ],
      "application/vnd.bokehjs_exec.v0+json": ""
     },
     "metadata": {
      "application/vnd.bokehjs_exec.v0+json": {
       "id": "3494"
      }
     },
     "output_type": "display_data"
    }
   ],
   "source": [
    "x = np.arange(-3, 3, 0.1)\n",
    "# Gaussian equation\n",
    "mu = x.mean()\n",
    "sig = x.std()\n",
    "first_ = 1 / (sig * np.sqrt(2 * np.pi))\n",
    "second_ = np.exp( - ((x - mu)**2) / (0.5 * sig ** 2))\n",
    "y = first_ * second_\n",
    "\n",
    "plot = figure(aspect_scale=2)\n",
    "\n",
    "plot.vbar(x, top = y, color = '#FFA33D', width = 0.05)\n",
    "\n",
    "show(plot)"
   ]
  },
  {
   "cell_type": "markdown",
   "metadata": {},
   "source": [
    "## Treiangle glyph"
   ]
  },
  {
   "cell_type": "code",
   "execution_count": 51,
   "metadata": {},
   "outputs": [
    {
     "name": "stderr",
     "output_type": "stream",
     "text": [
      "/home/joel/anaconda3/envs/mds/lib/python3.7/site-packages/ipykernel_launcher.py:4: RuntimeWarning: divide by zero encountered in log2\n",
      "  after removing the cwd from sys.path.\n"
     ]
    },
    {
     "data": {
      "text/html": [
       "\n",
       "\n",
       "\n",
       "\n",
       "\n",
       "\n",
       "  <div class=\"bk-root\" id=\"b2e9ed1d-7dd7-471c-b8e7-abff1605c16b\" data-root-id=\"9378\"></div>\n"
      ]
     },
     "metadata": {},
     "output_type": "display_data"
    },
    {
     "data": {
      "application/javascript": [
       "(function(root) {\n",
       "  function embed_document(root) {\n",
       "    \n",
       "  var docs_json = {\"588b51b4-7575-4c22-860a-17dd42eddf06\":{\"roots\":{\"references\":[{\"attributes\":{\"below\":[{\"id\":\"9387\",\"type\":\"LinearAxis\"}],\"center\":[{\"id\":\"9391\",\"type\":\"Grid\"},{\"id\":\"9396\",\"type\":\"Grid\"}],\"left\":[{\"id\":\"9392\",\"type\":\"LinearAxis\"}],\"renderers\":[{\"id\":\"9413\",\"type\":\"GlyphRenderer\"},{\"id\":\"9418\",\"type\":\"GlyphRenderer\"}],\"title\":{\"id\":\"9736\",\"type\":\"Title\"},\"toolbar\":{\"id\":\"9403\",\"type\":\"Toolbar\"},\"x_range\":{\"id\":\"9379\",\"type\":\"DataRange1d\"},\"x_scale\":{\"id\":\"9383\",\"type\":\"LinearScale\"},\"y_range\":{\"id\":\"9381\",\"type\":\"DataRange1d\"},\"y_scale\":{\"id\":\"9385\",\"type\":\"LinearScale\"}},\"id\":\"9378\",\"subtype\":\"Figure\",\"type\":\"Plot\"},{\"attributes\":{},\"id\":\"9402\",\"type\":\"HelpTool\"},{\"attributes\":{\"formatter\":{\"id\":\"9740\",\"type\":\"BasicTickFormatter\"},\"ticker\":{\"id\":\"9388\",\"type\":\"BasicTicker\"}},\"id\":\"9387\",\"type\":\"LinearAxis\"},{\"attributes\":{\"source\":{\"id\":\"9410\",\"type\":\"ColumnDataSource\"}},\"id\":\"9414\",\"type\":\"CDSView\"},{\"attributes\":{},\"id\":\"9393\",\"type\":\"BasicTicker\"},{\"attributes\":{},\"id\":\"9388\",\"type\":\"BasicTicker\"},{\"attributes\":{\"ticker\":{\"id\":\"9388\",\"type\":\"BasicTicker\"}},\"id\":\"9391\",\"type\":\"Grid\"},{\"attributes\":{\"data_source\":{\"id\":\"9410\",\"type\":\"ColumnDataSource\"},\"glyph\":{\"id\":\"9411\",\"type\":\"Triangle\"},\"hover_glyph\":null,\"muted_glyph\":null,\"nonselection_glyph\":{\"id\":\"9412\",\"type\":\"Triangle\"},\"selection_glyph\":null,\"view\":{\"id\":\"9414\",\"type\":\"CDSView\"}},\"id\":\"9413\",\"type\":\"GlyphRenderer\"},{\"attributes\":{\"fill_alpha\":{\"value\":0.1},\"fill_color\":{\"value\":\"#1f77b4\"},\"line_alpha\":{\"value\":0.1},\"line_color\":{\"value\":\"#1f77b4\"},\"size\":{\"units\":\"screen\",\"value\":12},\"x\":{\"field\":\"x\"},\"y\":{\"field\":\"y\"}},\"id\":\"9412\",\"type\":\"Triangle\"},{\"attributes\":{},\"id\":\"9740\",\"type\":\"BasicTickFormatter\"},{\"attributes\":{\"dimension\":1,\"ticker\":{\"id\":\"9393\",\"type\":\"BasicTicker\"}},\"id\":\"9396\",\"type\":\"Grid\"},{\"attributes\":{\"formatter\":{\"id\":\"9738\",\"type\":\"BasicTickFormatter\"},\"ticker\":{\"id\":\"9393\",\"type\":\"BasicTicker\"}},\"id\":\"9392\",\"type\":\"LinearAxis\"},{\"attributes\":{\"fill_alpha\":{\"value\":0.5},\"fill_color\":{\"value\":\"#1f77b4\"},\"line_alpha\":{\"value\":0.5},\"line_color\":{\"value\":\"#1f77b4\"},\"size\":{\"units\":\"screen\",\"value\":12},\"x\":{\"field\":\"x\"},\"y\":{\"field\":\"y\"}},\"id\":\"9411\",\"type\":\"Triangle\"},{\"attributes\":{},\"id\":\"9742\",\"type\":\"UnionRenderers\"},{\"attributes\":{},\"id\":\"9743\",\"type\":\"Selection\"},{\"attributes\":{\"fill_alpha\":{\"value\":0.1},\"fill_color\":{\"value\":\"#1f77b4\"},\"line_alpha\":{\"value\":0.1},\"line_color\":{\"value\":\"#1f77b4\"},\"size\":{\"units\":\"screen\",\"value\":12},\"x\":{\"field\":\"x\"},\"y\":{\"field\":\"y\"}},\"id\":\"9417\",\"type\":\"Circle\"},{\"attributes\":{\"callback\":null,\"data\":{\"x\":[0,4,4,5,6,6,7,7,7,10,13,13,14,15,16,18,19,19,22,23,23,24,25,26,27,29,30,31,32,32,33,34,34,34,37,37,38,39,40,42,43,44,44,45,46,46,48,49,50,50,51,55,56,56,59,60,60,63,63,64,66,66,67,68,69,69,70,70,71,71,74,75,76,77,77,78,78,79,80,80,80,80,80,81,82,82,84,86,87,87,89,92,93,95,95,95,97,97,97,98],\"y\":{\"__ndarray__\":\"AAAAAAAA8P8AAAAAAAAAQAAAAAAAAABAcaN5CU+TAkC03s/RAK4EQLTez9EArgRALQRUf3Z1BkAtBFR/dnUGQC0EVH92dQZAcaN5CU+TCkAz4pEjgJoNQDPikSOAmg1ALQRUf3Z1DkAmgknbT0EPQAAAAAAAABBAtN7P0QCuEEBAE8i14P0QQEATyLXg/RBAoS4DPnXWEUBVxxqgIBgSQFXHGqAgGBJAWu/naABXEkBxo3kJT5MSQBnxyBFAzRJADs63OgEFE0BbpuqRkm4TQBPBpO2noBNATk1s1hjRE0AAAAAAAAAUQAAAAAAAABRA+x3rpnUtFEBMJOvbj1kUQEwk69uPWRRATCTr249ZFEBlp23xetYUQGWnbfF61hRAQBPIteD9FEB04LB6QCQVQLnRvISnSRVAcfGRqLuRFUAqiHO/frQVQKEuAz511hVAoS4DPnXWFUBtsIxWqPcVQFXHGqAgGBZAVccaoCAYFkBa7+doAFcWQC0EVH92dRZAcaN5CU+TFkBxo3kJT5MWQKYT00SQsBZAWgDAwhwgF0AWAqo/uzoXQBYCqj+7OhdACzRclNOHF0ATwaTtp6AXQBPBpO2noBdAy+B5EbzoF0DL4HkRvOgXQAAAAAAAABhA+x3rpnUtGED7HeumdS0YQH6KfuKsQxhATCTr249ZGECvtgIJIW8YQK+2AgkhbxhAz9NmxGKEGEDP02bEYoQYQHHFE09XmRhAccUTT1eZGEBlp23xetYYQMuSYXJP6hhAQBPIteD9GEC3MK19MBEZQLcwrX0wERlAdOCwekAkGUB04LB6QCQZQN9M6kwSNxlAudG8hKdJGUC50byEp0kZQLnRvISnSRlAudG8hKdJGUC50byEp0kZQGi9n6MBXBlAztDZHCJuGUDO0NkcIm4ZQHHxkai7kRlAKohzv360GUC1ldL6ksUZQLWV0vqSxRlATXUeqibnGUBVxxqgIBgaQKg8VD8ZKBpA+eSEOohHGkD55IQ6iEcaQPnkhDqIRxpAlZNWjU9mGkCVk1aNT2YaQJWTVo1PZhpALQRUf3Z1GkA=\",\"dtype\":\"float64\",\"shape\":[100]}},\"selected\":{\"id\":\"9743\",\"type\":\"Selection\"},\"selection_policy\":{\"id\":\"9744\",\"type\":\"UnionRenderers\"}},\"id\":\"9415\",\"type\":\"ColumnDataSource\"},{\"attributes\":{\"data_source\":{\"id\":\"9415\",\"type\":\"ColumnDataSource\"},\"glyph\":{\"id\":\"9416\",\"type\":\"Circle\"},\"hover_glyph\":null,\"muted_glyph\":null,\"nonselection_glyph\":{\"id\":\"9417\",\"type\":\"Circle\"},\"selection_glyph\":null,\"view\":{\"id\":\"9419\",\"type\":\"CDSView\"}},\"id\":\"9418\",\"type\":\"GlyphRenderer\"},{\"attributes\":{\"callback\":null},\"id\":\"9379\",\"type\":\"DataRange1d\"},{\"attributes\":{\"source\":{\"id\":\"9415\",\"type\":\"ColumnDataSource\"}},\"id\":\"9419\",\"type\":\"CDSView\"},{\"attributes\":{\"active_drag\":\"auto\",\"active_inspect\":\"auto\",\"active_multi\":null,\"active_scroll\":\"auto\",\"active_tap\":\"auto\",\"tools\":[{\"id\":\"9397\",\"type\":\"PanTool\"},{\"id\":\"9398\",\"type\":\"WheelZoomTool\"},{\"id\":\"9399\",\"type\":\"BoxZoomTool\"},{\"id\":\"9400\",\"type\":\"SaveTool\"},{\"id\":\"9401\",\"type\":\"ResetTool\"},{\"id\":\"9402\",\"type\":\"HelpTool\"}]},\"id\":\"9403\",\"type\":\"Toolbar\"},{\"attributes\":{\"callback\":null,\"data\":{\"x\":[0,4,4,5,6,6,7,7,7,10,13,13,14,15,16,18,19,19,22,23,23,24,25,26,27,29,30,31,32,32,33,34,34,34,37,37,38,39,40,42,43,44,44,45,46,46,48,49,50,50,51,55,56,56,59,60,60,63,63,64,66,66,67,68,69,69,70,70,71,71,74,75,76,77,77,78,78,79,80,80,80,80,80,81,82,82,84,86,87,87,89,92,93,95,95,95,97,97,97,98],\"y\":{\"__ndarray__\":\"AAAAAAAAAAAAAAAAAAAAQAAAAAAAAABAqPSXm3fjAUAuIQkUjpgDQC4hCRSOmANA6vjSqX8qBUDq+NKpfyoFQOr40ql/KgVAU1vaOlhMCUDzWWFEK9gMQPNZYUQr2AxAST9oEeruDUDaTk+x3vsOQAAAAAAAABBA2WzfzHb4EED5TWQ0g28RQPlNZDSDbxFAp1ZUWfzCEkAWBHd17i4TQBYEd3XuLhNALiEJFI6YE0AAAAAAAAAUQPYvEl9lZRRAgDlCLtzIFEDz2aikaIoVQI+lNtKt6BVAw8FoBWRFFkDNO39mnqAWQM07f2aeoBZA8NBioW76FkCio7MN5VIXQKKjsw3lUhdAoqOzDeVSF0A53GOzv1QYQDncY7O/VBhAWQb3JFyoGECK01rB4PoYQFNb2jpYTBlAZBImSkfsGUBgoR0q0ToaQDRv/ZNyiBpANG/9k3KIGkD87mNpM9UaQCPQcBwbIRtAI9BwHBshG0CqTFjoerYbQAAAAAAAABxAwAofAMZIHEDACh8AxkgcQM5DLZ3SkBxA2OGq7y+qHUBJP2gR6u4dQEk/aBHq7h1A255bRX65HkDaTk+x3vseQNpOT7He+x5AX3W8fr+/H0Bfdbx+v78fQAAAAAAAACBADLg29oE/IEAMuDb2gT8gQIvU+o7mXiBAB+2vZg9+IEAJ0I7N/ZwgQAnQjs39nCBA26+sB7O7IEDbr6wHs7sgQAb7lU0w2iBABvuVTTDaIEBOATf6YzQhQOsvN9EMUiFA+U1kNINvIUDj09YhyIwhQOPT1iHIjCFABPFtj9ypIUAE8W2P3KkhQHC4LWvBxiFAqPSXm3fjIUCo9Jebd+MhQKj0l5t34yFAqPSXm3fjIUCo9Jebd+MhQAAAAAAAACJAJPjZcFscIkAk+NlwWxwiQIUeFbmOVCJANHgzuReMIkDm0iw6nqciQObSLDqepyJAQYdixjLeIkAWBHd17i4jQEAFsZeMSSNAoZUP1Ft+I0ChlQ/UW34jQKGVD9RbfiNAYlZjfZ2yI0BiVmN9nbIjQGJWY32dsiNAU1SvmYrMI0A=\",\"dtype\":\"float64\",\"shape\":[100]}},\"selected\":{\"id\":\"9741\",\"type\":\"Selection\"},\"selection_policy\":{\"id\":\"9742\",\"type\":\"UnionRenderers\"}},\"id\":\"9410\",\"type\":\"ColumnDataSource\"},{\"attributes\":{},\"id\":\"9741\",\"type\":\"Selection\"},{\"attributes\":{},\"id\":\"9397\",\"type\":\"PanTool\"},{\"attributes\":{},\"id\":\"9744\",\"type\":\"UnionRenderers\"},{\"attributes\":{},\"id\":\"9738\",\"type\":\"BasicTickFormatter\"},{\"attributes\":{},\"id\":\"9383\",\"type\":\"LinearScale\"},{\"attributes\":{},\"id\":\"9398\",\"type\":\"WheelZoomTool\"},{\"attributes\":{\"overlay\":{\"id\":\"9745\",\"type\":\"BoxAnnotation\"}},\"id\":\"9399\",\"type\":\"BoxZoomTool\"},{\"attributes\":{\"bottom_units\":\"screen\",\"fill_alpha\":{\"value\":0.5},\"fill_color\":{\"value\":\"lightgrey\"},\"left_units\":\"screen\",\"level\":\"overlay\",\"line_alpha\":{\"value\":1.0},\"line_color\":{\"value\":\"black\"},\"line_dash\":[4,4],\"line_width\":{\"value\":2},\"render_mode\":\"css\",\"right_units\":\"screen\",\"top_units\":\"screen\"},\"id\":\"9745\",\"type\":\"BoxAnnotation\"},{\"attributes\":{\"text\":\"\"},\"id\":\"9736\",\"type\":\"Title\"},{\"attributes\":{},\"id\":\"9400\",\"type\":\"SaveTool\"},{\"attributes\":{\"callback\":null},\"id\":\"9381\",\"type\":\"DataRange1d\"},{\"attributes\":{},\"id\":\"9385\",\"type\":\"LinearScale\"},{\"attributes\":{},\"id\":\"9401\",\"type\":\"ResetTool\"},{\"attributes\":{\"fill_alpha\":{\"value\":0.5},\"fill_color\":{\"value\":\"red\"},\"line_alpha\":{\"value\":0.5},\"line_color\":{\"value\":\"red\"},\"size\":{\"units\":\"screen\",\"value\":12},\"x\":{\"field\":\"x\"},\"y\":{\"field\":\"y\"}},\"id\":\"9416\",\"type\":\"Circle\"}],\"root_ids\":[\"9378\"]},\"title\":\"Bokeh Application\",\"version\":\"1.3.4\"}};\n",
       "  var render_items = [{\"docid\":\"588b51b4-7575-4c22-860a-17dd42eddf06\",\"roots\":{\"9378\":\"b2e9ed1d-7dd7-471c-b8e7-abff1605c16b\"}}];\n",
       "  root.Bokeh.embed.embed_items_notebook(docs_json, render_items);\n",
       "\n",
       "  }\n",
       "  if (root.Bokeh !== undefined) {\n",
       "    embed_document(root);\n",
       "  } else {\n",
       "    var attempts = 0;\n",
       "    var timer = setInterval(function(root) {\n",
       "      if (root.Bokeh !== undefined) {\n",
       "        embed_document(root);\n",
       "        clearInterval(timer);\n",
       "      }\n",
       "      attempts++;\n",
       "      if (attempts > 100) {\n",
       "        console.log(\"Bokeh: ERROR: Unable to run BokehJS code because BokehJS library is missing\");\n",
       "        clearInterval(timer);\n",
       "      }\n",
       "    }, 10, root)\n",
       "  }\n",
       "})(window);"
      ],
      "application/vnd.bokehjs_exec.v0+json": ""
     },
     "metadata": {
      "application/vnd.bokehjs_exec.v0+json": {
       "id": "9378"
      }
     },
     "output_type": "display_data"
    }
   ],
   "source": [
    "# Calculando gráficas de triángulos y otras figuras\n",
    "x = np.sort(np.random.randint(100, size = 100))\n",
    "y = np.sqrt(x)\n",
    "z = np.log2(x)\n",
    "\n",
    "m = figure()\n",
    "\n",
    "m.triangle(x, y, size = 12, alpha = 0.5)\n",
    "m.circle(x, z, color = 'red', size = 12, alpha = 0.5)\n",
    "\n",
    "show(m)"
   ]
  },
  {
   "cell_type": "code",
   "execution_count": null,
   "metadata": {},
   "outputs": [],
   "source": []
  }
 ],
 "metadata": {
  "kernelspec": {
   "display_name": "Python 3",
   "language": "python",
   "name": "python3"
  },
  "language_info": {
   "codemirror_mode": {
    "name": "ipython",
    "version": 3
   },
   "file_extension": ".py",
   "mimetype": "text/x-python",
   "name": "python",
   "nbconvert_exporter": "python",
   "pygments_lexer": "ipython3",
   "version": "3.7.4"
  }
 },
 "nbformat": 4,
 "nbformat_minor": 2
}
