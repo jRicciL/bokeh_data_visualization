{
 "cells": [
  {
   "cell_type": "markdown",
   "metadata": {},
   "source": [
    "# Syling Glyphs\n"
   ]
  },
  {
   "cell_type": "code",
   "execution_count": 1,
   "metadata": {},
   "outputs": [],
   "source": [
    "import pandas as pd\n",
    "import numpy as np"
   ]
  },
  {
   "cell_type": "code",
   "execution_count": 2,
   "metadata": {},
   "outputs": [],
   "source": [
    "from bokeh.plotting import figure\n",
    "from bokeh.io import output_notebook, show\n",
    "from bokeh.sampledata.iris import flowers"
   ]
  },
  {
   "cell_type": "code",
   "execution_count": null,
   "metadata": {},
   "outputs": [],
   "source": []
  },
  {
   "cell_type": "code",
   "execution_count": 3,
   "metadata": {},
   "outputs": [],
   "source": [
    "from bokeh.models import PanTool, ResetTool, HoverTool, WheelZoomTool"
   ]
  },
  {
   "cell_type": "code",
   "execution_count": 116,
   "metadata": {},
   "outputs": [],
   "source": [
    "# Just a couple of styling\n",
    "def style_plot(f, title = None, y_label = None, x_label = None):\n",
    "    f.tools = [PanTool(), ResetTool(), WheelZoomTool()]\n",
    "    f.title.text = title\n",
    "    f.title.text_font = 'times'\n",
    "    f.title.text_font_style = 'bold'\n",
    "    f.title.text_font_size = '2em'\n",
    "    f.title.align = 'center'\n",
    "    # line width\n",
    "    f.axis.axis_line_width = 3\n",
    "    # labels\n",
    "    f.xaxis.axis_label = x_label\n",
    "    f.yaxis.axis_label = y_label\n",
    "    f.axis.major_label_text_font_size = '1.2em'\n",
    "    f.axis.major_label_text_font_style = 'bold'\n",
    "    # Grid lines\n",
    "    f.grid.grid_line_color = 'gray'\n",
    "    f.grid.grid_line_dash = [5, 3] # 5/2 line/space"
   ]
  },
  {
   "cell_type": "code",
   "execution_count": 117,
   "metadata": {},
   "outputs": [
    {
     "data": {
      "text/html": [
       "\n",
       "    <div class=\"bk-root\">\n",
       "        <a href=\"https://bokeh.pydata.org\" target=\"_blank\" class=\"bk-logo bk-logo-small bk-logo-notebook\"></a>\n",
       "        <span id=\"12994\">Loading BokehJS ...</span>\n",
       "    </div>"
      ]
     },
     "metadata": {},
     "output_type": "display_data"
    },
    {
     "data": {
      "application/javascript": [
       "\n",
       "(function(root) {\n",
       "  function now() {\n",
       "    return new Date();\n",
       "  }\n",
       "\n",
       "  var force = true;\n",
       "\n",
       "  if (typeof root._bokeh_onload_callbacks === \"undefined\" || force === true) {\n",
       "    root._bokeh_onload_callbacks = [];\n",
       "    root._bokeh_is_loading = undefined;\n",
       "  }\n",
       "\n",
       "  var JS_MIME_TYPE = 'application/javascript';\n",
       "  var HTML_MIME_TYPE = 'text/html';\n",
       "  var EXEC_MIME_TYPE = 'application/vnd.bokehjs_exec.v0+json';\n",
       "  var CLASS_NAME = 'output_bokeh rendered_html';\n",
       "\n",
       "  /**\n",
       "   * Render data to the DOM node\n",
       "   */\n",
       "  function render(props, node) {\n",
       "    var script = document.createElement(\"script\");\n",
       "    node.appendChild(script);\n",
       "  }\n",
       "\n",
       "  /**\n",
       "   * Handle when an output is cleared or removed\n",
       "   */\n",
       "  function handleClearOutput(event, handle) {\n",
       "    var cell = handle.cell;\n",
       "\n",
       "    var id = cell.output_area._bokeh_element_id;\n",
       "    var server_id = cell.output_area._bokeh_server_id;\n",
       "    // Clean up Bokeh references\n",
       "    if (id != null && id in Bokeh.index) {\n",
       "      Bokeh.index[id].model.document.clear();\n",
       "      delete Bokeh.index[id];\n",
       "    }\n",
       "\n",
       "    if (server_id !== undefined) {\n",
       "      // Clean up Bokeh references\n",
       "      var cmd = \"from bokeh.io.state import curstate; print(curstate().uuid_to_server['\" + server_id + \"'].get_sessions()[0].document.roots[0]._id)\";\n",
       "      cell.notebook.kernel.execute(cmd, {\n",
       "        iopub: {\n",
       "          output: function(msg) {\n",
       "            var id = msg.content.text.trim();\n",
       "            if (id in Bokeh.index) {\n",
       "              Bokeh.index[id].model.document.clear();\n",
       "              delete Bokeh.index[id];\n",
       "            }\n",
       "          }\n",
       "        }\n",
       "      });\n",
       "      // Destroy server and session\n",
       "      var cmd = \"import bokeh.io.notebook as ion; ion.destroy_server('\" + server_id + \"')\";\n",
       "      cell.notebook.kernel.execute(cmd);\n",
       "    }\n",
       "  }\n",
       "\n",
       "  /**\n",
       "   * Handle when a new output is added\n",
       "   */\n",
       "  function handleAddOutput(event, handle) {\n",
       "    var output_area = handle.output_area;\n",
       "    var output = handle.output;\n",
       "\n",
       "    // limit handleAddOutput to display_data with EXEC_MIME_TYPE content only\n",
       "    if ((output.output_type != \"display_data\") || (!output.data.hasOwnProperty(EXEC_MIME_TYPE))) {\n",
       "      return\n",
       "    }\n",
       "\n",
       "    var toinsert = output_area.element.find(\".\" + CLASS_NAME.split(' ')[0]);\n",
       "\n",
       "    if (output.metadata[EXEC_MIME_TYPE][\"id\"] !== undefined) {\n",
       "      toinsert[toinsert.length - 1].firstChild.textContent = output.data[JS_MIME_TYPE];\n",
       "      // store reference to embed id on output_area\n",
       "      output_area._bokeh_element_id = output.metadata[EXEC_MIME_TYPE][\"id\"];\n",
       "    }\n",
       "    if (output.metadata[EXEC_MIME_TYPE][\"server_id\"] !== undefined) {\n",
       "      var bk_div = document.createElement(\"div\");\n",
       "      bk_div.innerHTML = output.data[HTML_MIME_TYPE];\n",
       "      var script_attrs = bk_div.children[0].attributes;\n",
       "      for (var i = 0; i < script_attrs.length; i++) {\n",
       "        toinsert[toinsert.length - 1].firstChild.setAttribute(script_attrs[i].name, script_attrs[i].value);\n",
       "      }\n",
       "      // store reference to server id on output_area\n",
       "      output_area._bokeh_server_id = output.metadata[EXEC_MIME_TYPE][\"server_id\"];\n",
       "    }\n",
       "  }\n",
       "\n",
       "  function register_renderer(events, OutputArea) {\n",
       "\n",
       "    function append_mime(data, metadata, element) {\n",
       "      // create a DOM node to render to\n",
       "      var toinsert = this.create_output_subarea(\n",
       "        metadata,\n",
       "        CLASS_NAME,\n",
       "        EXEC_MIME_TYPE\n",
       "      );\n",
       "      this.keyboard_manager.register_events(toinsert);\n",
       "      // Render to node\n",
       "      var props = {data: data, metadata: metadata[EXEC_MIME_TYPE]};\n",
       "      render(props, toinsert[toinsert.length - 1]);\n",
       "      element.append(toinsert);\n",
       "      return toinsert\n",
       "    }\n",
       "\n",
       "    /* Handle when an output is cleared or removed */\n",
       "    events.on('clear_output.CodeCell', handleClearOutput);\n",
       "    events.on('delete.Cell', handleClearOutput);\n",
       "\n",
       "    /* Handle when a new output is added */\n",
       "    events.on('output_added.OutputArea', handleAddOutput);\n",
       "\n",
       "    /**\n",
       "     * Register the mime type and append_mime function with output_area\n",
       "     */\n",
       "    OutputArea.prototype.register_mime_type(EXEC_MIME_TYPE, append_mime, {\n",
       "      /* Is output safe? */\n",
       "      safe: true,\n",
       "      /* Index of renderer in `output_area.display_order` */\n",
       "      index: 0\n",
       "    });\n",
       "  }\n",
       "\n",
       "  // register the mime type if in Jupyter Notebook environment and previously unregistered\n",
       "  if (root.Jupyter !== undefined) {\n",
       "    var events = require('base/js/events');\n",
       "    var OutputArea = require('notebook/js/outputarea').OutputArea;\n",
       "\n",
       "    if (OutputArea.prototype.mime_types().indexOf(EXEC_MIME_TYPE) == -1) {\n",
       "      register_renderer(events, OutputArea);\n",
       "    }\n",
       "  }\n",
       "\n",
       "  \n",
       "  if (typeof (root._bokeh_timeout) === \"undefined\" || force === true) {\n",
       "    root._bokeh_timeout = Date.now() + 5000;\n",
       "    root._bokeh_failed_load = false;\n",
       "  }\n",
       "\n",
       "  var NB_LOAD_WARNING = {'data': {'text/html':\n",
       "     \"<div style='background-color: #fdd'>\\n\"+\n",
       "     \"<p>\\n\"+\n",
       "     \"BokehJS does not appear to have successfully loaded. If loading BokehJS from CDN, this \\n\"+\n",
       "     \"may be due to a slow or bad network connection. Possible fixes:\\n\"+\n",
       "     \"</p>\\n\"+\n",
       "     \"<ul>\\n\"+\n",
       "     \"<li>re-rerun `output_notebook()` to attempt to load from CDN again, or</li>\\n\"+\n",
       "     \"<li>use INLINE resources instead, as so:</li>\\n\"+\n",
       "     \"</ul>\\n\"+\n",
       "     \"<code>\\n\"+\n",
       "     \"from bokeh.resources import INLINE\\n\"+\n",
       "     \"output_notebook(resources=INLINE)\\n\"+\n",
       "     \"</code>\\n\"+\n",
       "     \"</div>\"}};\n",
       "\n",
       "  function display_loaded() {\n",
       "    var el = document.getElementById(\"12994\");\n",
       "    if (el != null) {\n",
       "      el.textContent = \"BokehJS is loading...\";\n",
       "    }\n",
       "    if (root.Bokeh !== undefined) {\n",
       "      if (el != null) {\n",
       "        el.textContent = \"BokehJS \" + root.Bokeh.version + \" successfully loaded.\";\n",
       "      }\n",
       "    } else if (Date.now() < root._bokeh_timeout) {\n",
       "      setTimeout(display_loaded, 100)\n",
       "    }\n",
       "  }\n",
       "\n",
       "\n",
       "  function run_callbacks() {\n",
       "    try {\n",
       "      root._bokeh_onload_callbacks.forEach(function(callback) {\n",
       "        if (callback != null)\n",
       "          callback();\n",
       "      });\n",
       "    } finally {\n",
       "      delete root._bokeh_onload_callbacks\n",
       "    }\n",
       "    console.debug(\"Bokeh: all callbacks have finished\");\n",
       "  }\n",
       "\n",
       "  function load_libs(css_urls, js_urls, callback) {\n",
       "    if (css_urls == null) css_urls = [];\n",
       "    if (js_urls == null) js_urls = [];\n",
       "\n",
       "    root._bokeh_onload_callbacks.push(callback);\n",
       "    if (root._bokeh_is_loading > 0) {\n",
       "      console.debug(\"Bokeh: BokehJS is being loaded, scheduling callback at\", now());\n",
       "      return null;\n",
       "    }\n",
       "    if (js_urls == null || js_urls.length === 0) {\n",
       "      run_callbacks();\n",
       "      return null;\n",
       "    }\n",
       "    console.debug(\"Bokeh: BokehJS not loaded, scheduling load and callback at\", now());\n",
       "    root._bokeh_is_loading = css_urls.length + js_urls.length;\n",
       "\n",
       "    function on_load() {\n",
       "      root._bokeh_is_loading--;\n",
       "      if (root._bokeh_is_loading === 0) {\n",
       "        console.debug(\"Bokeh: all BokehJS libraries/stylesheets loaded\");\n",
       "        run_callbacks()\n",
       "      }\n",
       "    }\n",
       "\n",
       "    function on_error() {\n",
       "      console.error(\"failed to load \" + url);\n",
       "    }\n",
       "\n",
       "    for (var i = 0; i < css_urls.length; i++) {\n",
       "      var url = css_urls[i];\n",
       "      const element = document.createElement(\"link\");\n",
       "      element.onload = on_load;\n",
       "      element.onerror = on_error;\n",
       "      element.rel = \"stylesheet\";\n",
       "      element.type = \"text/css\";\n",
       "      element.href = url;\n",
       "      console.debug(\"Bokeh: injecting link tag for BokehJS stylesheet: \", url);\n",
       "      document.body.appendChild(element);\n",
       "    }\n",
       "\n",
       "    for (var i = 0; i < js_urls.length; i++) {\n",
       "      var url = js_urls[i];\n",
       "      var element = document.createElement('script');\n",
       "      element.onload = on_load;\n",
       "      element.onerror = on_error;\n",
       "      element.async = false;\n",
       "      element.src = url;\n",
       "      console.debug(\"Bokeh: injecting script tag for BokehJS library: \", url);\n",
       "      document.head.appendChild(element);\n",
       "    }\n",
       "  };var element = document.getElementById(\"12994\");\n",
       "  if (element == null) {\n",
       "    console.error(\"Bokeh: ERROR: autoload.js configured with elementid '12994' but no matching script tag was found. \")\n",
       "    return false;\n",
       "  }\n",
       "\n",
       "  function inject_raw_css(css) {\n",
       "    const element = document.createElement(\"style\");\n",
       "    element.appendChild(document.createTextNode(css));\n",
       "    document.body.appendChild(element);\n",
       "  }\n",
       "\n",
       "  var js_urls = [\"https://cdn.pydata.org/bokeh/release/bokeh-1.3.4.min.js\", \"https://cdn.pydata.org/bokeh/release/bokeh-widgets-1.3.4.min.js\", \"https://cdn.pydata.org/bokeh/release/bokeh-tables-1.3.4.min.js\", \"https://cdn.pydata.org/bokeh/release/bokeh-gl-1.3.4.min.js\"];\n",
       "  var css_urls = [];\n",
       "\n",
       "  var inline_js = [\n",
       "    function(Bokeh) {\n",
       "      Bokeh.set_log_level(\"info\");\n",
       "    },\n",
       "    \n",
       "    function(Bokeh) {\n",
       "      \n",
       "    },\n",
       "    function(Bokeh) {} // ensure no trailing comma for IE\n",
       "  ];\n",
       "\n",
       "  function run_inline_js() {\n",
       "    \n",
       "    if ((root.Bokeh !== undefined) || (force === true)) {\n",
       "      for (var i = 0; i < inline_js.length; i++) {\n",
       "        inline_js[i].call(root, root.Bokeh);\n",
       "      }if (force === true) {\n",
       "        display_loaded();\n",
       "      }} else if (Date.now() < root._bokeh_timeout) {\n",
       "      setTimeout(run_inline_js, 100);\n",
       "    } else if (!root._bokeh_failed_load) {\n",
       "      console.log(\"Bokeh: BokehJS failed to load within specified timeout.\");\n",
       "      root._bokeh_failed_load = true;\n",
       "    } else if (force !== true) {\n",
       "      var cell = $(document.getElementById(\"12994\")).parents('.cell').data().cell;\n",
       "      cell.output_area.append_execute_result(NB_LOAD_WARNING)\n",
       "    }\n",
       "\n",
       "  }\n",
       "\n",
       "  if (root._bokeh_is_loading === 0) {\n",
       "    console.debug(\"Bokeh: BokehJS loaded, going straight to plotting\");\n",
       "    run_inline_js();\n",
       "  } else {\n",
       "    load_libs(css_urls, js_urls, function() {\n",
       "      console.debug(\"Bokeh: BokehJS plotting callback run at\", now());\n",
       "      run_inline_js();\n",
       "    });\n",
       "  }\n",
       "}(window));"
      ],
      "application/vnd.bokehjs_load.v0+json": "\n(function(root) {\n  function now() {\n    return new Date();\n  }\n\n  var force = true;\n\n  if (typeof root._bokeh_onload_callbacks === \"undefined\" || force === true) {\n    root._bokeh_onload_callbacks = [];\n    root._bokeh_is_loading = undefined;\n  }\n\n  \n\n  \n  if (typeof (root._bokeh_timeout) === \"undefined\" || force === true) {\n    root._bokeh_timeout = Date.now() + 5000;\n    root._bokeh_failed_load = false;\n  }\n\n  var NB_LOAD_WARNING = {'data': {'text/html':\n     \"<div style='background-color: #fdd'>\\n\"+\n     \"<p>\\n\"+\n     \"BokehJS does not appear to have successfully loaded. If loading BokehJS from CDN, this \\n\"+\n     \"may be due to a slow or bad network connection. Possible fixes:\\n\"+\n     \"</p>\\n\"+\n     \"<ul>\\n\"+\n     \"<li>re-rerun `output_notebook()` to attempt to load from CDN again, or</li>\\n\"+\n     \"<li>use INLINE resources instead, as so:</li>\\n\"+\n     \"</ul>\\n\"+\n     \"<code>\\n\"+\n     \"from bokeh.resources import INLINE\\n\"+\n     \"output_notebook(resources=INLINE)\\n\"+\n     \"</code>\\n\"+\n     \"</div>\"}};\n\n  function display_loaded() {\n    var el = document.getElementById(\"12994\");\n    if (el != null) {\n      el.textContent = \"BokehJS is loading...\";\n    }\n    if (root.Bokeh !== undefined) {\n      if (el != null) {\n        el.textContent = \"BokehJS \" + root.Bokeh.version + \" successfully loaded.\";\n      }\n    } else if (Date.now() < root._bokeh_timeout) {\n      setTimeout(display_loaded, 100)\n    }\n  }\n\n\n  function run_callbacks() {\n    try {\n      root._bokeh_onload_callbacks.forEach(function(callback) {\n        if (callback != null)\n          callback();\n      });\n    } finally {\n      delete root._bokeh_onload_callbacks\n    }\n    console.debug(\"Bokeh: all callbacks have finished\");\n  }\n\n  function load_libs(css_urls, js_urls, callback) {\n    if (css_urls == null) css_urls = [];\n    if (js_urls == null) js_urls = [];\n\n    root._bokeh_onload_callbacks.push(callback);\n    if (root._bokeh_is_loading > 0) {\n      console.debug(\"Bokeh: BokehJS is being loaded, scheduling callback at\", now());\n      return null;\n    }\n    if (js_urls == null || js_urls.length === 0) {\n      run_callbacks();\n      return null;\n    }\n    console.debug(\"Bokeh: BokehJS not loaded, scheduling load and callback at\", now());\n    root._bokeh_is_loading = css_urls.length + js_urls.length;\n\n    function on_load() {\n      root._bokeh_is_loading--;\n      if (root._bokeh_is_loading === 0) {\n        console.debug(\"Bokeh: all BokehJS libraries/stylesheets loaded\");\n        run_callbacks()\n      }\n    }\n\n    function on_error() {\n      console.error(\"failed to load \" + url);\n    }\n\n    for (var i = 0; i < css_urls.length; i++) {\n      var url = css_urls[i];\n      const element = document.createElement(\"link\");\n      element.onload = on_load;\n      element.onerror = on_error;\n      element.rel = \"stylesheet\";\n      element.type = \"text/css\";\n      element.href = url;\n      console.debug(\"Bokeh: injecting link tag for BokehJS stylesheet: \", url);\n      document.body.appendChild(element);\n    }\n\n    for (var i = 0; i < js_urls.length; i++) {\n      var url = js_urls[i];\n      var element = document.createElement('script');\n      element.onload = on_load;\n      element.onerror = on_error;\n      element.async = false;\n      element.src = url;\n      console.debug(\"Bokeh: injecting script tag for BokehJS library: \", url);\n      document.head.appendChild(element);\n    }\n  };var element = document.getElementById(\"12994\");\n  if (element == null) {\n    console.error(\"Bokeh: ERROR: autoload.js configured with elementid '12994' but no matching script tag was found. \")\n    return false;\n  }\n\n  function inject_raw_css(css) {\n    const element = document.createElement(\"style\");\n    element.appendChild(document.createTextNode(css));\n    document.body.appendChild(element);\n  }\n\n  var js_urls = [\"https://cdn.pydata.org/bokeh/release/bokeh-1.3.4.min.js\", \"https://cdn.pydata.org/bokeh/release/bokeh-widgets-1.3.4.min.js\", \"https://cdn.pydata.org/bokeh/release/bokeh-tables-1.3.4.min.js\", \"https://cdn.pydata.org/bokeh/release/bokeh-gl-1.3.4.min.js\"];\n  var css_urls = [];\n\n  var inline_js = [\n    function(Bokeh) {\n      Bokeh.set_log_level(\"info\");\n    },\n    \n    function(Bokeh) {\n      \n    },\n    function(Bokeh) {} // ensure no trailing comma for IE\n  ];\n\n  function run_inline_js() {\n    \n    if ((root.Bokeh !== undefined) || (force === true)) {\n      for (var i = 0; i < inline_js.length; i++) {\n        inline_js[i].call(root, root.Bokeh);\n      }if (force === true) {\n        display_loaded();\n      }} else if (Date.now() < root._bokeh_timeout) {\n      setTimeout(run_inline_js, 100);\n    } else if (!root._bokeh_failed_load) {\n      console.log(\"Bokeh: BokehJS failed to load within specified timeout.\");\n      root._bokeh_failed_load = true;\n    } else if (force !== true) {\n      var cell = $(document.getElementById(\"12994\")).parents('.cell').data().cell;\n      cell.output_area.append_execute_result(NB_LOAD_WARNING)\n    }\n\n  }\n\n  if (root._bokeh_is_loading === 0) {\n    console.debug(\"Bokeh: BokehJS loaded, going straight to plotting\");\n    run_inline_js();\n  } else {\n    load_libs(css_urls, js_urls, function() {\n      console.debug(\"Bokeh: BokehJS plotting callback run at\", now());\n      run_inline_js();\n    });\n  }\n}(window));"
     },
     "metadata": {},
     "output_type": "display_data"
    },
    {
     "data": {
      "text/html": [
       "\n",
       "\n",
       "\n",
       "\n",
       "\n",
       "\n",
       "  <div class=\"bk-root\" id=\"5ac08096-ddac-402f-a296-26a1adb6e9fb\" data-root-id=\"12948\"></div>\n"
      ]
     },
     "metadata": {},
     "output_type": "display_data"
    },
    {
     "data": {
      "application/javascript": [
       "(function(root) {\n",
       "  function embed_document(root) {\n",
       "    \n",
       "  var docs_json = {\"29ed2cf9-f8f0-4ff8-964b-d6aa903c5edc\":{\"roots\":{\"references\":[{\"attributes\":{\"below\":[{\"id\":\"12957\",\"type\":\"LinearAxis\"}],\"center\":[{\"id\":\"12961\",\"type\":\"Grid\"},{\"id\":\"12966\",\"type\":\"Grid\"}],\"left\":[{\"id\":\"12962\",\"type\":\"LinearAxis\"}],\"plot_height\":500,\"plot_width\":900,\"renderers\":[{\"id\":\"12992\",\"type\":\"GlyphRenderer\"}],\"title\":{\"id\":\"12984\",\"type\":\"Title\"},\"toolbar\":{\"id\":\"12973\",\"type\":\"Toolbar\"},\"x_range\":{\"id\":\"12949\",\"type\":\"DataRange1d\"},\"x_scale\":{\"id\":\"12953\",\"type\":\"LinearScale\"},\"y_range\":{\"id\":\"12951\",\"type\":\"DataRange1d\"},\"y_scale\":{\"id\":\"12955\",\"type\":\"LinearScale\"}},\"id\":\"12948\",\"subtype\":\"Figure\",\"type\":\"Plot\"},{\"attributes\":{},\"id\":\"12980\",\"type\":\"PanTool\"},{\"attributes\":{},\"id\":\"13314\",\"type\":\"UnionRenderers\"},{\"attributes\":{},\"id\":\"12982\",\"type\":\"WheelZoomTool\"},{\"attributes\":{},\"id\":\"12963\",\"type\":\"BasicTicker\"},{\"attributes\":{\"callback\":null},\"id\":\"12949\",\"type\":\"DataRange1d\"},{\"attributes\":{\"axis_label\":null,\"axis_line_width\":{\"value\":3},\"formatter\":{\"id\":\"13312\",\"type\":\"BasicTickFormatter\"},\"major_label_text_font_size\":{\"value\":\"1.2em\"},\"major_label_text_font_style\":\"bold\",\"ticker\":{\"id\":\"12963\",\"type\":\"BasicTicker\"}},\"id\":\"12962\",\"type\":\"LinearAxis\"},{\"attributes\":{\"callback\":null},\"id\":\"12951\",\"type\":\"DataRange1d\"},{\"attributes\":{\"fill_color\":{\"value\":\"#1f77b4\"},\"line_color\":{\"value\":\"#1f77b4\"},\"x\":{\"field\":\"x\"},\"y\":{\"field\":\"y\"}},\"id\":\"12990\",\"type\":\"Circle\"},{\"attributes\":{},\"id\":\"12955\",\"type\":\"LinearScale\"},{\"attributes\":{\"data_source\":{\"id\":\"12989\",\"type\":\"ColumnDataSource\"},\"glyph\":{\"id\":\"12990\",\"type\":\"Circle\"},\"hover_glyph\":null,\"muted_glyph\":null,\"nonselection_glyph\":{\"id\":\"12991\",\"type\":\"Circle\"},\"selection_glyph\":null,\"view\":{\"id\":\"12993\",\"type\":\"CDSView\"}},\"id\":\"12992\",\"type\":\"GlyphRenderer\"},{\"attributes\":{},\"id\":\"12981\",\"type\":\"ResetTool\"},{\"attributes\":{\"align\":\"center\",\"text\":\"Iris scatter plot\",\"text_font\":\"times\",\"text_font_size\":{\"value\":\"2em\"}},\"id\":\"12984\",\"type\":\"Title\"},{\"attributes\":{},\"id\":\"13312\",\"type\":\"BasicTickFormatter\"},{\"attributes\":{\"grid_line_color\":\"gray\",\"grid_line_dash\":[5,3],\"ticker\":{\"id\":\"12958\",\"type\":\"BasicTicker\"}},\"id\":\"12961\",\"type\":\"Grid\"},{\"attributes\":{\"dimension\":1,\"grid_line_color\":\"gray\",\"grid_line_dash\":[5,3],\"ticker\":{\"id\":\"12963\",\"type\":\"BasicTicker\"}},\"id\":\"12966\",\"type\":\"Grid\"},{\"attributes\":{\"active_drag\":\"auto\",\"active_inspect\":\"auto\",\"active_multi\":null,\"active_scroll\":\"auto\",\"active_tap\":\"auto\",\"tools\":[{\"id\":\"12980\",\"type\":\"PanTool\"},{\"id\":\"12981\",\"type\":\"ResetTool\"},{\"id\":\"12982\",\"type\":\"WheelZoomTool\"}]},\"id\":\"12973\",\"type\":\"Toolbar\"},{\"attributes\":{},\"id\":\"13313\",\"type\":\"Selection\"},{\"attributes\":{},\"id\":\"12953\",\"type\":\"LinearScale\"},{\"attributes\":{},\"id\":\"13310\",\"type\":\"BasicTickFormatter\"},{\"attributes\":{\"source\":{\"id\":\"12989\",\"type\":\"ColumnDataSource\"}},\"id\":\"12993\",\"type\":\"CDSView\"},{\"attributes\":{\"axis_label\":null,\"axis_line_width\":{\"value\":3},\"formatter\":{\"id\":\"13310\",\"type\":\"BasicTickFormatter\"},\"major_label_text_font_size\":{\"value\":\"1.2em\"},\"major_label_text_font_style\":\"bold\",\"ticker\":{\"id\":\"12958\",\"type\":\"BasicTicker\"}},\"id\":\"12957\",\"type\":\"LinearAxis\"},{\"attributes\":{\"fill_alpha\":{\"value\":0.1},\"fill_color\":{\"value\":\"#1f77b4\"},\"line_alpha\":{\"value\":0.1},\"line_color\":{\"value\":\"#1f77b4\"},\"x\":{\"field\":\"x\"},\"y\":{\"field\":\"y\"}},\"id\":\"12991\",\"type\":\"Circle\"},{\"attributes\":{},\"id\":\"12958\",\"type\":\"BasicTicker\"},{\"attributes\":{\"callback\":null,\"data\":{\"x\":{\"__ndarray__\":\"ZmZmZmZm9j9mZmZmZmb2P83MzMzMzPQ/AAAAAAAA+D9mZmZmZmb2PzMzMzMzM/s/ZmZmZmZm9j8AAAAAAAD4P2ZmZmZmZvY/AAAAAAAA+D8AAAAAAAD4P5qZmZmZmfk/ZmZmZmZm9j+amZmZmZnxPzMzMzMzM/M/AAAAAAAA+D/NzMzMzMz0P2ZmZmZmZvY/MzMzMzMz+z8AAAAAAAD4PzMzMzMzM/s/AAAAAAAA+D8AAAAAAADwPzMzMzMzM/s/ZmZmZmZm/j+amZmZmZn5P5qZmZmZmfk/AAAAAAAA+D9mZmZmZmb2P5qZmZmZmfk/mpmZmZmZ+T8AAAAAAAD4PwAAAAAAAPg/ZmZmZmZm9j8AAAAAAAD4PzMzMzMzM/M/zczMzMzM9D9mZmZmZmb2P83MzMzMzPQ/AAAAAAAA+D/NzMzMzMz0P83MzMzMzPQ/zczMzMzM9D+amZmZmZn5P2ZmZmZmZv4/ZmZmZmZm9j+amZmZmZn5P2ZmZmZmZvY/AAAAAAAA+D9mZmZmZmb2P83MzMzMzBJAAAAAAAAAEkCamZmZmZkTQAAAAAAAABBAZmZmZmZmEkAAAAAAAAASQM3MzMzMzBJAZmZmZmZmCkBmZmZmZmYSQDMzMzMzMw9AAAAAAAAADEDNzMzMzMwQQAAAAAAAABBAzczMzMzMEkDNzMzMzMwMQJqZmZmZmRFAAAAAAAAAEkBmZmZmZmYQQAAAAAAAABJAMzMzMzMzD0AzMzMzMzMTQAAAAAAAABBAmpmZmZmZE0DNzMzMzMwSQDMzMzMzMxFAmpmZmZmZEUAzMzMzMzMTQAAAAAAAABRAAAAAAAAAEkAAAAAAAAAMQGZmZmZmZg5AmpmZmZmZDUAzMzMzMzMPQGZmZmZmZhRAAAAAAAAAEkAAAAAAAAASQM3MzMzMzBJAmpmZmZmZEUBmZmZmZmYQQAAAAAAAABBAmpmZmZmZEUBmZmZmZmYSQAAAAAAAABBAZmZmZmZmCkDNzMzMzMwQQM3MzMzMzBBAzczMzMzMEEAzMzMzMzMRQAAAAAAAAAhAZmZmZmZmEEAAAAAAAAAYQGZmZmZmZhRAmpmZmZmZF0BmZmZmZmYWQDMzMzMzMxdAZmZmZmZmGkAAAAAAAAASQDMzMzMzMxlAMzMzMzMzF0BmZmZmZmYYQGZmZmZmZhRAMzMzMzMzFUAAAAAAAAAWQAAAAAAAABRAZmZmZmZmFEAzMzMzMzMVQAAAAAAAABZAzczMzMzMGkCamZmZmZkbQAAAAAAAABRAzczMzMzMFkCamZmZmZkTQM3MzMzMzBpAmpmZmZmZE0DNzMzMzMwWQAAAAAAAABhAMzMzMzMzE0CamZmZmZkTQGZmZmZmZhZAMzMzMzMzF0BmZmZmZmYYQJqZmZmZmRlAZmZmZmZmFkBmZmZmZmYUQGZmZmZmZhZAZmZmZmZmGEBmZmZmZmYWQAAAAAAAABZAMzMzMzMzE0CamZmZmZkVQGZmZmZmZhZAZmZmZmZmFEBmZmZmZmYUQJqZmZmZmRdAzczMzMzMFkDNzMzMzMwUQAAAAAAAABRAzczMzMzMFECamZmZmZkVQGZmZmZmZhRA\",\"dtype\":\"float64\",\"shape\":[150]},\"y\":{\"__ndarray__\":\"mpmZmZmZyT+amZmZmZnJP5qZmZmZmck/mpmZmZmZyT+amZmZmZnJP5qZmZmZmdk/MzMzMzMz0z+amZmZmZnJP5qZmZmZmck/mpmZmZmZuT+amZmZmZnJP5qZmZmZmck/mpmZmZmZuT+amZmZmZm5P5qZmZmZmck/mpmZmZmZ2T+amZmZmZnZPzMzMzMzM9M/MzMzMzMz0z8zMzMzMzPTP5qZmZmZmck/mpmZmZmZ2T+amZmZmZnJPwAAAAAAAOA/mpmZmZmZyT+amZmZmZnJP5qZmZmZmdk/mpmZmZmZyT+amZmZmZnJP5qZmZmZmck/mpmZmZmZyT+amZmZmZnZP5qZmZmZmbk/mpmZmZmZyT+amZmZmZnJP5qZmZmZmck/mpmZmZmZyT+amZmZmZm5P5qZmZmZmck/mpmZmZmZyT8zMzMzMzPTPzMzMzMzM9M/mpmZmZmZyT8zMzMzMzPjP5qZmZmZmdk/MzMzMzMz0z+amZmZmZnJP5qZmZmZmck/mpmZmZmZyT+amZmZmZnJP2ZmZmZmZvY/AAAAAAAA+D8AAAAAAAD4P83MzMzMzPQ/AAAAAAAA+D/NzMzMzMz0P5qZmZmZmfk/AAAAAAAA8D/NzMzMzMz0P2ZmZmZmZvY/AAAAAAAA8D8AAAAAAAD4PwAAAAAAAPA/ZmZmZmZm9j/NzMzMzMz0P2ZmZmZmZvY/AAAAAAAA+D8AAAAAAADwPwAAAAAAAPg/mpmZmZmZ8T/NzMzMzMz8P83MzMzMzPQ/AAAAAAAA+D8zMzMzMzPzP83MzMzMzPQ/ZmZmZmZm9j9mZmZmZmb2PzMzMzMzM/s/AAAAAAAA+D8AAAAAAADwP5qZmZmZmfE/AAAAAAAA8D8zMzMzMzPzP5qZmZmZmfk/AAAAAAAA+D+amZmZmZn5PwAAAAAAAPg/zczMzMzM9D/NzMzMzMz0P83MzMzMzPQ/MzMzMzMz8z9mZmZmZmb2PzMzMzMzM/M/AAAAAAAA8D/NzMzMzMz0PzMzMzMzM/M/zczMzMzM9D/NzMzMzMz0P5qZmZmZmfE/zczMzMzM9D8AAAAAAAAEQGZmZmZmZv4/zczMzMzMAEDNzMzMzMz8P5qZmZmZmQFAzczMzMzMAEAzMzMzMzP7P83MzMzMzPw/zczMzMzM/D8AAAAAAAAEQAAAAAAAAABAZmZmZmZm/j/NzMzMzMwAQAAAAAAAAABAMzMzMzMzA0BmZmZmZmYCQM3MzMzMzPw/mpmZmZmZAUBmZmZmZmYCQAAAAAAAAPg/ZmZmZmZmAkAAAAAAAAAAQAAAAAAAAABAzczMzMzM/D/NzMzMzMwAQM3MzMzMzPw/zczMzMzM/D/NzMzMzMz8P83MzMzMzABAmpmZmZmZ+T9mZmZmZmb+PwAAAAAAAABAmpmZmZmZAUAAAAAAAAD4P2ZmZmZmZvY/ZmZmZmZmAkAzMzMzMzMDQM3MzMzMzPw/zczMzMzM/D/NzMzMzMwAQDMzMzMzMwNAZmZmZmZmAkBmZmZmZmb+P2ZmZmZmZgJAAAAAAAAABEBmZmZmZmYCQGZmZmZmZv4/AAAAAAAAAEBmZmZmZmYCQM3MzMzMzPw/\",\"dtype\":\"float64\",\"shape\":[150]}},\"selected\":{\"id\":\"13313\",\"type\":\"Selection\"},\"selection_policy\":{\"id\":\"13314\",\"type\":\"UnionRenderers\"}},\"id\":\"12989\",\"type\":\"ColumnDataSource\"}],\"root_ids\":[\"12948\"]},\"title\":\"Bokeh Application\",\"version\":\"1.3.4\"}};\n",
       "  var render_items = [{\"docid\":\"29ed2cf9-f8f0-4ff8-964b-d6aa903c5edc\",\"roots\":{\"12948\":\"5ac08096-ddac-402f-a296-26a1adb6e9fb\"}}];\n",
       "  root.Bokeh.embed.embed_items_notebook(docs_json, render_items);\n",
       "\n",
       "  }\n",
       "  if (root.Bokeh !== undefined) {\n",
       "    embed_document(root);\n",
       "  } else {\n",
       "    var attempts = 0;\n",
       "    var timer = setInterval(function(root) {\n",
       "      if (root.Bokeh !== undefined) {\n",
       "        embed_document(root);\n",
       "        clearInterval(timer);\n",
       "      }\n",
       "      attempts++;\n",
       "      if (attempts > 100) {\n",
       "        console.log(\"Bokeh: ERROR: Unable to run BokehJS code because BokehJS library is missing\");\n",
       "        clearInterval(timer);\n",
       "      }\n",
       "    }, 10, root)\n",
       "  }\n",
       "})(window);"
      ],
      "application/vnd.bokehjs_exec.v0+json": ""
     },
     "metadata": {
      "application/vnd.bokehjs_exec.v0+json": {
       "id": "12948"
      }
     },
     "output_type": "display_data"
    }
   ],
   "source": [
    "# Declaring the figure\n",
    "f = figure(plot_width = 900, plot_height = 500)\n",
    "style_plot(f, title=  'Iris scatter plot')\n",
    "\n",
    "f.circle(x = flowers.petal_length, y = flowers.petal_width)\n",
    "output_notebook()\n",
    "show(f)"
   ]
  },
  {
   "cell_type": "markdown",
   "metadata": {},
   "source": [
    "## First styles to the scatterplot\n",
    "### ColumnDataSource"
   ]
  },
  {
   "cell_type": "code",
   "execution_count": 19,
   "metadata": {},
   "outputs": [],
   "source": [
    "from bokeh.models import ColumnDataSource"
   ]
  },
  {
   "cell_type": "code",
   "execution_count": 101,
   "metadata": {},
   "outputs": [],
   "source": [
    "# Actualizamos \n",
    "# Declaramos el Datasource a partir del Dataframe\n",
    "data = ColumnDataSource(data = {\n",
    "        'x' : flowers.petal_length,\n",
    "        'y' : flowers.petal_width,\n",
    "        'z' : flowers.sepal_width**2,\n",
    "        'species' : flowers.species\n",
    "    })"
   ]
  },
  {
   "cell_type": "markdown",
   "metadata": {},
   "source": [
    "### Tamaño de los puntos"
   ]
  },
  {
   "cell_type": "code",
   "execution_count": 47,
   "metadata": {},
   "outputs": [
    {
     "data": {
      "text/html": [
       "\n",
       "\n",
       "\n",
       "\n",
       "\n",
       "\n",
       "  <div class=\"bk-root\" id=\"851e609f-5bc1-42a2-903c-3e1add12d98f\" data-root-id=\"4564\"></div>\n"
      ]
     },
     "metadata": {},
     "output_type": "display_data"
    },
    {
     "data": {
      "application/javascript": [
       "(function(root) {\n",
       "  function embed_document(root) {\n",
       "    \n",
       "  var docs_json = {\"1c5935f3-d648-4db9-be5f-17b73ef65929\":{\"roots\":{\"references\":[{\"attributes\":{\"below\":[{\"id\":\"4573\",\"type\":\"LinearAxis\"}],\"center\":[{\"id\":\"4577\",\"type\":\"Grid\"},{\"id\":\"4582\",\"type\":\"Grid\"}],\"left\":[{\"id\":\"4578\",\"type\":\"LinearAxis\"}],\"plot_height\":500,\"plot_width\":900,\"renderers\":[{\"id\":\"4609\",\"type\":\"GlyphRenderer\"}],\"title\":{\"id\":\"4601\",\"type\":\"Title\"},\"toolbar\":{\"id\":\"4589\",\"type\":\"Toolbar\"},\"x_range\":{\"id\":\"4565\",\"type\":\"DataRange1d\"},\"x_scale\":{\"id\":\"4569\",\"type\":\"LinearScale\"},\"y_range\":{\"id\":\"4567\",\"type\":\"DataRange1d\"},\"y_scale\":{\"id\":\"4571\",\"type\":\"LinearScale\"}},\"id\":\"4564\",\"subtype\":\"Figure\",\"type\":\"Plot\"},{\"attributes\":{\"callback\":null},\"id\":\"4598\",\"type\":\"HoverTool\"},{\"attributes\":{\"axis_label\":null,\"axis_line_width\":{\"value\":3},\"formatter\":{\"id\":\"4720\",\"type\":\"BasicTickFormatter\"},\"major_label_text_font_size\":{\"value\":\"1.2em\"},\"major_label_text_font_style\":\"bold\",\"ticker\":{\"id\":\"4579\",\"type\":\"BasicTicker\"}},\"id\":\"4578\",\"type\":\"LinearAxis\"},{\"attributes\":{},\"id\":\"4720\",\"type\":\"BasicTickFormatter\"},{\"attributes\":{},\"id\":\"4571\",\"type\":\"LinearScale\"},{\"attributes\":{},\"id\":\"4597\",\"type\":\"ResetTool\"},{\"attributes\":{},\"id\":\"4574\",\"type\":\"BasicTicker\"},{\"attributes\":{\"active_drag\":\"auto\",\"active_inspect\":\"auto\",\"active_multi\":null,\"active_scroll\":\"auto\",\"active_tap\":\"auto\",\"tools\":[{\"id\":\"4596\",\"type\":\"PanTool\"},{\"id\":\"4597\",\"type\":\"ResetTool\"},{\"id\":\"4598\",\"type\":\"HoverTool\"},{\"id\":\"4599\",\"type\":\"WheelZoomTool\"}]},\"id\":\"4589\",\"type\":\"Toolbar\"},{\"attributes\":{\"axis_label\":null,\"axis_line_width\":{\"value\":3},\"formatter\":{\"id\":\"4718\",\"type\":\"BasicTickFormatter\"},\"major_label_text_font_size\":{\"value\":\"1.2em\"},\"major_label_text_font_style\":\"bold\",\"ticker\":{\"id\":\"4574\",\"type\":\"BasicTicker\"}},\"id\":\"4573\",\"type\":\"LinearAxis\"},{\"attributes\":{},\"id\":\"4722\",\"type\":\"UnionRenderers\"},{\"attributes\":{\"dimension\":1,\"grid_line_color\":\"gray\",\"grid_line_dash\":[5,3],\"ticker\":{\"id\":\"4579\",\"type\":\"BasicTicker\"}},\"id\":\"4582\",\"type\":\"Grid\"},{\"attributes\":{\"callback\":null,\"data\":{\"species\":[\"setosa\",\"setosa\",\"setosa\",\"setosa\",\"setosa\",\"setosa\",\"setosa\",\"setosa\",\"setosa\",\"setosa\",\"setosa\",\"setosa\",\"setosa\",\"setosa\",\"setosa\",\"setosa\",\"setosa\",\"setosa\",\"setosa\",\"setosa\",\"setosa\",\"setosa\",\"setosa\",\"setosa\",\"setosa\",\"setosa\",\"setosa\",\"setosa\",\"setosa\",\"setosa\",\"setosa\",\"setosa\",\"setosa\",\"setosa\",\"setosa\",\"setosa\",\"setosa\",\"setosa\",\"setosa\",\"setosa\",\"setosa\",\"setosa\",\"setosa\",\"setosa\",\"setosa\",\"setosa\",\"setosa\",\"setosa\",\"setosa\",\"setosa\",\"versicolor\",\"versicolor\",\"versicolor\",\"versicolor\",\"versicolor\",\"versicolor\",\"versicolor\",\"versicolor\",\"versicolor\",\"versicolor\",\"versicolor\",\"versicolor\",\"versicolor\",\"versicolor\",\"versicolor\",\"versicolor\",\"versicolor\",\"versicolor\",\"versicolor\",\"versicolor\",\"versicolor\",\"versicolor\",\"versicolor\",\"versicolor\",\"versicolor\",\"versicolor\",\"versicolor\",\"versicolor\",\"versicolor\",\"versicolor\",\"versicolor\",\"versicolor\",\"versicolor\",\"versicolor\",\"versicolor\",\"versicolor\",\"versicolor\",\"versicolor\",\"versicolor\",\"versicolor\",\"versicolor\",\"versicolor\",\"versicolor\",\"versicolor\",\"versicolor\",\"versicolor\",\"versicolor\",\"versicolor\",\"versicolor\",\"versicolor\",\"virginica\",\"virginica\",\"virginica\",\"virginica\",\"virginica\",\"virginica\",\"virginica\",\"virginica\",\"virginica\",\"virginica\",\"virginica\",\"virginica\",\"virginica\",\"virginica\",\"virginica\",\"virginica\",\"virginica\",\"virginica\",\"virginica\",\"virginica\",\"virginica\",\"virginica\",\"virginica\",\"virginica\",\"virginica\",\"virginica\",\"virginica\",\"virginica\",\"virginica\",\"virginica\",\"virginica\",\"virginica\",\"virginica\",\"virginica\",\"virginica\",\"virginica\",\"virginica\",\"virginica\",\"virginica\",\"virginica\",\"virginica\",\"virginica\",\"virginica\",\"virginica\",\"virginica\",\"virginica\",\"virginica\",\"virginica\",\"virginica\",\"virginica\"],\"x\":{\"__ndarray__\":\"ZmZmZmZm9j9mZmZmZmb2P83MzMzMzPQ/AAAAAAAA+D9mZmZmZmb2PzMzMzMzM/s/ZmZmZmZm9j8AAAAAAAD4P2ZmZmZmZvY/AAAAAAAA+D8AAAAAAAD4P5qZmZmZmfk/ZmZmZmZm9j+amZmZmZnxPzMzMzMzM/M/AAAAAAAA+D/NzMzMzMz0P2ZmZmZmZvY/MzMzMzMz+z8AAAAAAAD4PzMzMzMzM/s/AAAAAAAA+D8AAAAAAADwPzMzMzMzM/s/ZmZmZmZm/j+amZmZmZn5P5qZmZmZmfk/AAAAAAAA+D9mZmZmZmb2P5qZmZmZmfk/mpmZmZmZ+T8AAAAAAAD4PwAAAAAAAPg/ZmZmZmZm9j8AAAAAAAD4PzMzMzMzM/M/zczMzMzM9D9mZmZmZmb2P83MzMzMzPQ/AAAAAAAA+D/NzMzMzMz0P83MzMzMzPQ/zczMzMzM9D+amZmZmZn5P2ZmZmZmZv4/ZmZmZmZm9j+amZmZmZn5P2ZmZmZmZvY/AAAAAAAA+D9mZmZmZmb2P83MzMzMzBJAAAAAAAAAEkCamZmZmZkTQAAAAAAAABBAZmZmZmZmEkAAAAAAAAASQM3MzMzMzBJAZmZmZmZmCkBmZmZmZmYSQDMzMzMzMw9AAAAAAAAADEDNzMzMzMwQQAAAAAAAABBAzczMzMzMEkDNzMzMzMwMQJqZmZmZmRFAAAAAAAAAEkBmZmZmZmYQQAAAAAAAABJAMzMzMzMzD0AzMzMzMzMTQAAAAAAAABBAmpmZmZmZE0DNzMzMzMwSQDMzMzMzMxFAmpmZmZmZEUAzMzMzMzMTQAAAAAAAABRAAAAAAAAAEkAAAAAAAAAMQGZmZmZmZg5AmpmZmZmZDUAzMzMzMzMPQGZmZmZmZhRAAAAAAAAAEkAAAAAAAAASQM3MzMzMzBJAmpmZmZmZEUBmZmZmZmYQQAAAAAAAABBAmpmZmZmZEUBmZmZmZmYSQAAAAAAAABBAZmZmZmZmCkDNzMzMzMwQQM3MzMzMzBBAzczMzMzMEEAzMzMzMzMRQAAAAAAAAAhAZmZmZmZmEEAAAAAAAAAYQGZmZmZmZhRAmpmZmZmZF0BmZmZmZmYWQDMzMzMzMxdAZmZmZmZmGkAAAAAAAAASQDMzMzMzMxlAMzMzMzMzF0BmZmZmZmYYQGZmZmZmZhRAMzMzMzMzFUAAAAAAAAAWQAAAAAAAABRAZmZmZmZmFEAzMzMzMzMVQAAAAAAAABZAzczMzMzMGkCamZmZmZkbQAAAAAAAABRAzczMzMzMFkCamZmZmZkTQM3MzMzMzBpAmpmZmZmZE0DNzMzMzMwWQAAAAAAAABhAMzMzMzMzE0CamZmZmZkTQGZmZmZmZhZAMzMzMzMzF0BmZmZmZmYYQJqZmZmZmRlAZmZmZmZmFkBmZmZmZmYUQGZmZmZmZhZAZmZmZmZmGEBmZmZmZmYWQAAAAAAAABZAMzMzMzMzE0CamZmZmZkVQGZmZmZmZhZAZmZmZmZmFEBmZmZmZmYUQJqZmZmZmRdAzczMzMzMFkDNzMzMzMwUQAAAAAAAABRAzczMzMzMFECamZmZmZkVQGZmZmZmZhRA\",\"dtype\":\"float64\",\"shape\":[150]},\"y\":{\"__ndarray__\":\"mpmZmZmZyT+amZmZmZnJP5qZmZmZmck/mpmZmZmZyT+amZmZmZnJP5qZmZmZmdk/MzMzMzMz0z+amZmZmZnJP5qZmZmZmck/mpmZmZmZuT+amZmZmZnJP5qZmZmZmck/mpmZmZmZuT+amZmZmZm5P5qZmZmZmck/mpmZmZmZ2T+amZmZmZnZPzMzMzMzM9M/MzMzMzMz0z8zMzMzMzPTP5qZmZmZmck/mpmZmZmZ2T+amZmZmZnJPwAAAAAAAOA/mpmZmZmZyT+amZmZmZnJP5qZmZmZmdk/mpmZmZmZyT+amZmZmZnJP5qZmZmZmck/mpmZmZmZyT+amZmZmZnZP5qZmZmZmbk/mpmZmZmZyT+amZmZmZnJP5qZmZmZmck/mpmZmZmZyT+amZmZmZm5P5qZmZmZmck/mpmZmZmZyT8zMzMzMzPTPzMzMzMzM9M/mpmZmZmZyT8zMzMzMzPjP5qZmZmZmdk/MzMzMzMz0z+amZmZmZnJP5qZmZmZmck/mpmZmZmZyT+amZmZmZnJP2ZmZmZmZvY/AAAAAAAA+D8AAAAAAAD4P83MzMzMzPQ/AAAAAAAA+D/NzMzMzMz0P5qZmZmZmfk/AAAAAAAA8D/NzMzMzMz0P2ZmZmZmZvY/AAAAAAAA8D8AAAAAAAD4PwAAAAAAAPA/ZmZmZmZm9j/NzMzMzMz0P2ZmZmZmZvY/AAAAAAAA+D8AAAAAAADwPwAAAAAAAPg/mpmZmZmZ8T/NzMzMzMz8P83MzMzMzPQ/AAAAAAAA+D8zMzMzMzPzP83MzMzMzPQ/ZmZmZmZm9j9mZmZmZmb2PzMzMzMzM/s/AAAAAAAA+D8AAAAAAADwP5qZmZmZmfE/AAAAAAAA8D8zMzMzMzPzP5qZmZmZmfk/AAAAAAAA+D+amZmZmZn5PwAAAAAAAPg/zczMzMzM9D/NzMzMzMz0P83MzMzMzPQ/MzMzMzMz8z9mZmZmZmb2PzMzMzMzM/M/AAAAAAAA8D/NzMzMzMz0PzMzMzMzM/M/zczMzMzM9D/NzMzMzMz0P5qZmZmZmfE/zczMzMzM9D8AAAAAAAAEQGZmZmZmZv4/zczMzMzMAEDNzMzMzMz8P5qZmZmZmQFAzczMzMzMAEAzMzMzMzP7P83MzMzMzPw/zczMzMzM/D8AAAAAAAAEQAAAAAAAAABAZmZmZmZm/j/NzMzMzMwAQAAAAAAAAABAMzMzMzMzA0BmZmZmZmYCQM3MzMzMzPw/mpmZmZmZAUBmZmZmZmYCQAAAAAAAAPg/ZmZmZmZmAkAAAAAAAAAAQAAAAAAAAABAzczMzMzM/D/NzMzMzMwAQM3MzMzMzPw/zczMzMzM/D/NzMzMzMz8P83MzMzMzABAmpmZmZmZ+T9mZmZmZmb+PwAAAAAAAABAmpmZmZmZAUAAAAAAAAD4P2ZmZmZmZvY/ZmZmZmZmAkAzMzMzMzMDQM3MzMzMzPw/zczMzMzM/D/NzMzMzMwAQDMzMzMzMwNAZmZmZmZmAkBmZmZmZmb+P2ZmZmZmZgJAAAAAAAAABEBmZmZmZmYCQGZmZmZmZv4/AAAAAAAAAEBmZmZmZmYCQM3MzMzMzPw/\",\"dtype\":\"float64\",\"shape\":[150]},\"z\":{\"__ndarray__\":\"AAAAAACAKEAAAAAAAAAiQHwUrkfheiRAuR6F61E4I0DsUbgehespQOtRuB6Fay5AHoXrUbgeJ0AehetRuB4nQFK4HoXr0SBAuR6F61E4I0DiehSuR2ErQB6F61G4HidAAAAAAAAAIkAAAAAAAAAiQAAAAAAAADBAXY/C9ShcM0DrUbgehWsuQAAAAAAAgChA4XoUrkfhLEDhehSuR+EsQB6F61G4HidA4noUrkdhK0DsUbgehespQEfhehSuxyVAHoXrUbgeJ0AAAAAAAAAiQB6F61G4HidAAAAAAACAKEAehetRuB4nQHwUrkfheiRAuR6F61E4I0AehetRuB4nQI/C9ShczzBApHA9CtejMUC5HoXrUTgjQHwUrkfheiRAAAAAAACAKEDsUbgehespQAAAAAAAACJAHoXrUbgeJ0AAAAAAAIAoQChcj8L1KBVAfBSuR+F6JEAAAAAAAIAoQOF6FK5H4SxAAAAAAAAAIkDhehSuR+EsQHwUrkfheiRA4noUrkdhK0BH4XoUrsclQHwUrkfheiRAfBSuR+F6JEC5HoXrUTgjQChcj8L1KBVAW4/C9ShcH0Bbj8L1KFwfQEfhehSuxyVACtejcD0KF0BSuB6F69EgQCpcj8L1KB1AAAAAAAAAEEAAAAAAAAAiQF2PwvUoXBNAUrgehevRIEBSuB6F69EgQLkehetROCNAAAAAAAAAIkAqXI/C9SgdQF2PwvUoXBNAAAAAAAAAGUB8FK5H4XokQFuPwvUoXB9AAAAAAAAAGUBbj8L1KFwfQFK4HoXr0SBAAAAAAAAAIkBbj8L1KFwfQAAAAAAAACJAUrgehevRIEAL16NwPQobQArXo3A9ChdACtejcD0KF0AqXI/C9SgdQCpcj8L1KB1AAAAAAAAAIkAehetRuB4nQLkehetROCNAKFyPwvUoFUAAAAAAAAAiQAAAAAAAABlAC9ejcD0KG0AAAAAAAAAiQAvXo3A9ChtAKFyPwvUoFUAqXI/C9SgdQAAAAAAAACJAUrgehevRIEBSuB6F69EgQAAAAAAAABlAW4/C9ShcH0BH4XoUrsclQCpcj8L1KB1AAAAAAAAAIkBSuB6F69EgQAAAAAAAACJAAAAAAAAAIkAAAAAAAAAZQFK4HoXr0SBAAAAAAAAAGUDsUbgehespQHwUrkfheiRAKlyPwvUoHUAAAAAAAAAiQAAAAAAAABlAW4/C9ShcH0B8FK5H4XokQAAAAAAAACJA4XoUrkfhLEAL16NwPQobQF2PwvUoXBNAfBSuR+F6JEBbj8L1KFwfQFuPwvUoXB9AKlyPwvUoHUBH4XoUrsclQHwUrkfheiRAW4/C9ShcH0AAAAAAAAAiQFuPwvUoXB9AAAAAAAAAIkBbj8L1KFwfQOF6FK5H4SxAW4/C9ShcH0Bbj8L1KFwfQAvXo3A9ChtAAAAAAAAAIkAehetRuB4nQLkehetROCNAAAAAAAAAIkC5HoXrUTgjQLkehetROCNAuR6F61E4I0AqXI/C9SgdQHwUrkfheiRAR+F6FK7HJUAAAAAAAAAiQAAAAAAAABlAAAAAAAAAIkAehetRuB4nQAAAAAAAACJA\",\"dtype\":\"float64\",\"shape\":[150]}},\"selected\":{\"id\":\"4721\",\"type\":\"Selection\"},\"selection_policy\":{\"id\":\"4722\",\"type\":\"UnionRenderers\"}},\"id\":\"4563\",\"type\":\"ColumnDataSource\"},{\"attributes\":{},\"id\":\"4721\",\"type\":\"Selection\"},{\"attributes\":{\"callback\":null},\"id\":\"4567\",\"type\":\"DataRange1d\"},{\"attributes\":{\"align\":\"center\",\"text\":\"Iris scatter plot\",\"text_font\":\"times\",\"text_font_size\":{\"value\":\"2em\"}},\"id\":\"4601\",\"type\":\"Title\"},{\"attributes\":{\"fill_alpha\":{\"value\":0.1},\"fill_color\":{\"value\":\"#1f77b4\"},\"line_alpha\":{\"value\":0.1},\"line_color\":{\"value\":\"#1f77b4\"},\"size\":{\"field\":\"z\",\"units\":\"screen\"},\"x\":{\"field\":\"x\"},\"y\":{\"field\":\"y\"}},\"id\":\"4608\",\"type\":\"Scatter\"},{\"attributes\":{\"callback\":null},\"id\":\"4565\",\"type\":\"DataRange1d\"},{\"attributes\":{},\"id\":\"4579\",\"type\":\"BasicTicker\"},{\"attributes\":{\"data_source\":{\"id\":\"4563\",\"type\":\"ColumnDataSource\"},\"glyph\":{\"id\":\"4607\",\"type\":\"Scatter\"},\"hover_glyph\":null,\"muted_glyph\":null,\"nonselection_glyph\":{\"id\":\"4608\",\"type\":\"Scatter\"},\"selection_glyph\":null,\"view\":{\"id\":\"4610\",\"type\":\"CDSView\"}},\"id\":\"4609\",\"type\":\"GlyphRenderer\"},{\"attributes\":{\"source\":{\"id\":\"4563\",\"type\":\"ColumnDataSource\"}},\"id\":\"4610\",\"type\":\"CDSView\"},{\"attributes\":{},\"id\":\"4596\",\"type\":\"PanTool\"},{\"attributes\":{\"fill_color\":{\"value\":\"#1f77b4\"},\"line_color\":{\"value\":\"#1f77b4\"},\"size\":{\"field\":\"z\",\"units\":\"screen\"},\"x\":{\"field\":\"x\"},\"y\":{\"field\":\"y\"}},\"id\":\"4607\",\"type\":\"Scatter\"},{\"attributes\":{},\"id\":\"4599\",\"type\":\"WheelZoomTool\"},{\"attributes\":{},\"id\":\"4569\",\"type\":\"LinearScale\"},{\"attributes\":{},\"id\":\"4718\",\"type\":\"BasicTickFormatter\"},{\"attributes\":{\"grid_line_color\":\"gray\",\"grid_line_dash\":[5,3],\"ticker\":{\"id\":\"4574\",\"type\":\"BasicTicker\"}},\"id\":\"4577\",\"type\":\"Grid\"}],\"root_ids\":[\"4564\"]},\"title\":\"Bokeh Application\",\"version\":\"1.3.4\"}};\n",
       "  var render_items = [{\"docid\":\"1c5935f3-d648-4db9-be5f-17b73ef65929\",\"roots\":{\"4564\":\"851e609f-5bc1-42a2-903c-3e1add12d98f\"}}];\n",
       "  root.Bokeh.embed.embed_items_notebook(docs_json, render_items);\n",
       "\n",
       "  }\n",
       "  if (root.Bokeh !== undefined) {\n",
       "    embed_document(root);\n",
       "  } else {\n",
       "    var attempts = 0;\n",
       "    var timer = setInterval(function(root) {\n",
       "      if (root.Bokeh !== undefined) {\n",
       "        embed_document(root);\n",
       "        clearInterval(timer);\n",
       "      }\n",
       "      attempts++;\n",
       "      if (attempts > 100) {\n",
       "        console.log(\"Bokeh: ERROR: Unable to run BokehJS code because BokehJS library is missing\");\n",
       "        clearInterval(timer);\n",
       "      }\n",
       "    }, 10, root)\n",
       "  }\n",
       "})(window);"
      ],
      "application/vnd.bokehjs_exec.v0+json": ""
     },
     "metadata": {
      "application/vnd.bokehjs_exec.v0+json": {
       "id": "4564"
      }
     },
     "output_type": "display_data"
    }
   ],
   "source": [
    "# Creamos el scatterplot\n",
    "f = figure(plot_width = 900, plot_height = 500)\n",
    "style_plot(f, title=  'Iris scatter plot')\n",
    "\n",
    "f.scatter(x = 'x', y = 'y', size = 'z', source = data)\n",
    "show(f)"
   ]
  },
  {
   "cell_type": "markdown",
   "metadata": {},
   "source": [
    "## Colors and Legend"
   ]
  },
  {
   "cell_type": "markdown",
   "metadata": {},
   "source": [
    "### Se crea la paleta de colores"
   ]
  },
  {
   "cell_type": "code",
   "execution_count": 60,
   "metadata": {},
   "outputs": [],
   "source": [
    "from bokeh.transform import factor_cmap, factor_mark"
   ]
  },
  {
   "cell_type": "code",
   "execution_count": 87,
   "metadata": {},
   "outputs": [],
   "source": [
    "SPECIES = data.data['species'].unique()\n",
    "color_map = factor_cmap('species', 'Dark2_3', SPECIES)"
   ]
  },
  {
   "cell_type": "code",
   "execution_count": 88,
   "metadata": {},
   "outputs": [
    {
     "data": {
      "text/html": [
       "\n",
       "\n",
       "\n",
       "\n",
       "\n",
       "\n",
       "  <div class=\"bk-root\" id=\"b5430126-a021-4714-ba83-eea12b4133ac\" data-root-id=\"8033\"></div>\n"
      ]
     },
     "metadata": {},
     "output_type": "display_data"
    },
    {
     "data": {
      "application/javascript": [
       "(function(root) {\n",
       "  function embed_document(root) {\n",
       "    \n",
       "  var docs_json = {\"5a4aa066-3024-4939-9b2b-d1cc50c4db91\":{\"roots\":{\"references\":[{\"attributes\":{\"below\":[{\"id\":\"8042\",\"type\":\"LinearAxis\"}],\"center\":[{\"id\":\"8046\",\"type\":\"Grid\"},{\"id\":\"8051\",\"type\":\"Grid\"}],\"left\":[{\"id\":\"8047\",\"type\":\"LinearAxis\"}],\"plot_height\":500,\"plot_width\":900,\"renderers\":[{\"id\":\"8078\",\"type\":\"GlyphRenderer\"}],\"title\":{\"id\":\"8070\",\"type\":\"Title\"},\"toolbar\":{\"id\":\"8058\",\"type\":\"Toolbar\"},\"x_range\":{\"id\":\"8034\",\"type\":\"DataRange1d\"},\"x_scale\":{\"id\":\"8038\",\"type\":\"LinearScale\"},\"y_range\":{\"id\":\"8036\",\"type\":\"DataRange1d\"},\"y_scale\":{\"id\":\"8040\",\"type\":\"LinearScale\"}},\"id\":\"8033\",\"subtype\":\"Figure\",\"type\":\"Plot\"},{\"attributes\":{\"align\":\"center\",\"text\":\"Iris scatter plot\",\"text_font\":\"times\",\"text_font_size\":{\"value\":\"2em\"}},\"id\":\"8070\",\"type\":\"Title\"},{\"attributes\":{\"callback\":null},\"id\":\"8067\",\"type\":\"HoverTool\"},{\"attributes\":{\"axis_label\":null,\"axis_line_width\":{\"value\":3},\"formatter\":{\"id\":\"8291\",\"type\":\"BasicTickFormatter\"},\"major_label_text_font_size\":{\"value\":\"1.2em\"},\"major_label_text_font_style\":\"bold\",\"ticker\":{\"id\":\"8043\",\"type\":\"BasicTicker\"}},\"id\":\"8042\",\"type\":\"LinearAxis\"},{\"attributes\":{},\"id\":\"8065\",\"type\":\"PanTool\"},{\"attributes\":{},\"id\":\"4722\",\"type\":\"UnionRenderers\"},{\"attributes\":{\"callback\":null,\"data\":{\"species\":[\"setosa\",\"setosa\",\"setosa\",\"setosa\",\"setosa\",\"setosa\",\"setosa\",\"setosa\",\"setosa\",\"setosa\",\"setosa\",\"setosa\",\"setosa\",\"setosa\",\"setosa\",\"setosa\",\"setosa\",\"setosa\",\"setosa\",\"setosa\",\"setosa\",\"setosa\",\"setosa\",\"setosa\",\"setosa\",\"setosa\",\"setosa\",\"setosa\",\"setosa\",\"setosa\",\"setosa\",\"setosa\",\"setosa\",\"setosa\",\"setosa\",\"setosa\",\"setosa\",\"setosa\",\"setosa\",\"setosa\",\"setosa\",\"setosa\",\"setosa\",\"setosa\",\"setosa\",\"setosa\",\"setosa\",\"setosa\",\"setosa\",\"setosa\",\"versicolor\",\"versicolor\",\"versicolor\",\"versicolor\",\"versicolor\",\"versicolor\",\"versicolor\",\"versicolor\",\"versicolor\",\"versicolor\",\"versicolor\",\"versicolor\",\"versicolor\",\"versicolor\",\"versicolor\",\"versicolor\",\"versicolor\",\"versicolor\",\"versicolor\",\"versicolor\",\"versicolor\",\"versicolor\",\"versicolor\",\"versicolor\",\"versicolor\",\"versicolor\",\"versicolor\",\"versicolor\",\"versicolor\",\"versicolor\",\"versicolor\",\"versicolor\",\"versicolor\",\"versicolor\",\"versicolor\",\"versicolor\",\"versicolor\",\"versicolor\",\"versicolor\",\"versicolor\",\"versicolor\",\"versicolor\",\"versicolor\",\"versicolor\",\"versicolor\",\"versicolor\",\"versicolor\",\"versicolor\",\"versicolor\",\"versicolor\",\"virginica\",\"virginica\",\"virginica\",\"virginica\",\"virginica\",\"virginica\",\"virginica\",\"virginica\",\"virginica\",\"virginica\",\"virginica\",\"virginica\",\"virginica\",\"virginica\",\"virginica\",\"virginica\",\"virginica\",\"virginica\",\"virginica\",\"virginica\",\"virginica\",\"virginica\",\"virginica\",\"virginica\",\"virginica\",\"virginica\",\"virginica\",\"virginica\",\"virginica\",\"virginica\",\"virginica\",\"virginica\",\"virginica\",\"virginica\",\"virginica\",\"virginica\",\"virginica\",\"virginica\",\"virginica\",\"virginica\",\"virginica\",\"virginica\",\"virginica\",\"virginica\",\"virginica\",\"virginica\",\"virginica\",\"virginica\",\"virginica\",\"virginica\"],\"x\":{\"__ndarray__\":\"ZmZmZmZm9j9mZmZmZmb2P83MzMzMzPQ/AAAAAAAA+D9mZmZmZmb2PzMzMzMzM/s/ZmZmZmZm9j8AAAAAAAD4P2ZmZmZmZvY/AAAAAAAA+D8AAAAAAAD4P5qZmZmZmfk/ZmZmZmZm9j+amZmZmZnxPzMzMzMzM/M/AAAAAAAA+D/NzMzMzMz0P2ZmZmZmZvY/MzMzMzMz+z8AAAAAAAD4PzMzMzMzM/s/AAAAAAAA+D8AAAAAAADwPzMzMzMzM/s/ZmZmZmZm/j+amZmZmZn5P5qZmZmZmfk/AAAAAAAA+D9mZmZmZmb2P5qZmZmZmfk/mpmZmZmZ+T8AAAAAAAD4PwAAAAAAAPg/ZmZmZmZm9j8AAAAAAAD4PzMzMzMzM/M/zczMzMzM9D9mZmZmZmb2P83MzMzMzPQ/AAAAAAAA+D/NzMzMzMz0P83MzMzMzPQ/zczMzMzM9D+amZmZmZn5P2ZmZmZmZv4/ZmZmZmZm9j+amZmZmZn5P2ZmZmZmZvY/AAAAAAAA+D9mZmZmZmb2P83MzMzMzBJAAAAAAAAAEkCamZmZmZkTQAAAAAAAABBAZmZmZmZmEkAAAAAAAAASQM3MzMzMzBJAZmZmZmZmCkBmZmZmZmYSQDMzMzMzMw9AAAAAAAAADEDNzMzMzMwQQAAAAAAAABBAzczMzMzMEkDNzMzMzMwMQJqZmZmZmRFAAAAAAAAAEkBmZmZmZmYQQAAAAAAAABJAMzMzMzMzD0AzMzMzMzMTQAAAAAAAABBAmpmZmZmZE0DNzMzMzMwSQDMzMzMzMxFAmpmZmZmZEUAzMzMzMzMTQAAAAAAAABRAAAAAAAAAEkAAAAAAAAAMQGZmZmZmZg5AmpmZmZmZDUAzMzMzMzMPQGZmZmZmZhRAAAAAAAAAEkAAAAAAAAASQM3MzMzMzBJAmpmZmZmZEUBmZmZmZmYQQAAAAAAAABBAmpmZmZmZEUBmZmZmZmYSQAAAAAAAABBAZmZmZmZmCkDNzMzMzMwQQM3MzMzMzBBAzczMzMzMEEAzMzMzMzMRQAAAAAAAAAhAZmZmZmZmEEAAAAAAAAAYQGZmZmZmZhRAmpmZmZmZF0BmZmZmZmYWQDMzMzMzMxdAZmZmZmZmGkAAAAAAAAASQDMzMzMzMxlAMzMzMzMzF0BmZmZmZmYYQGZmZmZmZhRAMzMzMzMzFUAAAAAAAAAWQAAAAAAAABRAZmZmZmZmFEAzMzMzMzMVQAAAAAAAABZAzczMzMzMGkCamZmZmZkbQAAAAAAAABRAzczMzMzMFkCamZmZmZkTQM3MzMzMzBpAmpmZmZmZE0DNzMzMzMwWQAAAAAAAABhAMzMzMzMzE0CamZmZmZkTQGZmZmZmZhZAMzMzMzMzF0BmZmZmZmYYQJqZmZmZmRlAZmZmZmZmFkBmZmZmZmYUQGZmZmZmZhZAZmZmZmZmGEBmZmZmZmYWQAAAAAAAABZAMzMzMzMzE0CamZmZmZkVQGZmZmZmZhZAZmZmZmZmFEBmZmZmZmYUQJqZmZmZmRdAzczMzMzMFkDNzMzMzMwUQAAAAAAAABRAzczMzMzMFECamZmZmZkVQGZmZmZmZhRA\",\"dtype\":\"float64\",\"shape\":[150]},\"y\":{\"__ndarray__\":\"mpmZmZmZyT+amZmZmZnJP5qZmZmZmck/mpmZmZmZyT+amZmZmZnJP5qZmZmZmdk/MzMzMzMz0z+amZmZmZnJP5qZmZmZmck/mpmZmZmZuT+amZmZmZnJP5qZmZmZmck/mpmZmZmZuT+amZmZmZm5P5qZmZmZmck/mpmZmZmZ2T+amZmZmZnZPzMzMzMzM9M/MzMzMzMz0z8zMzMzMzPTP5qZmZmZmck/mpmZmZmZ2T+amZmZmZnJPwAAAAAAAOA/mpmZmZmZyT+amZmZmZnJP5qZmZmZmdk/mpmZmZmZyT+amZmZmZnJP5qZmZmZmck/mpmZmZmZyT+amZmZmZnZP5qZmZmZmbk/mpmZmZmZyT+amZmZmZnJP5qZmZmZmck/mpmZmZmZyT+amZmZmZm5P5qZmZmZmck/mpmZmZmZyT8zMzMzMzPTPzMzMzMzM9M/mpmZmZmZyT8zMzMzMzPjP5qZmZmZmdk/MzMzMzMz0z+amZmZmZnJP5qZmZmZmck/mpmZmZmZyT+amZmZmZnJP2ZmZmZmZvY/AAAAAAAA+D8AAAAAAAD4P83MzMzMzPQ/AAAAAAAA+D/NzMzMzMz0P5qZmZmZmfk/AAAAAAAA8D/NzMzMzMz0P2ZmZmZmZvY/AAAAAAAA8D8AAAAAAAD4PwAAAAAAAPA/ZmZmZmZm9j/NzMzMzMz0P2ZmZmZmZvY/AAAAAAAA+D8AAAAAAADwPwAAAAAAAPg/mpmZmZmZ8T/NzMzMzMz8P83MzMzMzPQ/AAAAAAAA+D8zMzMzMzPzP83MzMzMzPQ/ZmZmZmZm9j9mZmZmZmb2PzMzMzMzM/s/AAAAAAAA+D8AAAAAAADwP5qZmZmZmfE/AAAAAAAA8D8zMzMzMzPzP5qZmZmZmfk/AAAAAAAA+D+amZmZmZn5PwAAAAAAAPg/zczMzMzM9D/NzMzMzMz0P83MzMzMzPQ/MzMzMzMz8z9mZmZmZmb2PzMzMzMzM/M/AAAAAAAA8D/NzMzMzMz0PzMzMzMzM/M/zczMzMzM9D/NzMzMzMz0P5qZmZmZmfE/zczMzMzM9D8AAAAAAAAEQGZmZmZmZv4/zczMzMzMAEDNzMzMzMz8P5qZmZmZmQFAzczMzMzMAEAzMzMzMzP7P83MzMzMzPw/zczMzMzM/D8AAAAAAAAEQAAAAAAAAABAZmZmZmZm/j/NzMzMzMwAQAAAAAAAAABAMzMzMzMzA0BmZmZmZmYCQM3MzMzMzPw/mpmZmZmZAUBmZmZmZmYCQAAAAAAAAPg/ZmZmZmZmAkAAAAAAAAAAQAAAAAAAAABAzczMzMzM/D/NzMzMzMwAQM3MzMzMzPw/zczMzMzM/D/NzMzMzMz8P83MzMzMzABAmpmZmZmZ+T9mZmZmZmb+PwAAAAAAAABAmpmZmZmZAUAAAAAAAAD4P2ZmZmZmZvY/ZmZmZmZmAkAzMzMzMzMDQM3MzMzMzPw/zczMzMzM/D/NzMzMzMwAQDMzMzMzMwNAZmZmZmZmAkBmZmZmZmb+P2ZmZmZmZgJAAAAAAAAABEBmZmZmZmYCQGZmZmZmZv4/AAAAAAAAAEBmZmZmZmYCQM3MzMzMzPw/\",\"dtype\":\"float64\",\"shape\":[150]},\"z\":{\"__ndarray__\":\"AAAAAACAKEAAAAAAAAAiQHwUrkfheiRAuR6F61E4I0DsUbgehespQOtRuB6Fay5AHoXrUbgeJ0AehetRuB4nQFK4HoXr0SBAuR6F61E4I0DiehSuR2ErQB6F61G4HidAAAAAAAAAIkAAAAAAAAAiQAAAAAAAADBAXY/C9ShcM0DrUbgehWsuQAAAAAAAgChA4XoUrkfhLEDhehSuR+EsQB6F61G4HidA4noUrkdhK0DsUbgehespQEfhehSuxyVAHoXrUbgeJ0AAAAAAAAAiQB6F61G4HidAAAAAAACAKEAehetRuB4nQHwUrkfheiRAuR6F61E4I0AehetRuB4nQI/C9ShczzBApHA9CtejMUC5HoXrUTgjQHwUrkfheiRAAAAAAACAKEDsUbgehespQAAAAAAAACJAHoXrUbgeJ0AAAAAAAIAoQChcj8L1KBVAfBSuR+F6JEAAAAAAAIAoQOF6FK5H4SxAAAAAAAAAIkDhehSuR+EsQHwUrkfheiRA4noUrkdhK0BH4XoUrsclQHwUrkfheiRAfBSuR+F6JEC5HoXrUTgjQChcj8L1KBVAW4/C9ShcH0Bbj8L1KFwfQEfhehSuxyVACtejcD0KF0BSuB6F69EgQCpcj8L1KB1AAAAAAAAAEEAAAAAAAAAiQF2PwvUoXBNAUrgehevRIEBSuB6F69EgQLkehetROCNAAAAAAAAAIkAqXI/C9SgdQF2PwvUoXBNAAAAAAAAAGUB8FK5H4XokQFuPwvUoXB9AAAAAAAAAGUBbj8L1KFwfQFK4HoXr0SBAAAAAAAAAIkBbj8L1KFwfQAAAAAAAACJAUrgehevRIEAL16NwPQobQArXo3A9ChdACtejcD0KF0AqXI/C9SgdQCpcj8L1KB1AAAAAAAAAIkAehetRuB4nQLkehetROCNAKFyPwvUoFUAAAAAAAAAiQAAAAAAAABlAC9ejcD0KG0AAAAAAAAAiQAvXo3A9ChtAKFyPwvUoFUAqXI/C9SgdQAAAAAAAACJAUrgehevRIEBSuB6F69EgQAAAAAAAABlAW4/C9ShcH0BH4XoUrsclQCpcj8L1KB1AAAAAAAAAIkBSuB6F69EgQAAAAAAAACJAAAAAAAAAIkAAAAAAAAAZQFK4HoXr0SBAAAAAAAAAGUDsUbgehespQHwUrkfheiRAKlyPwvUoHUAAAAAAAAAiQAAAAAAAABlAW4/C9ShcH0B8FK5H4XokQAAAAAAAACJA4XoUrkfhLEAL16NwPQobQF2PwvUoXBNAfBSuR+F6JEBbj8L1KFwfQFuPwvUoXB9AKlyPwvUoHUBH4XoUrsclQHwUrkfheiRAW4/C9ShcH0AAAAAAAAAiQFuPwvUoXB9AAAAAAAAAIkBbj8L1KFwfQOF6FK5H4SxAW4/C9ShcH0Bbj8L1KFwfQAvXo3A9ChtAAAAAAAAAIkAehetRuB4nQLkehetROCNAAAAAAAAAIkC5HoXrUTgjQLkehetROCNAuR6F61E4I0AqXI/C9SgdQHwUrkfheiRAR+F6FK7HJUAAAAAAAAAiQAAAAAAAABlAAAAAAAAAIkAehetRuB4nQAAAAAAAACJA\",\"dtype\":\"float64\",\"shape\":[150]}},\"selected\":{\"id\":\"4721\",\"type\":\"Selection\"},\"selection_policy\":{\"id\":\"4722\",\"type\":\"UnionRenderers\"}},\"id\":\"4563\",\"type\":\"ColumnDataSource\"},{\"attributes\":{},\"id\":\"4721\",\"type\":\"Selection\"},{\"attributes\":{\"grid_line_color\":\"gray\",\"grid_line_dash\":[5,3],\"ticker\":{\"id\":\"8043\",\"type\":\"BasicTicker\"}},\"id\":\"8046\",\"type\":\"Grid\"},{\"attributes\":{\"callback\":null},\"id\":\"8034\",\"type\":\"DataRange1d\"},{\"attributes\":{},\"id\":\"8048\",\"type\":\"BasicTicker\"},{\"attributes\":{\"active_drag\":\"auto\",\"active_inspect\":\"auto\",\"active_multi\":null,\"active_scroll\":\"auto\",\"active_tap\":\"auto\",\"tools\":[{\"id\":\"8065\",\"type\":\"PanTool\"},{\"id\":\"8066\",\"type\":\"ResetTool\"},{\"id\":\"8067\",\"type\":\"HoverTool\"},{\"id\":\"8068\",\"type\":\"WheelZoomTool\"}]},\"id\":\"8058\",\"type\":\"Toolbar\"},{\"attributes\":{\"factors\":[\"setosa\",\"versicolor\",\"virginica\"],\"palette\":[\"#1b9e77\",\"#d95f02\",\"#7570b3\"]},\"id\":\"8032\",\"type\":\"CategoricalColorMapper\"},{\"attributes\":{\"axis_label\":null,\"axis_line_width\":{\"value\":3},\"formatter\":{\"id\":\"8293\",\"type\":\"BasicTickFormatter\"},\"major_label_text_font_size\":{\"value\":\"1.2em\"},\"major_label_text_font_style\":\"bold\",\"ticker\":{\"id\":\"8048\",\"type\":\"BasicTicker\"}},\"id\":\"8047\",\"type\":\"LinearAxis\"},{\"attributes\":{\"fill_alpha\":{\"value\":0.1},\"fill_color\":{\"value\":\"#1f77b4\"},\"line_alpha\":{\"value\":0.1},\"line_color\":{\"value\":\"#1f77b4\"},\"size\":{\"field\":\"z\",\"units\":\"screen\"},\"x\":{\"field\":\"x\"},\"y\":{\"field\":\"y\"}},\"id\":\"8077\",\"type\":\"Scatter\"},{\"attributes\":{},\"id\":\"8040\",\"type\":\"LinearScale\"},{\"attributes\":{},\"id\":\"8038\",\"type\":\"LinearScale\"},{\"attributes\":{},\"id\":\"8043\",\"type\":\"BasicTicker\"},{\"attributes\":{\"dimension\":1,\"grid_line_color\":\"gray\",\"grid_line_dash\":[5,3],\"ticker\":{\"id\":\"8048\",\"type\":\"BasicTicker\"}},\"id\":\"8051\",\"type\":\"Grid\"},{\"attributes\":{},\"id\":\"8068\",\"type\":\"WheelZoomTool\"},{\"attributes\":{\"fill_alpha\":{\"value\":0.9},\"fill_color\":{\"field\":\"species\",\"transform\":{\"id\":\"8032\",\"type\":\"CategoricalColorMapper\"}},\"line_alpha\":{\"value\":0.9},\"size\":{\"field\":\"z\",\"units\":\"screen\"},\"x\":{\"field\":\"x\"},\"y\":{\"field\":\"y\"}},\"id\":\"8076\",\"type\":\"Scatter\"},{\"attributes\":{},\"id\":\"8293\",\"type\":\"BasicTickFormatter\"},{\"attributes\":{},\"id\":\"8066\",\"type\":\"ResetTool\"},{\"attributes\":{},\"id\":\"8291\",\"type\":\"BasicTickFormatter\"},{\"attributes\":{\"callback\":null},\"id\":\"8036\",\"type\":\"DataRange1d\"},{\"attributes\":{\"data_source\":{\"id\":\"4563\",\"type\":\"ColumnDataSource\"},\"glyph\":{\"id\":\"8076\",\"type\":\"Scatter\"},\"hover_glyph\":null,\"muted_glyph\":null,\"nonselection_glyph\":{\"id\":\"8077\",\"type\":\"Scatter\"},\"selection_glyph\":null,\"view\":{\"id\":\"8079\",\"type\":\"CDSView\"}},\"id\":\"8078\",\"type\":\"GlyphRenderer\"},{\"attributes\":{\"source\":{\"id\":\"4563\",\"type\":\"ColumnDataSource\"}},\"id\":\"8079\",\"type\":\"CDSView\"}],\"root_ids\":[\"8033\"]},\"title\":\"Bokeh Application\",\"version\":\"1.3.4\"}};\n",
       "  var render_items = [{\"docid\":\"5a4aa066-3024-4939-9b2b-d1cc50c4db91\",\"roots\":{\"8033\":\"b5430126-a021-4714-ba83-eea12b4133ac\"}}];\n",
       "  root.Bokeh.embed.embed_items_notebook(docs_json, render_items);\n",
       "\n",
       "  }\n",
       "  if (root.Bokeh !== undefined) {\n",
       "    embed_document(root);\n",
       "  } else {\n",
       "    var attempts = 0;\n",
       "    var timer = setInterval(function(root) {\n",
       "      if (root.Bokeh !== undefined) {\n",
       "        embed_document(root);\n",
       "        clearInterval(timer);\n",
       "      }\n",
       "      attempts++;\n",
       "      if (attempts > 100) {\n",
       "        console.log(\"Bokeh: ERROR: Unable to run BokehJS code because BokehJS library is missing\");\n",
       "        clearInterval(timer);\n",
       "      }\n",
       "    }, 10, root)\n",
       "  }\n",
       "})(window);"
      ],
      "application/vnd.bokehjs_exec.v0+json": ""
     },
     "metadata": {
      "application/vnd.bokehjs_exec.v0+json": {
       "id": "8033"
      }
     },
     "output_type": "display_data"
    }
   ],
   "source": [
    "# Creamos el scatterplot\n",
    "f = figure(plot_width = 900, plot_height = 500)\n",
    "style_plot(f, title=  'Iris scatter plot')\n",
    "# Creamos el plot\n",
    "f.scatter(x = 'x', y = 'y', size = 'z', source = data,\n",
    "         line_color = 'black', alpha = 0.9,\n",
    "          # Definimos los colores\n",
    "         color = color_map)\n",
    "show(f)"
   ]
  },
  {
   "cell_type": "markdown",
   "metadata": {},
   "source": [
    "### Legend y diferentes markers"
   ]
  },
  {
   "cell_type": "code",
   "execution_count": 96,
   "metadata": {},
   "outputs": [],
   "source": [
    "MARKERS = ['hex', 'circle', 'square']\n",
    "# Se Define el tipo d emarcker para cada especie\n",
    "markers_map = factor_mark('species', MARKERS, SPECIES) "
   ]
  },
  {
   "cell_type": "code",
   "execution_count": 113,
   "metadata": {},
   "outputs": [
    {
     "data": {
      "text/html": [
       "\n",
       "\n",
       "\n",
       "\n",
       "\n",
       "\n",
       "  <div class=\"bk-root\" id=\"066a5876-1332-47f2-b686-1ac8734ad099\" data-root-id=\"12124\"></div>\n"
      ]
     },
     "metadata": {},
     "output_type": "display_data"
    },
    {
     "data": {
      "application/javascript": [
       "(function(root) {\n",
       "  function embed_document(root) {\n",
       "    \n",
       "  var docs_json = {\"913a25d0-4ef0-48e3-a020-a4fd10ea2031\":{\"roots\":{\"references\":[{\"attributes\":{\"below\":[{\"id\":\"12133\",\"type\":\"LinearAxis\"}],\"center\":[{\"id\":\"12137\",\"type\":\"Grid\"},{\"id\":\"12142\",\"type\":\"Grid\"},{\"id\":\"12177\",\"type\":\"Legend\"}],\"left\":[{\"id\":\"12138\",\"type\":\"LinearAxis\"}],\"plot_height\":500,\"plot_width\":900,\"renderers\":[{\"id\":\"12169\",\"type\":\"GlyphRenderer\"}],\"title\":{\"id\":\"12161\",\"type\":\"Title\"},\"toolbar\":{\"id\":\"12149\",\"type\":\"Toolbar\"},\"x_range\":{\"id\":\"12125\",\"type\":\"DataRange1d\"},\"x_scale\":{\"id\":\"12129\",\"type\":\"LinearScale\"},\"y_range\":{\"id\":\"12127\",\"type\":\"DataRange1d\"},\"y_scale\":{\"id\":\"12131\",\"type\":\"LinearScale\"}},\"id\":\"12124\",\"subtype\":\"Figure\",\"type\":\"Plot\"},{\"attributes\":{\"grid_line_color\":\"gray\",\"grid_line_dash\":[5,3],\"ticker\":{\"id\":\"12134\",\"type\":\"BasicTicker\"}},\"id\":\"12137\",\"type\":\"Grid\"},{\"attributes\":{\"align\":\"center\",\"text\":\"Iris scatter plot\",\"text_font\":\"times\",\"text_font_size\":{\"value\":\"2em\"}},\"id\":\"12161\",\"type\":\"Title\"},{\"attributes\":{\"callback\":null},\"id\":\"12125\",\"type\":\"DataRange1d\"},{\"attributes\":{},\"id\":\"12174\",\"type\":\"BasicTickFormatter\"},{\"attributes\":{},\"id\":\"10020\",\"type\":\"UnionRenderers\"},{\"attributes\":{\"fill_alpha\":{\"value\":0.1},\"fill_color\":{\"value\":\"#1f77b4\"},\"line_alpha\":{\"value\":0.1},\"line_color\":{\"value\":\"#1f77b4\"},\"marker\":{\"field\":\"species\",\"transform\":{\"id\":\"9037\",\"type\":\"CategoricalMarkerMapper\"}},\"size\":{\"field\":\"z\",\"units\":\"screen\"},\"x\":{\"field\":\"x\"},\"y\":{\"field\":\"y\"}},\"id\":\"12168\",\"type\":\"Scatter\"},{\"attributes\":{\"callback\":null,\"data\":{\"species\":[\"setosa\",\"setosa\",\"setosa\",\"setosa\",\"setosa\",\"setosa\",\"setosa\",\"setosa\",\"setosa\",\"setosa\",\"setosa\",\"setosa\",\"setosa\",\"setosa\",\"setosa\",\"setosa\",\"setosa\",\"setosa\",\"setosa\",\"setosa\",\"setosa\",\"setosa\",\"setosa\",\"setosa\",\"setosa\",\"setosa\",\"setosa\",\"setosa\",\"setosa\",\"setosa\",\"setosa\",\"setosa\",\"setosa\",\"setosa\",\"setosa\",\"setosa\",\"setosa\",\"setosa\",\"setosa\",\"setosa\",\"setosa\",\"setosa\",\"setosa\",\"setosa\",\"setosa\",\"setosa\",\"setosa\",\"setosa\",\"setosa\",\"setosa\",\"versicolor\",\"versicolor\",\"versicolor\",\"versicolor\",\"versicolor\",\"versicolor\",\"versicolor\",\"versicolor\",\"versicolor\",\"versicolor\",\"versicolor\",\"versicolor\",\"versicolor\",\"versicolor\",\"versicolor\",\"versicolor\",\"versicolor\",\"versicolor\",\"versicolor\",\"versicolor\",\"versicolor\",\"versicolor\",\"versicolor\",\"versicolor\",\"versicolor\",\"versicolor\",\"versicolor\",\"versicolor\",\"versicolor\",\"versicolor\",\"versicolor\",\"versicolor\",\"versicolor\",\"versicolor\",\"versicolor\",\"versicolor\",\"versicolor\",\"versicolor\",\"versicolor\",\"versicolor\",\"versicolor\",\"versicolor\",\"versicolor\",\"versicolor\",\"versicolor\",\"versicolor\",\"versicolor\",\"versicolor\",\"versicolor\",\"versicolor\",\"virginica\",\"virginica\",\"virginica\",\"virginica\",\"virginica\",\"virginica\",\"virginica\",\"virginica\",\"virginica\",\"virginica\",\"virginica\",\"virginica\",\"virginica\",\"virginica\",\"virginica\",\"virginica\",\"virginica\",\"virginica\",\"virginica\",\"virginica\",\"virginica\",\"virginica\",\"virginica\",\"virginica\",\"virginica\",\"virginica\",\"virginica\",\"virginica\",\"virginica\",\"virginica\",\"virginica\",\"virginica\",\"virginica\",\"virginica\",\"virginica\",\"virginica\",\"virginica\",\"virginica\",\"virginica\",\"virginica\",\"virginica\",\"virginica\",\"virginica\",\"virginica\",\"virginica\",\"virginica\",\"virginica\",\"virginica\",\"virginica\",\"virginica\"],\"x\":{\"__ndarray__\":\"ZmZmZmZm9j9mZmZmZmb2P83MzMzMzPQ/AAAAAAAA+D9mZmZmZmb2PzMzMzMzM/s/ZmZmZmZm9j8AAAAAAAD4P2ZmZmZmZvY/AAAAAAAA+D8AAAAAAAD4P5qZmZmZmfk/ZmZmZmZm9j+amZmZmZnxPzMzMzMzM/M/AAAAAAAA+D/NzMzMzMz0P2ZmZmZmZvY/MzMzMzMz+z8AAAAAAAD4PzMzMzMzM/s/AAAAAAAA+D8AAAAAAADwPzMzMzMzM/s/ZmZmZmZm/j+amZmZmZn5P5qZmZmZmfk/AAAAAAAA+D9mZmZmZmb2P5qZmZmZmfk/mpmZmZmZ+T8AAAAAAAD4PwAAAAAAAPg/ZmZmZmZm9j8AAAAAAAD4PzMzMzMzM/M/zczMzMzM9D9mZmZmZmb2P83MzMzMzPQ/AAAAAAAA+D/NzMzMzMz0P83MzMzMzPQ/zczMzMzM9D+amZmZmZn5P2ZmZmZmZv4/ZmZmZmZm9j+amZmZmZn5P2ZmZmZmZvY/AAAAAAAA+D9mZmZmZmb2P83MzMzMzBJAAAAAAAAAEkCamZmZmZkTQAAAAAAAABBAZmZmZmZmEkAAAAAAAAASQM3MzMzMzBJAZmZmZmZmCkBmZmZmZmYSQDMzMzMzMw9AAAAAAAAADEDNzMzMzMwQQAAAAAAAABBAzczMzMzMEkDNzMzMzMwMQJqZmZmZmRFAAAAAAAAAEkBmZmZmZmYQQAAAAAAAABJAMzMzMzMzD0AzMzMzMzMTQAAAAAAAABBAmpmZmZmZE0DNzMzMzMwSQDMzMzMzMxFAmpmZmZmZEUAzMzMzMzMTQAAAAAAAABRAAAAAAAAAEkAAAAAAAAAMQGZmZmZmZg5AmpmZmZmZDUAzMzMzMzMPQGZmZmZmZhRAAAAAAAAAEkAAAAAAAAASQM3MzMzMzBJAmpmZmZmZEUBmZmZmZmYQQAAAAAAAABBAmpmZmZmZEUBmZmZmZmYSQAAAAAAAABBAZmZmZmZmCkDNzMzMzMwQQM3MzMzMzBBAzczMzMzMEEAzMzMzMzMRQAAAAAAAAAhAZmZmZmZmEEAAAAAAAAAYQGZmZmZmZhRAmpmZmZmZF0BmZmZmZmYWQDMzMzMzMxdAZmZmZmZmGkAAAAAAAAASQDMzMzMzMxlAMzMzMzMzF0BmZmZmZmYYQGZmZmZmZhRAMzMzMzMzFUAAAAAAAAAWQAAAAAAAABRAZmZmZmZmFEAzMzMzMzMVQAAAAAAAABZAzczMzMzMGkCamZmZmZkbQAAAAAAAABRAzczMzMzMFkCamZmZmZkTQM3MzMzMzBpAmpmZmZmZE0DNzMzMzMwWQAAAAAAAABhAMzMzMzMzE0CamZmZmZkTQGZmZmZmZhZAMzMzMzMzF0BmZmZmZmYYQJqZmZmZmRlAZmZmZmZmFkBmZmZmZmYUQGZmZmZmZhZAZmZmZmZmGEBmZmZmZmYWQAAAAAAAABZAMzMzMzMzE0CamZmZmZkVQGZmZmZmZhZAZmZmZmZmFEBmZmZmZmYUQJqZmZmZmRdAzczMzMzMFkDNzMzMzMwUQAAAAAAAABRAzczMzMzMFECamZmZmZkVQGZmZmZmZhRA\",\"dtype\":\"float64\",\"shape\":[150]},\"y\":{\"__ndarray__\":\"mpmZmZmZyT+amZmZmZnJP5qZmZmZmck/mpmZmZmZyT+amZmZmZnJP5qZmZmZmdk/MzMzMzMz0z+amZmZmZnJP5qZmZmZmck/mpmZmZmZuT+amZmZmZnJP5qZmZmZmck/mpmZmZmZuT+amZmZmZm5P5qZmZmZmck/mpmZmZmZ2T+amZmZmZnZPzMzMzMzM9M/MzMzMzMz0z8zMzMzMzPTP5qZmZmZmck/mpmZmZmZ2T+amZmZmZnJPwAAAAAAAOA/mpmZmZmZyT+amZmZmZnJP5qZmZmZmdk/mpmZmZmZyT+amZmZmZnJP5qZmZmZmck/mpmZmZmZyT+amZmZmZnZP5qZmZmZmbk/mpmZmZmZyT+amZmZmZnJP5qZmZmZmck/mpmZmZmZyT+amZmZmZm5P5qZmZmZmck/mpmZmZmZyT8zMzMzMzPTPzMzMzMzM9M/mpmZmZmZyT8zMzMzMzPjP5qZmZmZmdk/MzMzMzMz0z+amZmZmZnJP5qZmZmZmck/mpmZmZmZyT+amZmZmZnJP2ZmZmZmZvY/AAAAAAAA+D8AAAAAAAD4P83MzMzMzPQ/AAAAAAAA+D/NzMzMzMz0P5qZmZmZmfk/AAAAAAAA8D/NzMzMzMz0P2ZmZmZmZvY/AAAAAAAA8D8AAAAAAAD4PwAAAAAAAPA/ZmZmZmZm9j/NzMzMzMz0P2ZmZmZmZvY/AAAAAAAA+D8AAAAAAADwPwAAAAAAAPg/mpmZmZmZ8T/NzMzMzMz8P83MzMzMzPQ/AAAAAAAA+D8zMzMzMzPzP83MzMzMzPQ/ZmZmZmZm9j9mZmZmZmb2PzMzMzMzM/s/AAAAAAAA+D8AAAAAAADwP5qZmZmZmfE/AAAAAAAA8D8zMzMzMzPzP5qZmZmZmfk/AAAAAAAA+D+amZmZmZn5PwAAAAAAAPg/zczMzMzM9D/NzMzMzMz0P83MzMzMzPQ/MzMzMzMz8z9mZmZmZmb2PzMzMzMzM/M/AAAAAAAA8D/NzMzMzMz0PzMzMzMzM/M/zczMzMzM9D/NzMzMzMz0P5qZmZmZmfE/zczMzMzM9D8AAAAAAAAEQGZmZmZmZv4/zczMzMzMAEDNzMzMzMz8P5qZmZmZmQFAzczMzMzMAEAzMzMzMzP7P83MzMzMzPw/zczMzMzM/D8AAAAAAAAEQAAAAAAAAABAZmZmZmZm/j/NzMzMzMwAQAAAAAAAAABAMzMzMzMzA0BmZmZmZmYCQM3MzMzMzPw/mpmZmZmZAUBmZmZmZmYCQAAAAAAAAPg/ZmZmZmZmAkAAAAAAAAAAQAAAAAAAAABAzczMzMzM/D/NzMzMzMwAQM3MzMzMzPw/zczMzMzM/D/NzMzMzMz8P83MzMzMzABAmpmZmZmZ+T9mZmZmZmb+PwAAAAAAAABAmpmZmZmZAUAAAAAAAAD4P2ZmZmZmZvY/ZmZmZmZmAkAzMzMzMzMDQM3MzMzMzPw/zczMzMzM/D/NzMzMzMwAQDMzMzMzMwNAZmZmZmZmAkBmZmZmZmb+P2ZmZmZmZgJAAAAAAAAABEBmZmZmZmYCQGZmZmZmZv4/AAAAAAAAAEBmZmZmZmYCQM3MzMzMzPw/\",\"dtype\":\"float64\",\"shape\":[150]},\"z\":{\"__ndarray__\":\"AAAAAACAKEAAAAAAAAAiQHwUrkfheiRAuR6F61E4I0DsUbgehespQOtRuB6Fay5AHoXrUbgeJ0AehetRuB4nQFK4HoXr0SBAuR6F61E4I0DiehSuR2ErQB6F61G4HidAAAAAAAAAIkAAAAAAAAAiQAAAAAAAADBAXY/C9ShcM0DrUbgehWsuQAAAAAAAgChA4XoUrkfhLEDhehSuR+EsQB6F61G4HidA4noUrkdhK0DsUbgehespQEfhehSuxyVAHoXrUbgeJ0AAAAAAAAAiQB6F61G4HidAAAAAAACAKEAehetRuB4nQHwUrkfheiRAuR6F61E4I0AehetRuB4nQI/C9ShczzBApHA9CtejMUC5HoXrUTgjQHwUrkfheiRAAAAAAACAKEDsUbgehespQAAAAAAAACJAHoXrUbgeJ0AAAAAAAIAoQChcj8L1KBVAfBSuR+F6JEAAAAAAAIAoQOF6FK5H4SxAAAAAAAAAIkDhehSuR+EsQHwUrkfheiRA4noUrkdhK0BH4XoUrsclQHwUrkfheiRAfBSuR+F6JEC5HoXrUTgjQChcj8L1KBVAW4/C9ShcH0Bbj8L1KFwfQEfhehSuxyVACtejcD0KF0BSuB6F69EgQCpcj8L1KB1AAAAAAAAAEEAAAAAAAAAiQF2PwvUoXBNAUrgehevRIEBSuB6F69EgQLkehetROCNAAAAAAAAAIkAqXI/C9SgdQF2PwvUoXBNAAAAAAAAAGUB8FK5H4XokQFuPwvUoXB9AAAAAAAAAGUBbj8L1KFwfQFK4HoXr0SBAAAAAAAAAIkBbj8L1KFwfQAAAAAAAACJAUrgehevRIEAL16NwPQobQArXo3A9ChdACtejcD0KF0AqXI/C9SgdQCpcj8L1KB1AAAAAAAAAIkAehetRuB4nQLkehetROCNAKFyPwvUoFUAAAAAAAAAiQAAAAAAAABlAC9ejcD0KG0AAAAAAAAAiQAvXo3A9ChtAKFyPwvUoFUAqXI/C9SgdQAAAAAAAACJAUrgehevRIEBSuB6F69EgQAAAAAAAABlAW4/C9ShcH0BH4XoUrsclQCpcj8L1KB1AAAAAAAAAIkBSuB6F69EgQAAAAAAAACJAAAAAAAAAIkAAAAAAAAAZQFK4HoXr0SBAAAAAAAAAGUDsUbgehespQHwUrkfheiRAKlyPwvUoHUAAAAAAAAAiQAAAAAAAABlAW4/C9ShcH0B8FK5H4XokQAAAAAAAACJA4XoUrkfhLEAL16NwPQobQF2PwvUoXBNAfBSuR+F6JEBbj8L1KFwfQFuPwvUoXB9AKlyPwvUoHUBH4XoUrsclQHwUrkfheiRAW4/C9ShcH0AAAAAAAAAiQFuPwvUoXB9AAAAAAAAAIkBbj8L1KFwfQOF6FK5H4SxAW4/C9ShcH0Bbj8L1KFwfQAvXo3A9ChtAAAAAAAAAIkAehetRuB4nQLkehetROCNAAAAAAAAAIkC5HoXrUTgjQLkehetROCNAuR6F61E4I0AqXI/C9SgdQHwUrkfheiRAR+F6FK7HJUAAAAAAAAAiQAAAAAAAABlAAAAAAAAAIkAehetRuB4nQAAAAAAAACJA\",\"dtype\":\"float64\",\"shape\":[150]}},\"selected\":{\"id\":\"10019\",\"type\":\"Selection\"},\"selection_policy\":{\"id\":\"10020\",\"type\":\"UnionRenderers\"}},\"id\":\"9717\",\"type\":\"ColumnDataSource\"},{\"attributes\":{\"items\":[{\"id\":\"12178\",\"type\":\"LegendItem\"}],\"location\":\"top_left\"},\"id\":\"12177\",\"type\":\"Legend\"},{\"attributes\":{},\"id\":\"12176\",\"type\":\"BasicTickFormatter\"},{\"attributes\":{},\"id\":\"12129\",\"type\":\"LinearScale\"},{\"attributes\":{\"axis_label\":null,\"axis_line_width\":{\"value\":3},\"formatter\":{\"id\":\"12176\",\"type\":\"BasicTickFormatter\"},\"major_label_text_font_size\":{\"value\":\"1.2em\"},\"major_label_text_font_style\":\"bold\",\"ticker\":{\"id\":\"12139\",\"type\":\"BasicTicker\"}},\"id\":\"12138\",\"type\":\"LinearAxis\"},{\"attributes\":{\"factors\":[\"setosa\",\"versicolor\",\"virginica\"],\"palette\":[\"#1b9e77\",\"#d95f02\",\"#7570b3\"]},\"id\":\"8032\",\"type\":\"CategoricalColorMapper\"},{\"attributes\":{\"active_drag\":\"auto\",\"active_inspect\":\"auto\",\"active_multi\":null,\"active_scroll\":\"auto\",\"active_tap\":\"auto\",\"tools\":[{\"id\":\"12156\",\"type\":\"PanTool\"},{\"id\":\"12157\",\"type\":\"ResetTool\"},{\"id\":\"12158\",\"type\":\"HoverTool\"},{\"id\":\"12159\",\"type\":\"WheelZoomTool\"}]},\"id\":\"12149\",\"type\":\"Toolbar\"},{\"attributes\":{\"callback\":null},\"id\":\"12127\",\"type\":\"DataRange1d\"},{\"attributes\":{},\"id\":\"12131\",\"type\":\"LinearScale\"},{\"attributes\":{\"factors\":[\"setosa\",\"versicolor\",\"virginica\"],\"markers\":[\"hex\",\"circle\",\"square\"]},\"id\":\"9037\",\"type\":\"CategoricalMarkerMapper\"},{\"attributes\":{\"callback\":null},\"id\":\"12158\",\"type\":\"HoverTool\"},{\"attributes\":{\"axis_label\":null,\"axis_line_width\":{\"value\":3},\"formatter\":{\"id\":\"12174\",\"type\":\"BasicTickFormatter\"},\"major_label_text_font_size\":{\"value\":\"1.2em\"},\"major_label_text_font_style\":\"bold\",\"ticker\":{\"id\":\"12134\",\"type\":\"BasicTicker\"}},\"id\":\"12133\",\"type\":\"LinearAxis\"},{\"attributes\":{\"data_source\":{\"id\":\"9717\",\"type\":\"ColumnDataSource\"},\"glyph\":{\"id\":\"12167\",\"type\":\"Scatter\"},\"hover_glyph\":null,\"muted_glyph\":null,\"nonselection_glyph\":{\"id\":\"12168\",\"type\":\"Scatter\"},\"selection_glyph\":null,\"view\":{\"id\":\"12170\",\"type\":\"CDSView\"}},\"id\":\"12169\",\"type\":\"GlyphRenderer\"},{\"attributes\":{\"dimension\":1,\"grid_line_color\":\"gray\",\"grid_line_dash\":[5,3],\"ticker\":{\"id\":\"12139\",\"type\":\"BasicTicker\"}},\"id\":\"12142\",\"type\":\"Grid\"},{\"attributes\":{},\"id\":\"12156\",\"type\":\"PanTool\"},{\"attributes\":{\"source\":{\"id\":\"9717\",\"type\":\"ColumnDataSource\"}},\"id\":\"12170\",\"type\":\"CDSView\"},{\"attributes\":{\"label\":{\"field\":\"species\"},\"renderers\":[{\"id\":\"12169\",\"type\":\"GlyphRenderer\"}]},\"id\":\"12178\",\"type\":\"LegendItem\"},{\"attributes\":{},\"id\":\"12157\",\"type\":\"ResetTool\"},{\"attributes\":{},\"id\":\"12159\",\"type\":\"WheelZoomTool\"},{\"attributes\":{},\"id\":\"12139\",\"type\":\"BasicTicker\"},{\"attributes\":{\"fill_color\":{\"field\":\"species\",\"transform\":{\"id\":\"8032\",\"type\":\"CategoricalColorMapper\"}},\"marker\":{\"field\":\"species\",\"transform\":{\"id\":\"9037\",\"type\":\"CategoricalMarkerMapper\"}},\"size\":{\"field\":\"z\",\"units\":\"screen\"},\"x\":{\"field\":\"x\"},\"y\":{\"field\":\"y\"}},\"id\":\"12167\",\"type\":\"Scatter\"},{\"attributes\":{},\"id\":\"10019\",\"type\":\"Selection\"},{\"attributes\":{},\"id\":\"12134\",\"type\":\"BasicTicker\"}],\"root_ids\":[\"12124\"]},\"title\":\"Bokeh Application\",\"version\":\"1.3.4\"}};\n",
       "  var render_items = [{\"docid\":\"913a25d0-4ef0-48e3-a020-a4fd10ea2031\",\"roots\":{\"12124\":\"066a5876-1332-47f2-b686-1ac8734ad099\"}}];\n",
       "  root.Bokeh.embed.embed_items_notebook(docs_json, render_items);\n",
       "\n",
       "  }\n",
       "  if (root.Bokeh !== undefined) {\n",
       "    embed_document(root);\n",
       "  } else {\n",
       "    var attempts = 0;\n",
       "    var timer = setInterval(function(root) {\n",
       "      if (root.Bokeh !== undefined) {\n",
       "        embed_document(root);\n",
       "        clearInterval(timer);\n",
       "      }\n",
       "      attempts++;\n",
       "      if (attempts > 100) {\n",
       "        console.log(\"Bokeh: ERROR: Unable to run BokehJS code because BokehJS library is missing\");\n",
       "        clearInterval(timer);\n",
       "      }\n",
       "    }, 10, root)\n",
       "  }\n",
       "})(window);"
      ],
      "application/vnd.bokehjs_exec.v0+json": ""
     },
     "metadata": {
      "application/vnd.bokehjs_exec.v0+json": {
       "id": "12124"
      }
     },
     "output_type": "display_data"
    }
   ],
   "source": [
    "# Creamos el scatterplot\n",
    "f = figure(plot_width = 900, plot_height = 500)\n",
    "style_plot(f, title=  'Iris scatter plot')\n",
    "# Creamos el plot\n",
    "f.scatter(x = 'x', y = 'y', size = 'z', source = data,\n",
    "         line_color = 'black', alpha = 1,\n",
    "          # Definimos los colores\n",
    "         color = color_map,\n",
    "         # Definimos lso marcadores\n",
    "         marker = markers_map,\n",
    "         # Definimos la legenda\n",
    "         legend = 'species'\n",
    "         )\n",
    "# Posición del legend\n",
    "f.legend.location = 'top_left'\n",
    "show(f)"
   ]
  },
  {
   "cell_type": "markdown",
   "metadata": {},
   "source": [
    "## HoverTool"
   ]
  },
  {
   "cell_type": "code",
   "execution_count": 114,
   "metadata": {},
   "outputs": [],
   "source": [
    "# definimos la información que aparecerá al hacer hover\n",
    "TOOLTIPS = [\n",
    "    ('Specie', '@species')\n",
    "]\n",
    "hover = HoverTool(tooltips = TOOLTIPS)"
   ]
  },
  {
   "cell_type": "code",
   "execution_count": 118,
   "metadata": {},
   "outputs": [
    {
     "data": {
      "text/html": [
       "\n",
       "\n",
       "\n",
       "\n",
       "\n",
       "\n",
       "  <div class=\"bk-root\" id=\"8bc837c3-4498-458f-aff5-9c2ed6f11b3e\" data-root-id=\"13363\"></div>\n"
      ]
     },
     "metadata": {},
     "output_type": "display_data"
    },
    {
     "data": {
      "application/javascript": [
       "(function(root) {\n",
       "  function embed_document(root) {\n",
       "    \n",
       "  var docs_json = {\"3dba2e5d-c7b5-4a78-a667-a1630240009d\":{\"roots\":{\"references\":[{\"attributes\":{\"below\":[{\"id\":\"13372\",\"type\":\"LinearAxis\"}],\"center\":[{\"id\":\"13376\",\"type\":\"Grid\"},{\"id\":\"13381\",\"type\":\"Grid\"},{\"id\":\"13415\",\"type\":\"Legend\"}],\"left\":[{\"id\":\"13377\",\"type\":\"LinearAxis\"}],\"plot_height\":500,\"plot_width\":900,\"renderers\":[{\"id\":\"13407\",\"type\":\"GlyphRenderer\"}],\"title\":{\"id\":\"13399\",\"type\":\"Title\"},\"toolbar\":{\"id\":\"13388\",\"type\":\"Toolbar\"},\"x_range\":{\"id\":\"13364\",\"type\":\"DataRange1d\"},\"x_scale\":{\"id\":\"13368\",\"type\":\"LinearScale\"},\"y_range\":{\"id\":\"13366\",\"type\":\"DataRange1d\"},\"y_scale\":{\"id\":\"13370\",\"type\":\"LinearScale\"}},\"id\":\"13363\",\"subtype\":\"Figure\",\"type\":\"Plot\"},{\"attributes\":{\"fill_alpha\":{\"value\":0.1},\"fill_color\":{\"value\":\"#1f77b4\"},\"line_alpha\":{\"value\":0.1},\"line_color\":{\"value\":\"#1f77b4\"},\"marker\":{\"field\":\"species\",\"transform\":{\"id\":\"9037\",\"type\":\"CategoricalMarkerMapper\"}},\"size\":{\"field\":\"z\",\"units\":\"screen\"},\"x\":{\"field\":\"x\"},\"y\":{\"field\":\"y\"}},\"id\":\"13406\",\"type\":\"Scatter\"},{\"attributes\":{},\"id\":\"13395\",\"type\":\"PanTool\"},{\"attributes\":{\"align\":\"center\",\"text\":\"Iris scatter plot\",\"text_font\":\"times\",\"text_font_size\":{\"value\":\"2em\"}},\"id\":\"13399\",\"type\":\"Title\"},{\"attributes\":{},\"id\":\"10020\",\"type\":\"UnionRenderers\"},{\"attributes\":{\"callback\":null,\"data\":{\"species\":[\"setosa\",\"setosa\",\"setosa\",\"setosa\",\"setosa\",\"setosa\",\"setosa\",\"setosa\",\"setosa\",\"setosa\",\"setosa\",\"setosa\",\"setosa\",\"setosa\",\"setosa\",\"setosa\",\"setosa\",\"setosa\",\"setosa\",\"setosa\",\"setosa\",\"setosa\",\"setosa\",\"setosa\",\"setosa\",\"setosa\",\"setosa\",\"setosa\",\"setosa\",\"setosa\",\"setosa\",\"setosa\",\"setosa\",\"setosa\",\"setosa\",\"setosa\",\"setosa\",\"setosa\",\"setosa\",\"setosa\",\"setosa\",\"setosa\",\"setosa\",\"setosa\",\"setosa\",\"setosa\",\"setosa\",\"setosa\",\"setosa\",\"setosa\",\"versicolor\",\"versicolor\",\"versicolor\",\"versicolor\",\"versicolor\",\"versicolor\",\"versicolor\",\"versicolor\",\"versicolor\",\"versicolor\",\"versicolor\",\"versicolor\",\"versicolor\",\"versicolor\",\"versicolor\",\"versicolor\",\"versicolor\",\"versicolor\",\"versicolor\",\"versicolor\",\"versicolor\",\"versicolor\",\"versicolor\",\"versicolor\",\"versicolor\",\"versicolor\",\"versicolor\",\"versicolor\",\"versicolor\",\"versicolor\",\"versicolor\",\"versicolor\",\"versicolor\",\"versicolor\",\"versicolor\",\"versicolor\",\"versicolor\",\"versicolor\",\"versicolor\",\"versicolor\",\"versicolor\",\"versicolor\",\"versicolor\",\"versicolor\",\"versicolor\",\"versicolor\",\"versicolor\",\"versicolor\",\"versicolor\",\"versicolor\",\"virginica\",\"virginica\",\"virginica\",\"virginica\",\"virginica\",\"virginica\",\"virginica\",\"virginica\",\"virginica\",\"virginica\",\"virginica\",\"virginica\",\"virginica\",\"virginica\",\"virginica\",\"virginica\",\"virginica\",\"virginica\",\"virginica\",\"virginica\",\"virginica\",\"virginica\",\"virginica\",\"virginica\",\"virginica\",\"virginica\",\"virginica\",\"virginica\",\"virginica\",\"virginica\",\"virginica\",\"virginica\",\"virginica\",\"virginica\",\"virginica\",\"virginica\",\"virginica\",\"virginica\",\"virginica\",\"virginica\",\"virginica\",\"virginica\",\"virginica\",\"virginica\",\"virginica\",\"virginica\",\"virginica\",\"virginica\",\"virginica\",\"virginica\"],\"x\":{\"__ndarray__\":\"ZmZmZmZm9j9mZmZmZmb2P83MzMzMzPQ/AAAAAAAA+D9mZmZmZmb2PzMzMzMzM/s/ZmZmZmZm9j8AAAAAAAD4P2ZmZmZmZvY/AAAAAAAA+D8AAAAAAAD4P5qZmZmZmfk/ZmZmZmZm9j+amZmZmZnxPzMzMzMzM/M/AAAAAAAA+D/NzMzMzMz0P2ZmZmZmZvY/MzMzMzMz+z8AAAAAAAD4PzMzMzMzM/s/AAAAAAAA+D8AAAAAAADwPzMzMzMzM/s/ZmZmZmZm/j+amZmZmZn5P5qZmZmZmfk/AAAAAAAA+D9mZmZmZmb2P5qZmZmZmfk/mpmZmZmZ+T8AAAAAAAD4PwAAAAAAAPg/ZmZmZmZm9j8AAAAAAAD4PzMzMzMzM/M/zczMzMzM9D9mZmZmZmb2P83MzMzMzPQ/AAAAAAAA+D/NzMzMzMz0P83MzMzMzPQ/zczMzMzM9D+amZmZmZn5P2ZmZmZmZv4/ZmZmZmZm9j+amZmZmZn5P2ZmZmZmZvY/AAAAAAAA+D9mZmZmZmb2P83MzMzMzBJAAAAAAAAAEkCamZmZmZkTQAAAAAAAABBAZmZmZmZmEkAAAAAAAAASQM3MzMzMzBJAZmZmZmZmCkBmZmZmZmYSQDMzMzMzMw9AAAAAAAAADEDNzMzMzMwQQAAAAAAAABBAzczMzMzMEkDNzMzMzMwMQJqZmZmZmRFAAAAAAAAAEkBmZmZmZmYQQAAAAAAAABJAMzMzMzMzD0AzMzMzMzMTQAAAAAAAABBAmpmZmZmZE0DNzMzMzMwSQDMzMzMzMxFAmpmZmZmZEUAzMzMzMzMTQAAAAAAAABRAAAAAAAAAEkAAAAAAAAAMQGZmZmZmZg5AmpmZmZmZDUAzMzMzMzMPQGZmZmZmZhRAAAAAAAAAEkAAAAAAAAASQM3MzMzMzBJAmpmZmZmZEUBmZmZmZmYQQAAAAAAAABBAmpmZmZmZEUBmZmZmZmYSQAAAAAAAABBAZmZmZmZmCkDNzMzMzMwQQM3MzMzMzBBAzczMzMzMEEAzMzMzMzMRQAAAAAAAAAhAZmZmZmZmEEAAAAAAAAAYQGZmZmZmZhRAmpmZmZmZF0BmZmZmZmYWQDMzMzMzMxdAZmZmZmZmGkAAAAAAAAASQDMzMzMzMxlAMzMzMzMzF0BmZmZmZmYYQGZmZmZmZhRAMzMzMzMzFUAAAAAAAAAWQAAAAAAAABRAZmZmZmZmFEAzMzMzMzMVQAAAAAAAABZAzczMzMzMGkCamZmZmZkbQAAAAAAAABRAzczMzMzMFkCamZmZmZkTQM3MzMzMzBpAmpmZmZmZE0DNzMzMzMwWQAAAAAAAABhAMzMzMzMzE0CamZmZmZkTQGZmZmZmZhZAMzMzMzMzF0BmZmZmZmYYQJqZmZmZmRlAZmZmZmZmFkBmZmZmZmYUQGZmZmZmZhZAZmZmZmZmGEBmZmZmZmYWQAAAAAAAABZAMzMzMzMzE0CamZmZmZkVQGZmZmZmZhZAZmZmZmZmFEBmZmZmZmYUQJqZmZmZmRdAzczMzMzMFkDNzMzMzMwUQAAAAAAAABRAzczMzMzMFECamZmZmZkVQGZmZmZmZhRA\",\"dtype\":\"float64\",\"shape\":[150]},\"y\":{\"__ndarray__\":\"mpmZmZmZyT+amZmZmZnJP5qZmZmZmck/mpmZmZmZyT+amZmZmZnJP5qZmZmZmdk/MzMzMzMz0z+amZmZmZnJP5qZmZmZmck/mpmZmZmZuT+amZmZmZnJP5qZmZmZmck/mpmZmZmZuT+amZmZmZm5P5qZmZmZmck/mpmZmZmZ2T+amZmZmZnZPzMzMzMzM9M/MzMzMzMz0z8zMzMzMzPTP5qZmZmZmck/mpmZmZmZ2T+amZmZmZnJPwAAAAAAAOA/mpmZmZmZyT+amZmZmZnJP5qZmZmZmdk/mpmZmZmZyT+amZmZmZnJP5qZmZmZmck/mpmZmZmZyT+amZmZmZnZP5qZmZmZmbk/mpmZmZmZyT+amZmZmZnJP5qZmZmZmck/mpmZmZmZyT+amZmZmZm5P5qZmZmZmck/mpmZmZmZyT8zMzMzMzPTPzMzMzMzM9M/mpmZmZmZyT8zMzMzMzPjP5qZmZmZmdk/MzMzMzMz0z+amZmZmZnJP5qZmZmZmck/mpmZmZmZyT+amZmZmZnJP2ZmZmZmZvY/AAAAAAAA+D8AAAAAAAD4P83MzMzMzPQ/AAAAAAAA+D/NzMzMzMz0P5qZmZmZmfk/AAAAAAAA8D/NzMzMzMz0P2ZmZmZmZvY/AAAAAAAA8D8AAAAAAAD4PwAAAAAAAPA/ZmZmZmZm9j/NzMzMzMz0P2ZmZmZmZvY/AAAAAAAA+D8AAAAAAADwPwAAAAAAAPg/mpmZmZmZ8T/NzMzMzMz8P83MzMzMzPQ/AAAAAAAA+D8zMzMzMzPzP83MzMzMzPQ/ZmZmZmZm9j9mZmZmZmb2PzMzMzMzM/s/AAAAAAAA+D8AAAAAAADwP5qZmZmZmfE/AAAAAAAA8D8zMzMzMzPzP5qZmZmZmfk/AAAAAAAA+D+amZmZmZn5PwAAAAAAAPg/zczMzMzM9D/NzMzMzMz0P83MzMzMzPQ/MzMzMzMz8z9mZmZmZmb2PzMzMzMzM/M/AAAAAAAA8D/NzMzMzMz0PzMzMzMzM/M/zczMzMzM9D/NzMzMzMz0P5qZmZmZmfE/zczMzMzM9D8AAAAAAAAEQGZmZmZmZv4/zczMzMzMAEDNzMzMzMz8P5qZmZmZmQFAzczMzMzMAEAzMzMzMzP7P83MzMzMzPw/zczMzMzM/D8AAAAAAAAEQAAAAAAAAABAZmZmZmZm/j/NzMzMzMwAQAAAAAAAAABAMzMzMzMzA0BmZmZmZmYCQM3MzMzMzPw/mpmZmZmZAUBmZmZmZmYCQAAAAAAAAPg/ZmZmZmZmAkAAAAAAAAAAQAAAAAAAAABAzczMzMzM/D/NzMzMzMwAQM3MzMzMzPw/zczMzMzM/D/NzMzMzMz8P83MzMzMzABAmpmZmZmZ+T9mZmZmZmb+PwAAAAAAAABAmpmZmZmZAUAAAAAAAAD4P2ZmZmZmZvY/ZmZmZmZmAkAzMzMzMzMDQM3MzMzMzPw/zczMzMzM/D/NzMzMzMwAQDMzMzMzMwNAZmZmZmZmAkBmZmZmZmb+P2ZmZmZmZgJAAAAAAAAABEBmZmZmZmYCQGZmZmZmZv4/AAAAAAAAAEBmZmZmZmYCQM3MzMzMzPw/\",\"dtype\":\"float64\",\"shape\":[150]},\"z\":{\"__ndarray__\":\"AAAAAACAKEAAAAAAAAAiQHwUrkfheiRAuR6F61E4I0DsUbgehespQOtRuB6Fay5AHoXrUbgeJ0AehetRuB4nQFK4HoXr0SBAuR6F61E4I0DiehSuR2ErQB6F61G4HidAAAAAAAAAIkAAAAAAAAAiQAAAAAAAADBAXY/C9ShcM0DrUbgehWsuQAAAAAAAgChA4XoUrkfhLEDhehSuR+EsQB6F61G4HidA4noUrkdhK0DsUbgehespQEfhehSuxyVAHoXrUbgeJ0AAAAAAAAAiQB6F61G4HidAAAAAAACAKEAehetRuB4nQHwUrkfheiRAuR6F61E4I0AehetRuB4nQI/C9ShczzBApHA9CtejMUC5HoXrUTgjQHwUrkfheiRAAAAAAACAKEDsUbgehespQAAAAAAAACJAHoXrUbgeJ0AAAAAAAIAoQChcj8L1KBVAfBSuR+F6JEAAAAAAAIAoQOF6FK5H4SxAAAAAAAAAIkDhehSuR+EsQHwUrkfheiRA4noUrkdhK0BH4XoUrsclQHwUrkfheiRAfBSuR+F6JEC5HoXrUTgjQChcj8L1KBVAW4/C9ShcH0Bbj8L1KFwfQEfhehSuxyVACtejcD0KF0BSuB6F69EgQCpcj8L1KB1AAAAAAAAAEEAAAAAAAAAiQF2PwvUoXBNAUrgehevRIEBSuB6F69EgQLkehetROCNAAAAAAAAAIkAqXI/C9SgdQF2PwvUoXBNAAAAAAAAAGUB8FK5H4XokQFuPwvUoXB9AAAAAAAAAGUBbj8L1KFwfQFK4HoXr0SBAAAAAAAAAIkBbj8L1KFwfQAAAAAAAACJAUrgehevRIEAL16NwPQobQArXo3A9ChdACtejcD0KF0AqXI/C9SgdQCpcj8L1KB1AAAAAAAAAIkAehetRuB4nQLkehetROCNAKFyPwvUoFUAAAAAAAAAiQAAAAAAAABlAC9ejcD0KG0AAAAAAAAAiQAvXo3A9ChtAKFyPwvUoFUAqXI/C9SgdQAAAAAAAACJAUrgehevRIEBSuB6F69EgQAAAAAAAABlAW4/C9ShcH0BH4XoUrsclQCpcj8L1KB1AAAAAAAAAIkBSuB6F69EgQAAAAAAAACJAAAAAAAAAIkAAAAAAAAAZQFK4HoXr0SBAAAAAAAAAGUDsUbgehespQHwUrkfheiRAKlyPwvUoHUAAAAAAAAAiQAAAAAAAABlAW4/C9ShcH0B8FK5H4XokQAAAAAAAACJA4XoUrkfhLEAL16NwPQobQF2PwvUoXBNAfBSuR+F6JEBbj8L1KFwfQFuPwvUoXB9AKlyPwvUoHUBH4XoUrsclQHwUrkfheiRAW4/C9ShcH0AAAAAAAAAiQFuPwvUoXB9AAAAAAAAAIkBbj8L1KFwfQOF6FK5H4SxAW4/C9ShcH0Bbj8L1KFwfQAvXo3A9ChtAAAAAAAAAIkAehetRuB4nQLkehetROCNAAAAAAAAAIkC5HoXrUTgjQLkehetROCNAuR6F61E4I0AqXI/C9SgdQHwUrkfheiRAR+F6FK7HJUAAAAAAAAAiQAAAAAAAABlAAAAAAAAAIkAehetRuB4nQAAAAAAAACJA\",\"dtype\":\"float64\",\"shape\":[150]}},\"selected\":{\"id\":\"10019\",\"type\":\"Selection\"},\"selection_policy\":{\"id\":\"10020\",\"type\":\"UnionRenderers\"}},\"id\":\"9717\",\"type\":\"ColumnDataSource\"},{\"attributes\":{},\"id\":\"13414\",\"type\":\"BasicTickFormatter\"},{\"attributes\":{\"data_source\":{\"id\":\"9717\",\"type\":\"ColumnDataSource\"},\"glyph\":{\"id\":\"13405\",\"type\":\"Scatter\"},\"hover_glyph\":null,\"muted_glyph\":null,\"nonselection_glyph\":{\"id\":\"13406\",\"type\":\"Scatter\"},\"selection_glyph\":null,\"view\":{\"id\":\"13408\",\"type\":\"CDSView\"}},\"id\":\"13407\",\"type\":\"GlyphRenderer\"},{\"attributes\":{\"dimension\":1,\"grid_line_color\":\"gray\",\"grid_line_dash\":[5,3],\"ticker\":{\"id\":\"13378\",\"type\":\"BasicTicker\"}},\"id\":\"13381\",\"type\":\"Grid\"},{\"attributes\":{\"items\":[{\"id\":\"13416\",\"type\":\"LegendItem\"}],\"location\":\"top_left\"},\"id\":\"13415\",\"type\":\"Legend\"},{\"attributes\":{\"source\":{\"id\":\"9717\",\"type\":\"ColumnDataSource\"}},\"id\":\"13408\",\"type\":\"CDSView\"},{\"attributes\":{},\"id\":\"13368\",\"type\":\"LinearScale\"},{\"attributes\":{\"grid_line_color\":\"gray\",\"grid_line_dash\":[5,3],\"ticker\":{\"id\":\"13373\",\"type\":\"BasicTicker\"}},\"id\":\"13376\",\"type\":\"Grid\"},{\"attributes\":{\"fill_color\":{\"field\":\"species\",\"transform\":{\"id\":\"8032\",\"type\":\"CategoricalColorMapper\"}},\"marker\":{\"field\":\"species\",\"transform\":{\"id\":\"9037\",\"type\":\"CategoricalMarkerMapper\"}},\"size\":{\"field\":\"z\",\"units\":\"screen\"},\"x\":{\"field\":\"x\"},\"y\":{\"field\":\"y\"}},\"id\":\"13405\",\"type\":\"Scatter\"},{\"attributes\":{\"factors\":[\"setosa\",\"versicolor\",\"virginica\"],\"palette\":[\"#1b9e77\",\"#d95f02\",\"#7570b3\"]},\"id\":\"8032\",\"type\":\"CategoricalColorMapper\"},{\"attributes\":{\"active_drag\":\"auto\",\"active_inspect\":\"auto\",\"active_multi\":null,\"active_scroll\":\"auto\",\"active_tap\":\"auto\",\"tools\":[{\"id\":\"13395\",\"type\":\"PanTool\"},{\"id\":\"13396\",\"type\":\"ResetTool\"},{\"id\":\"13397\",\"type\":\"WheelZoomTool\"},{\"id\":\"12531\",\"type\":\"HoverTool\"}]},\"id\":\"13388\",\"type\":\"Toolbar\"},{\"attributes\":{\"axis_label\":null,\"axis_line_width\":{\"value\":3},\"formatter\":{\"id\":\"13412\",\"type\":\"BasicTickFormatter\"},\"major_label_text_font_size\":{\"value\":\"1.2em\"},\"major_label_text_font_style\":\"bold\",\"ticker\":{\"id\":\"13373\",\"type\":\"BasicTicker\"}},\"id\":\"13372\",\"type\":\"LinearAxis\"},{\"attributes\":{\"factors\":[\"setosa\",\"versicolor\",\"virginica\"],\"markers\":[\"hex\",\"circle\",\"square\"]},\"id\":\"9037\",\"type\":\"CategoricalMarkerMapper\"},{\"attributes\":{\"callback\":null},\"id\":\"13364\",\"type\":\"DataRange1d\"},{\"attributes\":{\"callback\":null,\"tooltips\":[[\"Specie\",\"@species\"]]},\"id\":\"12531\",\"type\":\"HoverTool\"},{\"attributes\":{},\"id\":\"13373\",\"type\":\"BasicTicker\"},{\"attributes\":{},\"id\":\"13370\",\"type\":\"LinearScale\"},{\"attributes\":{\"axis_label\":null,\"axis_line_width\":{\"value\":3},\"formatter\":{\"id\":\"13414\",\"type\":\"BasicTickFormatter\"},\"major_label_text_font_size\":{\"value\":\"1.2em\"},\"major_label_text_font_style\":\"bold\",\"ticker\":{\"id\":\"13378\",\"type\":\"BasicTicker\"}},\"id\":\"13377\",\"type\":\"LinearAxis\"},{\"attributes\":{},\"id\":\"13397\",\"type\":\"WheelZoomTool\"},{\"attributes\":{},\"id\":\"13412\",\"type\":\"BasicTickFormatter\"},{\"attributes\":{},\"id\":\"13396\",\"type\":\"ResetTool\"},{\"attributes\":{},\"id\":\"13378\",\"type\":\"BasicTicker\"},{\"attributes\":{},\"id\":\"10019\",\"type\":\"Selection\"},{\"attributes\":{\"label\":{\"field\":\"species\"},\"renderers\":[{\"id\":\"13407\",\"type\":\"GlyphRenderer\"}]},\"id\":\"13416\",\"type\":\"LegendItem\"},{\"attributes\":{\"callback\":null},\"id\":\"13366\",\"type\":\"DataRange1d\"}],\"root_ids\":[\"13363\"]},\"title\":\"Bokeh Application\",\"version\":\"1.3.4\"}};\n",
       "  var render_items = [{\"docid\":\"3dba2e5d-c7b5-4a78-a667-a1630240009d\",\"roots\":{\"13363\":\"8bc837c3-4498-458f-aff5-9c2ed6f11b3e\"}}];\n",
       "  root.Bokeh.embed.embed_items_notebook(docs_json, render_items);\n",
       "\n",
       "  }\n",
       "  if (root.Bokeh !== undefined) {\n",
       "    embed_document(root);\n",
       "  } else {\n",
       "    var attempts = 0;\n",
       "    var timer = setInterval(function(root) {\n",
       "      if (root.Bokeh !== undefined) {\n",
       "        embed_document(root);\n",
       "        clearInterval(timer);\n",
       "      }\n",
       "      attempts++;\n",
       "      if (attempts > 100) {\n",
       "        console.log(\"Bokeh: ERROR: Unable to run BokehJS code because BokehJS library is missing\");\n",
       "        clearInterval(timer);\n",
       "      }\n",
       "    }, 10, root)\n",
       "  }\n",
       "})(window);"
      ],
      "application/vnd.bokehjs_exec.v0+json": ""
     },
     "metadata": {
      "application/vnd.bokehjs_exec.v0+json": {
       "id": "13363"
      }
     },
     "output_type": "display_data"
    }
   ],
   "source": [
    "# Creamos el scatterplot\n",
    "f = figure(plot_width = 900, plot_height = 500)\n",
    "style_plot(f, title=  'Iris scatter plot')\n",
    "# Creamos el plot\n",
    "f.scatter(x = 'x', y = 'y', size = 'z', source = data,\n",
    "         line_color = 'black', alpha = 1,\n",
    "          # Definimos los colores\n",
    "         color = color_map,\n",
    "         # Definimos lso marcadores\n",
    "         marker = markers_map,\n",
    "         # Definimos la legenda\n",
    "         legend = 'species'\n",
    "         )\n",
    "\n",
    "f.add_tools(hover)\n",
    "f.legend.location = 'top_left'\n",
    "show(f)"
   ]
  },
  {
   "cell_type": "code",
   "execution_count": null,
   "metadata": {},
   "outputs": [],
   "source": []
  }
 ],
 "metadata": {
  "kernelspec": {
   "display_name": "Python 3",
   "language": "python",
   "name": "python3"
  },
  "language_info": {
   "codemirror_mode": {
    "name": "ipython",
    "version": 3
   },
   "file_extension": ".py",
   "mimetype": "text/x-python",
   "name": "python",
   "nbconvert_exporter": "python",
   "pygments_lexer": "ipython3",
   "version": "3.7.4"
  }
 },
 "nbformat": 4,
 "nbformat_minor": 2
}
