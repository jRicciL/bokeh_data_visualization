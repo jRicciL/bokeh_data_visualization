{
 "cells": [
  {
   "cell_type": "markdown",
   "metadata": {},
   "source": [
    "# GridPlots\n",
    "\n",
    "Herein we will see how to create multiple plots in the same figure."
   ]
  },
  {
   "cell_type": "code",
   "execution_count": 1,
   "metadata": {},
   "outputs": [
    {
     "data": {
      "text/html": [
       "\n",
       "    <div class=\"bk-root\">\n",
       "        <a href=\"https://bokeh.pydata.org\" target=\"_blank\" class=\"bk-logo bk-logo-small bk-logo-notebook\"></a>\n",
       "        <span id=\"1001\">Loading BokehJS ...</span>\n",
       "    </div>"
      ]
     },
     "metadata": {},
     "output_type": "display_data"
    },
    {
     "data": {
      "application/javascript": [
       "\n",
       "(function(root) {\n",
       "  function now() {\n",
       "    return new Date();\n",
       "  }\n",
       "\n",
       "  var force = true;\n",
       "\n",
       "  if (typeof root._bokeh_onload_callbacks === \"undefined\" || force === true) {\n",
       "    root._bokeh_onload_callbacks = [];\n",
       "    root._bokeh_is_loading = undefined;\n",
       "  }\n",
       "\n",
       "  var JS_MIME_TYPE = 'application/javascript';\n",
       "  var HTML_MIME_TYPE = 'text/html';\n",
       "  var EXEC_MIME_TYPE = 'application/vnd.bokehjs_exec.v0+json';\n",
       "  var CLASS_NAME = 'output_bokeh rendered_html';\n",
       "\n",
       "  /**\n",
       "   * Render data to the DOM node\n",
       "   */\n",
       "  function render(props, node) {\n",
       "    var script = document.createElement(\"script\");\n",
       "    node.appendChild(script);\n",
       "  }\n",
       "\n",
       "  /**\n",
       "   * Handle when an output is cleared or removed\n",
       "   */\n",
       "  function handleClearOutput(event, handle) {\n",
       "    var cell = handle.cell;\n",
       "\n",
       "    var id = cell.output_area._bokeh_element_id;\n",
       "    var server_id = cell.output_area._bokeh_server_id;\n",
       "    // Clean up Bokeh references\n",
       "    if (id != null && id in Bokeh.index) {\n",
       "      Bokeh.index[id].model.document.clear();\n",
       "      delete Bokeh.index[id];\n",
       "    }\n",
       "\n",
       "    if (server_id !== undefined) {\n",
       "      // Clean up Bokeh references\n",
       "      var cmd = \"from bokeh.io.state import curstate; print(curstate().uuid_to_server['\" + server_id + \"'].get_sessions()[0].document.roots[0]._id)\";\n",
       "      cell.notebook.kernel.execute(cmd, {\n",
       "        iopub: {\n",
       "          output: function(msg) {\n",
       "            var id = msg.content.text.trim();\n",
       "            if (id in Bokeh.index) {\n",
       "              Bokeh.index[id].model.document.clear();\n",
       "              delete Bokeh.index[id];\n",
       "            }\n",
       "          }\n",
       "        }\n",
       "      });\n",
       "      // Destroy server and session\n",
       "      var cmd = \"import bokeh.io.notebook as ion; ion.destroy_server('\" + server_id + \"')\";\n",
       "      cell.notebook.kernel.execute(cmd);\n",
       "    }\n",
       "  }\n",
       "\n",
       "  /**\n",
       "   * Handle when a new output is added\n",
       "   */\n",
       "  function handleAddOutput(event, handle) {\n",
       "    var output_area = handle.output_area;\n",
       "    var output = handle.output;\n",
       "\n",
       "    // limit handleAddOutput to display_data with EXEC_MIME_TYPE content only\n",
       "    if ((output.output_type != \"display_data\") || (!output.data.hasOwnProperty(EXEC_MIME_TYPE))) {\n",
       "      return\n",
       "    }\n",
       "\n",
       "    var toinsert = output_area.element.find(\".\" + CLASS_NAME.split(' ')[0]);\n",
       "\n",
       "    if (output.metadata[EXEC_MIME_TYPE][\"id\"] !== undefined) {\n",
       "      toinsert[toinsert.length - 1].firstChild.textContent = output.data[JS_MIME_TYPE];\n",
       "      // store reference to embed id on output_area\n",
       "      output_area._bokeh_element_id = output.metadata[EXEC_MIME_TYPE][\"id\"];\n",
       "    }\n",
       "    if (output.metadata[EXEC_MIME_TYPE][\"server_id\"] !== undefined) {\n",
       "      var bk_div = document.createElement(\"div\");\n",
       "      bk_div.innerHTML = output.data[HTML_MIME_TYPE];\n",
       "      var script_attrs = bk_div.children[0].attributes;\n",
       "      for (var i = 0; i < script_attrs.length; i++) {\n",
       "        toinsert[toinsert.length - 1].firstChild.setAttribute(script_attrs[i].name, script_attrs[i].value);\n",
       "      }\n",
       "      // store reference to server id on output_area\n",
       "      output_area._bokeh_server_id = output.metadata[EXEC_MIME_TYPE][\"server_id\"];\n",
       "    }\n",
       "  }\n",
       "\n",
       "  function register_renderer(events, OutputArea) {\n",
       "\n",
       "    function append_mime(data, metadata, element) {\n",
       "      // create a DOM node to render to\n",
       "      var toinsert = this.create_output_subarea(\n",
       "        metadata,\n",
       "        CLASS_NAME,\n",
       "        EXEC_MIME_TYPE\n",
       "      );\n",
       "      this.keyboard_manager.register_events(toinsert);\n",
       "      // Render to node\n",
       "      var props = {data: data, metadata: metadata[EXEC_MIME_TYPE]};\n",
       "      render(props, toinsert[toinsert.length - 1]);\n",
       "      element.append(toinsert);\n",
       "      return toinsert\n",
       "    }\n",
       "\n",
       "    /* Handle when an output is cleared or removed */\n",
       "    events.on('clear_output.CodeCell', handleClearOutput);\n",
       "    events.on('delete.Cell', handleClearOutput);\n",
       "\n",
       "    /* Handle when a new output is added */\n",
       "    events.on('output_added.OutputArea', handleAddOutput);\n",
       "\n",
       "    /**\n",
       "     * Register the mime type and append_mime function with output_area\n",
       "     */\n",
       "    OutputArea.prototype.register_mime_type(EXEC_MIME_TYPE, append_mime, {\n",
       "      /* Is output safe? */\n",
       "      safe: true,\n",
       "      /* Index of renderer in `output_area.display_order` */\n",
       "      index: 0\n",
       "    });\n",
       "  }\n",
       "\n",
       "  // register the mime type if in Jupyter Notebook environment and previously unregistered\n",
       "  if (root.Jupyter !== undefined) {\n",
       "    var events = require('base/js/events');\n",
       "    var OutputArea = require('notebook/js/outputarea').OutputArea;\n",
       "\n",
       "    if (OutputArea.prototype.mime_types().indexOf(EXEC_MIME_TYPE) == -1) {\n",
       "      register_renderer(events, OutputArea);\n",
       "    }\n",
       "  }\n",
       "\n",
       "  \n",
       "  if (typeof (root._bokeh_timeout) === \"undefined\" || force === true) {\n",
       "    root._bokeh_timeout = Date.now() + 5000;\n",
       "    root._bokeh_failed_load = false;\n",
       "  }\n",
       "\n",
       "  var NB_LOAD_WARNING = {'data': {'text/html':\n",
       "     \"<div style='background-color: #fdd'>\\n\"+\n",
       "     \"<p>\\n\"+\n",
       "     \"BokehJS does not appear to have successfully loaded. If loading BokehJS from CDN, this \\n\"+\n",
       "     \"may be due to a slow or bad network connection. Possible fixes:\\n\"+\n",
       "     \"</p>\\n\"+\n",
       "     \"<ul>\\n\"+\n",
       "     \"<li>re-rerun `output_notebook()` to attempt to load from CDN again, or</li>\\n\"+\n",
       "     \"<li>use INLINE resources instead, as so:</li>\\n\"+\n",
       "     \"</ul>\\n\"+\n",
       "     \"<code>\\n\"+\n",
       "     \"from bokeh.resources import INLINE\\n\"+\n",
       "     \"output_notebook(resources=INLINE)\\n\"+\n",
       "     \"</code>\\n\"+\n",
       "     \"</div>\"}};\n",
       "\n",
       "  function display_loaded() {\n",
       "    var el = document.getElementById(\"1001\");\n",
       "    if (el != null) {\n",
       "      el.textContent = \"BokehJS is loading...\";\n",
       "    }\n",
       "    if (root.Bokeh !== undefined) {\n",
       "      if (el != null) {\n",
       "        el.textContent = \"BokehJS \" + root.Bokeh.version + \" successfully loaded.\";\n",
       "      }\n",
       "    } else if (Date.now() < root._bokeh_timeout) {\n",
       "      setTimeout(display_loaded, 100)\n",
       "    }\n",
       "  }\n",
       "\n",
       "\n",
       "  function run_callbacks() {\n",
       "    try {\n",
       "      root._bokeh_onload_callbacks.forEach(function(callback) {\n",
       "        if (callback != null)\n",
       "          callback();\n",
       "      });\n",
       "    } finally {\n",
       "      delete root._bokeh_onload_callbacks\n",
       "    }\n",
       "    console.debug(\"Bokeh: all callbacks have finished\");\n",
       "  }\n",
       "\n",
       "  function load_libs(css_urls, js_urls, callback) {\n",
       "    if (css_urls == null) css_urls = [];\n",
       "    if (js_urls == null) js_urls = [];\n",
       "\n",
       "    root._bokeh_onload_callbacks.push(callback);\n",
       "    if (root._bokeh_is_loading > 0) {\n",
       "      console.debug(\"Bokeh: BokehJS is being loaded, scheduling callback at\", now());\n",
       "      return null;\n",
       "    }\n",
       "    if (js_urls == null || js_urls.length === 0) {\n",
       "      run_callbacks();\n",
       "      return null;\n",
       "    }\n",
       "    console.debug(\"Bokeh: BokehJS not loaded, scheduling load and callback at\", now());\n",
       "    root._bokeh_is_loading = css_urls.length + js_urls.length;\n",
       "\n",
       "    function on_load() {\n",
       "      root._bokeh_is_loading--;\n",
       "      if (root._bokeh_is_loading === 0) {\n",
       "        console.debug(\"Bokeh: all BokehJS libraries/stylesheets loaded\");\n",
       "        run_callbacks()\n",
       "      }\n",
       "    }\n",
       "\n",
       "    function on_error() {\n",
       "      console.error(\"failed to load \" + url);\n",
       "    }\n",
       "\n",
       "    for (var i = 0; i < css_urls.length; i++) {\n",
       "      var url = css_urls[i];\n",
       "      const element = document.createElement(\"link\");\n",
       "      element.onload = on_load;\n",
       "      element.onerror = on_error;\n",
       "      element.rel = \"stylesheet\";\n",
       "      element.type = \"text/css\";\n",
       "      element.href = url;\n",
       "      console.debug(\"Bokeh: injecting link tag for BokehJS stylesheet: \", url);\n",
       "      document.body.appendChild(element);\n",
       "    }\n",
       "\n",
       "    for (var i = 0; i < js_urls.length; i++) {\n",
       "      var url = js_urls[i];\n",
       "      var element = document.createElement('script');\n",
       "      element.onload = on_load;\n",
       "      element.onerror = on_error;\n",
       "      element.async = false;\n",
       "      element.src = url;\n",
       "      console.debug(\"Bokeh: injecting script tag for BokehJS library: \", url);\n",
       "      document.head.appendChild(element);\n",
       "    }\n",
       "  };var element = document.getElementById(\"1001\");\n",
       "  if (element == null) {\n",
       "    console.error(\"Bokeh: ERROR: autoload.js configured with elementid '1001' but no matching script tag was found. \")\n",
       "    return false;\n",
       "  }\n",
       "\n",
       "  function inject_raw_css(css) {\n",
       "    const element = document.createElement(\"style\");\n",
       "    element.appendChild(document.createTextNode(css));\n",
       "    document.body.appendChild(element);\n",
       "  }\n",
       "\n",
       "  var js_urls = [\"https://cdn.pydata.org/bokeh/release/bokeh-1.3.4.min.js\", \"https://cdn.pydata.org/bokeh/release/bokeh-widgets-1.3.4.min.js\", \"https://cdn.pydata.org/bokeh/release/bokeh-tables-1.3.4.min.js\", \"https://cdn.pydata.org/bokeh/release/bokeh-gl-1.3.4.min.js\"];\n",
       "  var css_urls = [];\n",
       "\n",
       "  var inline_js = [\n",
       "    function(Bokeh) {\n",
       "      Bokeh.set_log_level(\"info\");\n",
       "    },\n",
       "    \n",
       "    function(Bokeh) {\n",
       "      \n",
       "    },\n",
       "    function(Bokeh) {} // ensure no trailing comma for IE\n",
       "  ];\n",
       "\n",
       "  function run_inline_js() {\n",
       "    \n",
       "    if ((root.Bokeh !== undefined) || (force === true)) {\n",
       "      for (var i = 0; i < inline_js.length; i++) {\n",
       "        inline_js[i].call(root, root.Bokeh);\n",
       "      }if (force === true) {\n",
       "        display_loaded();\n",
       "      }} else if (Date.now() < root._bokeh_timeout) {\n",
       "      setTimeout(run_inline_js, 100);\n",
       "    } else if (!root._bokeh_failed_load) {\n",
       "      console.log(\"Bokeh: BokehJS failed to load within specified timeout.\");\n",
       "      root._bokeh_failed_load = true;\n",
       "    } else if (force !== true) {\n",
       "      var cell = $(document.getElementById(\"1001\")).parents('.cell').data().cell;\n",
       "      cell.output_area.append_execute_result(NB_LOAD_WARNING)\n",
       "    }\n",
       "\n",
       "  }\n",
       "\n",
       "  if (root._bokeh_is_loading === 0) {\n",
       "    console.debug(\"Bokeh: BokehJS loaded, going straight to plotting\");\n",
       "    run_inline_js();\n",
       "  } else {\n",
       "    load_libs(css_urls, js_urls, function() {\n",
       "      console.debug(\"Bokeh: BokehJS plotting callback run at\", now());\n",
       "      run_inline_js();\n",
       "    });\n",
       "  }\n",
       "}(window));"
      ],
      "application/vnd.bokehjs_load.v0+json": "\n(function(root) {\n  function now() {\n    return new Date();\n  }\n\n  var force = true;\n\n  if (typeof root._bokeh_onload_callbacks === \"undefined\" || force === true) {\n    root._bokeh_onload_callbacks = [];\n    root._bokeh_is_loading = undefined;\n  }\n\n  \n\n  \n  if (typeof (root._bokeh_timeout) === \"undefined\" || force === true) {\n    root._bokeh_timeout = Date.now() + 5000;\n    root._bokeh_failed_load = false;\n  }\n\n  var NB_LOAD_WARNING = {'data': {'text/html':\n     \"<div style='background-color: #fdd'>\\n\"+\n     \"<p>\\n\"+\n     \"BokehJS does not appear to have successfully loaded. If loading BokehJS from CDN, this \\n\"+\n     \"may be due to a slow or bad network connection. Possible fixes:\\n\"+\n     \"</p>\\n\"+\n     \"<ul>\\n\"+\n     \"<li>re-rerun `output_notebook()` to attempt to load from CDN again, or</li>\\n\"+\n     \"<li>use INLINE resources instead, as so:</li>\\n\"+\n     \"</ul>\\n\"+\n     \"<code>\\n\"+\n     \"from bokeh.resources import INLINE\\n\"+\n     \"output_notebook(resources=INLINE)\\n\"+\n     \"</code>\\n\"+\n     \"</div>\"}};\n\n  function display_loaded() {\n    var el = document.getElementById(\"1001\");\n    if (el != null) {\n      el.textContent = \"BokehJS is loading...\";\n    }\n    if (root.Bokeh !== undefined) {\n      if (el != null) {\n        el.textContent = \"BokehJS \" + root.Bokeh.version + \" successfully loaded.\";\n      }\n    } else if (Date.now() < root._bokeh_timeout) {\n      setTimeout(display_loaded, 100)\n    }\n  }\n\n\n  function run_callbacks() {\n    try {\n      root._bokeh_onload_callbacks.forEach(function(callback) {\n        if (callback != null)\n          callback();\n      });\n    } finally {\n      delete root._bokeh_onload_callbacks\n    }\n    console.debug(\"Bokeh: all callbacks have finished\");\n  }\n\n  function load_libs(css_urls, js_urls, callback) {\n    if (css_urls == null) css_urls = [];\n    if (js_urls == null) js_urls = [];\n\n    root._bokeh_onload_callbacks.push(callback);\n    if (root._bokeh_is_loading > 0) {\n      console.debug(\"Bokeh: BokehJS is being loaded, scheduling callback at\", now());\n      return null;\n    }\n    if (js_urls == null || js_urls.length === 0) {\n      run_callbacks();\n      return null;\n    }\n    console.debug(\"Bokeh: BokehJS not loaded, scheduling load and callback at\", now());\n    root._bokeh_is_loading = css_urls.length + js_urls.length;\n\n    function on_load() {\n      root._bokeh_is_loading--;\n      if (root._bokeh_is_loading === 0) {\n        console.debug(\"Bokeh: all BokehJS libraries/stylesheets loaded\");\n        run_callbacks()\n      }\n    }\n\n    function on_error() {\n      console.error(\"failed to load \" + url);\n    }\n\n    for (var i = 0; i < css_urls.length; i++) {\n      var url = css_urls[i];\n      const element = document.createElement(\"link\");\n      element.onload = on_load;\n      element.onerror = on_error;\n      element.rel = \"stylesheet\";\n      element.type = \"text/css\";\n      element.href = url;\n      console.debug(\"Bokeh: injecting link tag for BokehJS stylesheet: \", url);\n      document.body.appendChild(element);\n    }\n\n    for (var i = 0; i < js_urls.length; i++) {\n      var url = js_urls[i];\n      var element = document.createElement('script');\n      element.onload = on_load;\n      element.onerror = on_error;\n      element.async = false;\n      element.src = url;\n      console.debug(\"Bokeh: injecting script tag for BokehJS library: \", url);\n      document.head.appendChild(element);\n    }\n  };var element = document.getElementById(\"1001\");\n  if (element == null) {\n    console.error(\"Bokeh: ERROR: autoload.js configured with elementid '1001' but no matching script tag was found. \")\n    return false;\n  }\n\n  function inject_raw_css(css) {\n    const element = document.createElement(\"style\");\n    element.appendChild(document.createTextNode(css));\n    document.body.appendChild(element);\n  }\n\n  var js_urls = [\"https://cdn.pydata.org/bokeh/release/bokeh-1.3.4.min.js\", \"https://cdn.pydata.org/bokeh/release/bokeh-widgets-1.3.4.min.js\", \"https://cdn.pydata.org/bokeh/release/bokeh-tables-1.3.4.min.js\", \"https://cdn.pydata.org/bokeh/release/bokeh-gl-1.3.4.min.js\"];\n  var css_urls = [];\n\n  var inline_js = [\n    function(Bokeh) {\n      Bokeh.set_log_level(\"info\");\n    },\n    \n    function(Bokeh) {\n      \n    },\n    function(Bokeh) {} // ensure no trailing comma for IE\n  ];\n\n  function run_inline_js() {\n    \n    if ((root.Bokeh !== undefined) || (force === true)) {\n      for (var i = 0; i < inline_js.length; i++) {\n        inline_js[i].call(root, root.Bokeh);\n      }if (force === true) {\n        display_loaded();\n      }} else if (Date.now() < root._bokeh_timeout) {\n      setTimeout(run_inline_js, 100);\n    } else if (!root._bokeh_failed_load) {\n      console.log(\"Bokeh: BokehJS failed to load within specified timeout.\");\n      root._bokeh_failed_load = true;\n    } else if (force !== true) {\n      var cell = $(document.getElementById(\"1001\")).parents('.cell').data().cell;\n      cell.output_area.append_execute_result(NB_LOAD_WARNING)\n    }\n\n  }\n\n  if (root._bokeh_is_loading === 0) {\n    console.debug(\"Bokeh: BokehJS loaded, going straight to plotting\");\n    run_inline_js();\n  } else {\n    load_libs(css_urls, js_urls, function() {\n      console.debug(\"Bokeh: BokehJS plotting callback run at\", now());\n      run_inline_js();\n    });\n  }\n}(window));"
     },
     "metadata": {},
     "output_type": "display_data"
    }
   ],
   "source": [
    "from bokeh.io import output_notebook\n",
    "from bokeh.plotting import figure, show, gridplot\n",
    "output_notebook()"
   ]
  },
  {
   "cell_type": "markdown",
   "metadata": {},
   "source": [
    "Then we need to import some trivial data."
   ]
  },
  {
   "cell_type": "raw",
   "metadata": {},
   "source": [
    "import bokeh\n",
    "bokeh.sampledata.download()"
   ]
  },
  {
   "cell_type": "code",
   "execution_count": 2,
   "metadata": {},
   "outputs": [
    {
     "data": {
      "text/html": [
       "<div>\n",
       "<style scoped>\n",
       "    .dataframe tbody tr th:only-of-type {\n",
       "        vertical-align: middle;\n",
       "    }\n",
       "\n",
       "    .dataframe tbody tr th {\n",
       "        vertical-align: top;\n",
       "    }\n",
       "\n",
       "    .dataframe thead th {\n",
       "        text-align: right;\n",
       "    }\n",
       "</style>\n",
       "<table border=\"1\" class=\"dataframe\">\n",
       "  <thead>\n",
       "    <tr style=\"text-align: right;\">\n",
       "      <th></th>\n",
       "      <th>mpg</th>\n",
       "      <th>cyl</th>\n",
       "      <th>displ</th>\n",
       "      <th>hp</th>\n",
       "      <th>weight</th>\n",
       "      <th>accel</th>\n",
       "      <th>yr</th>\n",
       "      <th>origin</th>\n",
       "      <th>name</th>\n",
       "    </tr>\n",
       "  </thead>\n",
       "  <tbody>\n",
       "    <tr>\n",
       "      <th>0</th>\n",
       "      <td>18.0</td>\n",
       "      <td>8</td>\n",
       "      <td>307.0</td>\n",
       "      <td>130</td>\n",
       "      <td>3504</td>\n",
       "      <td>12.0</td>\n",
       "      <td>70</td>\n",
       "      <td>1</td>\n",
       "      <td>chevrolet chevelle malibu</td>\n",
       "    </tr>\n",
       "    <tr>\n",
       "      <th>1</th>\n",
       "      <td>15.0</td>\n",
       "      <td>8</td>\n",
       "      <td>350.0</td>\n",
       "      <td>165</td>\n",
       "      <td>3693</td>\n",
       "      <td>11.5</td>\n",
       "      <td>70</td>\n",
       "      <td>1</td>\n",
       "      <td>buick skylark 320</td>\n",
       "    </tr>\n",
       "    <tr>\n",
       "      <th>2</th>\n",
       "      <td>18.0</td>\n",
       "      <td>8</td>\n",
       "      <td>318.0</td>\n",
       "      <td>150</td>\n",
       "      <td>3436</td>\n",
       "      <td>11.0</td>\n",
       "      <td>70</td>\n",
       "      <td>1</td>\n",
       "      <td>plymouth satellite</td>\n",
       "    </tr>\n",
       "    <tr>\n",
       "      <th>3</th>\n",
       "      <td>16.0</td>\n",
       "      <td>8</td>\n",
       "      <td>304.0</td>\n",
       "      <td>150</td>\n",
       "      <td>3433</td>\n",
       "      <td>12.0</td>\n",
       "      <td>70</td>\n",
       "      <td>1</td>\n",
       "      <td>amc rebel sst</td>\n",
       "    </tr>\n",
       "    <tr>\n",
       "      <th>4</th>\n",
       "      <td>17.0</td>\n",
       "      <td>8</td>\n",
       "      <td>302.0</td>\n",
       "      <td>140</td>\n",
       "      <td>3449</td>\n",
       "      <td>10.5</td>\n",
       "      <td>70</td>\n",
       "      <td>1</td>\n",
       "      <td>ford torino</td>\n",
       "    </tr>\n",
       "  </tbody>\n",
       "</table>\n",
       "</div>"
      ],
      "text/plain": [
       "    mpg  cyl  displ   hp  weight  accel  yr  origin                       name\n",
       "0  18.0    8  307.0  130    3504   12.0  70       1  chevrolet chevelle malibu\n",
       "1  15.0    8  350.0  165    3693   11.5  70       1          buick skylark 320\n",
       "2  18.0    8  318.0  150    3436   11.0  70       1         plymouth satellite\n",
       "3  16.0    8  304.0  150    3433   12.0  70       1              amc rebel sst\n",
       "4  17.0    8  302.0  140    3449   10.5  70       1                ford torino"
      ]
     },
     "execution_count": 2,
     "metadata": {},
     "output_type": "execute_result"
    }
   ],
   "source": [
    "from bokeh.sampledata.autompg import autompg\n",
    "autompg.head()"
   ]
  },
  {
   "cell_type": "markdown",
   "metadata": {},
   "source": [
    "## Creatig the plots"
   ]
  },
  {
   "cell_type": "code",
   "execution_count": 3,
   "metadata": {},
   "outputs": [
    {
     "data": {
      "text/html": [
       "\n",
       "\n",
       "\n",
       "\n",
       "\n",
       "\n",
       "  <div class=\"bk-root\" id=\"27014e8c-58bb-404a-a812-d631a20b87ea\" data-root-id=\"1149\"></div>\n"
      ]
     },
     "metadata": {},
     "output_type": "display_data"
    },
    {
     "data": {
      "application/javascript": [
       "(function(root) {\n",
       "  function embed_document(root) {\n",
       "    \n",
       "  var docs_json = {\"13a2af20-5934-49d3-a724-589c3b94a020\":{\"roots\":{\"references\":[{\"attributes\":{\"children\":[{\"id\":\"1148\",\"type\":\"ToolbarBox\"},{\"id\":\"1146\",\"type\":\"GridBox\"}]},\"id\":\"1149\",\"type\":\"Column\"},{\"attributes\":{\"ticker\":{\"id\":\"1014\",\"type\":\"BasicTicker\"}},\"id\":\"1017\",\"type\":\"Grid\"},{\"attributes\":{},\"id\":\"1019\",\"type\":\"BasicTicker\"},{\"attributes\":{\"active_drag\":\"auto\",\"active_inspect\":\"auto\",\"active_multi\":null,\"active_scroll\":\"auto\",\"active_tap\":\"auto\",\"tools\":[{\"id\":\"1023\",\"type\":\"PanTool\"},{\"id\":\"1024\",\"type\":\"WheelZoomTool\"},{\"id\":\"1025\",\"type\":\"BoxZoomTool\"},{\"id\":\"1026\",\"type\":\"SaveTool\"},{\"id\":\"1027\",\"type\":\"ResetTool\"},{\"id\":\"1028\",\"type\":\"HelpTool\"}]},\"id\":\"1029\",\"type\":\"Toolbar\"},{\"attributes\":{\"dimension\":1,\"ticker\":{\"id\":\"1019\",\"type\":\"BasicTicker\"}},\"id\":\"1022\",\"type\":\"Grid\"},{\"attributes\":{\"formatter\":{\"id\":\"1121\",\"type\":\"BasicTickFormatter\"},\"ticker\":{\"id\":\"1019\",\"type\":\"BasicTicker\"}},\"id\":\"1018\",\"type\":\"LinearAxis\"},{\"attributes\":{\"fill_alpha\":{\"value\":0.8},\"fill_color\":{\"value\":\"navy\"},\"line_alpha\":{\"value\":0.8},\"line_color\":{\"value\":\"navy\"},\"size\":{\"units\":\"screen\",\"value\":10},\"x\":{\"field\":\"x\"},\"y\":{\"field\":\"y\"}},\"id\":\"1037\",\"type\":\"Circle\"},{\"attributes\":{\"fill_alpha\":{\"value\":0.1},\"fill_color\":{\"value\":\"#1f77b4\"},\"line_alpha\":{\"value\":0.1},\"line_color\":{\"value\":\"#1f77b4\"},\"size\":{\"units\":\"screen\",\"value\":10},\"x\":{\"field\":\"x\"},\"y\":{\"field\":\"y\"}},\"id\":\"1038\",\"type\":\"Circle\"},{\"attributes\":{\"callback\":null,\"data\":{\"x\":[130,165,150,150,140,198,220,215,225,190,170,160,150,225,95,95,97,85,88,46,87,90,95,113,90,215,200,210,193],\"y\":[3504,3693,3436,3433,3449,4341,4354,4312,4425,3850,3563,3609,3761,3086,2372,2833,2774,2587,2130,1835,2672,2430,2375,2234,2648,4615,4376,4382,4732]},\"selected\":{\"id\":\"1125\",\"type\":\"Selection\"},\"selection_policy\":{\"id\":\"1124\",\"type\":\"UnionRenderers\"}},\"id\":\"1036\",\"type\":\"ColumnDataSource\"},{\"attributes\":{},\"id\":\"1023\",\"type\":\"PanTool\"},{\"attributes\":{\"overlay\":{\"id\":\"1126\",\"type\":\"BoxAnnotation\"}},\"id\":\"1025\",\"type\":\"BoxZoomTool\"},{\"attributes\":{\"below\":[{\"id\":\"1013\",\"type\":\"LinearAxis\"}],\"center\":[{\"id\":\"1017\",\"type\":\"Grid\"},{\"id\":\"1022\",\"type\":\"Grid\"}],\"left\":[{\"id\":\"1018\",\"type\":\"LinearAxis\"}],\"plot_height\":300,\"plot_width\":300,\"renderers\":[{\"id\":\"1039\",\"type\":\"GlyphRenderer\"}],\"title\":{\"id\":\"1003\",\"type\":\"Title\"},\"toolbar\":{\"id\":\"1029\",\"type\":\"Toolbar\"},\"toolbar_location\":null,\"x_range\":{\"id\":\"1005\",\"type\":\"DataRange1d\"},\"x_scale\":{\"id\":\"1009\",\"type\":\"LinearScale\"},\"y_range\":{\"id\":\"1007\",\"type\":\"DataRange1d\"},\"y_scale\":{\"id\":\"1011\",\"type\":\"LinearScale\"}},\"id\":\"1002\",\"subtype\":\"Figure\",\"type\":\"Plot\"},{\"attributes\":{},\"id\":\"1026\",\"type\":\"SaveTool\"},{\"attributes\":{},\"id\":\"1027\",\"type\":\"ResetTool\"},{\"attributes\":{},\"id\":\"1028\",\"type\":\"HelpTool\"},{\"attributes\":{\"callback\":null},\"id\":\"1005\",\"type\":\"DataRange1d\"},{\"attributes\":{\"text\":\"Circles\"},\"id\":\"1003\",\"type\":\"Title\"},{\"attributes\":{\"below\":[{\"id\":\"1052\",\"type\":\"LinearAxis\"}],\"center\":[{\"id\":\"1056\",\"type\":\"Grid\"},{\"id\":\"1061\",\"type\":\"Grid\"}],\"left\":[{\"id\":\"1057\",\"type\":\"LinearAxis\"}],\"plot_height\":300,\"plot_width\":300,\"renderers\":[{\"id\":\"1078\",\"type\":\"GlyphRenderer\"}],\"title\":{\"id\":\"1042\",\"type\":\"Title\"},\"toolbar\":{\"id\":\"1068\",\"type\":\"Toolbar\"},\"toolbar_location\":null,\"x_range\":{\"id\":\"1044\",\"type\":\"DataRange1d\"},\"x_scale\":{\"id\":\"1048\",\"type\":\"LinearScale\"},\"y_range\":{\"id\":\"1046\",\"type\":\"DataRange1d\"},\"y_scale\":{\"id\":\"1050\",\"type\":\"LinearScale\"}},\"id\":\"1041\",\"subtype\":\"Figure\",\"type\":\"Plot\"},{\"attributes\":{\"data_source\":{\"id\":\"1036\",\"type\":\"ColumnDataSource\"},\"glyph\":{\"id\":\"1037\",\"type\":\"Circle\"},\"hover_glyph\":null,\"muted_glyph\":null,\"nonselection_glyph\":{\"id\":\"1038\",\"type\":\"Circle\"},\"selection_glyph\":null,\"view\":{\"id\":\"1040\",\"type\":\"CDSView\"}},\"id\":\"1039\",\"type\":\"GlyphRenderer\"},{\"attributes\":{\"source\":{\"id\":\"1036\",\"type\":\"ColumnDataSource\"}},\"id\":\"1040\",\"type\":\"CDSView\"},{\"attributes\":{\"fill_alpha\":{\"value\":0.8},\"fill_color\":{\"value\":\"red\"},\"line_alpha\":{\"value\":0.8},\"line_color\":{\"value\":\"red\"},\"size\":{\"units\":\"screen\",\"value\":10},\"x\":{\"field\":\"x\"},\"y\":{\"field\":\"y\"}},\"id\":\"1076\",\"type\":\"Triangle\"},{\"attributes\":{\"text\":\"Triangles\"},\"id\":\"1042\",\"type\":\"Title\"},{\"attributes\":{},\"id\":\"1024\",\"type\":\"WheelZoomTool\"},{\"attributes\":{\"callback\":null},\"id\":\"1044\",\"type\":\"DataRange1d\"},{\"attributes\":{},\"id\":\"1048\",\"type\":\"LinearScale\"},{\"attributes\":{\"callback\":null},\"id\":\"1046\",\"type\":\"DataRange1d\"},{\"attributes\":{},\"id\":\"1050\",\"type\":\"LinearScale\"},{\"attributes\":{\"formatter\":{\"id\":\"1132\",\"type\":\"BasicTickFormatter\"},\"ticker\":{\"id\":\"1053\",\"type\":\"BasicTicker\"}},\"id\":\"1052\",\"type\":\"LinearAxis\"},{\"attributes\":{},\"id\":\"1058\",\"type\":\"BasicTicker\"},{\"attributes\":{},\"id\":\"1053\",\"type\":\"BasicTicker\"},{\"attributes\":{\"ticker\":{\"id\":\"1053\",\"type\":\"BasicTicker\"}},\"id\":\"1056\",\"type\":\"Grid\"},{\"attributes\":{\"dimension\":1,\"ticker\":{\"id\":\"1058\",\"type\":\"BasicTicker\"}},\"id\":\"1061\",\"type\":\"Grid\"},{\"attributes\":{\"formatter\":{\"id\":\"1130\",\"type\":\"BasicTickFormatter\"},\"ticker\":{\"id\":\"1058\",\"type\":\"BasicTicker\"}},\"id\":\"1057\",\"type\":\"LinearAxis\"},{\"attributes\":{\"overlay\":{\"id\":\"1144\",\"type\":\"BoxAnnotation\"}},\"id\":\"1103\",\"type\":\"BoxZoomTool\"},{\"attributes\":{},\"id\":\"1104\",\"type\":\"SaveTool\"},{\"attributes\":{},\"id\":\"1105\",\"type\":\"ResetTool\"},{\"attributes\":{\"active_drag\":\"auto\",\"active_inspect\":\"auto\",\"active_multi\":null,\"active_scroll\":\"auto\",\"active_tap\":\"auto\",\"tools\":[{\"id\":\"1062\",\"type\":\"PanTool\"},{\"id\":\"1063\",\"type\":\"WheelZoomTool\"},{\"id\":\"1064\",\"type\":\"BoxZoomTool\"},{\"id\":\"1065\",\"type\":\"SaveTool\"},{\"id\":\"1066\",\"type\":\"ResetTool\"},{\"id\":\"1067\",\"type\":\"HelpTool\"}]},\"id\":\"1068\",\"type\":\"Toolbar\"},{\"attributes\":{\"callback\":null,\"data\":{\"x\":[95,80,54,90,86,165,175,150,153,150,208,155,160,190,97,150,130,140,150,112,76,87,69,86,92,97,80,88],\"y\":[2278,2126,2254,2408,2226,4274,4385,4135,4129,3672,4633,4502,4456,4422,2330,3892,4098,4294,4077,2933,2511,2979,2189,2395,2288,2506,2164,2100]},\"selected\":{\"id\":\"1134\",\"type\":\"Selection\"},\"selection_policy\":{\"id\":\"1133\",\"type\":\"UnionRenderers\"}},\"id\":\"1075\",\"type\":\"ColumnDataSource\"},{\"attributes\":{},\"id\":\"1106\",\"type\":\"HelpTool\"},{\"attributes\":{\"data_source\":{\"id\":\"1075\",\"type\":\"ColumnDataSource\"},\"glyph\":{\"id\":\"1076\",\"type\":\"Triangle\"},\"hover_glyph\":null,\"muted_glyph\":null,\"nonselection_glyph\":{\"id\":\"1077\",\"type\":\"Triangle\"},\"selection_glyph\":null,\"view\":{\"id\":\"1079\",\"type\":\"CDSView\"}},\"id\":\"1078\",\"type\":\"GlyphRenderer\"},{\"attributes\":{},\"id\":\"1062\",\"type\":\"PanTool\"},{\"attributes\":{\"active_drag\":\"auto\",\"active_inspect\":\"auto\",\"active_multi\":null,\"active_scroll\":\"auto\",\"active_tap\":\"auto\",\"tools\":[{\"id\":\"1101\",\"type\":\"PanTool\"},{\"id\":\"1102\",\"type\":\"WheelZoomTool\"},{\"id\":\"1103\",\"type\":\"BoxZoomTool\"},{\"id\":\"1104\",\"type\":\"SaveTool\"},{\"id\":\"1105\",\"type\":\"ResetTool\"},{\"id\":\"1106\",\"type\":\"HelpTool\"}]},\"id\":\"1107\",\"type\":\"Toolbar\"},{\"attributes\":{},\"id\":\"1063\",\"type\":\"WheelZoomTool\"},{\"attributes\":{\"overlay\":{\"id\":\"1135\",\"type\":\"BoxAnnotation\"}},\"id\":\"1064\",\"type\":\"BoxZoomTool\"},{\"attributes\":{},\"id\":\"1141\",\"type\":\"BasicTickFormatter\"},{\"attributes\":{},\"id\":\"1065\",\"type\":\"SaveTool\"},{\"attributes\":{\"source\":{\"id\":\"1114\",\"type\":\"ColumnDataSource\"}},\"id\":\"1118\",\"type\":\"CDSView\"},{\"attributes\":{},\"id\":\"1066\",\"type\":\"ResetTool\"},{\"attributes\":{},\"id\":\"1132\",\"type\":\"BasicTickFormatter\"},{\"attributes\":{\"toolbar\":{\"id\":\"1147\",\"type\":\"ProxyToolbar\"},\"toolbar_location\":\"above\"},\"id\":\"1148\",\"type\":\"ToolbarBox\"},{\"attributes\":{},\"id\":\"1067\",\"type\":\"HelpTool\"},{\"attributes\":{},\"id\":\"1121\",\"type\":\"BasicTickFormatter\"},{\"attributes\":{},\"id\":\"1123\",\"type\":\"BasicTickFormatter\"},{\"attributes\":{\"text\":\"Squares\"},\"id\":\"1081\",\"type\":\"Title\"},{\"attributes\":{},\"id\":\"1124\",\"type\":\"UnionRenderers\"},{\"attributes\":{\"below\":[{\"id\":\"1091\",\"type\":\"LinearAxis\"}],\"center\":[{\"id\":\"1095\",\"type\":\"Grid\"},{\"id\":\"1100\",\"type\":\"Grid\"}],\"left\":[{\"id\":\"1096\",\"type\":\"LinearAxis\"}],\"plot_height\":300,\"plot_width\":300,\"renderers\":[{\"id\":\"1117\",\"type\":\"GlyphRenderer\"}],\"title\":{\"id\":\"1081\",\"type\":\"Title\"},\"toolbar\":{\"id\":\"1107\",\"type\":\"Toolbar\"},\"toolbar_location\":null,\"x_range\":{\"id\":\"1083\",\"type\":\"DataRange1d\"},\"x_scale\":{\"id\":\"1087\",\"type\":\"LinearScale\"},\"y_range\":{\"id\":\"1085\",\"type\":\"DataRange1d\"},\"y_scale\":{\"id\":\"1089\",\"type\":\"LinearScale\"}},\"id\":\"1080\",\"subtype\":\"Figure\",\"type\":\"Plot\"},{\"attributes\":{},\"id\":\"1125\",\"type\":\"Selection\"},{\"attributes\":{\"source\":{\"id\":\"1075\",\"type\":\"ColumnDataSource\"}},\"id\":\"1079\",\"type\":\"CDSView\"},{\"attributes\":{\"bottom_units\":\"screen\",\"fill_alpha\":{\"value\":0.5},\"fill_color\":{\"value\":\"lightgrey\"},\"left_units\":\"screen\",\"level\":\"overlay\",\"line_alpha\":{\"value\":1.0},\"line_color\":{\"value\":\"black\"},\"line_dash\":[4,4],\"line_width\":{\"value\":2},\"render_mode\":\"css\",\"right_units\":\"screen\",\"top_units\":\"screen\"},\"id\":\"1126\",\"type\":\"BoxAnnotation\"},{\"attributes\":{\"tools\":[{\"id\":\"1023\",\"type\":\"PanTool\"},{\"id\":\"1024\",\"type\":\"WheelZoomTool\"},{\"id\":\"1025\",\"type\":\"BoxZoomTool\"},{\"id\":\"1026\",\"type\":\"SaveTool\"},{\"id\":\"1027\",\"type\":\"ResetTool\"},{\"id\":\"1028\",\"type\":\"HelpTool\"},{\"id\":\"1062\",\"type\":\"PanTool\"},{\"id\":\"1063\",\"type\":\"WheelZoomTool\"},{\"id\":\"1064\",\"type\":\"BoxZoomTool\"},{\"id\":\"1065\",\"type\":\"SaveTool\"},{\"id\":\"1066\",\"type\":\"ResetTool\"},{\"id\":\"1067\",\"type\":\"HelpTool\"},{\"id\":\"1101\",\"type\":\"PanTool\"},{\"id\":\"1102\",\"type\":\"WheelZoomTool\"},{\"id\":\"1103\",\"type\":\"BoxZoomTool\"},{\"id\":\"1104\",\"type\":\"SaveTool\"},{\"id\":\"1105\",\"type\":\"ResetTool\"},{\"id\":\"1106\",\"type\":\"HelpTool\"}]},\"id\":\"1147\",\"type\":\"ProxyToolbar\"},{\"attributes\":{\"callback\":null},\"id\":\"1083\",\"type\":\"DataRange1d\"},{\"attributes\":{},\"id\":\"1130\",\"type\":\"BasicTickFormatter\"},{\"attributes\":{},\"id\":\"1087\",\"type\":\"LinearScale\"},{\"attributes\":{\"fill_alpha\":{\"value\":0.1},\"fill_color\":{\"value\":\"#1f77b4\"},\"line_alpha\":{\"value\":0.1},\"line_color\":{\"value\":\"#1f77b4\"},\"size\":{\"units\":\"screen\",\"value\":10},\"x\":{\"field\":\"x\"},\"y\":{\"field\":\"y\"}},\"id\":\"1077\",\"type\":\"Triangle\"},{\"attributes\":{},\"id\":\"1133\",\"type\":\"UnionRenderers\"},{\"attributes\":{},\"id\":\"1134\",\"type\":\"Selection\"},{\"attributes\":{\"callback\":null},\"id\":\"1085\",\"type\":\"DataRange1d\"},{\"attributes\":{\"bottom_units\":\"screen\",\"fill_alpha\":{\"value\":0.5},\"fill_color\":{\"value\":\"lightgrey\"},\"left_units\":\"screen\",\"level\":\"overlay\",\"line_alpha\":{\"value\":1.0},\"line_color\":{\"value\":\"black\"},\"line_dash\":[4,4],\"line_width\":{\"value\":2},\"render_mode\":\"css\",\"right_units\":\"screen\",\"top_units\":\"screen\"},\"id\":\"1135\",\"type\":\"BoxAnnotation\"},{\"attributes\":{},\"id\":\"1089\",\"type\":\"LinearScale\"},{\"attributes\":{\"formatter\":{\"id\":\"1141\",\"type\":\"BasicTickFormatter\"},\"ticker\":{\"id\":\"1092\",\"type\":\"BasicTicker\"}},\"id\":\"1091\",\"type\":\"LinearAxis\"},{\"attributes\":{},\"id\":\"1097\",\"type\":\"BasicTicker\"},{\"attributes\":{},\"id\":\"1139\",\"type\":\"BasicTickFormatter\"},{\"attributes\":{},\"id\":\"1092\",\"type\":\"BasicTicker\"},{\"attributes\":{},\"id\":\"1142\",\"type\":\"UnionRenderers\"},{\"attributes\":{\"ticker\":{\"id\":\"1092\",\"type\":\"BasicTicker\"}},\"id\":\"1095\",\"type\":\"Grid\"},{\"attributes\":{},\"id\":\"1143\",\"type\":\"Selection\"},{\"attributes\":{\"dimension\":1,\"ticker\":{\"id\":\"1097\",\"type\":\"BasicTicker\"}},\"id\":\"1100\",\"type\":\"Grid\"},{\"attributes\":{\"formatter\":{\"id\":\"1139\",\"type\":\"BasicTickFormatter\"},\"ticker\":{\"id\":\"1097\",\"type\":\"BasicTicker\"}},\"id\":\"1096\",\"type\":\"LinearAxis\"},{\"attributes\":{\"bottom_units\":\"screen\",\"fill_alpha\":{\"value\":0.5},\"fill_color\":{\"value\":\"lightgrey\"},\"left_units\":\"screen\",\"level\":\"overlay\",\"line_alpha\":{\"value\":1.0},\"line_color\":{\"value\":\"black\"},\"line_dash\":[4,4],\"line_width\":{\"value\":2},\"render_mode\":\"css\",\"right_units\":\"screen\",\"top_units\":\"screen\"},\"id\":\"1144\",\"type\":\"BoxAnnotation\"},{\"attributes\":{},\"id\":\"1009\",\"type\":\"LinearScale\"},{\"attributes\":{\"callback\":null,\"data\":{\"x\":[175,150,145,137,150,198,150,158,150,215,225,175,105,100,100,88,95,46,150,167,170,180,100,88,72,94,90,85,107,90,145,230,49,75,91,112,150,110,122,180],\"y\":[4100,3672,3988,4042,3777,4952,4464,4363,4237,4735,4951,3821,3121,3278,2945,3021,2904,1950,4997,4906,4654,4499,2789,2279,2401,2379,2124,2310,2472,2265,4082,4278,1867,2158,2582,2868,3399,2660,2807,3664]},\"selected\":{\"id\":\"1143\",\"type\":\"Selection\"},\"selection_policy\":{\"id\":\"1142\",\"type\":\"UnionRenderers\"}},\"id\":\"1114\",\"type\":\"ColumnDataSource\"},{\"attributes\":{\"fill_alpha\":{\"value\":0.8},\"fill_color\":{\"value\":\"orange\"},\"line_alpha\":{\"value\":0.8},\"line_color\":{\"value\":\"orange\"},\"size\":{\"units\":\"screen\",\"value\":10},\"x\":{\"field\":\"x\"},\"y\":{\"field\":\"y\"}},\"id\":\"1115\",\"type\":\"Square\"},{\"attributes\":{\"fill_alpha\":{\"value\":0.1},\"fill_color\":{\"value\":\"#1f77b4\"},\"line_alpha\":{\"value\":0.1},\"line_color\":{\"value\":\"#1f77b4\"},\"size\":{\"units\":\"screen\",\"value\":10},\"x\":{\"field\":\"x\"},\"y\":{\"field\":\"y\"}},\"id\":\"1116\",\"type\":\"Square\"},{\"attributes\":{\"children\":[[{\"id\":\"1002\",\"subtype\":\"Figure\",\"type\":\"Plot\"},0,0],[{\"id\":\"1041\",\"subtype\":\"Figure\",\"type\":\"Plot\"},0,1],[{\"id\":\"1080\",\"subtype\":\"Figure\",\"type\":\"Plot\"},1,1]]},\"id\":\"1146\",\"type\":\"GridBox\"},{\"attributes\":{\"data_source\":{\"id\":\"1114\",\"type\":\"ColumnDataSource\"},\"glyph\":{\"id\":\"1115\",\"type\":\"Square\"},\"hover_glyph\":null,\"muted_glyph\":null,\"nonselection_glyph\":{\"id\":\"1116\",\"type\":\"Square\"},\"selection_glyph\":null,\"view\":{\"id\":\"1118\",\"type\":\"CDSView\"}},\"id\":\"1117\",\"type\":\"GlyphRenderer\"},{\"attributes\":{},\"id\":\"1101\",\"type\":\"PanTool\"},{\"attributes\":{\"callback\":null},\"id\":\"1007\",\"type\":\"DataRange1d\"},{\"attributes\":{},\"id\":\"1102\",\"type\":\"WheelZoomTool\"},{\"attributes\":{},\"id\":\"1011\",\"type\":\"LinearScale\"},{\"attributes\":{},\"id\":\"1014\",\"type\":\"BasicTicker\"},{\"attributes\":{\"formatter\":{\"id\":\"1123\",\"type\":\"BasicTickFormatter\"},\"ticker\":{\"id\":\"1014\",\"type\":\"BasicTicker\"}},\"id\":\"1013\",\"type\":\"LinearAxis\"}],\"root_ids\":[\"1149\"]},\"title\":\"Bokeh Application\",\"version\":\"1.3.4\"}};\n",
       "  var render_items = [{\"docid\":\"13a2af20-5934-49d3-a724-589c3b94a020\",\"roots\":{\"1149\":\"27014e8c-58bb-404a-a812-d631a20b87ea\"}}];\n",
       "  root.Bokeh.embed.embed_items_notebook(docs_json, render_items);\n",
       "\n",
       "  }\n",
       "  if (root.Bokeh !== undefined) {\n",
       "    embed_document(root);\n",
       "  } else {\n",
       "    var attempts = 0;\n",
       "    var timer = setInterval(function(root) {\n",
       "      if (root.Bokeh !== undefined) {\n",
       "        embed_document(root);\n",
       "        clearInterval(timer);\n",
       "      }\n",
       "      attempts++;\n",
       "      if (attempts > 100) {\n",
       "        console.log(\"Bokeh: ERROR: Unable to run BokehJS code because BokehJS library is missing\");\n",
       "        clearInterval(timer);\n",
       "      }\n",
       "    }, 10, root)\n",
       "  }\n",
       "})(window);"
      ],
      "application/vnd.bokehjs_exec.v0+json": ""
     },
     "metadata": {
      "application/vnd.bokehjs_exec.v0+json": {
       "id": "1149"
      }
     },
     "output_type": "display_data"
    }
   ],
   "source": [
    "auto_70 = autompg[autompg.yr == 70]\n",
    "f0 = figure(width = 300, plot_height = 300, title = 'Circles')\n",
    "f0.circle(x = auto_70.hp, y = auto_70.weight, \n",
    "          size = 10, color = 'navy', alpha = 0.8)\n",
    "\n",
    "auto_72 = autompg[autompg.yr == 72]\n",
    "f2 = figure(width = 300, plot_height = 300, title = 'Triangles')\n",
    "f2.triangle(x = auto_72.hp, y = auto_72.weight, \n",
    "          size = 10, color = 'red', alpha = 0.8)\n",
    "\n",
    "auto_73 = autompg[autompg.yr == 73]\n",
    "f3 = figure(width = 300, plot_height = 300, title = 'Squares')\n",
    "f3.square(x = auto_73.hp, y = auto_73.weight, \n",
    "          size = 10, color = 'orange', alpha = 0.8)\n",
    "\n",
    "# Put all plots in a grid layout\n",
    "f = gridplot([[f0, f2], [None, f3]])\n",
    "\n",
    "show(f)"
   ]
  },
  {
   "cell_type": "markdown",
   "metadata": {},
   "source": [
    "## By rows"
   ]
  },
  {
   "cell_type": "code",
   "execution_count": 4,
   "metadata": {},
   "outputs": [
    {
     "data": {
      "text/html": [
       "\n",
       "\n",
       "\n",
       "\n",
       "\n",
       "\n",
       "  <div class=\"bk-root\" id=\"55f2d6ce-57e8-4632-b9f6-0e8f8fb0b0a7\" data-root-id=\"1318\"></div>\n"
      ]
     },
     "metadata": {},
     "output_type": "display_data"
    },
    {
     "data": {
      "application/javascript": [
       "(function(root) {\n",
       "  function embed_document(root) {\n",
       "    \n",
       "  var docs_json = {\"0a30fb00-2fef-4763-bd9d-0b812cd74e2b\":{\"roots\":{\"references\":[{\"attributes\":{\"children\":[{\"id\":\"1002\",\"subtype\":\"Figure\",\"type\":\"Plot\"},{\"id\":\"1080\",\"subtype\":\"Figure\",\"type\":\"Plot\"}],\"sizing_mode\":\"scale_both\"},\"id\":\"1318\",\"type\":\"Row\"},{\"attributes\":{\"ticker\":{\"id\":\"1014\",\"type\":\"BasicTicker\"}},\"id\":\"1017\",\"type\":\"Grid\"},{\"attributes\":{\"data_source\":{\"id\":\"1036\",\"type\":\"ColumnDataSource\"},\"glyph\":{\"id\":\"1037\",\"type\":\"Circle\"},\"hover_glyph\":null,\"muted_glyph\":null,\"nonselection_glyph\":{\"id\":\"1038\",\"type\":\"Circle\"},\"selection_glyph\":null,\"view\":{\"id\":\"1040\",\"type\":\"CDSView\"}},\"id\":\"1039\",\"type\":\"GlyphRenderer\"},{\"attributes\":{\"callback\":null},\"id\":\"1083\",\"type\":\"DataRange1d\"},{\"attributes\":{},\"id\":\"1104\",\"type\":\"SaveTool\"},{\"attributes\":{},\"id\":\"1087\",\"type\":\"LinearScale\"},{\"attributes\":{},\"id\":\"1019\",\"type\":\"BasicTicker\"},{\"attributes\":{},\"id\":\"1105\",\"type\":\"ResetTool\"},{\"attributes\":{\"active_drag\":\"auto\",\"active_inspect\":\"auto\",\"active_multi\":null,\"active_scroll\":\"auto\",\"active_tap\":\"auto\",\"tools\":[{\"id\":\"1023\",\"type\":\"PanTool\"},{\"id\":\"1024\",\"type\":\"WheelZoomTool\"},{\"id\":\"1025\",\"type\":\"BoxZoomTool\"},{\"id\":\"1026\",\"type\":\"SaveTool\"},{\"id\":\"1027\",\"type\":\"ResetTool\"},{\"id\":\"1028\",\"type\":\"HelpTool\"}]},\"id\":\"1029\",\"type\":\"Toolbar\"},{\"attributes\":{\"source\":{\"id\":\"1036\",\"type\":\"ColumnDataSource\"}},\"id\":\"1040\",\"type\":\"CDSView\"},{\"attributes\":{\"dimension\":1,\"ticker\":{\"id\":\"1019\",\"type\":\"BasicTicker\"}},\"id\":\"1022\",\"type\":\"Grid\"},{\"attributes\":{\"callback\":null},\"id\":\"1085\",\"type\":\"DataRange1d\"},{\"attributes\":{\"formatter\":{\"id\":\"1121\",\"type\":\"BasicTickFormatter\"},\"ticker\":{\"id\":\"1019\",\"type\":\"BasicTicker\"}},\"id\":\"1018\",\"type\":\"LinearAxis\"},{\"attributes\":{},\"id\":\"1014\",\"type\":\"BasicTicker\"},{\"attributes\":{},\"id\":\"1106\",\"type\":\"HelpTool\"},{\"attributes\":{},\"id\":\"1089\",\"type\":\"LinearScale\"},{\"attributes\":{\"active_drag\":\"auto\",\"active_inspect\":\"auto\",\"active_multi\":null,\"active_scroll\":\"auto\",\"active_tap\":\"auto\",\"tools\":[{\"id\":\"1101\",\"type\":\"PanTool\"},{\"id\":\"1102\",\"type\":\"WheelZoomTool\"},{\"id\":\"1103\",\"type\":\"BoxZoomTool\"},{\"id\":\"1104\",\"type\":\"SaveTool\"},{\"id\":\"1105\",\"type\":\"ResetTool\"},{\"id\":\"1106\",\"type\":\"HelpTool\"}]},\"id\":\"1107\",\"type\":\"Toolbar\"},{\"attributes\":{\"formatter\":{\"id\":\"1141\",\"type\":\"BasicTickFormatter\"},\"ticker\":{\"id\":\"1092\",\"type\":\"BasicTicker\"}},\"id\":\"1091\",\"type\":\"LinearAxis\"},{\"attributes\":{\"fill_alpha\":{\"value\":0.8},\"fill_color\":{\"value\":\"navy\"},\"line_alpha\":{\"value\":0.8},\"line_color\":{\"value\":\"navy\"},\"size\":{\"units\":\"screen\",\"value\":10},\"x\":{\"field\":\"x\"},\"y\":{\"field\":\"y\"}},\"id\":\"1037\",\"type\":\"Circle\"},{\"attributes\":{},\"id\":\"1097\",\"type\":\"BasicTicker\"},{\"attributes\":{},\"id\":\"1139\",\"type\":\"BasicTickFormatter\"},{\"attributes\":{},\"id\":\"1092\",\"type\":\"BasicTicker\"},{\"attributes\":{},\"id\":\"1141\",\"type\":\"BasicTickFormatter\"},{\"attributes\":{\"fill_alpha\":{\"value\":0.1},\"fill_color\":{\"value\":\"#1f77b4\"},\"line_alpha\":{\"value\":0.1},\"line_color\":{\"value\":\"#1f77b4\"},\"size\":{\"units\":\"screen\",\"value\":10},\"x\":{\"field\":\"x\"},\"y\":{\"field\":\"y\"}},\"id\":\"1038\",\"type\":\"Circle\"},{\"attributes\":{},\"id\":\"1142\",\"type\":\"UnionRenderers\"},{\"attributes\":{\"ticker\":{\"id\":\"1092\",\"type\":\"BasicTicker\"}},\"id\":\"1095\",\"type\":\"Grid\"},{\"attributes\":{\"callback\":null,\"data\":{\"x\":[130,165,150,150,140,198,220,215,225,190,170,160,150,225,95,95,97,85,88,46,87,90,95,113,90,215,200,210,193],\"y\":[3504,3693,3436,3433,3449,4341,4354,4312,4425,3850,3563,3609,3761,3086,2372,2833,2774,2587,2130,1835,2672,2430,2375,2234,2648,4615,4376,4382,4732]},\"selected\":{\"id\":\"1125\",\"type\":\"Selection\"},\"selection_policy\":{\"id\":\"1124\",\"type\":\"UnionRenderers\"}},\"id\":\"1036\",\"type\":\"ColumnDataSource\"},{\"attributes\":{},\"id\":\"1024\",\"type\":\"WheelZoomTool\"},{\"attributes\":{\"source\":{\"id\":\"1114\",\"type\":\"ColumnDataSource\"}},\"id\":\"1118\",\"type\":\"CDSView\"},{\"attributes\":{},\"id\":\"1143\",\"type\":\"Selection\"},{\"attributes\":{\"dimension\":1,\"ticker\":{\"id\":\"1097\",\"type\":\"BasicTicker\"}},\"id\":\"1100\",\"type\":\"Grid\"},{\"attributes\":{\"formatter\":{\"id\":\"1139\",\"type\":\"BasicTickFormatter\"},\"ticker\":{\"id\":\"1097\",\"type\":\"BasicTicker\"}},\"id\":\"1096\",\"type\":\"LinearAxis\"},{\"attributes\":{},\"id\":\"1023\",\"type\":\"PanTool\"},{\"attributes\":{\"bottom_units\":\"screen\",\"fill_alpha\":{\"value\":0.5},\"fill_color\":{\"value\":\"lightgrey\"},\"left_units\":\"screen\",\"level\":\"overlay\",\"line_alpha\":{\"value\":1.0},\"line_color\":{\"value\":\"black\"},\"line_dash\":[4,4],\"line_width\":{\"value\":2},\"render_mode\":\"css\",\"right_units\":\"screen\",\"top_units\":\"screen\"},\"id\":\"1144\",\"type\":\"BoxAnnotation\"},{\"attributes\":{},\"id\":\"1121\",\"type\":\"BasicTickFormatter\"},{\"attributes\":{\"overlay\":{\"id\":\"1126\",\"type\":\"BoxAnnotation\"}},\"id\":\"1025\",\"type\":\"BoxZoomTool\"},{\"attributes\":{},\"id\":\"1009\",\"type\":\"LinearScale\"},{\"attributes\":{\"below\":[{\"id\":\"1013\",\"type\":\"LinearAxis\"}],\"center\":[{\"id\":\"1017\",\"type\":\"Grid\"},{\"id\":\"1022\",\"type\":\"Grid\"}],\"left\":[{\"id\":\"1018\",\"type\":\"LinearAxis\"}],\"plot_height\":300,\"plot_width\":300,\"renderers\":[{\"id\":\"1039\",\"type\":\"GlyphRenderer\"}],\"sizing_mode\":\"scale_both\",\"title\":{\"id\":\"1003\",\"type\":\"Title\"},\"toolbar\":{\"id\":\"1029\",\"type\":\"Toolbar\"},\"toolbar_location\":null,\"x_range\":{\"id\":\"1005\",\"type\":\"DataRange1d\"},\"x_scale\":{\"id\":\"1009\",\"type\":\"LinearScale\"},\"y_range\":{\"id\":\"1007\",\"type\":\"DataRange1d\"},\"y_scale\":{\"id\":\"1011\",\"type\":\"LinearScale\"}},\"id\":\"1002\",\"subtype\":\"Figure\",\"type\":\"Plot\"},{\"attributes\":{\"callback\":null,\"data\":{\"x\":[175,150,145,137,150,198,150,158,150,215,225,175,105,100,100,88,95,46,150,167,170,180,100,88,72,94,90,85,107,90,145,230,49,75,91,112,150,110,122,180],\"y\":[4100,3672,3988,4042,3777,4952,4464,4363,4237,4735,4951,3821,3121,3278,2945,3021,2904,1950,4997,4906,4654,4499,2789,2279,2401,2379,2124,2310,2472,2265,4082,4278,1867,2158,2582,2868,3399,2660,2807,3664]},\"selected\":{\"id\":\"1143\",\"type\":\"Selection\"},\"selection_policy\":{\"id\":\"1142\",\"type\":\"UnionRenderers\"}},\"id\":\"1114\",\"type\":\"ColumnDataSource\"},{\"attributes\":{},\"id\":\"1026\",\"type\":\"SaveTool\"},{\"attributes\":{\"fill_alpha\":{\"value\":0.8},\"fill_color\":{\"value\":\"orange\"},\"line_alpha\":{\"value\":0.8},\"line_color\":{\"value\":\"orange\"},\"size\":{\"units\":\"screen\",\"value\":10},\"x\":{\"field\":\"x\"},\"y\":{\"field\":\"y\"}},\"id\":\"1115\",\"type\":\"Square\"},{\"attributes\":{\"overlay\":{\"id\":\"1144\",\"type\":\"BoxAnnotation\"}},\"id\":\"1103\",\"type\":\"BoxZoomTool\"},{\"attributes\":{},\"id\":\"1123\",\"type\":\"BasicTickFormatter\"},{\"attributes\":{\"text\":\"Squares\"},\"id\":\"1081\",\"type\":\"Title\"},{\"attributes\":{},\"id\":\"1027\",\"type\":\"ResetTool\"},{\"attributes\":{\"fill_alpha\":{\"value\":0.1},\"fill_color\":{\"value\":\"#1f77b4\"},\"line_alpha\":{\"value\":0.1},\"line_color\":{\"value\":\"#1f77b4\"},\"size\":{\"units\":\"screen\",\"value\":10},\"x\":{\"field\":\"x\"},\"y\":{\"field\":\"y\"}},\"id\":\"1116\",\"type\":\"Square\"},{\"attributes\":{},\"id\":\"1124\",\"type\":\"UnionRenderers\"},{\"attributes\":{\"data_source\":{\"id\":\"1114\",\"type\":\"ColumnDataSource\"},\"glyph\":{\"id\":\"1115\",\"type\":\"Square\"},\"hover_glyph\":null,\"muted_glyph\":null,\"nonselection_glyph\":{\"id\":\"1116\",\"type\":\"Square\"},\"selection_glyph\":null,\"view\":{\"id\":\"1118\",\"type\":\"CDSView\"}},\"id\":\"1117\",\"type\":\"GlyphRenderer\"},{\"attributes\":{\"below\":[{\"id\":\"1091\",\"type\":\"LinearAxis\"}],\"center\":[{\"id\":\"1095\",\"type\":\"Grid\"},{\"id\":\"1100\",\"type\":\"Grid\"}],\"left\":[{\"id\":\"1096\",\"type\":\"LinearAxis\"}],\"plot_height\":300,\"plot_width\":300,\"renderers\":[{\"id\":\"1117\",\"type\":\"GlyphRenderer\"}],\"sizing_mode\":\"scale_both\",\"title\":{\"id\":\"1081\",\"type\":\"Title\"},\"toolbar\":{\"id\":\"1107\",\"type\":\"Toolbar\"},\"toolbar_location\":null,\"x_range\":{\"id\":\"1083\",\"type\":\"DataRange1d\"},\"x_scale\":{\"id\":\"1087\",\"type\":\"LinearScale\"},\"y_range\":{\"id\":\"1085\",\"type\":\"DataRange1d\"},\"y_scale\":{\"id\":\"1089\",\"type\":\"LinearScale\"}},\"id\":\"1080\",\"subtype\":\"Figure\",\"type\":\"Plot\"},{\"attributes\":{\"callback\":null},\"id\":\"1007\",\"type\":\"DataRange1d\"},{\"attributes\":{\"callback\":null},\"id\":\"1005\",\"type\":\"DataRange1d\"},{\"attributes\":{},\"id\":\"1028\",\"type\":\"HelpTool\"},{\"attributes\":{},\"id\":\"1101\",\"type\":\"PanTool\"},{\"attributes\":{},\"id\":\"1125\",\"type\":\"Selection\"},{\"attributes\":{},\"id\":\"1011\",\"type\":\"LinearScale\"},{\"attributes\":{},\"id\":\"1102\",\"type\":\"WheelZoomTool\"},{\"attributes\":{\"bottom_units\":\"screen\",\"fill_alpha\":{\"value\":0.5},\"fill_color\":{\"value\":\"lightgrey\"},\"left_units\":\"screen\",\"level\":\"overlay\",\"line_alpha\":{\"value\":1.0},\"line_color\":{\"value\":\"black\"},\"line_dash\":[4,4],\"line_width\":{\"value\":2},\"render_mode\":\"css\",\"right_units\":\"screen\",\"top_units\":\"screen\"},\"id\":\"1126\",\"type\":\"BoxAnnotation\"},{\"attributes\":{\"text\":\"Circles\"},\"id\":\"1003\",\"type\":\"Title\"},{\"attributes\":{\"formatter\":{\"id\":\"1123\",\"type\":\"BasicTickFormatter\"},\"ticker\":{\"id\":\"1014\",\"type\":\"BasicTicker\"}},\"id\":\"1013\",\"type\":\"LinearAxis\"}],\"root_ids\":[\"1318\"]},\"title\":\"Bokeh Application\",\"version\":\"1.3.4\"}};\n",
       "  var render_items = [{\"docid\":\"0a30fb00-2fef-4763-bd9d-0b812cd74e2b\",\"roots\":{\"1318\":\"55f2d6ce-57e8-4632-b9f6-0e8f8fb0b0a7\"}}];\n",
       "  root.Bokeh.embed.embed_items_notebook(docs_json, render_items);\n",
       "\n",
       "  }\n",
       "  if (root.Bokeh !== undefined) {\n",
       "    embed_document(root);\n",
       "  } else {\n",
       "    var attempts = 0;\n",
       "    var timer = setInterval(function(root) {\n",
       "      if (root.Bokeh !== undefined) {\n",
       "        embed_document(root);\n",
       "        clearInterval(timer);\n",
       "      }\n",
       "      attempts++;\n",
       "      if (attempts > 100) {\n",
       "        console.log(\"Bokeh: ERROR: Unable to run BokehJS code because BokehJS library is missing\");\n",
       "        clearInterval(timer);\n",
       "      }\n",
       "    }, 10, root)\n",
       "  }\n",
       "})(window);"
      ],
      "application/vnd.bokehjs_exec.v0+json": ""
     },
     "metadata": {
      "application/vnd.bokehjs_exec.v0+json": {
       "id": "1318"
      }
     },
     "output_type": "display_data"
    }
   ],
   "source": [
    "from bokeh.layouts import row\n",
    "show(row(f0, f3, sizing_mode = 'scale_both'))\n",
    "# row omitts the bokeh's control panel"
   ]
  },
  {
   "cell_type": "code",
   "execution_count": null,
   "metadata": {},
   "outputs": [],
   "source": []
  },
  {
   "cell_type": "code",
   "execution_count": 5,
   "metadata": {
    "scrolled": false
   },
   "outputs": [
    {
     "data": {
      "text/html": [
       "\n",
       "\n",
       "\n",
       "\n",
       "\n",
       "\n",
       "  <div class=\"bk-root\" id=\"3486a15b-2e0e-4111-8755-f0583fd20734\" data-root-id=\"1455\"></div>\n"
      ]
     },
     "metadata": {},
     "output_type": "display_data"
    },
    {
     "data": {
      "application/javascript": [
       "(function(root) {\n",
       "  function embed_document(root) {\n",
       "    \n",
       "  var docs_json = {\"8c98ddbe-d99c-420c-b518-51cea5568314\":{\"roots\":{\"references\":[{\"attributes\":{\"children\":[{\"id\":\"1002\",\"subtype\":\"Figure\",\"type\":\"Plot\"},{\"id\":\"1041\",\"subtype\":\"Figure\",\"type\":\"Plot\"}]},\"id\":\"1455\",\"type\":\"Column\"},{\"attributes\":{\"below\":[{\"id\":\"1052\",\"type\":\"LinearAxis\"}],\"center\":[{\"id\":\"1056\",\"type\":\"Grid\"},{\"id\":\"1061\",\"type\":\"Grid\"}],\"left\":[{\"id\":\"1057\",\"type\":\"LinearAxis\"}],\"plot_height\":300,\"plot_width\":300,\"renderers\":[{\"id\":\"1078\",\"type\":\"GlyphRenderer\"}],\"title\":{\"id\":\"1042\",\"type\":\"Title\"},\"toolbar\":{\"id\":\"1068\",\"type\":\"Toolbar\"},\"toolbar_location\":null,\"x_range\":{\"id\":\"1044\",\"type\":\"DataRange1d\"},\"x_scale\":{\"id\":\"1048\",\"type\":\"LinearScale\"},\"y_range\":{\"id\":\"1046\",\"type\":\"DataRange1d\"},\"y_scale\":{\"id\":\"1050\",\"type\":\"LinearScale\"}},\"id\":\"1041\",\"subtype\":\"Figure\",\"type\":\"Plot\"},{\"attributes\":{\"ticker\":{\"id\":\"1014\",\"type\":\"BasicTicker\"}},\"id\":\"1017\",\"type\":\"Grid\"},{\"attributes\":{\"data_source\":{\"id\":\"1036\",\"type\":\"ColumnDataSource\"},\"glyph\":{\"id\":\"1037\",\"type\":\"Circle\"},\"hover_glyph\":null,\"muted_glyph\":null,\"nonselection_glyph\":{\"id\":\"1038\",\"type\":\"Circle\"},\"selection_glyph\":null,\"view\":{\"id\":\"1040\",\"type\":\"CDSView\"}},\"id\":\"1039\",\"type\":\"GlyphRenderer\"},{\"attributes\":{},\"id\":\"1130\",\"type\":\"BasicTickFormatter\"},{\"attributes\":{},\"id\":\"1019\",\"type\":\"BasicTicker\"},{\"attributes\":{\"fill_alpha\":{\"value\":0.1},\"fill_color\":{\"value\":\"#1f77b4\"},\"line_alpha\":{\"value\":0.1},\"line_color\":{\"value\":\"#1f77b4\"},\"size\":{\"units\":\"screen\",\"value\":10},\"x\":{\"field\":\"x\"},\"y\":{\"field\":\"y\"}},\"id\":\"1077\",\"type\":\"Triangle\"},{\"attributes\":{},\"id\":\"1133\",\"type\":\"UnionRenderers\"},{\"attributes\":{\"active_drag\":\"auto\",\"active_inspect\":\"auto\",\"active_multi\":null,\"active_scroll\":\"auto\",\"active_tap\":\"auto\",\"tools\":[{\"id\":\"1023\",\"type\":\"PanTool\"},{\"id\":\"1024\",\"type\":\"WheelZoomTool\"},{\"id\":\"1025\",\"type\":\"BoxZoomTool\"},{\"id\":\"1026\",\"type\":\"SaveTool\"},{\"id\":\"1027\",\"type\":\"ResetTool\"},{\"id\":\"1028\",\"type\":\"HelpTool\"}]},\"id\":\"1029\",\"type\":\"Toolbar\"},{\"attributes\":{\"active_drag\":\"auto\",\"active_inspect\":\"auto\",\"active_multi\":null,\"active_scroll\":\"auto\",\"active_tap\":\"auto\",\"tools\":[{\"id\":\"1062\",\"type\":\"PanTool\"},{\"id\":\"1063\",\"type\":\"WheelZoomTool\"},{\"id\":\"1064\",\"type\":\"BoxZoomTool\"},{\"id\":\"1065\",\"type\":\"SaveTool\"},{\"id\":\"1066\",\"type\":\"ResetTool\"},{\"id\":\"1067\",\"type\":\"HelpTool\"}]},\"id\":\"1068\",\"type\":\"Toolbar\"},{\"attributes\":{\"source\":{\"id\":\"1036\",\"type\":\"ColumnDataSource\"}},\"id\":\"1040\",\"type\":\"CDSView\"},{\"attributes\":{},\"id\":\"1134\",\"type\":\"Selection\"},{\"attributes\":{\"dimension\":1,\"ticker\":{\"id\":\"1019\",\"type\":\"BasicTicker\"}},\"id\":\"1022\",\"type\":\"Grid\"},{\"attributes\":{\"callback\":null,\"data\":{\"x\":[95,80,54,90,86,165,175,150,153,150,208,155,160,190,97,150,130,140,150,112,76,87,69,86,92,97,80,88],\"y\":[2278,2126,2254,2408,2226,4274,4385,4135,4129,3672,4633,4502,4456,4422,2330,3892,4098,4294,4077,2933,2511,2979,2189,2395,2288,2506,2164,2100]},\"selected\":{\"id\":\"1134\",\"type\":\"Selection\"},\"selection_policy\":{\"id\":\"1133\",\"type\":\"UnionRenderers\"}},\"id\":\"1075\",\"type\":\"ColumnDataSource\"},{\"attributes\":{\"data_source\":{\"id\":\"1075\",\"type\":\"ColumnDataSource\"},\"glyph\":{\"id\":\"1076\",\"type\":\"Triangle\"},\"hover_glyph\":null,\"muted_glyph\":null,\"nonselection_glyph\":{\"id\":\"1077\",\"type\":\"Triangle\"},\"selection_glyph\":null,\"view\":{\"id\":\"1079\",\"type\":\"CDSView\"}},\"id\":\"1078\",\"type\":\"GlyphRenderer\"},{\"attributes\":{\"formatter\":{\"id\":\"1121\",\"type\":\"BasicTickFormatter\"},\"ticker\":{\"id\":\"1019\",\"type\":\"BasicTicker\"}},\"id\":\"1018\",\"type\":\"LinearAxis\"},{\"attributes\":{},\"id\":\"1014\",\"type\":\"BasicTicker\"},{\"attributes\":{\"fill_alpha\":{\"value\":0.8},\"fill_color\":{\"value\":\"red\"},\"line_alpha\":{\"value\":0.8},\"line_color\":{\"value\":\"red\"},\"size\":{\"units\":\"screen\",\"value\":10},\"x\":{\"field\":\"x\"},\"y\":{\"field\":\"y\"}},\"id\":\"1076\",\"type\":\"Triangle\"},{\"attributes\":{\"text\":\"Triangles\"},\"id\":\"1042\",\"type\":\"Title\"},{\"attributes\":{},\"id\":\"1062\",\"type\":\"PanTool\"},{\"attributes\":{\"bottom_units\":\"screen\",\"fill_alpha\":{\"value\":0.5},\"fill_color\":{\"value\":\"lightgrey\"},\"left_units\":\"screen\",\"level\":\"overlay\",\"line_alpha\":{\"value\":1.0},\"line_color\":{\"value\":\"black\"},\"line_dash\":[4,4],\"line_width\":{\"value\":2},\"render_mode\":\"css\",\"right_units\":\"screen\",\"top_units\":\"screen\"},\"id\":\"1135\",\"type\":\"BoxAnnotation\"},{\"attributes\":{},\"id\":\"1063\",\"type\":\"WheelZoomTool\"},{\"attributes\":{\"fill_alpha\":{\"value\":0.8},\"fill_color\":{\"value\":\"navy\"},\"line_alpha\":{\"value\":0.8},\"line_color\":{\"value\":\"navy\"},\"size\":{\"units\":\"screen\",\"value\":10},\"x\":{\"field\":\"x\"},\"y\":{\"field\":\"y\"}},\"id\":\"1037\",\"type\":\"Circle\"},{\"attributes\":{\"overlay\":{\"id\":\"1135\",\"type\":\"BoxAnnotation\"}},\"id\":\"1064\",\"type\":\"BoxZoomTool\"},{\"attributes\":{\"fill_alpha\":{\"value\":0.1},\"fill_color\":{\"value\":\"#1f77b4\"},\"line_alpha\":{\"value\":0.1},\"line_color\":{\"value\":\"#1f77b4\"},\"size\":{\"units\":\"screen\",\"value\":10},\"x\":{\"field\":\"x\"},\"y\":{\"field\":\"y\"}},\"id\":\"1038\",\"type\":\"Circle\"},{\"attributes\":{\"callback\":null},\"id\":\"1044\",\"type\":\"DataRange1d\"},{\"attributes\":{\"callback\":null,\"data\":{\"x\":[130,165,150,150,140,198,220,215,225,190,170,160,150,225,95,95,97,85,88,46,87,90,95,113,90,215,200,210,193],\"y\":[3504,3693,3436,3433,3449,4341,4354,4312,4425,3850,3563,3609,3761,3086,2372,2833,2774,2587,2130,1835,2672,2430,2375,2234,2648,4615,4376,4382,4732]},\"selected\":{\"id\":\"1125\",\"type\":\"Selection\"},\"selection_policy\":{\"id\":\"1124\",\"type\":\"UnionRenderers\"}},\"id\":\"1036\",\"type\":\"ColumnDataSource\"},{\"attributes\":{},\"id\":\"1024\",\"type\":\"WheelZoomTool\"},{\"attributes\":{},\"id\":\"1065\",\"type\":\"SaveTool\"},{\"attributes\":{},\"id\":\"1048\",\"type\":\"LinearScale\"},{\"attributes\":{},\"id\":\"1066\",\"type\":\"ResetTool\"},{\"attributes\":{},\"id\":\"1023\",\"type\":\"PanTool\"},{\"attributes\":{},\"id\":\"1132\",\"type\":\"BasicTickFormatter\"},{\"attributes\":{\"callback\":null},\"id\":\"1046\",\"type\":\"DataRange1d\"},{\"attributes\":{},\"id\":\"1121\",\"type\":\"BasicTickFormatter\"},{\"attributes\":{\"overlay\":{\"id\":\"1126\",\"type\":\"BoxAnnotation\"}},\"id\":\"1025\",\"type\":\"BoxZoomTool\"},{\"attributes\":{},\"id\":\"1067\",\"type\":\"HelpTool\"},{\"attributes\":{},\"id\":\"1009\",\"type\":\"LinearScale\"},{\"attributes\":{},\"id\":\"1050\",\"type\":\"LinearScale\"},{\"attributes\":{\"below\":[{\"id\":\"1013\",\"type\":\"LinearAxis\"}],\"center\":[{\"id\":\"1017\",\"type\":\"Grid\"},{\"id\":\"1022\",\"type\":\"Grid\"}],\"left\":[{\"id\":\"1018\",\"type\":\"LinearAxis\"}],\"plot_height\":300,\"plot_width\":300,\"renderers\":[{\"id\":\"1039\",\"type\":\"GlyphRenderer\"}],\"sizing_mode\":\"scale_both\",\"title\":{\"id\":\"1003\",\"type\":\"Title\"},\"toolbar\":{\"id\":\"1029\",\"type\":\"Toolbar\"},\"toolbar_location\":null,\"x_range\":{\"id\":\"1005\",\"type\":\"DataRange1d\"},\"x_scale\":{\"id\":\"1009\",\"type\":\"LinearScale\"},\"y_range\":{\"id\":\"1007\",\"type\":\"DataRange1d\"},\"y_scale\":{\"id\":\"1011\",\"type\":\"LinearScale\"}},\"id\":\"1002\",\"subtype\":\"Figure\",\"type\":\"Plot\"},{\"attributes\":{\"formatter\":{\"id\":\"1132\",\"type\":\"BasicTickFormatter\"},\"ticker\":{\"id\":\"1053\",\"type\":\"BasicTicker\"}},\"id\":\"1052\",\"type\":\"LinearAxis\"},{\"attributes\":{},\"id\":\"1026\",\"type\":\"SaveTool\"},{\"attributes\":{},\"id\":\"1123\",\"type\":\"BasicTickFormatter\"},{\"attributes\":{},\"id\":\"1058\",\"type\":\"BasicTicker\"},{\"attributes\":{},\"id\":\"1027\",\"type\":\"ResetTool\"},{\"attributes\":{},\"id\":\"1053\",\"type\":\"BasicTicker\"},{\"attributes\":{},\"id\":\"1124\",\"type\":\"UnionRenderers\"},{\"attributes\":{\"ticker\":{\"id\":\"1053\",\"type\":\"BasicTicker\"}},\"id\":\"1056\",\"type\":\"Grid\"},{\"attributes\":{\"callback\":null},\"id\":\"1007\",\"type\":\"DataRange1d\"},{\"attributes\":{\"callback\":null},\"id\":\"1005\",\"type\":\"DataRange1d\"},{\"attributes\":{},\"id\":\"1028\",\"type\":\"HelpTool\"},{\"attributes\":{},\"id\":\"1125\",\"type\":\"Selection\"},{\"attributes\":{\"dimension\":1,\"ticker\":{\"id\":\"1058\",\"type\":\"BasicTicker\"}},\"id\":\"1061\",\"type\":\"Grid\"},{\"attributes\":{\"source\":{\"id\":\"1075\",\"type\":\"ColumnDataSource\"}},\"id\":\"1079\",\"type\":\"CDSView\"},{\"attributes\":{},\"id\":\"1011\",\"type\":\"LinearScale\"},{\"attributes\":{\"formatter\":{\"id\":\"1130\",\"type\":\"BasicTickFormatter\"},\"ticker\":{\"id\":\"1058\",\"type\":\"BasicTicker\"}},\"id\":\"1057\",\"type\":\"LinearAxis\"},{\"attributes\":{\"bottom_units\":\"screen\",\"fill_alpha\":{\"value\":0.5},\"fill_color\":{\"value\":\"lightgrey\"},\"left_units\":\"screen\",\"level\":\"overlay\",\"line_alpha\":{\"value\":1.0},\"line_color\":{\"value\":\"black\"},\"line_dash\":[4,4],\"line_width\":{\"value\":2},\"render_mode\":\"css\",\"right_units\":\"screen\",\"top_units\":\"screen\"},\"id\":\"1126\",\"type\":\"BoxAnnotation\"},{\"attributes\":{\"text\":\"Circles\"},\"id\":\"1003\",\"type\":\"Title\"},{\"attributes\":{\"formatter\":{\"id\":\"1123\",\"type\":\"BasicTickFormatter\"},\"ticker\":{\"id\":\"1014\",\"type\":\"BasicTicker\"}},\"id\":\"1013\",\"type\":\"LinearAxis\"}],\"root_ids\":[\"1455\"]},\"title\":\"Bokeh Application\",\"version\":\"1.3.4\"}};\n",
       "  var render_items = [{\"docid\":\"8c98ddbe-d99c-420c-b518-51cea5568314\",\"roots\":{\"1455\":\"3486a15b-2e0e-4111-8755-f0583fd20734\"}}];\n",
       "  root.Bokeh.embed.embed_items_notebook(docs_json, render_items);\n",
       "\n",
       "  }\n",
       "  if (root.Bokeh !== undefined) {\n",
       "    embed_document(root);\n",
       "  } else {\n",
       "    var attempts = 0;\n",
       "    var timer = setInterval(function(root) {\n",
       "      if (root.Bokeh !== undefined) {\n",
       "        embed_document(root);\n",
       "        clearInterval(timer);\n",
       "      }\n",
       "      attempts++;\n",
       "      if (attempts > 100) {\n",
       "        console.log(\"Bokeh: ERROR: Unable to run BokehJS code because BokehJS library is missing\");\n",
       "        clearInterval(timer);\n",
       "      }\n",
       "    }, 10, root)\n",
       "  }\n",
       "})(window);"
      ],
      "application/vnd.bokehjs_exec.v0+json": ""
     },
     "metadata": {
      "application/vnd.bokehjs_exec.v0+json": {
       "id": "1455"
      }
     },
     "output_type": "display_data"
    }
   ],
   "source": [
    "from bokeh.layouts import column\n",
    "show(column(f0, f2))"
   ]
  },
  {
   "cell_type": "markdown",
   "metadata": {},
   "source": [
    "## Parsing more arguments"
   ]
  },
  {
   "cell_type": "code",
   "execution_count": 6,
   "metadata": {},
   "outputs": [],
   "source": [
    "year = 71\n",
    "auto_71 = autompg[autompg.yr == year]\n",
    "f1 = figure(width = 300, plot_height = 300, title = 'Squares')\n",
    "f1.diamond(x = auto_71.hp, y = auto_71.weight, \n",
    "          size = 10, color = 'green', alpha = 0.8);"
   ]
  },
  {
   "cell_type": "code",
   "execution_count": 7,
   "metadata": {},
   "outputs": [
    {
     "data": {
      "text/html": [
       "\n",
       "\n",
       "\n",
       "\n",
       "\n",
       "\n",
       "  <div class=\"bk-root\" id=\"d56df96b-3de4-4c9e-9d01-34c4b04ef071\" data-root-id=\"1686\"></div>\n"
      ]
     },
     "metadata": {},
     "output_type": "display_data"
    },
    {
     "data": {
      "application/javascript": [
       "(function(root) {\n",
       "  function embed_document(root) {\n",
       "    \n",
       "  var docs_json = {\"4e458bd3-a83a-4d1b-b801-43c62c4cee24\":{\"roots\":{\"references\":[{\"attributes\":{\"children\":[{\"id\":\"1685\",\"type\":\"ToolbarBox\"},{\"id\":\"1683\",\"type\":\"GridBox\"}]},\"id\":\"1686\",\"type\":\"Column\"},{\"attributes\":{\"ticker\":{\"id\":\"1014\",\"type\":\"BasicTicker\"}},\"id\":\"1017\",\"type\":\"Grid\"},{\"attributes\":{},\"id\":\"1630\",\"type\":\"WheelZoomTool\"},{\"attributes\":{},\"id\":\"1019\",\"type\":\"BasicTicker\"},{\"attributes\":{\"overlay\":{\"id\":\"1663\",\"type\":\"BoxAnnotation\"}},\"id\":\"1631\",\"type\":\"BoxZoomTool\"},{\"attributes\":{\"active_drag\":\"auto\",\"active_inspect\":\"auto\",\"active_multi\":null,\"active_scroll\":\"auto\",\"active_tap\":\"auto\",\"tools\":[{\"id\":\"1023\",\"type\":\"PanTool\"},{\"id\":\"1024\",\"type\":\"WheelZoomTool\"},{\"id\":\"1025\",\"type\":\"BoxZoomTool\"},{\"id\":\"1026\",\"type\":\"SaveTool\"},{\"id\":\"1027\",\"type\":\"ResetTool\"},{\"id\":\"1028\",\"type\":\"HelpTool\"}]},\"id\":\"1029\",\"type\":\"Toolbar\"},{\"attributes\":{},\"id\":\"1617\",\"type\":\"LinearScale\"},{\"attributes\":{},\"id\":\"1632\",\"type\":\"SaveTool\"},{\"attributes\":{\"dimension\":1,\"ticker\":{\"id\":\"1019\",\"type\":\"BasicTicker\"}},\"id\":\"1022\",\"type\":\"Grid\"},{\"attributes\":{\"formatter\":{\"id\":\"1121\",\"type\":\"BasicTickFormatter\"},\"ticker\":{\"id\":\"1019\",\"type\":\"BasicTicker\"}},\"id\":\"1018\",\"type\":\"LinearAxis\"},{\"attributes\":{},\"id\":\"1633\",\"type\":\"ResetTool\"},{\"attributes\":{\"formatter\":{\"id\":\"1658\",\"type\":\"BasicTickFormatter\"},\"ticker\":{\"id\":\"1625\",\"type\":\"BasicTicker\"}},\"id\":\"1624\",\"type\":\"LinearAxis\"},{\"attributes\":{},\"id\":\"1634\",\"type\":\"HelpTool\"},{\"attributes\":{\"fill_alpha\":{\"value\":0.8},\"fill_color\":{\"value\":\"navy\"},\"line_alpha\":{\"value\":0.8},\"line_color\":{\"value\":\"navy\"},\"size\":{\"units\":\"screen\",\"value\":10},\"x\":{\"field\":\"x\"},\"y\":{\"field\":\"y\"}},\"id\":\"1037\",\"type\":\"Circle\"},{\"attributes\":{\"active_drag\":\"auto\",\"active_inspect\":\"auto\",\"active_multi\":null,\"active_scroll\":\"auto\",\"active_tap\":\"auto\",\"tools\":[{\"id\":\"1629\",\"type\":\"PanTool\"},{\"id\":\"1630\",\"type\":\"WheelZoomTool\"},{\"id\":\"1631\",\"type\":\"BoxZoomTool\"},{\"id\":\"1632\",\"type\":\"SaveTool\"},{\"id\":\"1633\",\"type\":\"ResetTool\"},{\"id\":\"1634\",\"type\":\"HelpTool\"}]},\"id\":\"1635\",\"type\":\"Toolbar\"},{\"attributes\":{\"fill_alpha\":{\"value\":0.1},\"fill_color\":{\"value\":\"#1f77b4\"},\"line_alpha\":{\"value\":0.1},\"line_color\":{\"value\":\"#1f77b4\"},\"size\":{\"units\":\"screen\",\"value\":10},\"x\":{\"field\":\"x\"},\"y\":{\"field\":\"y\"}},\"id\":\"1038\",\"type\":\"Circle\"},{\"attributes\":{\"callback\":null,\"data\":{\"x\":[130,165,150,150,140,198,220,215,225,190,170,160,150,225,95,95,97,85,88,46,87,90,95,113,90,215,200,210,193],\"y\":[3504,3693,3436,3433,3449,4341,4354,4312,4425,3850,3563,3609,3761,3086,2372,2833,2774,2587,2130,1835,2672,2430,2375,2234,2648,4615,4376,4382,4732]},\"selected\":{\"id\":\"1125\",\"type\":\"Selection\"},\"selection_policy\":{\"id\":\"1124\",\"type\":\"UnionRenderers\"}},\"id\":\"1036\",\"type\":\"ColumnDataSource\"},{\"attributes\":{},\"id\":\"1023\",\"type\":\"PanTool\"},{\"attributes\":{\"overlay\":{\"id\":\"1126\",\"type\":\"BoxAnnotation\"}},\"id\":\"1025\",\"type\":\"BoxZoomTool\"},{\"attributes\":{\"below\":[{\"id\":\"1013\",\"type\":\"LinearAxis\"}],\"center\":[{\"id\":\"1017\",\"type\":\"Grid\"},{\"id\":\"1022\",\"type\":\"Grid\"}],\"left\":[{\"id\":\"1018\",\"type\":\"LinearAxis\"}],\"plot_height\":200,\"plot_width\":300,\"renderers\":[{\"id\":\"1039\",\"type\":\"GlyphRenderer\"}],\"sizing_mode\":\"scale_both\",\"title\":{\"id\":\"1003\",\"type\":\"Title\"},\"toolbar\":{\"id\":\"1029\",\"type\":\"Toolbar\"},\"toolbar_location\":null,\"x_range\":{\"id\":\"1005\",\"type\":\"DataRange1d\"},\"x_scale\":{\"id\":\"1009\",\"type\":\"LinearScale\"},\"y_range\":{\"id\":\"1007\",\"type\":\"DataRange1d\"},\"y_scale\":{\"id\":\"1011\",\"type\":\"LinearScale\"}},\"id\":\"1002\",\"subtype\":\"Figure\",\"type\":\"Plot\"},{\"attributes\":{\"source\":{\"id\":\"1642\",\"type\":\"ColumnDataSource\"}},\"id\":\"1646\",\"type\":\"CDSView\"},{\"attributes\":{},\"id\":\"1661\",\"type\":\"UnionRenderers\"},{\"attributes\":{},\"id\":\"1026\",\"type\":\"SaveTool\"},{\"attributes\":{},\"id\":\"1027\",\"type\":\"ResetTool\"},{\"attributes\":{},\"id\":\"1028\",\"type\":\"HelpTool\"},{\"attributes\":{\"callback\":null},\"id\":\"1005\",\"type\":\"DataRange1d\"},{\"attributes\":{\"callback\":null,\"data\":{\"x\":[88,90,95,100,105,100,88,100,165,175,153,150,180,170,175,110,72,100,88,86,90,70,76,65,69,60,70],\"y\":[2130,2264,2228,2634,3439,3329,3302,3288,4209,4464,4154,4096,4955,4746,5140,2962,2408,3282,3139,2220,2123,2074,2065,1773,1613,1834,1955]},\"selected\":{\"id\":\"1662\",\"type\":\"Selection\"},\"selection_policy\":{\"id\":\"1661\",\"type\":\"UnionRenderers\"}},\"id\":\"1642\",\"type\":\"ColumnDataSource\"},{\"attributes\":{\"text\":\"Circles\"},\"id\":\"1003\",\"type\":\"Title\"},{\"attributes\":{\"below\":[{\"id\":\"1052\",\"type\":\"LinearAxis\"}],\"center\":[{\"id\":\"1056\",\"type\":\"Grid\"},{\"id\":\"1061\",\"type\":\"Grid\"}],\"left\":[{\"id\":\"1057\",\"type\":\"LinearAxis\"}],\"plot_height\":200,\"plot_width\":300,\"renderers\":[{\"id\":\"1078\",\"type\":\"GlyphRenderer\"}],\"title\":{\"id\":\"1042\",\"type\":\"Title\"},\"toolbar\":{\"id\":\"1068\",\"type\":\"Toolbar\"},\"toolbar_location\":null,\"x_range\":{\"id\":\"1044\",\"type\":\"DataRange1d\"},\"x_scale\":{\"id\":\"1048\",\"type\":\"LinearScale\"},\"y_range\":{\"id\":\"1046\",\"type\":\"DataRange1d\"},\"y_scale\":{\"id\":\"1050\",\"type\":\"LinearScale\"}},\"id\":\"1041\",\"subtype\":\"Figure\",\"type\":\"Plot\"},{\"attributes\":{},\"id\":\"1658\",\"type\":\"BasicTickFormatter\"},{\"attributes\":{\"data_source\":{\"id\":\"1036\",\"type\":\"ColumnDataSource\"},\"glyph\":{\"id\":\"1037\",\"type\":\"Circle\"},\"hover_glyph\":null,\"muted_glyph\":null,\"nonselection_glyph\":{\"id\":\"1038\",\"type\":\"Circle\"},\"selection_glyph\":null,\"view\":{\"id\":\"1040\",\"type\":\"CDSView\"}},\"id\":\"1039\",\"type\":\"GlyphRenderer\"},{\"attributes\":{\"dimension\":1,\"ticker\":{\"id\":\"1625\",\"type\":\"BasicTicker\"}},\"id\":\"1628\",\"type\":\"Grid\"},{\"attributes\":{\"below\":[{\"id\":\"1619\",\"type\":\"LinearAxis\"}],\"center\":[{\"id\":\"1623\",\"type\":\"Grid\"},{\"id\":\"1628\",\"type\":\"Grid\"}],\"left\":[{\"id\":\"1624\",\"type\":\"LinearAxis\"}],\"plot_height\":200,\"plot_width\":300,\"renderers\":[{\"id\":\"1645\",\"type\":\"GlyphRenderer\"}],\"title\":{\"id\":\"1609\",\"type\":\"Title\"},\"toolbar\":{\"id\":\"1635\",\"type\":\"Toolbar\"},\"toolbar_location\":null,\"x_range\":{\"id\":\"1611\",\"type\":\"DataRange1d\"},\"x_scale\":{\"id\":\"1615\",\"type\":\"LinearScale\"},\"y_range\":{\"id\":\"1613\",\"type\":\"DataRange1d\"},\"y_scale\":{\"id\":\"1617\",\"type\":\"LinearScale\"}},\"id\":\"1608\",\"subtype\":\"Figure\",\"type\":\"Plot\"},{\"attributes\":{\"source\":{\"id\":\"1036\",\"type\":\"ColumnDataSource\"}},\"id\":\"1040\",\"type\":\"CDSView\"},{\"attributes\":{},\"id\":\"1620\",\"type\":\"BasicTicker\"},{\"attributes\":{\"fill_alpha\":{\"value\":0.8},\"fill_color\":{\"value\":\"red\"},\"line_alpha\":{\"value\":0.8},\"line_color\":{\"value\":\"red\"},\"size\":{\"units\":\"screen\",\"value\":10},\"x\":{\"field\":\"x\"},\"y\":{\"field\":\"y\"}},\"id\":\"1076\",\"type\":\"Triangle\"},{\"attributes\":{\"text\":\"Triangles\"},\"id\":\"1042\",\"type\":\"Title\"},{\"attributes\":{},\"id\":\"1660\",\"type\":\"BasicTickFormatter\"},{\"attributes\":{\"text\":\"Squares\"},\"id\":\"1609\",\"type\":\"Title\"},{\"attributes\":{},\"id\":\"1024\",\"type\":\"WheelZoomTool\"},{\"attributes\":{\"callback\":null},\"id\":\"1044\",\"type\":\"DataRange1d\"},{\"attributes\":{},\"id\":\"1048\",\"type\":\"LinearScale\"},{\"attributes\":{\"formatter\":{\"id\":\"1660\",\"type\":\"BasicTickFormatter\"},\"ticker\":{\"id\":\"1620\",\"type\":\"BasicTicker\"}},\"id\":\"1619\",\"type\":\"LinearAxis\"},{\"attributes\":{\"callback\":null},\"id\":\"1046\",\"type\":\"DataRange1d\"},{\"attributes\":{},\"id\":\"1050\",\"type\":\"LinearScale\"},{\"attributes\":{\"fill_alpha\":{\"value\":0.8},\"fill_color\":{\"value\":\"green\"},\"line_alpha\":{\"value\":0.8},\"line_color\":{\"value\":\"green\"},\"size\":{\"units\":\"screen\",\"value\":10},\"x\":{\"field\":\"x\"},\"y\":{\"field\":\"y\"}},\"id\":\"1643\",\"type\":\"Diamond\"},{\"attributes\":{\"formatter\":{\"id\":\"1132\",\"type\":\"BasicTickFormatter\"},\"ticker\":{\"id\":\"1053\",\"type\":\"BasicTicker\"}},\"id\":\"1052\",\"type\":\"LinearAxis\"},{\"attributes\":{},\"id\":\"1625\",\"type\":\"BasicTicker\"},{\"attributes\":{},\"id\":\"1058\",\"type\":\"BasicTicker\"},{\"attributes\":{},\"id\":\"1053\",\"type\":\"BasicTicker\"},{\"attributes\":{},\"id\":\"1615\",\"type\":\"LinearScale\"},{\"attributes\":{\"callback\":null},\"id\":\"1611\",\"type\":\"DataRange1d\"},{\"attributes\":{\"ticker\":{\"id\":\"1053\",\"type\":\"BasicTicker\"}},\"id\":\"1056\",\"type\":\"Grid\"},{\"attributes\":{\"ticker\":{\"id\":\"1620\",\"type\":\"BasicTicker\"}},\"id\":\"1623\",\"type\":\"Grid\"},{\"attributes\":{\"dimension\":1,\"ticker\":{\"id\":\"1058\",\"type\":\"BasicTicker\"}},\"id\":\"1061\",\"type\":\"Grid\"},{\"attributes\":{\"callback\":null},\"id\":\"1613\",\"type\":\"DataRange1d\"},{\"attributes\":{\"formatter\":{\"id\":\"1130\",\"type\":\"BasicTickFormatter\"},\"ticker\":{\"id\":\"1058\",\"type\":\"BasicTicker\"}},\"id\":\"1057\",\"type\":\"LinearAxis\"},{\"attributes\":{\"toolbar\":{\"id\":\"1684\",\"type\":\"ProxyToolbar\"},\"toolbar_location\":\"above\"},\"id\":\"1685\",\"type\":\"ToolbarBox\"},{\"attributes\":{},\"id\":\"1104\",\"type\":\"SaveTool\"},{\"attributes\":{},\"id\":\"1105\",\"type\":\"ResetTool\"},{\"attributes\":{\"active_drag\":\"auto\",\"active_inspect\":\"auto\",\"active_multi\":null,\"active_scroll\":\"auto\",\"active_tap\":\"auto\",\"tools\":[{\"id\":\"1062\",\"type\":\"PanTool\"},{\"id\":\"1063\",\"type\":\"WheelZoomTool\"},{\"id\":\"1064\",\"type\":\"BoxZoomTool\"},{\"id\":\"1065\",\"type\":\"SaveTool\"},{\"id\":\"1066\",\"type\":\"ResetTool\"},{\"id\":\"1067\",\"type\":\"HelpTool\"}]},\"id\":\"1068\",\"type\":\"Toolbar\"},{\"attributes\":{\"callback\":null,\"data\":{\"x\":[95,80,54,90,86,165,175,150,153,150,208,155,160,190,97,150,130,140,150,112,76,87,69,86,92,97,80,88],\"y\":[2278,2126,2254,2408,2226,4274,4385,4135,4129,3672,4633,4502,4456,4422,2330,3892,4098,4294,4077,2933,2511,2979,2189,2395,2288,2506,2164,2100]},\"selected\":{\"id\":\"1134\",\"type\":\"Selection\"},\"selection_policy\":{\"id\":\"1133\",\"type\":\"UnionRenderers\"}},\"id\":\"1075\",\"type\":\"ColumnDataSource\"},{\"attributes\":{},\"id\":\"1106\",\"type\":\"HelpTool\"},{\"attributes\":{\"data_source\":{\"id\":\"1075\",\"type\":\"ColumnDataSource\"},\"glyph\":{\"id\":\"1076\",\"type\":\"Triangle\"},\"hover_glyph\":null,\"muted_glyph\":null,\"nonselection_glyph\":{\"id\":\"1077\",\"type\":\"Triangle\"},\"selection_glyph\":null,\"view\":{\"id\":\"1079\",\"type\":\"CDSView\"}},\"id\":\"1078\",\"type\":\"GlyphRenderer\"},{\"attributes\":{},\"id\":\"1062\",\"type\":\"PanTool\"},{\"attributes\":{\"active_drag\":\"auto\",\"active_inspect\":\"auto\",\"active_multi\":null,\"active_scroll\":\"auto\",\"active_tap\":\"auto\",\"tools\":[{\"id\":\"1101\",\"type\":\"PanTool\"},{\"id\":\"1102\",\"type\":\"WheelZoomTool\"},{\"id\":\"1103\",\"type\":\"BoxZoomTool\"},{\"id\":\"1104\",\"type\":\"SaveTool\"},{\"id\":\"1105\",\"type\":\"ResetTool\"},{\"id\":\"1106\",\"type\":\"HelpTool\"}]},\"id\":\"1107\",\"type\":\"Toolbar\"},{\"attributes\":{},\"id\":\"1063\",\"type\":\"WheelZoomTool\"},{\"attributes\":{\"overlay\":{\"id\":\"1135\",\"type\":\"BoxAnnotation\"}},\"id\":\"1064\",\"type\":\"BoxZoomTool\"},{\"attributes\":{},\"id\":\"1141\",\"type\":\"BasicTickFormatter\"},{\"attributes\":{\"tools\":[{\"id\":\"1023\",\"type\":\"PanTool\"},{\"id\":\"1024\",\"type\":\"WheelZoomTool\"},{\"id\":\"1025\",\"type\":\"BoxZoomTool\"},{\"id\":\"1026\",\"type\":\"SaveTool\"},{\"id\":\"1027\",\"type\":\"ResetTool\"},{\"id\":\"1028\",\"type\":\"HelpTool\"},{\"id\":\"1629\",\"type\":\"PanTool\"},{\"id\":\"1630\",\"type\":\"WheelZoomTool\"},{\"id\":\"1631\",\"type\":\"BoxZoomTool\"},{\"id\":\"1632\",\"type\":\"SaveTool\"},{\"id\":\"1633\",\"type\":\"ResetTool\"},{\"id\":\"1634\",\"type\":\"HelpTool\"},{\"id\":\"1062\",\"type\":\"PanTool\"},{\"id\":\"1063\",\"type\":\"WheelZoomTool\"},{\"id\":\"1064\",\"type\":\"BoxZoomTool\"},{\"id\":\"1065\",\"type\":\"SaveTool\"},{\"id\":\"1066\",\"type\":\"ResetTool\"},{\"id\":\"1067\",\"type\":\"HelpTool\"},{\"id\":\"1101\",\"type\":\"PanTool\"},{\"id\":\"1102\",\"type\":\"WheelZoomTool\"},{\"id\":\"1103\",\"type\":\"BoxZoomTool\"},{\"id\":\"1104\",\"type\":\"SaveTool\"},{\"id\":\"1105\",\"type\":\"ResetTool\"},{\"id\":\"1106\",\"type\":\"HelpTool\"}]},\"id\":\"1684\",\"type\":\"ProxyToolbar\"},{\"attributes\":{},\"id\":\"1065\",\"type\":\"SaveTool\"},{\"attributes\":{\"source\":{\"id\":\"1114\",\"type\":\"ColumnDataSource\"}},\"id\":\"1118\",\"type\":\"CDSView\"},{\"attributes\":{\"bottom_units\":\"screen\",\"fill_alpha\":{\"value\":0.5},\"fill_color\":{\"value\":\"lightgrey\"},\"left_units\":\"screen\",\"level\":\"overlay\",\"line_alpha\":{\"value\":1.0},\"line_color\":{\"value\":\"black\"},\"line_dash\":[4,4],\"line_width\":{\"value\":2},\"render_mode\":\"css\",\"right_units\":\"screen\",\"top_units\":\"screen\"},\"id\":\"1663\",\"type\":\"BoxAnnotation\"},{\"attributes\":{},\"id\":\"1066\",\"type\":\"ResetTool\"},{\"attributes\":{},\"id\":\"1132\",\"type\":\"BasicTickFormatter\"},{\"attributes\":{},\"id\":\"1067\",\"type\":\"HelpTool\"},{\"attributes\":{},\"id\":\"1121\",\"type\":\"BasicTickFormatter\"},{\"attributes\":{},\"id\":\"1123\",\"type\":\"BasicTickFormatter\"},{\"attributes\":{\"text\":\"Squares\"},\"id\":\"1081\",\"type\":\"Title\"},{\"attributes\":{},\"id\":\"1124\",\"type\":\"UnionRenderers\"},{\"attributes\":{\"below\":[{\"id\":\"1091\",\"type\":\"LinearAxis\"}],\"center\":[{\"id\":\"1095\",\"type\":\"Grid\"},{\"id\":\"1100\",\"type\":\"Grid\"}],\"left\":[{\"id\":\"1096\",\"type\":\"LinearAxis\"}],\"plot_height\":200,\"plot_width\":300,\"renderers\":[{\"id\":\"1117\",\"type\":\"GlyphRenderer\"}],\"sizing_mode\":\"scale_both\",\"title\":{\"id\":\"1081\",\"type\":\"Title\"},\"toolbar\":{\"id\":\"1107\",\"type\":\"Toolbar\"},\"toolbar_location\":null,\"x_range\":{\"id\":\"1083\",\"type\":\"DataRange1d\"},\"x_scale\":{\"id\":\"1087\",\"type\":\"LinearScale\"},\"y_range\":{\"id\":\"1085\",\"type\":\"DataRange1d\"},\"y_scale\":{\"id\":\"1089\",\"type\":\"LinearScale\"}},\"id\":\"1080\",\"subtype\":\"Figure\",\"type\":\"Plot\"},{\"attributes\":{},\"id\":\"1125\",\"type\":\"Selection\"},{\"attributes\":{\"source\":{\"id\":\"1075\",\"type\":\"ColumnDataSource\"}},\"id\":\"1079\",\"type\":\"CDSView\"},{\"attributes\":{\"bottom_units\":\"screen\",\"fill_alpha\":{\"value\":0.5},\"fill_color\":{\"value\":\"lightgrey\"},\"left_units\":\"screen\",\"level\":\"overlay\",\"line_alpha\":{\"value\":1.0},\"line_color\":{\"value\":\"black\"},\"line_dash\":[4,4],\"line_width\":{\"value\":2},\"render_mode\":\"css\",\"right_units\":\"screen\",\"top_units\":\"screen\"},\"id\":\"1126\",\"type\":\"BoxAnnotation\"},{\"attributes\":{},\"id\":\"1662\",\"type\":\"Selection\"},{\"attributes\":{\"callback\":null},\"id\":\"1083\",\"type\":\"DataRange1d\"},{\"attributes\":{},\"id\":\"1130\",\"type\":\"BasicTickFormatter\"},{\"attributes\":{},\"id\":\"1087\",\"type\":\"LinearScale\"},{\"attributes\":{\"fill_alpha\":{\"value\":0.1},\"fill_color\":{\"value\":\"#1f77b4\"},\"line_alpha\":{\"value\":0.1},\"line_color\":{\"value\":\"#1f77b4\"},\"size\":{\"units\":\"screen\",\"value\":10},\"x\":{\"field\":\"x\"},\"y\":{\"field\":\"y\"}},\"id\":\"1077\",\"type\":\"Triangle\"},{\"attributes\":{},\"id\":\"1133\",\"type\":\"UnionRenderers\"},{\"attributes\":{},\"id\":\"1134\",\"type\":\"Selection\"},{\"attributes\":{\"callback\":null},\"id\":\"1085\",\"type\":\"DataRange1d\"},{\"attributes\":{\"bottom_units\":\"screen\",\"fill_alpha\":{\"value\":0.5},\"fill_color\":{\"value\":\"lightgrey\"},\"left_units\":\"screen\",\"level\":\"overlay\",\"line_alpha\":{\"value\":1.0},\"line_color\":{\"value\":\"black\"},\"line_dash\":[4,4],\"line_width\":{\"value\":2},\"render_mode\":\"css\",\"right_units\":\"screen\",\"top_units\":\"screen\"},\"id\":\"1135\",\"type\":\"BoxAnnotation\"},{\"attributes\":{},\"id\":\"1014\",\"type\":\"BasicTicker\"},{\"attributes\":{},\"id\":\"1089\",\"type\":\"LinearScale\"},{\"attributes\":{\"formatter\":{\"id\":\"1141\",\"type\":\"BasicTickFormatter\"},\"ticker\":{\"id\":\"1092\",\"type\":\"BasicTicker\"}},\"id\":\"1091\",\"type\":\"LinearAxis\"},{\"attributes\":{},\"id\":\"1097\",\"type\":\"BasicTicker\"},{\"attributes\":{\"children\":[[{\"id\":\"1002\",\"subtype\":\"Figure\",\"type\":\"Plot\"},0,0],[{\"id\":\"1608\",\"subtype\":\"Figure\",\"type\":\"Plot\"},0,1],[{\"id\":\"1041\",\"subtype\":\"Figure\",\"type\":\"Plot\"},0,2],[{\"id\":\"1080\",\"subtype\":\"Figure\",\"type\":\"Plot\"},1,0]]},\"id\":\"1683\",\"type\":\"GridBox\"},{\"attributes\":{},\"id\":\"1139\",\"type\":\"BasicTickFormatter\"},{\"attributes\":{},\"id\":\"1092\",\"type\":\"BasicTicker\"},{\"attributes\":{},\"id\":\"1142\",\"type\":\"UnionRenderers\"},{\"attributes\":{\"ticker\":{\"id\":\"1092\",\"type\":\"BasicTicker\"}},\"id\":\"1095\",\"type\":\"Grid\"},{\"attributes\":{},\"id\":\"1143\",\"type\":\"Selection\"},{\"attributes\":{\"dimension\":1,\"ticker\":{\"id\":\"1097\",\"type\":\"BasicTicker\"}},\"id\":\"1100\",\"type\":\"Grid\"},{\"attributes\":{\"formatter\":{\"id\":\"1139\",\"type\":\"BasicTickFormatter\"},\"ticker\":{\"id\":\"1097\",\"type\":\"BasicTicker\"}},\"id\":\"1096\",\"type\":\"LinearAxis\"},{\"attributes\":{\"bottom_units\":\"screen\",\"fill_alpha\":{\"value\":0.5},\"fill_color\":{\"value\":\"lightgrey\"},\"left_units\":\"screen\",\"level\":\"overlay\",\"line_alpha\":{\"value\":1.0},\"line_color\":{\"value\":\"black\"},\"line_dash\":[4,4],\"line_width\":{\"value\":2},\"render_mode\":\"css\",\"right_units\":\"screen\",\"top_units\":\"screen\"},\"id\":\"1144\",\"type\":\"BoxAnnotation\"},{\"attributes\":{\"fill_alpha\":{\"value\":0.1},\"fill_color\":{\"value\":\"#1f77b4\"},\"line_alpha\":{\"value\":0.1},\"line_color\":{\"value\":\"#1f77b4\"},\"size\":{\"units\":\"screen\",\"value\":10},\"x\":{\"field\":\"x\"},\"y\":{\"field\":\"y\"}},\"id\":\"1644\",\"type\":\"Diamond\"},{\"attributes\":{},\"id\":\"1009\",\"type\":\"LinearScale\"},{\"attributes\":{},\"id\":\"1629\",\"type\":\"PanTool\"},{\"attributes\":{\"callback\":null,\"data\":{\"x\":[175,150,145,137,150,198,150,158,150,215,225,175,105,100,100,88,95,46,150,167,170,180,100,88,72,94,90,85,107,90,145,230,49,75,91,112,150,110,122,180],\"y\":[4100,3672,3988,4042,3777,4952,4464,4363,4237,4735,4951,3821,3121,3278,2945,3021,2904,1950,4997,4906,4654,4499,2789,2279,2401,2379,2124,2310,2472,2265,4082,4278,1867,2158,2582,2868,3399,2660,2807,3664]},\"selected\":{\"id\":\"1143\",\"type\":\"Selection\"},\"selection_policy\":{\"id\":\"1142\",\"type\":\"UnionRenderers\"}},\"id\":\"1114\",\"type\":\"ColumnDataSource\"},{\"attributes\":{\"fill_alpha\":{\"value\":0.8},\"fill_color\":{\"value\":\"orange\"},\"line_alpha\":{\"value\":0.8},\"line_color\":{\"value\":\"orange\"},\"size\":{\"units\":\"screen\",\"value\":10},\"x\":{\"field\":\"x\"},\"y\":{\"field\":\"y\"}},\"id\":\"1115\",\"type\":\"Square\"},{\"attributes\":{\"fill_alpha\":{\"value\":0.1},\"fill_color\":{\"value\":\"#1f77b4\"},\"line_alpha\":{\"value\":0.1},\"line_color\":{\"value\":\"#1f77b4\"},\"size\":{\"units\":\"screen\",\"value\":10},\"x\":{\"field\":\"x\"},\"y\":{\"field\":\"y\"}},\"id\":\"1116\",\"type\":\"Square\"},{\"attributes\":{\"data_source\":{\"id\":\"1114\",\"type\":\"ColumnDataSource\"},\"glyph\":{\"id\":\"1115\",\"type\":\"Square\"},\"hover_glyph\":null,\"muted_glyph\":null,\"nonselection_glyph\":{\"id\":\"1116\",\"type\":\"Square\"},\"selection_glyph\":null,\"view\":{\"id\":\"1118\",\"type\":\"CDSView\"}},\"id\":\"1117\",\"type\":\"GlyphRenderer\"},{\"attributes\":{},\"id\":\"1101\",\"type\":\"PanTool\"},{\"attributes\":{\"callback\":null},\"id\":\"1007\",\"type\":\"DataRange1d\"},{\"attributes\":{\"data_source\":{\"id\":\"1642\",\"type\":\"ColumnDataSource\"},\"glyph\":{\"id\":\"1643\",\"type\":\"Diamond\"},\"hover_glyph\":null,\"muted_glyph\":null,\"nonselection_glyph\":{\"id\":\"1644\",\"type\":\"Diamond\"},\"selection_glyph\":null,\"view\":{\"id\":\"1646\",\"type\":\"CDSView\"}},\"id\":\"1645\",\"type\":\"GlyphRenderer\"},{\"attributes\":{},\"id\":\"1102\",\"type\":\"WheelZoomTool\"},{\"attributes\":{},\"id\":\"1011\",\"type\":\"LinearScale\"},{\"attributes\":{\"overlay\":{\"id\":\"1144\",\"type\":\"BoxAnnotation\"}},\"id\":\"1103\",\"type\":\"BoxZoomTool\"},{\"attributes\":{\"formatter\":{\"id\":\"1123\",\"type\":\"BasicTickFormatter\"},\"ticker\":{\"id\":\"1014\",\"type\":\"BasicTicker\"}},\"id\":\"1013\",\"type\":\"LinearAxis\"}],\"root_ids\":[\"1686\"]},\"title\":\"Bokeh Application\",\"version\":\"1.3.4\"}};\n",
       "  var render_items = [{\"docid\":\"4e458bd3-a83a-4d1b-b801-43c62c4cee24\",\"roots\":{\"1686\":\"d56df96b-3de4-4c9e-9d01-34c4b04ef071\"}}];\n",
       "  root.Bokeh.embed.embed_items_notebook(docs_json, render_items);\n",
       "\n",
       "  }\n",
       "  if (root.Bokeh !== undefined) {\n",
       "    embed_document(root);\n",
       "  } else {\n",
       "    var attempts = 0;\n",
       "    var timer = setInterval(function(root) {\n",
       "      if (root.Bokeh !== undefined) {\n",
       "        embed_document(root);\n",
       "        clearInterval(timer);\n",
       "      }\n",
       "      attempts++;\n",
       "      if (attempts > 100) {\n",
       "        console.log(\"Bokeh: ERROR: Unable to run BokehJS code because BokehJS library is missing\");\n",
       "        clearInterval(timer);\n",
       "      }\n",
       "    }, 10, root)\n",
       "  }\n",
       "})(window);"
      ],
      "application/vnd.bokehjs_exec.v0+json": ""
     },
     "metadata": {
      "application/vnd.bokehjs_exec.v0+json": {
       "id": "1686"
      }
     },
     "output_type": "display_data"
    }
   ],
   "source": [
    "grid = gridplot([f0, f1, f2, f3], ncols = 3, \n",
    "                plot_height= 200, plot_width=300)\n",
    "show(grid)"
   ]
  },
  {
   "cell_type": "markdown",
   "metadata": {},
   "source": [
    "## General Grid Layout"
   ]
  },
  {
   "cell_type": "markdown",
   "metadata": {},
   "source": [
    "The layout() funtion can be used to arrange both plots and widgets in a grid, generating the necessart row() and column() layouts atonatically."
   ]
  },
  {
   "cell_type": "code",
   "execution_count": 8,
   "metadata": {},
   "outputs": [],
   "source": [
    "from bokeh.models import ColumnDataSource\n",
    "import numpy as np\n",
    "import pandas as pd"
   ]
  },
  {
   "cell_type": "code",
   "execution_count": 9,
   "metadata": {},
   "outputs": [],
   "source": [
    "# creating the histogram\n",
    "car_hist, edges = np.histogram(autompg.weight, bins = 18)"
   ]
  },
  {
   "cell_type": "code",
   "execution_count": 10,
   "metadata": {},
   "outputs": [],
   "source": [
    "df_car_hist = pd.DataFrame({'hist': car_hist, 'left': edges[:-1], 'right': edges[1:]})\n",
    "\n",
    "p = figure(title = 'Histogram', width = 700, plot_height = 200)\n",
    "\n",
    "data = ColumnDataSource(df_car_hist)\n",
    "p.quad(bottom = 0, top = df_car_hist['hist'], \n",
    "       left = df_car_hist['left'], right = df_car_hist['right'],\n",
    "       fill_color = '#FF4A44', line_color = 'black', line_width = 3);"
   ]
  },
  {
   "cell_type": "code",
   "execution_count": 11,
   "metadata": {},
   "outputs": [],
   "source": [
    "### Ploting the grid"
   ]
  },
  {
   "cell_type": "code",
   "execution_count": 12,
   "metadata": {},
   "outputs": [
    {
     "data": {
      "text/html": [
       "\n",
       "\n",
       "\n",
       "\n",
       "\n",
       "\n",
       "  <div class=\"bk-root\" id=\"ca7beb65-90bc-4a0d-b753-7d0997927db0\" data-root-id=\"2009\"></div>\n"
      ]
     },
     "metadata": {},
     "output_type": "display_data"
    },
    {
     "data": {
      "application/javascript": [
       "(function(root) {\n",
       "  function embed_document(root) {\n",
       "    \n",
       "  var docs_json = {\"0d770a31-c38c-4f98-88b8-bea612ed1ffe\":{\"roots\":{\"references\":[{\"attributes\":{\"children\":[{\"id\":\"2007\",\"type\":\"Row\"},{\"id\":\"2008\",\"type\":\"Row\"}],\"height\":500,\"sizing_mode\":\"scale_both\",\"width\":800},\"id\":\"2009\",\"type\":\"Column\"},{\"attributes\":{\"ticker\":{\"id\":\"1014\",\"type\":\"BasicTicker\"}},\"id\":\"1017\",\"type\":\"Grid\"},{\"attributes\":{},\"id\":\"1019\",\"type\":\"BasicTicker\"},{\"attributes\":{\"active_drag\":\"auto\",\"active_inspect\":\"auto\",\"active_multi\":null,\"active_scroll\":\"auto\",\"active_tap\":\"auto\",\"tools\":[{\"id\":\"1023\",\"type\":\"PanTool\"},{\"id\":\"1024\",\"type\":\"WheelZoomTool\"},{\"id\":\"1025\",\"type\":\"BoxZoomTool\"},{\"id\":\"1026\",\"type\":\"SaveTool\"},{\"id\":\"1027\",\"type\":\"ResetTool\"},{\"id\":\"1028\",\"type\":\"HelpTool\"}]},\"id\":\"1029\",\"type\":\"Toolbar\"},{\"attributes\":{\"dimension\":1,\"ticker\":{\"id\":\"1019\",\"type\":\"BasicTicker\"}},\"id\":\"1022\",\"type\":\"Grid\"},{\"attributes\":{\"source\":{\"id\":\"2002\",\"type\":\"ColumnDataSource\"}},\"id\":\"2006\",\"type\":\"CDSView\"},{\"attributes\":{\"formatter\":{\"id\":\"1121\",\"type\":\"BasicTickFormatter\"},\"ticker\":{\"id\":\"1019\",\"type\":\"BasicTicker\"}},\"id\":\"1018\",\"type\":\"LinearAxis\"},{\"attributes\":{\"text\":\"Histogram\"},\"id\":\"1968\",\"type\":\"Title\"},{\"attributes\":{\"callback\":null,\"data\":{\"left\":{\"__ndarray__\":\"AAAAAAA0mUAcx3Ecx0OcQDmO4ziOU59Aq6qqqqoxoUA5juM4jrmiQMdxHMdxQaRAVlVVVVXJpUDkOI7jOFGnQHIcx3Ec2ahAAAAAAABhqkCO4ziO4+irQB3HcRzHcK1Aq6qqqqr4rkAcx3EcR0CwQOQ4juM4BLFAq6qqqirIsUByHMdxHIyyQDmO4zgOULNA\",\"dtype\":\"float64\",\"shape\":[18]},\"right\":{\"__ndarray__\":\"HMdxHMdDnEA5juM4jlOfQKuqqqqqMaFAOY7jOI65okDHcRzHcUGkQFZVVVVVyaVA5DiO4zhRp0ByHMdxHNmoQAAAAAAAYapAjuM4juPoq0Adx3Ecx3CtQKuqqqqq+K5AHMdxHEdAsEDkOI7jOASxQKuqqqoqyLFAchzHcRyMskA5juM4DlCzQAAAAAAAFLRA\",\"dtype\":\"float64\",\"shape\":[18]},\"top\":[9,35,46,41,29,32,32,19,22,25,19,18,16,17,16,10,1,5]},\"selected\":{\"id\":\"2119\",\"type\":\"Selection\"},\"selection_policy\":{\"id\":\"2118\",\"type\":\"UnionRenderers\"}},\"id\":\"2002\",\"type\":\"ColumnDataSource\"},{\"attributes\":{\"fill_alpha\":{\"value\":0.8},\"fill_color\":{\"value\":\"navy\"},\"line_alpha\":{\"value\":0.8},\"line_color\":{\"value\":\"navy\"},\"size\":{\"units\":\"screen\",\"value\":10},\"x\":{\"field\":\"x\"},\"y\":{\"field\":\"y\"}},\"id\":\"1037\",\"type\":\"Circle\"},{\"attributes\":{\"fill_alpha\":{\"value\":0.1},\"fill_color\":{\"value\":\"#1f77b4\"},\"line_alpha\":{\"value\":0.1},\"line_color\":{\"value\":\"#1f77b4\"},\"size\":{\"units\":\"screen\",\"value\":10},\"x\":{\"field\":\"x\"},\"y\":{\"field\":\"y\"}},\"id\":\"1038\",\"type\":\"Circle\"},{\"attributes\":{\"callback\":null,\"data\":{\"x\":[130,165,150,150,140,198,220,215,225,190,170,160,150,225,95,95,97,85,88,46,87,90,95,113,90,215,200,210,193],\"y\":[3504,3693,3436,3433,3449,4341,4354,4312,4425,3850,3563,3609,3761,3086,2372,2833,2774,2587,2130,1835,2672,2430,2375,2234,2648,4615,4376,4382,4732]},\"selected\":{\"id\":\"1125\",\"type\":\"Selection\"},\"selection_policy\":{\"id\":\"1124\",\"type\":\"UnionRenderers\"}},\"id\":\"1036\",\"type\":\"ColumnDataSource\"},{\"attributes\":{\"callback\":null},\"id\":\"1970\",\"type\":\"DataRange1d\"},{\"attributes\":{},\"id\":\"1023\",\"type\":\"PanTool\"},{\"attributes\":{\"overlay\":{\"id\":\"1126\",\"type\":\"BoxAnnotation\"}},\"id\":\"1025\",\"type\":\"BoxZoomTool\"},{\"attributes\":{\"below\":[{\"id\":\"1013\",\"type\":\"LinearAxis\"}],\"center\":[{\"id\":\"1017\",\"type\":\"Grid\"},{\"id\":\"1022\",\"type\":\"Grid\"}],\"left\":[{\"id\":\"1018\",\"type\":\"LinearAxis\"}],\"plot_height\":200,\"plot_width\":300,\"renderers\":[{\"id\":\"1039\",\"type\":\"GlyphRenderer\"}],\"sizing_mode\":\"scale_both\",\"title\":{\"id\":\"1003\",\"type\":\"Title\"},\"toolbar\":{\"id\":\"1029\",\"type\":\"Toolbar\"},\"toolbar_location\":null,\"x_range\":{\"id\":\"1005\",\"type\":\"DataRange1d\"},\"x_scale\":{\"id\":\"1009\",\"type\":\"LinearScale\"},\"y_range\":{\"id\":\"1007\",\"type\":\"DataRange1d\"},\"y_scale\":{\"id\":\"1011\",\"type\":\"LinearScale\"}},\"id\":\"1002\",\"subtype\":\"Figure\",\"type\":\"Plot\"},{\"attributes\":{\"callback\":null},\"id\":\"1972\",\"type\":\"DataRange1d\"},{\"attributes\":{},\"id\":\"1026\",\"type\":\"SaveTool\"},{\"attributes\":{},\"id\":\"1974\",\"type\":\"LinearScale\"},{\"attributes\":{},\"id\":\"1027\",\"type\":\"ResetTool\"},{\"attributes\":{},\"id\":\"1976\",\"type\":\"LinearScale\"},{\"attributes\":{\"formatter\":{\"id\":\"2105\",\"type\":\"BasicTickFormatter\"},\"ticker\":{\"id\":\"1979\",\"type\":\"BasicTicker\"}},\"id\":\"1978\",\"type\":\"LinearAxis\"},{\"attributes\":{\"callback\":null},\"id\":\"1005\",\"type\":\"DataRange1d\"},{\"attributes\":{},\"id\":\"1028\",\"type\":\"HelpTool\"},{\"attributes\":{},\"id\":\"1984\",\"type\":\"BasicTicker\"},{\"attributes\":{},\"id\":\"1979\",\"type\":\"BasicTicker\"},{\"attributes\":{\"text\":\"Circles\"},\"id\":\"1003\",\"type\":\"Title\"},{\"attributes\":{\"ticker\":{\"id\":\"1979\",\"type\":\"BasicTicker\"}},\"id\":\"1982\",\"type\":\"Grid\"},{\"attributes\":{\"below\":[{\"id\":\"1052\",\"type\":\"LinearAxis\"}],\"center\":[{\"id\":\"1056\",\"type\":\"Grid\"},{\"id\":\"1061\",\"type\":\"Grid\"}],\"left\":[{\"id\":\"1057\",\"type\":\"LinearAxis\"}],\"plot_height\":200,\"plot_width\":300,\"renderers\":[{\"id\":\"1078\",\"type\":\"GlyphRenderer\"}],\"sizing_mode\":\"scale_both\",\"title\":{\"id\":\"1042\",\"type\":\"Title\"},\"toolbar\":{\"id\":\"1068\",\"type\":\"Toolbar\"},\"toolbar_location\":null,\"x_range\":{\"id\":\"1044\",\"type\":\"DataRange1d\"},\"x_scale\":{\"id\":\"1048\",\"type\":\"LinearScale\"},\"y_range\":{\"id\":\"1046\",\"type\":\"DataRange1d\"},\"y_scale\":{\"id\":\"1050\",\"type\":\"LinearScale\"}},\"id\":\"1041\",\"subtype\":\"Figure\",\"type\":\"Plot\"},{\"attributes\":{\"dimension\":1,\"ticker\":{\"id\":\"1984\",\"type\":\"BasicTicker\"}},\"id\":\"1987\",\"type\":\"Grid\"},{\"attributes\":{\"formatter\":{\"id\":\"2103\",\"type\":\"BasicTickFormatter\"},\"ticker\":{\"id\":\"1984\",\"type\":\"BasicTicker\"}},\"id\":\"1983\",\"type\":\"LinearAxis\"},{\"attributes\":{\"data_source\":{\"id\":\"1036\",\"type\":\"ColumnDataSource\"},\"glyph\":{\"id\":\"1037\",\"type\":\"Circle\"},\"hover_glyph\":null,\"muted_glyph\":null,\"nonselection_glyph\":{\"id\":\"1038\",\"type\":\"Circle\"},\"selection_glyph\":null,\"view\":{\"id\":\"1040\",\"type\":\"CDSView\"}},\"id\":\"1039\",\"type\":\"GlyphRenderer\"},{\"attributes\":{\"below\":[{\"id\":\"1978\",\"type\":\"LinearAxis\"}],\"center\":[{\"id\":\"1982\",\"type\":\"Grid\"},{\"id\":\"1987\",\"type\":\"Grid\"}],\"left\":[{\"id\":\"1983\",\"type\":\"LinearAxis\"}],\"plot_height\":200,\"plot_width\":700,\"renderers\":[{\"id\":\"2005\",\"type\":\"GlyphRenderer\"}],\"sizing_mode\":\"scale_both\",\"title\":{\"id\":\"1968\",\"type\":\"Title\"},\"toolbar\":{\"id\":\"1994\",\"type\":\"Toolbar\"},\"x_range\":{\"id\":\"1970\",\"type\":\"DataRange1d\"},\"x_scale\":{\"id\":\"1974\",\"type\":\"LinearScale\"},\"y_range\":{\"id\":\"1972\",\"type\":\"DataRange1d\"},\"y_scale\":{\"id\":\"1976\",\"type\":\"LinearScale\"}},\"id\":\"1967\",\"subtype\":\"Figure\",\"type\":\"Plot\"},{\"attributes\":{\"bottom\":{\"value\":0},\"fill_color\":{\"value\":\"#FF4A44\"},\"left\":{\"field\":\"left\"},\"line_width\":{\"value\":3},\"right\":{\"field\":\"right\"},\"top\":{\"field\":\"top\"}},\"id\":\"2003\",\"type\":\"Quad\"},{\"attributes\":{\"source\":{\"id\":\"1036\",\"type\":\"ColumnDataSource\"}},\"id\":\"1040\",\"type\":\"CDSView\"},{\"attributes\":{\"fill_alpha\":{\"value\":0.8},\"fill_color\":{\"value\":\"red\"},\"line_alpha\":{\"value\":0.8},\"line_color\":{\"value\":\"red\"},\"size\":{\"units\":\"screen\",\"value\":10},\"x\":{\"field\":\"x\"},\"y\":{\"field\":\"y\"}},\"id\":\"1076\",\"type\":\"Triangle\"},{\"attributes\":{\"text\":\"Triangles\"},\"id\":\"1042\",\"type\":\"Title\"},{\"attributes\":{\"active_drag\":\"auto\",\"active_inspect\":\"auto\",\"active_multi\":null,\"active_scroll\":\"auto\",\"active_tap\":\"auto\",\"tools\":[{\"id\":\"1988\",\"type\":\"PanTool\"},{\"id\":\"1989\",\"type\":\"WheelZoomTool\"},{\"id\":\"1990\",\"type\":\"BoxZoomTool\"},{\"id\":\"1991\",\"type\":\"SaveTool\"},{\"id\":\"1992\",\"type\":\"ResetTool\"},{\"id\":\"1993\",\"type\":\"HelpTool\"}]},\"id\":\"1994\",\"type\":\"Toolbar\"},{\"attributes\":{},\"id\":\"1988\",\"type\":\"PanTool\"},{\"attributes\":{\"callback\":null},\"id\":\"1044\",\"type\":\"DataRange1d\"},{\"attributes\":{},\"id\":\"1989\",\"type\":\"WheelZoomTool\"},{\"attributes\":{},\"id\":\"1024\",\"type\":\"WheelZoomTool\"},{\"attributes\":{},\"id\":\"1048\",\"type\":\"LinearScale\"},{\"attributes\":{\"overlay\":{\"id\":\"2120\",\"type\":\"BoxAnnotation\"}},\"id\":\"1990\",\"type\":\"BoxZoomTool\"},{\"attributes\":{\"callback\":null},\"id\":\"1046\",\"type\":\"DataRange1d\"},{\"attributes\":{},\"id\":\"1991\",\"type\":\"SaveTool\"},{\"attributes\":{\"children\":[{\"id\":\"1967\",\"subtype\":\"Figure\",\"type\":\"Plot\"}],\"sizing_mode\":\"scale_both\"},\"id\":\"2007\",\"type\":\"Row\"},{\"attributes\":{},\"id\":\"1050\",\"type\":\"LinearScale\"},{\"attributes\":{},\"id\":\"1992\",\"type\":\"ResetTool\"},{\"attributes\":{\"formatter\":{\"id\":\"1132\",\"type\":\"BasicTickFormatter\"},\"ticker\":{\"id\":\"1053\",\"type\":\"BasicTicker\"}},\"id\":\"1052\",\"type\":\"LinearAxis\"},{\"attributes\":{},\"id\":\"1993\",\"type\":\"HelpTool\"},{\"attributes\":{},\"id\":\"1058\",\"type\":\"BasicTicker\"},{\"attributes\":{},\"id\":\"1053\",\"type\":\"BasicTicker\"},{\"attributes\":{\"ticker\":{\"id\":\"1053\",\"type\":\"BasicTicker\"}},\"id\":\"1056\",\"type\":\"Grid\"},{\"attributes\":{\"data_source\":{\"id\":\"2002\",\"type\":\"ColumnDataSource\"},\"glyph\":{\"id\":\"2003\",\"type\":\"Quad\"},\"hover_glyph\":null,\"muted_glyph\":null,\"nonselection_glyph\":{\"id\":\"2004\",\"type\":\"Quad\"},\"selection_glyph\":null,\"view\":{\"id\":\"2006\",\"type\":\"CDSView\"}},\"id\":\"2005\",\"type\":\"GlyphRenderer\"},{\"attributes\":{\"dimension\":1,\"ticker\":{\"id\":\"1058\",\"type\":\"BasicTicker\"}},\"id\":\"1061\",\"type\":\"Grid\"},{\"attributes\":{\"formatter\":{\"id\":\"1130\",\"type\":\"BasicTickFormatter\"},\"ticker\":{\"id\":\"1058\",\"type\":\"BasicTicker\"}},\"id\":\"1057\",\"type\":\"LinearAxis\"},{\"attributes\":{\"bottom\":{\"value\":0},\"fill_alpha\":{\"value\":0.1},\"fill_color\":{\"value\":\"#1f77b4\"},\"left\":{\"field\":\"left\"},\"line_alpha\":{\"value\":0.1},\"line_color\":{\"value\":\"#1f77b4\"},\"line_width\":{\"value\":3},\"right\":{\"field\":\"right\"},\"top\":{\"field\":\"top\"}},\"id\":\"2004\",\"type\":\"Quad\"},{\"attributes\":{\"overlay\":{\"id\":\"1144\",\"type\":\"BoxAnnotation\"}},\"id\":\"1103\",\"type\":\"BoxZoomTool\"},{\"attributes\":{},\"id\":\"1104\",\"type\":\"SaveTool\"},{\"attributes\":{},\"id\":\"1105\",\"type\":\"ResetTool\"},{\"attributes\":{\"active_drag\":\"auto\",\"active_inspect\":\"auto\",\"active_multi\":null,\"active_scroll\":\"auto\",\"active_tap\":\"auto\",\"tools\":[{\"id\":\"1062\",\"type\":\"PanTool\"},{\"id\":\"1063\",\"type\":\"WheelZoomTool\"},{\"id\":\"1064\",\"type\":\"BoxZoomTool\"},{\"id\":\"1065\",\"type\":\"SaveTool\"},{\"id\":\"1066\",\"type\":\"ResetTool\"},{\"id\":\"1067\",\"type\":\"HelpTool\"}]},\"id\":\"1068\",\"type\":\"Toolbar\"},{\"attributes\":{\"callback\":null,\"data\":{\"x\":[95,80,54,90,86,165,175,150,153,150,208,155,160,190,97,150,130,140,150,112,76,87,69,86,92,97,80,88],\"y\":[2278,2126,2254,2408,2226,4274,4385,4135,4129,3672,4633,4502,4456,4422,2330,3892,4098,4294,4077,2933,2511,2979,2189,2395,2288,2506,2164,2100]},\"selected\":{\"id\":\"1134\",\"type\":\"Selection\"},\"selection_policy\":{\"id\":\"1133\",\"type\":\"UnionRenderers\"}},\"id\":\"1075\",\"type\":\"ColumnDataSource\"},{\"attributes\":{\"data_source\":{\"id\":\"1075\",\"type\":\"ColumnDataSource\"},\"glyph\":{\"id\":\"1076\",\"type\":\"Triangle\"},\"hover_glyph\":null,\"muted_glyph\":null,\"nonselection_glyph\":{\"id\":\"1077\",\"type\":\"Triangle\"},\"selection_glyph\":null,\"view\":{\"id\":\"1079\",\"type\":\"CDSView\"}},\"id\":\"1078\",\"type\":\"GlyphRenderer\"},{\"attributes\":{},\"id\":\"1106\",\"type\":\"HelpTool\"},{\"attributes\":{},\"id\":\"1062\",\"type\":\"PanTool\"},{\"attributes\":{\"active_drag\":\"auto\",\"active_inspect\":\"auto\",\"active_multi\":null,\"active_scroll\":\"auto\",\"active_tap\":\"auto\",\"tools\":[{\"id\":\"1101\",\"type\":\"PanTool\"},{\"id\":\"1102\",\"type\":\"WheelZoomTool\"},{\"id\":\"1103\",\"type\":\"BoxZoomTool\"},{\"id\":\"1104\",\"type\":\"SaveTool\"},{\"id\":\"1105\",\"type\":\"ResetTool\"},{\"id\":\"1106\",\"type\":\"HelpTool\"}]},\"id\":\"1107\",\"type\":\"Toolbar\"},{\"attributes\":{},\"id\":\"1063\",\"type\":\"WheelZoomTool\"},{\"attributes\":{\"overlay\":{\"id\":\"1135\",\"type\":\"BoxAnnotation\"}},\"id\":\"1064\",\"type\":\"BoxZoomTool\"},{\"attributes\":{},\"id\":\"1141\",\"type\":\"BasicTickFormatter\"},{\"attributes\":{},\"id\":\"1065\",\"type\":\"SaveTool\"},{\"attributes\":{\"source\":{\"id\":\"1114\",\"type\":\"ColumnDataSource\"}},\"id\":\"1118\",\"type\":\"CDSView\"},{\"attributes\":{},\"id\":\"1066\",\"type\":\"ResetTool\"},{\"attributes\":{},\"id\":\"1132\",\"type\":\"BasicTickFormatter\"},{\"attributes\":{},\"id\":\"1121\",\"type\":\"BasicTickFormatter\"},{\"attributes\":{},\"id\":\"1067\",\"type\":\"HelpTool\"},{\"attributes\":{},\"id\":\"1123\",\"type\":\"BasicTickFormatter\"},{\"attributes\":{\"text\":\"Squares\"},\"id\":\"1081\",\"type\":\"Title\"},{\"attributes\":{},\"id\":\"1124\",\"type\":\"UnionRenderers\"},{\"attributes\":{\"below\":[{\"id\":\"1091\",\"type\":\"LinearAxis\"}],\"center\":[{\"id\":\"1095\",\"type\":\"Grid\"},{\"id\":\"1100\",\"type\":\"Grid\"}],\"left\":[{\"id\":\"1096\",\"type\":\"LinearAxis\"}],\"plot_height\":200,\"plot_width\":300,\"renderers\":[{\"id\":\"1117\",\"type\":\"GlyphRenderer\"}],\"sizing_mode\":\"scale_both\",\"title\":{\"id\":\"1081\",\"type\":\"Title\"},\"toolbar\":{\"id\":\"1107\",\"type\":\"Toolbar\"},\"toolbar_location\":null,\"x_range\":{\"id\":\"1083\",\"type\":\"DataRange1d\"},\"x_scale\":{\"id\":\"1087\",\"type\":\"LinearScale\"},\"y_range\":{\"id\":\"1085\",\"type\":\"DataRange1d\"},\"y_scale\":{\"id\":\"1089\",\"type\":\"LinearScale\"}},\"id\":\"1080\",\"subtype\":\"Figure\",\"type\":\"Plot\"},{\"attributes\":{},\"id\":\"1125\",\"type\":\"Selection\"},{\"attributes\":{\"source\":{\"id\":\"1075\",\"type\":\"ColumnDataSource\"}},\"id\":\"1079\",\"type\":\"CDSView\"},{\"attributes\":{\"bottom_units\":\"screen\",\"fill_alpha\":{\"value\":0.5},\"fill_color\":{\"value\":\"lightgrey\"},\"left_units\":\"screen\",\"level\":\"overlay\",\"line_alpha\":{\"value\":1.0},\"line_color\":{\"value\":\"black\"},\"line_dash\":[4,4],\"line_width\":{\"value\":2},\"render_mode\":\"css\",\"right_units\":\"screen\",\"top_units\":\"screen\"},\"id\":\"1126\",\"type\":\"BoxAnnotation\"},{\"attributes\":{\"children\":[{\"id\":\"1002\",\"subtype\":\"Figure\",\"type\":\"Plot\"},{\"id\":\"1041\",\"subtype\":\"Figure\",\"type\":\"Plot\"},{\"id\":\"1080\",\"subtype\":\"Figure\",\"type\":\"Plot\"}],\"sizing_mode\":\"scale_both\"},\"id\":\"2008\",\"type\":\"Row\"},{\"attributes\":{\"callback\":null},\"id\":\"1083\",\"type\":\"DataRange1d\"},{\"attributes\":{},\"id\":\"1130\",\"type\":\"BasicTickFormatter\"},{\"attributes\":{},\"id\":\"1087\",\"type\":\"LinearScale\"},{\"attributes\":{\"fill_alpha\":{\"value\":0.1},\"fill_color\":{\"value\":\"#1f77b4\"},\"line_alpha\":{\"value\":0.1},\"line_color\":{\"value\":\"#1f77b4\"},\"size\":{\"units\":\"screen\",\"value\":10},\"x\":{\"field\":\"x\"},\"y\":{\"field\":\"y\"}},\"id\":\"1077\",\"type\":\"Triangle\"},{\"attributes\":{},\"id\":\"1133\",\"type\":\"UnionRenderers\"},{\"attributes\":{},\"id\":\"1134\",\"type\":\"Selection\"},{\"attributes\":{\"callback\":null},\"id\":\"1085\",\"type\":\"DataRange1d\"},{\"attributes\":{\"bottom_units\":\"screen\",\"fill_alpha\":{\"value\":0.5},\"fill_color\":{\"value\":\"lightgrey\"},\"left_units\":\"screen\",\"level\":\"overlay\",\"line_alpha\":{\"value\":1.0},\"line_color\":{\"value\":\"black\"},\"line_dash\":[4,4],\"line_width\":{\"value\":2},\"render_mode\":\"css\",\"right_units\":\"screen\",\"top_units\":\"screen\"},\"id\":\"1135\",\"type\":\"BoxAnnotation\"},{\"attributes\":{},\"id\":\"1089\",\"type\":\"LinearScale\"},{\"attributes\":{\"formatter\":{\"id\":\"1141\",\"type\":\"BasicTickFormatter\"},\"ticker\":{\"id\":\"1092\",\"type\":\"BasicTicker\"}},\"id\":\"1091\",\"type\":\"LinearAxis\"},{\"attributes\":{},\"id\":\"1097\",\"type\":\"BasicTicker\"},{\"attributes\":{},\"id\":\"2118\",\"type\":\"UnionRenderers\"},{\"attributes\":{},\"id\":\"1139\",\"type\":\"BasicTickFormatter\"},{\"attributes\":{},\"id\":\"1092\",\"type\":\"BasicTicker\"},{\"attributes\":{},\"id\":\"1142\",\"type\":\"UnionRenderers\"},{\"attributes\":{\"ticker\":{\"id\":\"1092\",\"type\":\"BasicTicker\"}},\"id\":\"1095\",\"type\":\"Grid\"},{\"attributes\":{},\"id\":\"1143\",\"type\":\"Selection\"},{\"attributes\":{\"dimension\":1,\"ticker\":{\"id\":\"1097\",\"type\":\"BasicTicker\"}},\"id\":\"1100\",\"type\":\"Grid\"},{\"attributes\":{\"formatter\":{\"id\":\"1139\",\"type\":\"BasicTickFormatter\"},\"ticker\":{\"id\":\"1097\",\"type\":\"BasicTicker\"}},\"id\":\"1096\",\"type\":\"LinearAxis\"},{\"attributes\":{\"bottom_units\":\"screen\",\"fill_alpha\":{\"value\":0.5},\"fill_color\":{\"value\":\"lightgrey\"},\"left_units\":\"screen\",\"level\":\"overlay\",\"line_alpha\":{\"value\":1.0},\"line_color\":{\"value\":\"black\"},\"line_dash\":[4,4],\"line_width\":{\"value\":2},\"render_mode\":\"css\",\"right_units\":\"screen\",\"top_units\":\"screen\"},\"id\":\"1144\",\"type\":\"BoxAnnotation\"},{\"attributes\":{},\"id\":\"1009\",\"type\":\"LinearScale\"},{\"attributes\":{\"callback\":null,\"data\":{\"x\":[175,150,145,137,150,198,150,158,150,215,225,175,105,100,100,88,95,46,150,167,170,180,100,88,72,94,90,85,107,90,145,230,49,75,91,112,150,110,122,180],\"y\":[4100,3672,3988,4042,3777,4952,4464,4363,4237,4735,4951,3821,3121,3278,2945,3021,2904,1950,4997,4906,4654,4499,2789,2279,2401,2379,2124,2310,2472,2265,4082,4278,1867,2158,2582,2868,3399,2660,2807,3664]},\"selected\":{\"id\":\"1143\",\"type\":\"Selection\"},\"selection_policy\":{\"id\":\"1142\",\"type\":\"UnionRenderers\"}},\"id\":\"1114\",\"type\":\"ColumnDataSource\"},{\"attributes\":{\"bottom_units\":\"screen\",\"fill_alpha\":{\"value\":0.5},\"fill_color\":{\"value\":\"lightgrey\"},\"left_units\":\"screen\",\"level\":\"overlay\",\"line_alpha\":{\"value\":1.0},\"line_color\":{\"value\":\"black\"},\"line_dash\":[4,4],\"line_width\":{\"value\":2},\"render_mode\":\"css\",\"right_units\":\"screen\",\"top_units\":\"screen\"},\"id\":\"2120\",\"type\":\"BoxAnnotation\"},{\"attributes\":{\"fill_alpha\":{\"value\":0.8},\"fill_color\":{\"value\":\"orange\"},\"line_alpha\":{\"value\":0.8},\"line_color\":{\"value\":\"orange\"},\"size\":{\"units\":\"screen\",\"value\":10},\"x\":{\"field\":\"x\"},\"y\":{\"field\":\"y\"}},\"id\":\"1115\",\"type\":\"Square\"},{\"attributes\":{},\"id\":\"2119\",\"type\":\"Selection\"},{\"attributes\":{\"fill_alpha\":{\"value\":0.1},\"fill_color\":{\"value\":\"#1f77b4\"},\"line_alpha\":{\"value\":0.1},\"line_color\":{\"value\":\"#1f77b4\"},\"size\":{\"units\":\"screen\",\"value\":10},\"x\":{\"field\":\"x\"},\"y\":{\"field\":\"y\"}},\"id\":\"1116\",\"type\":\"Square\"},{\"attributes\":{\"data_source\":{\"id\":\"1114\",\"type\":\"ColumnDataSource\"},\"glyph\":{\"id\":\"1115\",\"type\":\"Square\"},\"hover_glyph\":null,\"muted_glyph\":null,\"nonselection_glyph\":{\"id\":\"1116\",\"type\":\"Square\"},\"selection_glyph\":null,\"view\":{\"id\":\"1118\",\"type\":\"CDSView\"}},\"id\":\"1117\",\"type\":\"GlyphRenderer\"},{\"attributes\":{},\"id\":\"2105\",\"type\":\"BasicTickFormatter\"},{\"attributes\":{\"callback\":null},\"id\":\"1007\",\"type\":\"DataRange1d\"},{\"attributes\":{},\"id\":\"1101\",\"type\":\"PanTool\"},{\"attributes\":{},\"id\":\"2103\",\"type\":\"BasicTickFormatter\"},{\"attributes\":{},\"id\":\"1011\",\"type\":\"LinearScale\"},{\"attributes\":{},\"id\":\"1102\",\"type\":\"WheelZoomTool\"},{\"attributes\":{},\"id\":\"1014\",\"type\":\"BasicTicker\"},{\"attributes\":{\"formatter\":{\"id\":\"1123\",\"type\":\"BasicTickFormatter\"},\"ticker\":{\"id\":\"1014\",\"type\":\"BasicTicker\"}},\"id\":\"1013\",\"type\":\"LinearAxis\"}],\"root_ids\":[\"2009\"]},\"title\":\"Bokeh Application\",\"version\":\"1.3.4\"}};\n",
       "  var render_items = [{\"docid\":\"0d770a31-c38c-4f98-88b8-bea612ed1ffe\",\"roots\":{\"2009\":\"ca7beb65-90bc-4a0d-b753-7d0997927db0\"}}];\n",
       "  root.Bokeh.embed.embed_items_notebook(docs_json, render_items);\n",
       "\n",
       "  }\n",
       "  if (root.Bokeh !== undefined) {\n",
       "    embed_document(root);\n",
       "  } else {\n",
       "    var attempts = 0;\n",
       "    var timer = setInterval(function(root) {\n",
       "      if (root.Bokeh !== undefined) {\n",
       "        embed_document(root);\n",
       "        clearInterval(timer);\n",
       "      }\n",
       "      attempts++;\n",
       "      if (attempts > 100) {\n",
       "        console.log(\"Bokeh: ERROR: Unable to run BokehJS code because BokehJS library is missing\");\n",
       "        clearInterval(timer);\n",
       "      }\n",
       "    }, 10, root)\n",
       "  }\n",
       "})(window);"
      ],
      "application/vnd.bokehjs_exec.v0+json": ""
     },
     "metadata": {
      "application/vnd.bokehjs_exec.v0+json": {
       "id": "2009"
      }
     },
     "output_type": "display_data"
    }
   ],
   "source": [
    "from bokeh.layouts import layout\n",
    "\n",
    "l = layout([p],\n",
    "      [f0, f2, f3],\n",
    "          sizing_mode='scale_both',\n",
    "          width = 800, height = 500)\n",
    "\n",
    "show(l)"
   ]
  },
  {
   "cell_type": "markdown",
   "metadata": {},
   "source": [
    "## Adding annotations"
   ]
  },
  {
   "cell_type": "code",
   "execution_count": 13,
   "metadata": {},
   "outputs": [
    {
     "data": {
      "text/html": [
       "\n",
       "\n",
       "\n",
       "\n",
       "\n",
       "\n",
       "  <div class=\"bk-root\" id=\"de27d4bc-b24b-4536-910d-1bcf19d09b48\" data-root-id=\"1608\"></div>\n"
      ]
     },
     "metadata": {},
     "output_type": "display_data"
    },
    {
     "data": {
      "application/javascript": [
       "(function(root) {\n",
       "  function embed_document(root) {\n",
       "    \n",
       "  var docs_json = {\"6e153a52-6675-41ca-9d6c-2c169c76acc2\":{\"roots\":{\"references\":[{\"attributes\":{\"below\":[{\"id\":\"1619\",\"type\":\"LinearAxis\"}],\"center\":[{\"id\":\"1623\",\"type\":\"Grid\"},{\"id\":\"1628\",\"type\":\"Grid\"},{\"id\":\"2322\",\"type\":\"Span\"},{\"id\":\"2323\",\"type\":\"Span\"},{\"id\":\"2564\",\"type\":\"BoxAnnotation\"}],\"left\":[{\"id\":\"1624\",\"type\":\"LinearAxis\"}],\"plot_height\":200,\"plot_width\":600,\"renderers\":[{\"id\":\"1645\",\"type\":\"GlyphRenderer\"}],\"title\":{\"id\":\"1609\",\"type\":\"Title\"},\"toolbar\":{\"id\":\"1635\",\"type\":\"Toolbar\"},\"toolbar_location\":null,\"x_range\":{\"id\":\"1611\",\"type\":\"DataRange1d\"},\"x_scale\":{\"id\":\"1615\",\"type\":\"LinearScale\"},\"y_range\":{\"id\":\"1613\",\"type\":\"DataRange1d\"},\"y_scale\":{\"id\":\"1617\",\"type\":\"LinearScale\"}},\"id\":\"1608\",\"subtype\":\"Figure\",\"type\":\"Plot\"},{\"attributes\":{},\"id\":\"1658\",\"type\":\"BasicTickFormatter\"},{\"attributes\":{\"dimension\":1,\"ticker\":{\"id\":\"1625\",\"type\":\"BasicTicker\"}},\"id\":\"1628\",\"type\":\"Grid\"},{\"attributes\":{},\"id\":\"1630\",\"type\":\"WheelZoomTool\"},{\"attributes\":{\"dimension\":\"height\",\"line_color\":{\"value\":\"gray\"},\"line_width\":{\"value\":2.5},\"location\":100},\"id\":\"2322\",\"type\":\"Span\"},{\"attributes\":{\"overlay\":{\"id\":\"1663\",\"type\":\"BoxAnnotation\"}},\"id\":\"1631\",\"type\":\"BoxZoomTool\"},{\"attributes\":{},\"id\":\"1617\",\"type\":\"LinearScale\"},{\"attributes\":{},\"id\":\"1620\",\"type\":\"BasicTicker\"},{\"attributes\":{},\"id\":\"1632\",\"type\":\"SaveTool\"},{\"attributes\":{\"line_color\":{\"value\":\"gray\"},\"line_width\":{\"value\":2.5},\"location\":3000},\"id\":\"2323\",\"type\":\"Span\"},{\"attributes\":{},\"id\":\"1633\",\"type\":\"ResetTool\"},{\"attributes\":{\"formatter\":{\"id\":\"1658\",\"type\":\"BasicTickFormatter\"},\"ticker\":{\"id\":\"1625\",\"type\":\"BasicTicker\"}},\"id\":\"1624\",\"type\":\"LinearAxis\"},{\"attributes\":{},\"id\":\"1660\",\"type\":\"BasicTickFormatter\"},{\"attributes\":{},\"id\":\"1634\",\"type\":\"HelpTool\"},{\"attributes\":{\"text\":\"Ploting annotations\"},\"id\":\"1609\",\"type\":\"Title\"},{\"attributes\":{\"active_drag\":\"auto\",\"active_inspect\":\"auto\",\"active_multi\":null,\"active_scroll\":\"auto\",\"active_tap\":\"auto\",\"tools\":[{\"id\":\"1629\",\"type\":\"PanTool\"},{\"id\":\"1630\",\"type\":\"WheelZoomTool\"},{\"id\":\"1631\",\"type\":\"BoxZoomTool\"},{\"id\":\"1632\",\"type\":\"SaveTool\"},{\"id\":\"1633\",\"type\":\"ResetTool\"},{\"id\":\"1634\",\"type\":\"HelpTool\"}]},\"id\":\"1635\",\"type\":\"Toolbar\"},{\"attributes\":{},\"id\":\"1662\",\"type\":\"Selection\"},{\"attributes\":{\"bottom_units\":\"screen\",\"fill_alpha\":{\"value\":0.5},\"fill_color\":{\"value\":\"lightgrey\"},\"left_units\":\"screen\",\"level\":\"overlay\",\"line_alpha\":{\"value\":1.0},\"line_color\":{\"value\":\"black\"},\"line_dash\":[4,4],\"line_width\":{\"value\":2},\"render_mode\":\"css\",\"right_units\":\"screen\",\"top_units\":\"screen\"},\"id\":\"1663\",\"type\":\"BoxAnnotation\"},{\"attributes\":{\"formatter\":{\"id\":\"1660\",\"type\":\"BasicTickFormatter\"},\"ticker\":{\"id\":\"1620\",\"type\":\"BasicTicker\"}},\"id\":\"1619\",\"type\":\"LinearAxis\"},{\"attributes\":{\"fill_alpha\":{\"value\":0.1},\"fill_color\":{\"value\":\"#1f77b4\"},\"line_alpha\":{\"value\":0.1},\"line_color\":{\"value\":\"#1f77b4\"},\"size\":{\"units\":\"screen\",\"value\":10},\"x\":{\"field\":\"x\"},\"y\":{\"field\":\"y\"}},\"id\":\"1644\",\"type\":\"Diamond\"},{\"attributes\":{\"fill_alpha\":{\"value\":0.8},\"fill_color\":{\"value\":\"green\"},\"line_alpha\":{\"value\":0.8},\"line_color\":{\"value\":\"green\"},\"size\":{\"units\":\"screen\",\"value\":10},\"x\":{\"field\":\"x\"},\"y\":{\"field\":\"y\"}},\"id\":\"1643\",\"type\":\"Diamond\"},{\"attributes\":{\"source\":{\"id\":\"1642\",\"type\":\"ColumnDataSource\"}},\"id\":\"1646\",\"type\":\"CDSView\"},{\"attributes\":{},\"id\":\"1629\",\"type\":\"PanTool\"},{\"attributes\":{},\"id\":\"1661\",\"type\":\"UnionRenderers\"},{\"attributes\":{},\"id\":\"1625\",\"type\":\"BasicTicker\"},{\"attributes\":{},\"id\":\"1615\",\"type\":\"LinearScale\"},{\"attributes\":{\"callback\":null},\"id\":\"1611\",\"type\":\"DataRange1d\"},{\"attributes\":{\"ticker\":{\"id\":\"1620\",\"type\":\"BasicTicker\"}},\"id\":\"1623\",\"type\":\"Grid\"},{\"attributes\":{\"callback\":null,\"data\":{\"x\":[88,90,95,100,105,100,88,100,165,175,153,150,180,170,175,110,72,100,88,86,90,70,76,65,69,60,70],\"y\":[2130,2264,2228,2634,3439,3329,3302,3288,4209,4464,4154,4096,4955,4746,5140,2962,2408,3282,3139,2220,2123,2074,2065,1773,1613,1834,1955]},\"selected\":{\"id\":\"1662\",\"type\":\"Selection\"},\"selection_policy\":{\"id\":\"1661\",\"type\":\"UnionRenderers\"}},\"id\":\"1642\",\"type\":\"ColumnDataSource\"},{\"attributes\":{\"data_source\":{\"id\":\"1642\",\"type\":\"ColumnDataSource\"},\"glyph\":{\"id\":\"1643\",\"type\":\"Diamond\"},\"hover_glyph\":null,\"muted_glyph\":null,\"nonselection_glyph\":{\"id\":\"1644\",\"type\":\"Diamond\"},\"selection_glyph\":null,\"view\":{\"id\":\"1646\",\"type\":\"CDSView\"}},\"id\":\"1645\",\"type\":\"GlyphRenderer\"},{\"attributes\":{\"callback\":null},\"id\":\"1613\",\"type\":\"DataRange1d\"},{\"attributes\":{\"fill_color\":{\"value\":\"firebrick\"},\"left\":90,\"right\":110},\"id\":\"2564\",\"type\":\"BoxAnnotation\"}],\"root_ids\":[\"1608\"]},\"title\":\"Bokeh Application\",\"version\":\"1.3.4\"}};\n",
       "  var render_items = [{\"docid\":\"6e153a52-6675-41ca-9d6c-2c169c76acc2\",\"roots\":{\"1608\":\"de27d4bc-b24b-4536-910d-1bcf19d09b48\"}}];\n",
       "  root.Bokeh.embed.embed_items_notebook(docs_json, render_items);\n",
       "\n",
       "  }\n",
       "  if (root.Bokeh !== undefined) {\n",
       "    embed_document(root);\n",
       "  } else {\n",
       "    var attempts = 0;\n",
       "    var timer = setInterval(function(root) {\n",
       "      if (root.Bokeh !== undefined) {\n",
       "        embed_document(root);\n",
       "        clearInterval(timer);\n",
       "      }\n",
       "      attempts++;\n",
       "      if (attempts > 100) {\n",
       "        console.log(\"Bokeh: ERROR: Unable to run BokehJS code because BokehJS library is missing\");\n",
       "        clearInterval(timer);\n",
       "      }\n",
       "    }, 10, root)\n",
       "  }\n",
       "})(window);"
      ],
      "application/vnd.bokehjs_exec.v0+json": ""
     },
     "metadata": {
      "application/vnd.bokehjs_exec.v0+json": {
       "id": "1608"
      }
     },
     "output_type": "display_data"
    }
   ],
   "source": [
    "from bokeh.models import Span, BoxAnnotation\n",
    "\n",
    "# Adding lines\n",
    "span_v = Span(location = 100, dimension = 'height', line_color = 'gray', line_width = 2.5)\n",
    "span_h = Span(location = 3000, dimension = 'width', line_color = 'gray', line_width = 2.5)\n",
    "\n",
    "f1.add_layout(span_v)\n",
    "f1.add_layout(span_h)\n",
    "f1.plot_height = 200\n",
    "f1.plot_width = 600\n",
    "\n",
    "f1.title.text = 'Ploting annotations'\n",
    "\n",
    "# Creating a box annotation\n",
    "box_annotation = BoxAnnotation(left = 90, right = 110, fill_color = 'firebrick')\n",
    "f1.add_layout(box_annotation)\n",
    "\n",
    "show(f1)"
   ]
  },
  {
   "cell_type": "markdown",
   "metadata": {},
   "source": [
    "## Labels and LabelSets"
   ]
  },
  {
   "cell_type": "code",
   "execution_count": 23,
   "metadata": {},
   "outputs": [],
   "source": [
    "from bokeh.models import Label"
   ]
  },
  {
   "cell_type": "code",
   "execution_count": 74,
   "metadata": {},
   "outputs": [
    {
     "data": {
      "text/html": [
       "\n",
       "\n",
       "\n",
       "\n",
       "\n",
       "\n",
       "  <div class=\"bk-root\" id=\"b52a9b09-0931-4b39-bd3c-4943fc31e6b6\" data-root-id=\"23757\"></div>\n"
      ]
     },
     "metadata": {},
     "output_type": "display_data"
    },
    {
     "data": {
      "application/javascript": [
       "(function(root) {\n",
       "  function embed_document(root) {\n",
       "    \n",
       "  var docs_json = {\"7f972b3d-28f0-48b7-a039-05ce7a48e766\":{\"roots\":{\"references\":[{\"attributes\":{\"below\":[{\"id\":\"23766\",\"type\":\"CategoricalAxis\"}],\"center\":[{\"id\":\"23769\",\"type\":\"Grid\"},{\"id\":\"23773\",\"type\":\"Grid\"},{\"id\":\"23787\",\"type\":\"Label\"},{\"id\":\"23788\",\"type\":\"Label\"},{\"id\":\"23819\",\"type\":\"Label\"}],\"left\":[{\"id\":\"23770\",\"type\":\"CategoricalAxis\"}],\"renderers\":[{\"id\":\"23792\",\"type\":\"GlyphRenderer\"},{\"id\":\"23797\",\"type\":\"GlyphRenderer\"},{\"id\":\"23802\",\"type\":\"GlyphRenderer\"},{\"id\":\"23807\",\"type\":\"GlyphRenderer\"},{\"id\":\"23812\",\"type\":\"GlyphRenderer\"},{\"id\":\"23817\",\"type\":\"GlyphRenderer\"}],\"title\":{\"id\":\"24524\",\"type\":\"Title\"},\"toolbar\":{\"id\":\"23780\",\"type\":\"Toolbar\"},\"x_range\":{\"id\":\"23758\",\"type\":\"FactorRange\"},\"x_scale\":{\"id\":\"23762\",\"type\":\"CategoricalScale\"},\"y_range\":{\"id\":\"23760\",\"type\":\"FactorRange\"},\"y_scale\":{\"id\":\"23764\",\"type\":\"CategoricalScale\"}},\"id\":\"23757\",\"subtype\":\"Figure\",\"type\":\"Plot\"},{\"attributes\":{\"data_source\":{\"id\":\"23814\",\"type\":\"ColumnDataSource\"},\"glyph\":{\"id\":\"23815\",\"type\":\"Oval\"},\"hover_glyph\":null,\"muted_glyph\":null,\"nonselection_glyph\":{\"id\":\"23816\",\"type\":\"Oval\"},\"selection_glyph\":null,\"view\":{\"id\":\"23818\",\"type\":\"CDSView\"}},\"id\":\"23817\",\"type\":\"GlyphRenderer\"},{\"attributes\":{\"source\":{\"id\":\"23799\",\"type\":\"ColumnDataSource\"}},\"id\":\"23803\",\"type\":\"CDSView\"},{\"attributes\":{\"callback\":null,\"data\":{\"x\":[3,6],\"y\":[1,1]},\"selected\":{\"id\":\"24537\",\"type\":\"Selection\"},\"selection_policy\":{\"id\":\"24536\",\"type\":\"UnionRenderers\"}},\"id\":\"23804\",\"type\":\"ColumnDataSource\"},{\"attributes\":{\"fill_color\":{\"value\":\"#1f77b4\"},\"line_color\":{\"value\":\"#1f77b4\"},\"size\":{\"units\":\"screen\",\"value\":18},\"x\":{\"field\":\"x\"},\"y\":{\"field\":\"y\"}},\"id\":\"23800\",\"type\":\"InvertedTriangle\"},{\"attributes\":{\"fill_color\":{\"value\":\"#1f77b4\"},\"line_color\":{\"value\":\"#1f77b4\"},\"line_width\":{\"value\":8},\"size\":{\"units\":\"screen\",\"value\":20},\"x\":{\"field\":\"x\"},\"y\":{\"field\":\"y\"}},\"id\":\"23810\",\"type\":\"Cross\"},{\"attributes\":{\"source\":{\"id\":\"23789\",\"type\":\"ColumnDataSource\"}},\"id\":\"23793\",\"type\":\"CDSView\"},{\"attributes\":{\"data_source\":{\"id\":\"23799\",\"type\":\"ColumnDataSource\"},\"glyph\":{\"id\":\"23800\",\"type\":\"InvertedTriangle\"},\"hover_glyph\":null,\"muted_glyph\":null,\"nonselection_glyph\":{\"id\":\"23801\",\"type\":\"InvertedTriangle\"},\"selection_glyph\":null,\"view\":{\"id\":\"23803\",\"type\":\"CDSView\"}},\"id\":\"23802\",\"type\":\"GlyphRenderer\"},{\"attributes\":{\"callback\":null,\"data\":{\"x\":[1,8],\"y\":[1,1]},\"selected\":{\"id\":\"24533\",\"type\":\"Selection\"},\"selection_policy\":{\"id\":\"24532\",\"type\":\"UnionRenderers\"}},\"id\":\"23794\",\"type\":\"ColumnDataSource\"},{\"attributes\":{},\"id\":\"24527\",\"type\":\"CategoricalTickFormatter\"},{\"attributes\":{\"active_drag\":\"auto\",\"active_inspect\":\"auto\",\"active_multi\":null,\"active_scroll\":\"auto\",\"active_tap\":\"auto\",\"tools\":[{\"id\":\"23774\",\"type\":\"PanTool\"},{\"id\":\"23775\",\"type\":\"WheelZoomTool\"},{\"id\":\"23776\",\"type\":\"BoxZoomTool\"},{\"id\":\"23777\",\"type\":\"SaveTool\"},{\"id\":\"23778\",\"type\":\"ResetTool\"},{\"id\":\"23779\",\"type\":\"HelpTool\"}]},\"id\":\"23780\",\"type\":\"Toolbar\"},{\"attributes\":{\"callback\":null,\"data\":{\"x\":[4],\"y\":[1]},\"selected\":{\"id\":\"24539\",\"type\":\"Selection\"},\"selection_policy\":{\"id\":\"24538\",\"type\":\"UnionRenderers\"}},\"id\":\"23809\",\"type\":\"ColumnDataSource\"},{\"attributes\":{\"callback\":null,\"data\":{\"x\":[2,7],\"y\":[1,1]},\"selected\":{\"id\":\"24535\",\"type\":\"Selection\"},\"selection_policy\":{\"id\":\"24534\",\"type\":\"UnionRenderers\"}},\"id\":\"23799\",\"type\":\"ColumnDataSource\"},{\"attributes\":{},\"id\":\"23774\",\"type\":\"PanTool\"},{\"attributes\":{},\"id\":\"24529\",\"type\":\"CategoricalTickFormatter\"},{\"attributes\":{},\"id\":\"24530\",\"type\":\"UnionRenderers\"},{\"attributes\":{\"fill_alpha\":{\"value\":0.1},\"fill_color\":{\"value\":\"#1f77b4\"},\"line_alpha\":{\"value\":0.1},\"line_color\":{\"value\":\"#1f77b4\"},\"size\":{\"units\":\"screen\",\"value\":18},\"x\":{\"field\":\"x\"},\"y\":{\"field\":\"y\"}},\"id\":\"23801\",\"type\":\"InvertedTriangle\"},{\"attributes\":{\"fill_alpha\":{\"value\":0.1},\"fill_color\":{\"value\":\"#1f77b4\"},\"line_alpha\":{\"value\":0.1},\"line_color\":{\"value\":\"#1f77b4\"},\"size\":{\"units\":\"screen\",\"value\":20},\"x\":{\"field\":\"x\"},\"y\":{\"field\":\"y\"}},\"id\":\"23806\",\"type\":\"Diamond\"},{\"attributes\":{},\"id\":\"24531\",\"type\":\"Selection\"},{\"attributes\":{},\"id\":\"23775\",\"type\":\"WheelZoomTool\"},{\"attributes\":{\"data_source\":{\"id\":\"23804\",\"type\":\"ColumnDataSource\"},\"glyph\":{\"id\":\"23805\",\"type\":\"Diamond\"},\"hover_glyph\":null,\"muted_glyph\":null,\"nonselection_glyph\":{\"id\":\"23806\",\"type\":\"Diamond\"},\"selection_glyph\":null,\"view\":{\"id\":\"23808\",\"type\":\"CDSView\"}},\"id\":\"23807\",\"type\":\"GlyphRenderer\"},{\"attributes\":{\"callback\":null,\"factors\":[\"a\",\"b\",\"c\",\"d\",\"e\",\"f\",\"g\",\"h\",\"i\"]},\"id\":\"23758\",\"type\":\"FactorRange\"},{\"attributes\":{\"overlay\":{\"id\":\"24542\",\"type\":\"BoxAnnotation\"}},\"id\":\"23776\",\"type\":\"BoxZoomTool\"},{\"attributes\":{},\"id\":\"24533\",\"type\":\"Selection\"},{\"attributes\":{\"fill_color\":{\"value\":\"#1f77b4\"},\"height\":{\"units\":\"data\",\"value\":0.2},\"line_color\":{\"value\":\"#1f77b4\"},\"width\":{\"units\":\"data\",\"value\":0.5},\"x\":{\"field\":\"x\"},\"y\":{\"field\":\"y\"}},\"id\":\"23815\",\"type\":\"Oval\"},{\"attributes\":{\"callback\":null,\"factors\":[\"1\",\"2\",\"3\",\"4\",\"5\",\"6\",\"7\",\"8\",\"9\"]},\"id\":\"23760\",\"type\":\"FactorRange\"},{\"attributes\":{\"source\":{\"id\":\"23804\",\"type\":\"ColumnDataSource\"}},\"id\":\"23808\",\"type\":\"CDSView\"},{\"attributes\":{},\"id\":\"23777\",\"type\":\"SaveTool\"},{\"attributes\":{},\"id\":\"24534\",\"type\":\"UnionRenderers\"},{\"attributes\":{},\"id\":\"23764\",\"type\":\"CategoricalScale\"},{\"attributes\":{\"fill_alpha\":{\"value\":0.1},\"fill_color\":{\"value\":\"#1f77b4\"},\"line_alpha\":{\"value\":0.1},\"line_color\":{\"value\":\"#1f77b4\"},\"size\":{\"units\":\"screen\",\"value\":15},\"x\":{\"field\":\"x\"},\"y\":{\"field\":\"y\"}},\"id\":\"23791\",\"type\":\"Circle\"},{\"attributes\":{\"callback\":null,\"data\":{\"x\":[5],\"y\":[1]},\"selected\":{\"id\":\"24541\",\"type\":\"Selection\"},\"selection_policy\":{\"id\":\"24540\",\"type\":\"UnionRenderers\"}},\"id\":\"23814\",\"type\":\"ColumnDataSource\"},{\"attributes\":{},\"id\":\"23778\",\"type\":\"ResetTool\"},{\"attributes\":{},\"id\":\"24535\",\"type\":\"Selection\"},{\"attributes\":{\"source\":{\"id\":\"23809\",\"type\":\"ColumnDataSource\"}},\"id\":\"23813\",\"type\":\"CDSView\"},{\"attributes\":{\"text\":\"Ka2\",\"x\":2,\"y\":1},\"id\":\"23787\",\"type\":\"Label\"},{\"attributes\":{\"source\":{\"id\":\"23814\",\"type\":\"ColumnDataSource\"}},\"id\":\"23818\",\"type\":\"CDSView\"},{\"attributes\":{},\"id\":\"24536\",\"type\":\"UnionRenderers\"},{\"attributes\":{},\"id\":\"23762\",\"type\":\"CategoricalScale\"},{\"attributes\":{\"fill_alpha\":{\"value\":0.1},\"fill_color\":{\"value\":\"#1f77b4\"},\"line_alpha\":{\"value\":0.1},\"line_color\":{\"value\":\"#1f77b4\"},\"line_width\":{\"value\":8},\"size\":{\"units\":\"screen\",\"value\":20},\"x\":{\"field\":\"x\"},\"y\":{\"field\":\"y\"}},\"id\":\"23811\",\"type\":\"Cross\"},{\"attributes\":{},\"id\":\"23779\",\"type\":\"HelpTool\"},{\"attributes\":{},\"id\":\"24537\",\"type\":\"Selection\"},{\"attributes\":{\"data_source\":{\"id\":\"23809\",\"type\":\"ColumnDataSource\"},\"glyph\":{\"id\":\"23810\",\"type\":\"Cross\"},\"hover_glyph\":null,\"muted_glyph\":null,\"nonselection_glyph\":{\"id\":\"23811\",\"type\":\"Cross\"},\"selection_glyph\":null,\"view\":{\"id\":\"23813\",\"type\":\"CDSView\"}},\"id\":\"23812\",\"type\":\"GlyphRenderer\"},{\"attributes\":{\"fill_alpha\":{\"value\":0.1},\"fill_color\":{\"value\":\"#1f77b4\"},\"line_alpha\":{\"value\":0.1},\"line_color\":{\"value\":\"#1f77b4\"},\"size\":{\"units\":\"screen\",\"value\":18},\"x\":{\"field\":\"x\"},\"y\":{\"field\":\"y\"}},\"id\":\"23796\",\"type\":\"Square\"},{\"attributes\":{\"fill_color\":{\"value\":\"#1f77b4\"},\"line_color\":{\"value\":\"#1f77b4\"},\"size\":{\"units\":\"screen\",\"value\":18},\"x\":{\"field\":\"x\"},\"y\":{\"field\":\"y\"}},\"id\":\"23795\",\"type\":\"Square\"},{\"attributes\":{\"text\":\"Queen\",\"x\":5,\"y\":1},\"id\":\"23788\",\"type\":\"Label\"},{\"attributes\":{},\"id\":\"24538\",\"type\":\"UnionRenderers\"},{\"attributes\":{\"formatter\":{\"id\":\"24529\",\"type\":\"CategoricalTickFormatter\"},\"ticker\":{\"id\":\"23767\",\"type\":\"CategoricalTicker\"}},\"id\":\"23766\",\"type\":\"CategoricalAxis\"},{\"attributes\":{\"source\":{\"id\":\"23794\",\"type\":\"ColumnDataSource\"}},\"id\":\"23798\",\"type\":\"CDSView\"},{\"attributes\":{\"fill_color\":{\"value\":\"#1f77b4\"},\"line_color\":{\"value\":\"#1f77b4\"},\"size\":{\"units\":\"screen\",\"value\":20},\"x\":{\"field\":\"x\"},\"y\":{\"field\":\"y\"}},\"id\":\"23805\",\"type\":\"Diamond\"},{\"attributes\":{\"data_source\":{\"id\":\"23794\",\"type\":\"ColumnDataSource\"},\"glyph\":{\"id\":\"23795\",\"type\":\"Square\"},\"hover_glyph\":null,\"muted_glyph\":null,\"nonselection_glyph\":{\"id\":\"23796\",\"type\":\"Square\"},\"selection_glyph\":null,\"view\":{\"id\":\"23798\",\"type\":\"CDSView\"}},\"id\":\"23797\",\"type\":\"GlyphRenderer\"},{\"attributes\":{},\"id\":\"23771\",\"type\":\"CategoricalTicker\"},{\"attributes\":{},\"id\":\"24539\",\"type\":\"Selection\"},{\"attributes\":{},\"id\":\"23767\",\"type\":\"CategoricalTicker\"},{\"attributes\":{},\"id\":\"24532\",\"type\":\"UnionRenderers\"},{\"attributes\":{\"fill_color\":{\"value\":\"#1f77b4\"},\"line_color\":{\"value\":\"#1f77b4\"},\"size\":{\"units\":\"screen\",\"value\":15},\"x\":{\"field\":\"x\"},\"y\":{\"field\":\"y\"}},\"id\":\"23790\",\"type\":\"Circle\"},{\"attributes\":{\"fill_alpha\":{\"value\":0.1},\"fill_color\":{\"value\":\"#1f77b4\"},\"height\":{\"units\":\"data\",\"value\":0.2},\"line_alpha\":{\"value\":0.1},\"line_color\":{\"value\":\"#1f77b4\"},\"width\":{\"units\":\"data\",\"value\":0.5},\"x\":{\"field\":\"x\"},\"y\":{\"field\":\"y\"}},\"id\":\"23816\",\"type\":\"Oval\"},{\"attributes\":{},\"id\":\"24540\",\"type\":\"UnionRenderers\"},{\"attributes\":{\"ticker\":{\"id\":\"23767\",\"type\":\"CategoricalTicker\"}},\"id\":\"23769\",\"type\":\"Grid\"},{\"attributes\":{\"render_mode\":\"css\",\"text\":\"This a beautiful chess board made with bokeh by Ricci! Checkmate!!!\",\"text_color\":{\"value\":\"red\"},\"x\":4,\"x_offset\":7,\"y\":6},\"id\":\"23819\",\"type\":\"Label\"},{\"attributes\":{\"callback\":null,\"data\":{\"x\":[1,2,3,4,5,6,7,8],\"y\":[2,2,2,2,2,2,2,2]},\"selected\":{\"id\":\"24531\",\"type\":\"Selection\"},\"selection_policy\":{\"id\":\"24530\",\"type\":\"UnionRenderers\"}},\"id\":\"23789\",\"type\":\"ColumnDataSource\"},{\"attributes\":{\"bottom_units\":\"screen\",\"fill_alpha\":{\"value\":0.5},\"fill_color\":{\"value\":\"lightgrey\"},\"left_units\":\"screen\",\"level\":\"overlay\",\"line_alpha\":{\"value\":1.0},\"line_color\":{\"value\":\"black\"},\"line_dash\":[4,4],\"line_width\":{\"value\":2},\"render_mode\":\"css\",\"right_units\":\"screen\",\"top_units\":\"screen\"},\"id\":\"24542\",\"type\":\"BoxAnnotation\"},{\"attributes\":{\"data_source\":{\"id\":\"23789\",\"type\":\"ColumnDataSource\"},\"glyph\":{\"id\":\"23790\",\"type\":\"Circle\"},\"hover_glyph\":null,\"muted_glyph\":null,\"nonselection_glyph\":{\"id\":\"23791\",\"type\":\"Circle\"},\"selection_glyph\":null,\"view\":{\"id\":\"23793\",\"type\":\"CDSView\"}},\"id\":\"23792\",\"type\":\"GlyphRenderer\"},{\"attributes\":{\"text\":\"\"},\"id\":\"24524\",\"type\":\"Title\"},{\"attributes\":{},\"id\":\"24541\",\"type\":\"Selection\"},{\"attributes\":{\"dimension\":1,\"ticker\":{\"id\":\"23771\",\"type\":\"CategoricalTicker\"}},\"id\":\"23773\",\"type\":\"Grid\"},{\"attributes\":{\"formatter\":{\"id\":\"24527\",\"type\":\"CategoricalTickFormatter\"},\"ticker\":{\"id\":\"23771\",\"type\":\"CategoricalTicker\"}},\"id\":\"23770\",\"type\":\"CategoricalAxis\"}],\"root_ids\":[\"23757\"]},\"title\":\"Bokeh Application\",\"version\":\"1.3.4\"}};\n",
       "  var render_items = [{\"docid\":\"7f972b3d-28f0-48b7-a039-05ce7a48e766\",\"roots\":{\"23757\":\"b52a9b09-0931-4b39-bd3c-4943fc31e6b6\"}}];\n",
       "  root.Bokeh.embed.embed_items_notebook(docs_json, render_items);\n",
       "\n",
       "  }\n",
       "  if (root.Bokeh !== undefined) {\n",
       "    embed_document(root);\n",
       "  } else {\n",
       "    var attempts = 0;\n",
       "    var timer = setInterval(function(root) {\n",
       "      if (root.Bokeh !== undefined) {\n",
       "        embed_document(root);\n",
       "        clearInterval(timer);\n",
       "      }\n",
       "      attempts++;\n",
       "      if (attempts > 100) {\n",
       "        console.log(\"Bokeh: ERROR: Unable to run BokehJS code because BokehJS library is missing\");\n",
       "        clearInterval(timer);\n",
       "      }\n",
       "    }, 10, root)\n",
       "  }\n",
       "})(window);"
      ],
      "application/vnd.bokehjs_exec.v0+json": ""
     },
     "metadata": {
      "application/vnd.bokehjs_exec.v0+json": {
       "id": "23757"
      }
     },
     "output_type": "display_data"
    }
   ],
   "source": [
    "f = figure(x_range = ['a', 'b', 'c', 'd', 'e', 'f', 'g', 'h', 'i'],\n",
    "           y_range = ['1', '2', '3', '4', '5', '6', '7', '8', '9'])\n",
    "\n",
    "knight = Label(x = 2, y = 1, text = 'Ka2')\n",
    "queen = Label(x = 5, y = 1, text = 'Queen')\n",
    "f.add_layout(knight)\n",
    "f.add_layout(queen)\n",
    "\n",
    "# pawns\n",
    "f.circle(x= range(1, 9), y = [2]*8, size = 15)\n",
    "# rocks\n",
    "f.square(x = [1, 8], y = [1, 1], size = 18)\n",
    "# knights\n",
    "f.inverted_triangle(x = [2,7], y = [1, 1], size = 18)\n",
    "# bishops\n",
    "f.diamond(x = [3, 6], y = [1, 1], size = 20)\n",
    "# king\n",
    "f.cross(x= [4], y = [1], size = 20, line_width = 8)\n",
    "# queen\n",
    "f.oval(x = [5], y = [1], width = 0.5, height = 0.2)\n",
    "\n",
    "# extra annotation\n",
    "f.add_layout(\n",
    "    Label(x = 4, y = 6, \n",
    "          text = 'This a beautiful chess board made with bokeh by Ricci! Checkmate!!!',\n",
    "         render_mode = 'css',\n",
    "         text_color = 'red'\n",
    "         )\n",
    ")\n",
    "\n",
    "show(f)"
   ]
  },
  {
   "cell_type": "code",
   "execution_count": null,
   "metadata": {},
   "outputs": [],
   "source": []
  },
  {
   "cell_type": "markdown",
   "metadata": {},
   "source": [
    "## Exercise 5: Gridplots\n",
    "### Working with new data"
   ]
  },
  {
   "cell_type": "code",
   "execution_count": 15,
   "metadata": {},
   "outputs": [
    {
     "data": {
      "text/html": [
       "<div>\n",
       "<style scoped>\n",
       "    .dataframe tbody tr th:only-of-type {\n",
       "        vertical-align: middle;\n",
       "    }\n",
       "\n",
       "    .dataframe tbody tr th {\n",
       "        vertical-align: top;\n",
       "    }\n",
       "\n",
       "    .dataframe thead th {\n",
       "        text-align: right;\n",
       "    }\n",
       "</style>\n",
       "<table border=\"1\" class=\"dataframe\">\n",
       "  <thead>\n",
       "    <tr style=\"text-align: right;\">\n",
       "      <th></th>\n",
       "      <th>atomic number</th>\n",
       "      <th>symbol</th>\n",
       "      <th>name</th>\n",
       "      <th>atomic mass</th>\n",
       "      <th>CPK</th>\n",
       "      <th>electronic configuration</th>\n",
       "      <th>electronegativity</th>\n",
       "      <th>atomic radius</th>\n",
       "      <th>ion radius</th>\n",
       "      <th>van der Waals radius</th>\n",
       "      <th>...</th>\n",
       "      <th>EA</th>\n",
       "      <th>standard state</th>\n",
       "      <th>bonding type</th>\n",
       "      <th>melting point</th>\n",
       "      <th>boiling point</th>\n",
       "      <th>density</th>\n",
       "      <th>metal</th>\n",
       "      <th>year discovered</th>\n",
       "      <th>group</th>\n",
       "      <th>period</th>\n",
       "    </tr>\n",
       "  </thead>\n",
       "  <tbody>\n",
       "    <tr>\n",
       "      <th>0</th>\n",
       "      <td>1</td>\n",
       "      <td>H</td>\n",
       "      <td>Hydrogen</td>\n",
       "      <td>1.00794</td>\n",
       "      <td>#FFFFFF</td>\n",
       "      <td>1s1</td>\n",
       "      <td>2.20</td>\n",
       "      <td>37.0</td>\n",
       "      <td>NaN</td>\n",
       "      <td>120.0</td>\n",
       "      <td>...</td>\n",
       "      <td>-73.0</td>\n",
       "      <td>gas</td>\n",
       "      <td>diatomic</td>\n",
       "      <td>14.0</td>\n",
       "      <td>20.0</td>\n",
       "      <td>0.00009</td>\n",
       "      <td>nonmetal</td>\n",
       "      <td>1766</td>\n",
       "      <td>1</td>\n",
       "      <td>1</td>\n",
       "    </tr>\n",
       "    <tr>\n",
       "      <th>1</th>\n",
       "      <td>2</td>\n",
       "      <td>He</td>\n",
       "      <td>Helium</td>\n",
       "      <td>4.002602</td>\n",
       "      <td>#D9FFFF</td>\n",
       "      <td>1s2</td>\n",
       "      <td>NaN</td>\n",
       "      <td>32.0</td>\n",
       "      <td>NaN</td>\n",
       "      <td>140.0</td>\n",
       "      <td>...</td>\n",
       "      <td>0.0</td>\n",
       "      <td>gas</td>\n",
       "      <td>atomic</td>\n",
       "      <td>NaN</td>\n",
       "      <td>4.0</td>\n",
       "      <td>0.00000</td>\n",
       "      <td>noble gas</td>\n",
       "      <td>1868</td>\n",
       "      <td>18</td>\n",
       "      <td>1</td>\n",
       "    </tr>\n",
       "    <tr>\n",
       "      <th>2</th>\n",
       "      <td>3</td>\n",
       "      <td>Li</td>\n",
       "      <td>Lithium</td>\n",
       "      <td>6.941</td>\n",
       "      <td>#CC80FF</td>\n",
       "      <td>[He] 2s1</td>\n",
       "      <td>0.98</td>\n",
       "      <td>134.0</td>\n",
       "      <td>76 (+1)</td>\n",
       "      <td>182.0</td>\n",
       "      <td>...</td>\n",
       "      <td>-60.0</td>\n",
       "      <td>solid</td>\n",
       "      <td>metallic</td>\n",
       "      <td>454.0</td>\n",
       "      <td>1615.0</td>\n",
       "      <td>0.54000</td>\n",
       "      <td>alkali metal</td>\n",
       "      <td>1817</td>\n",
       "      <td>1</td>\n",
       "      <td>2</td>\n",
       "    </tr>\n",
       "    <tr>\n",
       "      <th>3</th>\n",
       "      <td>4</td>\n",
       "      <td>Be</td>\n",
       "      <td>Beryllium</td>\n",
       "      <td>9.012182</td>\n",
       "      <td>#C2FF00</td>\n",
       "      <td>[He] 2s2</td>\n",
       "      <td>1.57</td>\n",
       "      <td>90.0</td>\n",
       "      <td>45 (+2)</td>\n",
       "      <td>NaN</td>\n",
       "      <td>...</td>\n",
       "      <td>0.0</td>\n",
       "      <td>solid</td>\n",
       "      <td>metallic</td>\n",
       "      <td>1560.0</td>\n",
       "      <td>2743.0</td>\n",
       "      <td>1.85000</td>\n",
       "      <td>alkaline earth metal</td>\n",
       "      <td>1798</td>\n",
       "      <td>2</td>\n",
       "      <td>2</td>\n",
       "    </tr>\n",
       "    <tr>\n",
       "      <th>4</th>\n",
       "      <td>5</td>\n",
       "      <td>B</td>\n",
       "      <td>Boron</td>\n",
       "      <td>10.811</td>\n",
       "      <td>#FFB5B5</td>\n",
       "      <td>[He] 2s2 2p1</td>\n",
       "      <td>2.04</td>\n",
       "      <td>82.0</td>\n",
       "      <td>27 (+3)</td>\n",
       "      <td>NaN</td>\n",
       "      <td>...</td>\n",
       "      <td>-27.0</td>\n",
       "      <td>solid</td>\n",
       "      <td>covalent network</td>\n",
       "      <td>2348.0</td>\n",
       "      <td>4273.0</td>\n",
       "      <td>2.46000</td>\n",
       "      <td>metalloid</td>\n",
       "      <td>1807</td>\n",
       "      <td>13</td>\n",
       "      <td>2</td>\n",
       "    </tr>\n",
       "  </tbody>\n",
       "</table>\n",
       "<p>5 rows × 21 columns</p>\n",
       "</div>"
      ],
      "text/plain": [
       "   atomic number symbol       name atomic mass      CPK  \\\n",
       "0              1      H   Hydrogen     1.00794  #FFFFFF   \n",
       "1              2     He     Helium    4.002602  #D9FFFF   \n",
       "2              3     Li    Lithium       6.941  #CC80FF   \n",
       "3              4     Be  Beryllium    9.012182  #C2FF00   \n",
       "4              5      B      Boron      10.811  #FFB5B5   \n",
       "\n",
       "  electronic configuration  electronegativity  atomic radius ion radius  \\\n",
       "0                      1s1               2.20           37.0        NaN   \n",
       "1                      1s2                NaN           32.0        NaN   \n",
       "2                 [He] 2s1               0.98          134.0    76 (+1)   \n",
       "3                 [He] 2s2               1.57           90.0    45 (+2)   \n",
       "4             [He] 2s2 2p1               2.04           82.0    27 (+3)   \n",
       "\n",
       "   van der Waals radius  ...    EA  standard state      bonding type  \\\n",
       "0                 120.0  ... -73.0             gas          diatomic   \n",
       "1                 140.0  ...   0.0             gas            atomic   \n",
       "2                 182.0  ... -60.0           solid          metallic   \n",
       "3                   NaN  ...   0.0           solid          metallic   \n",
       "4                   NaN  ... -27.0           solid  covalent network   \n",
       "\n",
       "  melting point  boiling point  density                 metal year discovered  \\\n",
       "0          14.0           20.0  0.00009              nonmetal            1766   \n",
       "1           NaN            4.0  0.00000             noble gas            1868   \n",
       "2         454.0         1615.0  0.54000          alkali metal            1817   \n",
       "3        1560.0         2743.0  1.85000  alkaline earth metal            1798   \n",
       "4        2348.0         4273.0  2.46000             metalloid            1807   \n",
       "\n",
       "  group period  \n",
       "0     1      1  \n",
       "1    18      1  \n",
       "2     1      2  \n",
       "3     2      2  \n",
       "4    13      2  \n",
       "\n",
       "[5 rows x 21 columns]"
      ]
     },
     "execution_count": 15,
     "metadata": {},
     "output_type": "execute_result"
    }
   ],
   "source": [
    "from bokeh.sampledata.periodic_table import elements\n",
    "elements.head()"
   ]
  },
  {
   "cell_type": "code",
   "execution_count": null,
   "metadata": {},
   "outputs": [],
   "source": []
  }
 ],
 "metadata": {
  "kernelspec": {
   "display_name": "Python 3",
   "language": "python",
   "name": "python3"
  },
  "language_info": {
   "codemirror_mode": {
    "name": "ipython",
    "version": 3
   },
   "file_extension": ".py",
   "mimetype": "text/x-python",
   "name": "python",
   "nbconvert_exporter": "python",
   "pygments_lexer": "ipython3",
   "version": "3.7.4"
  }
 },
 "nbformat": 4,
 "nbformat_minor": 2
}
