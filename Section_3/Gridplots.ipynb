{
 "cells": [
  {
   "cell_type": "markdown",
   "metadata": {},
   "source": [
    "# GridPlots\n",
    "\n",
    "Herein we will see how to create multiple plots in the same figure."
   ]
  },
  {
   "cell_type": "code",
   "execution_count": 1,
   "metadata": {},
   "outputs": [
    {
     "data": {
      "text/html": [
       "\n",
       "    <div class=\"bk-root\">\n",
       "        <a href=\"https://bokeh.pydata.org\" target=\"_blank\" class=\"bk-logo bk-logo-small bk-logo-notebook\"></a>\n",
       "        <span id=\"1001\">Loading BokehJS ...</span>\n",
       "    </div>"
      ]
     },
     "metadata": {},
     "output_type": "display_data"
    },
    {
     "data": {
      "application/javascript": [
       "\n",
       "(function(root) {\n",
       "  function now() {\n",
       "    return new Date();\n",
       "  }\n",
       "\n",
       "  var force = true;\n",
       "\n",
       "  if (typeof root._bokeh_onload_callbacks === \"undefined\" || force === true) {\n",
       "    root._bokeh_onload_callbacks = [];\n",
       "    root._bokeh_is_loading = undefined;\n",
       "  }\n",
       "\n",
       "  var JS_MIME_TYPE = 'application/javascript';\n",
       "  var HTML_MIME_TYPE = 'text/html';\n",
       "  var EXEC_MIME_TYPE = 'application/vnd.bokehjs_exec.v0+json';\n",
       "  var CLASS_NAME = 'output_bokeh rendered_html';\n",
       "\n",
       "  /**\n",
       "   * Render data to the DOM node\n",
       "   */\n",
       "  function render(props, node) {\n",
       "    var script = document.createElement(\"script\");\n",
       "    node.appendChild(script);\n",
       "  }\n",
       "\n",
       "  /**\n",
       "   * Handle when an output is cleared or removed\n",
       "   */\n",
       "  function handleClearOutput(event, handle) {\n",
       "    var cell = handle.cell;\n",
       "\n",
       "    var id = cell.output_area._bokeh_element_id;\n",
       "    var server_id = cell.output_area._bokeh_server_id;\n",
       "    // Clean up Bokeh references\n",
       "    if (id != null && id in Bokeh.index) {\n",
       "      Bokeh.index[id].model.document.clear();\n",
       "      delete Bokeh.index[id];\n",
       "    }\n",
       "\n",
       "    if (server_id !== undefined) {\n",
       "      // Clean up Bokeh references\n",
       "      var cmd = \"from bokeh.io.state import curstate; print(curstate().uuid_to_server['\" + server_id + \"'].get_sessions()[0].document.roots[0]._id)\";\n",
       "      cell.notebook.kernel.execute(cmd, {\n",
       "        iopub: {\n",
       "          output: function(msg) {\n",
       "            var id = msg.content.text.trim();\n",
       "            if (id in Bokeh.index) {\n",
       "              Bokeh.index[id].model.document.clear();\n",
       "              delete Bokeh.index[id];\n",
       "            }\n",
       "          }\n",
       "        }\n",
       "      });\n",
       "      // Destroy server and session\n",
       "      var cmd = \"import bokeh.io.notebook as ion; ion.destroy_server('\" + server_id + \"')\";\n",
       "      cell.notebook.kernel.execute(cmd);\n",
       "    }\n",
       "  }\n",
       "\n",
       "  /**\n",
       "   * Handle when a new output is added\n",
       "   */\n",
       "  function handleAddOutput(event, handle) {\n",
       "    var output_area = handle.output_area;\n",
       "    var output = handle.output;\n",
       "\n",
       "    // limit handleAddOutput to display_data with EXEC_MIME_TYPE content only\n",
       "    if ((output.output_type != \"display_data\") || (!output.data.hasOwnProperty(EXEC_MIME_TYPE))) {\n",
       "      return\n",
       "    }\n",
       "\n",
       "    var toinsert = output_area.element.find(\".\" + CLASS_NAME.split(' ')[0]);\n",
       "\n",
       "    if (output.metadata[EXEC_MIME_TYPE][\"id\"] !== undefined) {\n",
       "      toinsert[toinsert.length - 1].firstChild.textContent = output.data[JS_MIME_TYPE];\n",
       "      // store reference to embed id on output_area\n",
       "      output_area._bokeh_element_id = output.metadata[EXEC_MIME_TYPE][\"id\"];\n",
       "    }\n",
       "    if (output.metadata[EXEC_MIME_TYPE][\"server_id\"] !== undefined) {\n",
       "      var bk_div = document.createElement(\"div\");\n",
       "      bk_div.innerHTML = output.data[HTML_MIME_TYPE];\n",
       "      var script_attrs = bk_div.children[0].attributes;\n",
       "      for (var i = 0; i < script_attrs.length; i++) {\n",
       "        toinsert[toinsert.length - 1].firstChild.setAttribute(script_attrs[i].name, script_attrs[i].value);\n",
       "      }\n",
       "      // store reference to server id on output_area\n",
       "      output_area._bokeh_server_id = output.metadata[EXEC_MIME_TYPE][\"server_id\"];\n",
       "    }\n",
       "  }\n",
       "\n",
       "  function register_renderer(events, OutputArea) {\n",
       "\n",
       "    function append_mime(data, metadata, element) {\n",
       "      // create a DOM node to render to\n",
       "      var toinsert = this.create_output_subarea(\n",
       "        metadata,\n",
       "        CLASS_NAME,\n",
       "        EXEC_MIME_TYPE\n",
       "      );\n",
       "      this.keyboard_manager.register_events(toinsert);\n",
       "      // Render to node\n",
       "      var props = {data: data, metadata: metadata[EXEC_MIME_TYPE]};\n",
       "      render(props, toinsert[toinsert.length - 1]);\n",
       "      element.append(toinsert);\n",
       "      return toinsert\n",
       "    }\n",
       "\n",
       "    /* Handle when an output is cleared or removed */\n",
       "    events.on('clear_output.CodeCell', handleClearOutput);\n",
       "    events.on('delete.Cell', handleClearOutput);\n",
       "\n",
       "    /* Handle when a new output is added */\n",
       "    events.on('output_added.OutputArea', handleAddOutput);\n",
       "\n",
       "    /**\n",
       "     * Register the mime type and append_mime function with output_area\n",
       "     */\n",
       "    OutputArea.prototype.register_mime_type(EXEC_MIME_TYPE, append_mime, {\n",
       "      /* Is output safe? */\n",
       "      safe: true,\n",
       "      /* Index of renderer in `output_area.display_order` */\n",
       "      index: 0\n",
       "    });\n",
       "  }\n",
       "\n",
       "  // register the mime type if in Jupyter Notebook environment and previously unregistered\n",
       "  if (root.Jupyter !== undefined) {\n",
       "    var events = require('base/js/events');\n",
       "    var OutputArea = require('notebook/js/outputarea').OutputArea;\n",
       "\n",
       "    if (OutputArea.prototype.mime_types().indexOf(EXEC_MIME_TYPE) == -1) {\n",
       "      register_renderer(events, OutputArea);\n",
       "    }\n",
       "  }\n",
       "\n",
       "  \n",
       "  if (typeof (root._bokeh_timeout) === \"undefined\" || force === true) {\n",
       "    root._bokeh_timeout = Date.now() + 5000;\n",
       "    root._bokeh_failed_load = false;\n",
       "  }\n",
       "\n",
       "  var NB_LOAD_WARNING = {'data': {'text/html':\n",
       "     \"<div style='background-color: #fdd'>\\n\"+\n",
       "     \"<p>\\n\"+\n",
       "     \"BokehJS does not appear to have successfully loaded. If loading BokehJS from CDN, this \\n\"+\n",
       "     \"may be due to a slow or bad network connection. Possible fixes:\\n\"+\n",
       "     \"</p>\\n\"+\n",
       "     \"<ul>\\n\"+\n",
       "     \"<li>re-rerun `output_notebook()` to attempt to load from CDN again, or</li>\\n\"+\n",
       "     \"<li>use INLINE resources instead, as so:</li>\\n\"+\n",
       "     \"</ul>\\n\"+\n",
       "     \"<code>\\n\"+\n",
       "     \"from bokeh.resources import INLINE\\n\"+\n",
       "     \"output_notebook(resources=INLINE)\\n\"+\n",
       "     \"</code>\\n\"+\n",
       "     \"</div>\"}};\n",
       "\n",
       "  function display_loaded() {\n",
       "    var el = document.getElementById(\"1001\");\n",
       "    if (el != null) {\n",
       "      el.textContent = \"BokehJS is loading...\";\n",
       "    }\n",
       "    if (root.Bokeh !== undefined) {\n",
       "      if (el != null) {\n",
       "        el.textContent = \"BokehJS \" + root.Bokeh.version + \" successfully loaded.\";\n",
       "      }\n",
       "    } else if (Date.now() < root._bokeh_timeout) {\n",
       "      setTimeout(display_loaded, 100)\n",
       "    }\n",
       "  }\n",
       "\n",
       "\n",
       "  function run_callbacks() {\n",
       "    try {\n",
       "      root._bokeh_onload_callbacks.forEach(function(callback) {\n",
       "        if (callback != null)\n",
       "          callback();\n",
       "      });\n",
       "    } finally {\n",
       "      delete root._bokeh_onload_callbacks\n",
       "    }\n",
       "    console.debug(\"Bokeh: all callbacks have finished\");\n",
       "  }\n",
       "\n",
       "  function load_libs(css_urls, js_urls, callback) {\n",
       "    if (css_urls == null) css_urls = [];\n",
       "    if (js_urls == null) js_urls = [];\n",
       "\n",
       "    root._bokeh_onload_callbacks.push(callback);\n",
       "    if (root._bokeh_is_loading > 0) {\n",
       "      console.debug(\"Bokeh: BokehJS is being loaded, scheduling callback at\", now());\n",
       "      return null;\n",
       "    }\n",
       "    if (js_urls == null || js_urls.length === 0) {\n",
       "      run_callbacks();\n",
       "      return null;\n",
       "    }\n",
       "    console.debug(\"Bokeh: BokehJS not loaded, scheduling load and callback at\", now());\n",
       "    root._bokeh_is_loading = css_urls.length + js_urls.length;\n",
       "\n",
       "    function on_load() {\n",
       "      root._bokeh_is_loading--;\n",
       "      if (root._bokeh_is_loading === 0) {\n",
       "        console.debug(\"Bokeh: all BokehJS libraries/stylesheets loaded\");\n",
       "        run_callbacks()\n",
       "      }\n",
       "    }\n",
       "\n",
       "    function on_error() {\n",
       "      console.error(\"failed to load \" + url);\n",
       "    }\n",
       "\n",
       "    for (var i = 0; i < css_urls.length; i++) {\n",
       "      var url = css_urls[i];\n",
       "      const element = document.createElement(\"link\");\n",
       "      element.onload = on_load;\n",
       "      element.onerror = on_error;\n",
       "      element.rel = \"stylesheet\";\n",
       "      element.type = \"text/css\";\n",
       "      element.href = url;\n",
       "      console.debug(\"Bokeh: injecting link tag for BokehJS stylesheet: \", url);\n",
       "      document.body.appendChild(element);\n",
       "    }\n",
       "\n",
       "    for (var i = 0; i < js_urls.length; i++) {\n",
       "      var url = js_urls[i];\n",
       "      var element = document.createElement('script');\n",
       "      element.onload = on_load;\n",
       "      element.onerror = on_error;\n",
       "      element.async = false;\n",
       "      element.src = url;\n",
       "      console.debug(\"Bokeh: injecting script tag for BokehJS library: \", url);\n",
       "      document.head.appendChild(element);\n",
       "    }\n",
       "  };var element = document.getElementById(\"1001\");\n",
       "  if (element == null) {\n",
       "    console.error(\"Bokeh: ERROR: autoload.js configured with elementid '1001' but no matching script tag was found. \")\n",
       "    return false;\n",
       "  }\n",
       "\n",
       "  function inject_raw_css(css) {\n",
       "    const element = document.createElement(\"style\");\n",
       "    element.appendChild(document.createTextNode(css));\n",
       "    document.body.appendChild(element);\n",
       "  }\n",
       "\n",
       "  var js_urls = [\"https://cdn.pydata.org/bokeh/release/bokeh-1.3.4.min.js\", \"https://cdn.pydata.org/bokeh/release/bokeh-widgets-1.3.4.min.js\", \"https://cdn.pydata.org/bokeh/release/bokeh-tables-1.3.4.min.js\", \"https://cdn.pydata.org/bokeh/release/bokeh-gl-1.3.4.min.js\"];\n",
       "  var css_urls = [];\n",
       "\n",
       "  var inline_js = [\n",
       "    function(Bokeh) {\n",
       "      Bokeh.set_log_level(\"info\");\n",
       "    },\n",
       "    \n",
       "    function(Bokeh) {\n",
       "      \n",
       "    },\n",
       "    function(Bokeh) {} // ensure no trailing comma for IE\n",
       "  ];\n",
       "\n",
       "  function run_inline_js() {\n",
       "    \n",
       "    if ((root.Bokeh !== undefined) || (force === true)) {\n",
       "      for (var i = 0; i < inline_js.length; i++) {\n",
       "        inline_js[i].call(root, root.Bokeh);\n",
       "      }if (force === true) {\n",
       "        display_loaded();\n",
       "      }} else if (Date.now() < root._bokeh_timeout) {\n",
       "      setTimeout(run_inline_js, 100);\n",
       "    } else if (!root._bokeh_failed_load) {\n",
       "      console.log(\"Bokeh: BokehJS failed to load within specified timeout.\");\n",
       "      root._bokeh_failed_load = true;\n",
       "    } else if (force !== true) {\n",
       "      var cell = $(document.getElementById(\"1001\")).parents('.cell').data().cell;\n",
       "      cell.output_area.append_execute_result(NB_LOAD_WARNING)\n",
       "    }\n",
       "\n",
       "  }\n",
       "\n",
       "  if (root._bokeh_is_loading === 0) {\n",
       "    console.debug(\"Bokeh: BokehJS loaded, going straight to plotting\");\n",
       "    run_inline_js();\n",
       "  } else {\n",
       "    load_libs(css_urls, js_urls, function() {\n",
       "      console.debug(\"Bokeh: BokehJS plotting callback run at\", now());\n",
       "      run_inline_js();\n",
       "    });\n",
       "  }\n",
       "}(window));"
      ],
      "application/vnd.bokehjs_load.v0+json": "\n(function(root) {\n  function now() {\n    return new Date();\n  }\n\n  var force = true;\n\n  if (typeof root._bokeh_onload_callbacks === \"undefined\" || force === true) {\n    root._bokeh_onload_callbacks = [];\n    root._bokeh_is_loading = undefined;\n  }\n\n  \n\n  \n  if (typeof (root._bokeh_timeout) === \"undefined\" || force === true) {\n    root._bokeh_timeout = Date.now() + 5000;\n    root._bokeh_failed_load = false;\n  }\n\n  var NB_LOAD_WARNING = {'data': {'text/html':\n     \"<div style='background-color: #fdd'>\\n\"+\n     \"<p>\\n\"+\n     \"BokehJS does not appear to have successfully loaded. If loading BokehJS from CDN, this \\n\"+\n     \"may be due to a slow or bad network connection. Possible fixes:\\n\"+\n     \"</p>\\n\"+\n     \"<ul>\\n\"+\n     \"<li>re-rerun `output_notebook()` to attempt to load from CDN again, or</li>\\n\"+\n     \"<li>use INLINE resources instead, as so:</li>\\n\"+\n     \"</ul>\\n\"+\n     \"<code>\\n\"+\n     \"from bokeh.resources import INLINE\\n\"+\n     \"output_notebook(resources=INLINE)\\n\"+\n     \"</code>\\n\"+\n     \"</div>\"}};\n\n  function display_loaded() {\n    var el = document.getElementById(\"1001\");\n    if (el != null) {\n      el.textContent = \"BokehJS is loading...\";\n    }\n    if (root.Bokeh !== undefined) {\n      if (el != null) {\n        el.textContent = \"BokehJS \" + root.Bokeh.version + \" successfully loaded.\";\n      }\n    } else if (Date.now() < root._bokeh_timeout) {\n      setTimeout(display_loaded, 100)\n    }\n  }\n\n\n  function run_callbacks() {\n    try {\n      root._bokeh_onload_callbacks.forEach(function(callback) {\n        if (callback != null)\n          callback();\n      });\n    } finally {\n      delete root._bokeh_onload_callbacks\n    }\n    console.debug(\"Bokeh: all callbacks have finished\");\n  }\n\n  function load_libs(css_urls, js_urls, callback) {\n    if (css_urls == null) css_urls = [];\n    if (js_urls == null) js_urls = [];\n\n    root._bokeh_onload_callbacks.push(callback);\n    if (root._bokeh_is_loading > 0) {\n      console.debug(\"Bokeh: BokehJS is being loaded, scheduling callback at\", now());\n      return null;\n    }\n    if (js_urls == null || js_urls.length === 0) {\n      run_callbacks();\n      return null;\n    }\n    console.debug(\"Bokeh: BokehJS not loaded, scheduling load and callback at\", now());\n    root._bokeh_is_loading = css_urls.length + js_urls.length;\n\n    function on_load() {\n      root._bokeh_is_loading--;\n      if (root._bokeh_is_loading === 0) {\n        console.debug(\"Bokeh: all BokehJS libraries/stylesheets loaded\");\n        run_callbacks()\n      }\n    }\n\n    function on_error() {\n      console.error(\"failed to load \" + url);\n    }\n\n    for (var i = 0; i < css_urls.length; i++) {\n      var url = css_urls[i];\n      const element = document.createElement(\"link\");\n      element.onload = on_load;\n      element.onerror = on_error;\n      element.rel = \"stylesheet\";\n      element.type = \"text/css\";\n      element.href = url;\n      console.debug(\"Bokeh: injecting link tag for BokehJS stylesheet: \", url);\n      document.body.appendChild(element);\n    }\n\n    for (var i = 0; i < js_urls.length; i++) {\n      var url = js_urls[i];\n      var element = document.createElement('script');\n      element.onload = on_load;\n      element.onerror = on_error;\n      element.async = false;\n      element.src = url;\n      console.debug(\"Bokeh: injecting script tag for BokehJS library: \", url);\n      document.head.appendChild(element);\n    }\n  };var element = document.getElementById(\"1001\");\n  if (element == null) {\n    console.error(\"Bokeh: ERROR: autoload.js configured with elementid '1001' but no matching script tag was found. \")\n    return false;\n  }\n\n  function inject_raw_css(css) {\n    const element = document.createElement(\"style\");\n    element.appendChild(document.createTextNode(css));\n    document.body.appendChild(element);\n  }\n\n  var js_urls = [\"https://cdn.pydata.org/bokeh/release/bokeh-1.3.4.min.js\", \"https://cdn.pydata.org/bokeh/release/bokeh-widgets-1.3.4.min.js\", \"https://cdn.pydata.org/bokeh/release/bokeh-tables-1.3.4.min.js\", \"https://cdn.pydata.org/bokeh/release/bokeh-gl-1.3.4.min.js\"];\n  var css_urls = [];\n\n  var inline_js = [\n    function(Bokeh) {\n      Bokeh.set_log_level(\"info\");\n    },\n    \n    function(Bokeh) {\n      \n    },\n    function(Bokeh) {} // ensure no trailing comma for IE\n  ];\n\n  function run_inline_js() {\n    \n    if ((root.Bokeh !== undefined) || (force === true)) {\n      for (var i = 0; i < inline_js.length; i++) {\n        inline_js[i].call(root, root.Bokeh);\n      }if (force === true) {\n        display_loaded();\n      }} else if (Date.now() < root._bokeh_timeout) {\n      setTimeout(run_inline_js, 100);\n    } else if (!root._bokeh_failed_load) {\n      console.log(\"Bokeh: BokehJS failed to load within specified timeout.\");\n      root._bokeh_failed_load = true;\n    } else if (force !== true) {\n      var cell = $(document.getElementById(\"1001\")).parents('.cell').data().cell;\n      cell.output_area.append_execute_result(NB_LOAD_WARNING)\n    }\n\n  }\n\n  if (root._bokeh_is_loading === 0) {\n    console.debug(\"Bokeh: BokehJS loaded, going straight to plotting\");\n    run_inline_js();\n  } else {\n    load_libs(css_urls, js_urls, function() {\n      console.debug(\"Bokeh: BokehJS plotting callback run at\", now());\n      run_inline_js();\n    });\n  }\n}(window));"
     },
     "metadata": {},
     "output_type": "display_data"
    }
   ],
   "source": [
    "from bokeh.io import output_notebook\n",
    "from bokeh.plotting import figure, show, gridplot\n",
    "output_notebook()"
   ]
  },
  {
   "cell_type": "markdown",
   "metadata": {},
   "source": [
    "Then we need to import some trivial data."
   ]
  },
  {
   "cell_type": "raw",
   "metadata": {},
   "source": [
    "import bokeh\n",
    "bokeh.sampledata.download()"
   ]
  },
  {
   "cell_type": "code",
   "execution_count": 2,
   "metadata": {},
   "outputs": [
    {
     "data": {
      "text/html": [
       "<div>\n",
       "<style scoped>\n",
       "    .dataframe tbody tr th:only-of-type {\n",
       "        vertical-align: middle;\n",
       "    }\n",
       "\n",
       "    .dataframe tbody tr th {\n",
       "        vertical-align: top;\n",
       "    }\n",
       "\n",
       "    .dataframe thead th {\n",
       "        text-align: right;\n",
       "    }\n",
       "</style>\n",
       "<table border=\"1\" class=\"dataframe\">\n",
       "  <thead>\n",
       "    <tr style=\"text-align: right;\">\n",
       "      <th></th>\n",
       "      <th>mpg</th>\n",
       "      <th>cyl</th>\n",
       "      <th>displ</th>\n",
       "      <th>hp</th>\n",
       "      <th>weight</th>\n",
       "      <th>accel</th>\n",
       "      <th>yr</th>\n",
       "      <th>origin</th>\n",
       "      <th>name</th>\n",
       "    </tr>\n",
       "  </thead>\n",
       "  <tbody>\n",
       "    <tr>\n",
       "      <th>0</th>\n",
       "      <td>18.0</td>\n",
       "      <td>8</td>\n",
       "      <td>307.0</td>\n",
       "      <td>130</td>\n",
       "      <td>3504</td>\n",
       "      <td>12.0</td>\n",
       "      <td>70</td>\n",
       "      <td>1</td>\n",
       "      <td>chevrolet chevelle malibu</td>\n",
       "    </tr>\n",
       "    <tr>\n",
       "      <th>1</th>\n",
       "      <td>15.0</td>\n",
       "      <td>8</td>\n",
       "      <td>350.0</td>\n",
       "      <td>165</td>\n",
       "      <td>3693</td>\n",
       "      <td>11.5</td>\n",
       "      <td>70</td>\n",
       "      <td>1</td>\n",
       "      <td>buick skylark 320</td>\n",
       "    </tr>\n",
       "    <tr>\n",
       "      <th>2</th>\n",
       "      <td>18.0</td>\n",
       "      <td>8</td>\n",
       "      <td>318.0</td>\n",
       "      <td>150</td>\n",
       "      <td>3436</td>\n",
       "      <td>11.0</td>\n",
       "      <td>70</td>\n",
       "      <td>1</td>\n",
       "      <td>plymouth satellite</td>\n",
       "    </tr>\n",
       "    <tr>\n",
       "      <th>3</th>\n",
       "      <td>16.0</td>\n",
       "      <td>8</td>\n",
       "      <td>304.0</td>\n",
       "      <td>150</td>\n",
       "      <td>3433</td>\n",
       "      <td>12.0</td>\n",
       "      <td>70</td>\n",
       "      <td>1</td>\n",
       "      <td>amc rebel sst</td>\n",
       "    </tr>\n",
       "    <tr>\n",
       "      <th>4</th>\n",
       "      <td>17.0</td>\n",
       "      <td>8</td>\n",
       "      <td>302.0</td>\n",
       "      <td>140</td>\n",
       "      <td>3449</td>\n",
       "      <td>10.5</td>\n",
       "      <td>70</td>\n",
       "      <td>1</td>\n",
       "      <td>ford torino</td>\n",
       "    </tr>\n",
       "  </tbody>\n",
       "</table>\n",
       "</div>"
      ],
      "text/plain": [
       "    mpg  cyl  displ   hp  weight  accel  yr  origin                       name\n",
       "0  18.0    8  307.0  130    3504   12.0  70       1  chevrolet chevelle malibu\n",
       "1  15.0    8  350.0  165    3693   11.5  70       1          buick skylark 320\n",
       "2  18.0    8  318.0  150    3436   11.0  70       1         plymouth satellite\n",
       "3  16.0    8  304.0  150    3433   12.0  70       1              amc rebel sst\n",
       "4  17.0    8  302.0  140    3449   10.5  70       1                ford torino"
      ]
     },
     "execution_count": 2,
     "metadata": {},
     "output_type": "execute_result"
    }
   ],
   "source": [
    "from bokeh.sampledata.autompg import autompg\n",
    "autompg.head()"
   ]
  },
  {
   "cell_type": "markdown",
   "metadata": {},
   "source": [
    "## Creatig the plots"
   ]
  },
  {
   "cell_type": "code",
   "execution_count": 3,
   "metadata": {},
   "outputs": [
    {
     "data": {
      "text/html": [
       "\n",
       "\n",
       "\n",
       "\n",
       "\n",
       "\n",
       "  <div class=\"bk-root\" id=\"27014e8c-58bb-404a-a812-d631a20b87ea\" data-root-id=\"1149\"></div>\n"
      ]
     },
     "metadata": {},
     "output_type": "display_data"
    },
    {
     "data": {
      "application/javascript": [
       "(function(root) {\n",
       "  function embed_document(root) {\n",
       "    \n",
       "  var docs_json = {\"13a2af20-5934-49d3-a724-589c3b94a020\":{\"roots\":{\"references\":[{\"attributes\":{\"children\":[{\"id\":\"1148\",\"type\":\"ToolbarBox\"},{\"id\":\"1146\",\"type\":\"GridBox\"}]},\"id\":\"1149\",\"type\":\"Column\"},{\"attributes\":{\"ticker\":{\"id\":\"1014\",\"type\":\"BasicTicker\"}},\"id\":\"1017\",\"type\":\"Grid\"},{\"attributes\":{},\"id\":\"1019\",\"type\":\"BasicTicker\"},{\"attributes\":{\"active_drag\":\"auto\",\"active_inspect\":\"auto\",\"active_multi\":null,\"active_scroll\":\"auto\",\"active_tap\":\"auto\",\"tools\":[{\"id\":\"1023\",\"type\":\"PanTool\"},{\"id\":\"1024\",\"type\":\"WheelZoomTool\"},{\"id\":\"1025\",\"type\":\"BoxZoomTool\"},{\"id\":\"1026\",\"type\":\"SaveTool\"},{\"id\":\"1027\",\"type\":\"ResetTool\"},{\"id\":\"1028\",\"type\":\"HelpTool\"}]},\"id\":\"1029\",\"type\":\"Toolbar\"},{\"attributes\":{\"dimension\":1,\"ticker\":{\"id\":\"1019\",\"type\":\"BasicTicker\"}},\"id\":\"1022\",\"type\":\"Grid\"},{\"attributes\":{\"formatter\":{\"id\":\"1121\",\"type\":\"BasicTickFormatter\"},\"ticker\":{\"id\":\"1019\",\"type\":\"BasicTicker\"}},\"id\":\"1018\",\"type\":\"LinearAxis\"},{\"attributes\":{\"fill_alpha\":{\"value\":0.8},\"fill_color\":{\"value\":\"navy\"},\"line_alpha\":{\"value\":0.8},\"line_color\":{\"value\":\"navy\"},\"size\":{\"units\":\"screen\",\"value\":10},\"x\":{\"field\":\"x\"},\"y\":{\"field\":\"y\"}},\"id\":\"1037\",\"type\":\"Circle\"},{\"attributes\":{\"fill_alpha\":{\"value\":0.1},\"fill_color\":{\"value\":\"#1f77b4\"},\"line_alpha\":{\"value\":0.1},\"line_color\":{\"value\":\"#1f77b4\"},\"size\":{\"units\":\"screen\",\"value\":10},\"x\":{\"field\":\"x\"},\"y\":{\"field\":\"y\"}},\"id\":\"1038\",\"type\":\"Circle\"},{\"attributes\":{\"callback\":null,\"data\":{\"x\":[130,165,150,150,140,198,220,215,225,190,170,160,150,225,95,95,97,85,88,46,87,90,95,113,90,215,200,210,193],\"y\":[3504,3693,3436,3433,3449,4341,4354,4312,4425,3850,3563,3609,3761,3086,2372,2833,2774,2587,2130,1835,2672,2430,2375,2234,2648,4615,4376,4382,4732]},\"selected\":{\"id\":\"1125\",\"type\":\"Selection\"},\"selection_policy\":{\"id\":\"1124\",\"type\":\"UnionRenderers\"}},\"id\":\"1036\",\"type\":\"ColumnDataSource\"},{\"attributes\":{},\"id\":\"1023\",\"type\":\"PanTool\"},{\"attributes\":{\"overlay\":{\"id\":\"1126\",\"type\":\"BoxAnnotation\"}},\"id\":\"1025\",\"type\":\"BoxZoomTool\"},{\"attributes\":{\"below\":[{\"id\":\"1013\",\"type\":\"LinearAxis\"}],\"center\":[{\"id\":\"1017\",\"type\":\"Grid\"},{\"id\":\"1022\",\"type\":\"Grid\"}],\"left\":[{\"id\":\"1018\",\"type\":\"LinearAxis\"}],\"plot_height\":300,\"plot_width\":300,\"renderers\":[{\"id\":\"1039\",\"type\":\"GlyphRenderer\"}],\"title\":{\"id\":\"1003\",\"type\":\"Title\"},\"toolbar\":{\"id\":\"1029\",\"type\":\"Toolbar\"},\"toolbar_location\":null,\"x_range\":{\"id\":\"1005\",\"type\":\"DataRange1d\"},\"x_scale\":{\"id\":\"1009\",\"type\":\"LinearScale\"},\"y_range\":{\"id\":\"1007\",\"type\":\"DataRange1d\"},\"y_scale\":{\"id\":\"1011\",\"type\":\"LinearScale\"}},\"id\":\"1002\",\"subtype\":\"Figure\",\"type\":\"Plot\"},{\"attributes\":{},\"id\":\"1026\",\"type\":\"SaveTool\"},{\"attributes\":{},\"id\":\"1027\",\"type\":\"ResetTool\"},{\"attributes\":{},\"id\":\"1028\",\"type\":\"HelpTool\"},{\"attributes\":{\"callback\":null},\"id\":\"1005\",\"type\":\"DataRange1d\"},{\"attributes\":{\"text\":\"Circles\"},\"id\":\"1003\",\"type\":\"Title\"},{\"attributes\":{\"below\":[{\"id\":\"1052\",\"type\":\"LinearAxis\"}],\"center\":[{\"id\":\"1056\",\"type\":\"Grid\"},{\"id\":\"1061\",\"type\":\"Grid\"}],\"left\":[{\"id\":\"1057\",\"type\":\"LinearAxis\"}],\"plot_height\":300,\"plot_width\":300,\"renderers\":[{\"id\":\"1078\",\"type\":\"GlyphRenderer\"}],\"title\":{\"id\":\"1042\",\"type\":\"Title\"},\"toolbar\":{\"id\":\"1068\",\"type\":\"Toolbar\"},\"toolbar_location\":null,\"x_range\":{\"id\":\"1044\",\"type\":\"DataRange1d\"},\"x_scale\":{\"id\":\"1048\",\"type\":\"LinearScale\"},\"y_range\":{\"id\":\"1046\",\"type\":\"DataRange1d\"},\"y_scale\":{\"id\":\"1050\",\"type\":\"LinearScale\"}},\"id\":\"1041\",\"subtype\":\"Figure\",\"type\":\"Plot\"},{\"attributes\":{\"data_source\":{\"id\":\"1036\",\"type\":\"ColumnDataSource\"},\"glyph\":{\"id\":\"1037\",\"type\":\"Circle\"},\"hover_glyph\":null,\"muted_glyph\":null,\"nonselection_glyph\":{\"id\":\"1038\",\"type\":\"Circle\"},\"selection_glyph\":null,\"view\":{\"id\":\"1040\",\"type\":\"CDSView\"}},\"id\":\"1039\",\"type\":\"GlyphRenderer\"},{\"attributes\":{\"source\":{\"id\":\"1036\",\"type\":\"ColumnDataSource\"}},\"id\":\"1040\",\"type\":\"CDSView\"},{\"attributes\":{\"fill_alpha\":{\"value\":0.8},\"fill_color\":{\"value\":\"red\"},\"line_alpha\":{\"value\":0.8},\"line_color\":{\"value\":\"red\"},\"size\":{\"units\":\"screen\",\"value\":10},\"x\":{\"field\":\"x\"},\"y\":{\"field\":\"y\"}},\"id\":\"1076\",\"type\":\"Triangle\"},{\"attributes\":{\"text\":\"Triangles\"},\"id\":\"1042\",\"type\":\"Title\"},{\"attributes\":{},\"id\":\"1024\",\"type\":\"WheelZoomTool\"},{\"attributes\":{\"callback\":null},\"id\":\"1044\",\"type\":\"DataRange1d\"},{\"attributes\":{},\"id\":\"1048\",\"type\":\"LinearScale\"},{\"attributes\":{\"callback\":null},\"id\":\"1046\",\"type\":\"DataRange1d\"},{\"attributes\":{},\"id\":\"1050\",\"type\":\"LinearScale\"},{\"attributes\":{\"formatter\":{\"id\":\"1132\",\"type\":\"BasicTickFormatter\"},\"ticker\":{\"id\":\"1053\",\"type\":\"BasicTicker\"}},\"id\":\"1052\",\"type\":\"LinearAxis\"},{\"attributes\":{},\"id\":\"1058\",\"type\":\"BasicTicker\"},{\"attributes\":{},\"id\":\"1053\",\"type\":\"BasicTicker\"},{\"attributes\":{\"ticker\":{\"id\":\"1053\",\"type\":\"BasicTicker\"}},\"id\":\"1056\",\"type\":\"Grid\"},{\"attributes\":{\"dimension\":1,\"ticker\":{\"id\":\"1058\",\"type\":\"BasicTicker\"}},\"id\":\"1061\",\"type\":\"Grid\"},{\"attributes\":{\"formatter\":{\"id\":\"1130\",\"type\":\"BasicTickFormatter\"},\"ticker\":{\"id\":\"1058\",\"type\":\"BasicTicker\"}},\"id\":\"1057\",\"type\":\"LinearAxis\"},{\"attributes\":{\"overlay\":{\"id\":\"1144\",\"type\":\"BoxAnnotation\"}},\"id\":\"1103\",\"type\":\"BoxZoomTool\"},{\"attributes\":{},\"id\":\"1104\",\"type\":\"SaveTool\"},{\"attributes\":{},\"id\":\"1105\",\"type\":\"ResetTool\"},{\"attributes\":{\"active_drag\":\"auto\",\"active_inspect\":\"auto\",\"active_multi\":null,\"active_scroll\":\"auto\",\"active_tap\":\"auto\",\"tools\":[{\"id\":\"1062\",\"type\":\"PanTool\"},{\"id\":\"1063\",\"type\":\"WheelZoomTool\"},{\"id\":\"1064\",\"type\":\"BoxZoomTool\"},{\"id\":\"1065\",\"type\":\"SaveTool\"},{\"id\":\"1066\",\"type\":\"ResetTool\"},{\"id\":\"1067\",\"type\":\"HelpTool\"}]},\"id\":\"1068\",\"type\":\"Toolbar\"},{\"attributes\":{\"callback\":null,\"data\":{\"x\":[95,80,54,90,86,165,175,150,153,150,208,155,160,190,97,150,130,140,150,112,76,87,69,86,92,97,80,88],\"y\":[2278,2126,2254,2408,2226,4274,4385,4135,4129,3672,4633,4502,4456,4422,2330,3892,4098,4294,4077,2933,2511,2979,2189,2395,2288,2506,2164,2100]},\"selected\":{\"id\":\"1134\",\"type\":\"Selection\"},\"selection_policy\":{\"id\":\"1133\",\"type\":\"UnionRenderers\"}},\"id\":\"1075\",\"type\":\"ColumnDataSource\"},{\"attributes\":{},\"id\":\"1106\",\"type\":\"HelpTool\"},{\"attributes\":{\"data_source\":{\"id\":\"1075\",\"type\":\"ColumnDataSource\"},\"glyph\":{\"id\":\"1076\",\"type\":\"Triangle\"},\"hover_glyph\":null,\"muted_glyph\":null,\"nonselection_glyph\":{\"id\":\"1077\",\"type\":\"Triangle\"},\"selection_glyph\":null,\"view\":{\"id\":\"1079\",\"type\":\"CDSView\"}},\"id\":\"1078\",\"type\":\"GlyphRenderer\"},{\"attributes\":{},\"id\":\"1062\",\"type\":\"PanTool\"},{\"attributes\":{\"active_drag\":\"auto\",\"active_inspect\":\"auto\",\"active_multi\":null,\"active_scroll\":\"auto\",\"active_tap\":\"auto\",\"tools\":[{\"id\":\"1101\",\"type\":\"PanTool\"},{\"id\":\"1102\",\"type\":\"WheelZoomTool\"},{\"id\":\"1103\",\"type\":\"BoxZoomTool\"},{\"id\":\"1104\",\"type\":\"SaveTool\"},{\"id\":\"1105\",\"type\":\"ResetTool\"},{\"id\":\"1106\",\"type\":\"HelpTool\"}]},\"id\":\"1107\",\"type\":\"Toolbar\"},{\"attributes\":{},\"id\":\"1063\",\"type\":\"WheelZoomTool\"},{\"attributes\":{\"overlay\":{\"id\":\"1135\",\"type\":\"BoxAnnotation\"}},\"id\":\"1064\",\"type\":\"BoxZoomTool\"},{\"attributes\":{},\"id\":\"1141\",\"type\":\"BasicTickFormatter\"},{\"attributes\":{},\"id\":\"1065\",\"type\":\"SaveTool\"},{\"attributes\":{\"source\":{\"id\":\"1114\",\"type\":\"ColumnDataSource\"}},\"id\":\"1118\",\"type\":\"CDSView\"},{\"attributes\":{},\"id\":\"1066\",\"type\":\"ResetTool\"},{\"attributes\":{},\"id\":\"1132\",\"type\":\"BasicTickFormatter\"},{\"attributes\":{\"toolbar\":{\"id\":\"1147\",\"type\":\"ProxyToolbar\"},\"toolbar_location\":\"above\"},\"id\":\"1148\",\"type\":\"ToolbarBox\"},{\"attributes\":{},\"id\":\"1067\",\"type\":\"HelpTool\"},{\"attributes\":{},\"id\":\"1121\",\"type\":\"BasicTickFormatter\"},{\"attributes\":{},\"id\":\"1123\",\"type\":\"BasicTickFormatter\"},{\"attributes\":{\"text\":\"Squares\"},\"id\":\"1081\",\"type\":\"Title\"},{\"attributes\":{},\"id\":\"1124\",\"type\":\"UnionRenderers\"},{\"attributes\":{\"below\":[{\"id\":\"1091\",\"type\":\"LinearAxis\"}],\"center\":[{\"id\":\"1095\",\"type\":\"Grid\"},{\"id\":\"1100\",\"type\":\"Grid\"}],\"left\":[{\"id\":\"1096\",\"type\":\"LinearAxis\"}],\"plot_height\":300,\"plot_width\":300,\"renderers\":[{\"id\":\"1117\",\"type\":\"GlyphRenderer\"}],\"title\":{\"id\":\"1081\",\"type\":\"Title\"},\"toolbar\":{\"id\":\"1107\",\"type\":\"Toolbar\"},\"toolbar_location\":null,\"x_range\":{\"id\":\"1083\",\"type\":\"DataRange1d\"},\"x_scale\":{\"id\":\"1087\",\"type\":\"LinearScale\"},\"y_range\":{\"id\":\"1085\",\"type\":\"DataRange1d\"},\"y_scale\":{\"id\":\"1089\",\"type\":\"LinearScale\"}},\"id\":\"1080\",\"subtype\":\"Figure\",\"type\":\"Plot\"},{\"attributes\":{},\"id\":\"1125\",\"type\":\"Selection\"},{\"attributes\":{\"source\":{\"id\":\"1075\",\"type\":\"ColumnDataSource\"}},\"id\":\"1079\",\"type\":\"CDSView\"},{\"attributes\":{\"bottom_units\":\"screen\",\"fill_alpha\":{\"value\":0.5},\"fill_color\":{\"value\":\"lightgrey\"},\"left_units\":\"screen\",\"level\":\"overlay\",\"line_alpha\":{\"value\":1.0},\"line_color\":{\"value\":\"black\"},\"line_dash\":[4,4],\"line_width\":{\"value\":2},\"render_mode\":\"css\",\"right_units\":\"screen\",\"top_units\":\"screen\"},\"id\":\"1126\",\"type\":\"BoxAnnotation\"},{\"attributes\":{\"tools\":[{\"id\":\"1023\",\"type\":\"PanTool\"},{\"id\":\"1024\",\"type\":\"WheelZoomTool\"},{\"id\":\"1025\",\"type\":\"BoxZoomTool\"},{\"id\":\"1026\",\"type\":\"SaveTool\"},{\"id\":\"1027\",\"type\":\"ResetTool\"},{\"id\":\"1028\",\"type\":\"HelpTool\"},{\"id\":\"1062\",\"type\":\"PanTool\"},{\"id\":\"1063\",\"type\":\"WheelZoomTool\"},{\"id\":\"1064\",\"type\":\"BoxZoomTool\"},{\"id\":\"1065\",\"type\":\"SaveTool\"},{\"id\":\"1066\",\"type\":\"ResetTool\"},{\"id\":\"1067\",\"type\":\"HelpTool\"},{\"id\":\"1101\",\"type\":\"PanTool\"},{\"id\":\"1102\",\"type\":\"WheelZoomTool\"},{\"id\":\"1103\",\"type\":\"BoxZoomTool\"},{\"id\":\"1104\",\"type\":\"SaveTool\"},{\"id\":\"1105\",\"type\":\"ResetTool\"},{\"id\":\"1106\",\"type\":\"HelpTool\"}]},\"id\":\"1147\",\"type\":\"ProxyToolbar\"},{\"attributes\":{\"callback\":null},\"id\":\"1083\",\"type\":\"DataRange1d\"},{\"attributes\":{},\"id\":\"1130\",\"type\":\"BasicTickFormatter\"},{\"attributes\":{},\"id\":\"1087\",\"type\":\"LinearScale\"},{\"attributes\":{\"fill_alpha\":{\"value\":0.1},\"fill_color\":{\"value\":\"#1f77b4\"},\"line_alpha\":{\"value\":0.1},\"line_color\":{\"value\":\"#1f77b4\"},\"size\":{\"units\":\"screen\",\"value\":10},\"x\":{\"field\":\"x\"},\"y\":{\"field\":\"y\"}},\"id\":\"1077\",\"type\":\"Triangle\"},{\"attributes\":{},\"id\":\"1133\",\"type\":\"UnionRenderers\"},{\"attributes\":{},\"id\":\"1134\",\"type\":\"Selection\"},{\"attributes\":{\"callback\":null},\"id\":\"1085\",\"type\":\"DataRange1d\"},{\"attributes\":{\"bottom_units\":\"screen\",\"fill_alpha\":{\"value\":0.5},\"fill_color\":{\"value\":\"lightgrey\"},\"left_units\":\"screen\",\"level\":\"overlay\",\"line_alpha\":{\"value\":1.0},\"line_color\":{\"value\":\"black\"},\"line_dash\":[4,4],\"line_width\":{\"value\":2},\"render_mode\":\"css\",\"right_units\":\"screen\",\"top_units\":\"screen\"},\"id\":\"1135\",\"type\":\"BoxAnnotation\"},{\"attributes\":{},\"id\":\"1089\",\"type\":\"LinearScale\"},{\"attributes\":{\"formatter\":{\"id\":\"1141\",\"type\":\"BasicTickFormatter\"},\"ticker\":{\"id\":\"1092\",\"type\":\"BasicTicker\"}},\"id\":\"1091\",\"type\":\"LinearAxis\"},{\"attributes\":{},\"id\":\"1097\",\"type\":\"BasicTicker\"},{\"attributes\":{},\"id\":\"1139\",\"type\":\"BasicTickFormatter\"},{\"attributes\":{},\"id\":\"1092\",\"type\":\"BasicTicker\"},{\"attributes\":{},\"id\":\"1142\",\"type\":\"UnionRenderers\"},{\"attributes\":{\"ticker\":{\"id\":\"1092\",\"type\":\"BasicTicker\"}},\"id\":\"1095\",\"type\":\"Grid\"},{\"attributes\":{},\"id\":\"1143\",\"type\":\"Selection\"},{\"attributes\":{\"dimension\":1,\"ticker\":{\"id\":\"1097\",\"type\":\"BasicTicker\"}},\"id\":\"1100\",\"type\":\"Grid\"},{\"attributes\":{\"formatter\":{\"id\":\"1139\",\"type\":\"BasicTickFormatter\"},\"ticker\":{\"id\":\"1097\",\"type\":\"BasicTicker\"}},\"id\":\"1096\",\"type\":\"LinearAxis\"},{\"attributes\":{\"bottom_units\":\"screen\",\"fill_alpha\":{\"value\":0.5},\"fill_color\":{\"value\":\"lightgrey\"},\"left_units\":\"screen\",\"level\":\"overlay\",\"line_alpha\":{\"value\":1.0},\"line_color\":{\"value\":\"black\"},\"line_dash\":[4,4],\"line_width\":{\"value\":2},\"render_mode\":\"css\",\"right_units\":\"screen\",\"top_units\":\"screen\"},\"id\":\"1144\",\"type\":\"BoxAnnotation\"},{\"attributes\":{},\"id\":\"1009\",\"type\":\"LinearScale\"},{\"attributes\":{\"callback\":null,\"data\":{\"x\":[175,150,145,137,150,198,150,158,150,215,225,175,105,100,100,88,95,46,150,167,170,180,100,88,72,94,90,85,107,90,145,230,49,75,91,112,150,110,122,180],\"y\":[4100,3672,3988,4042,3777,4952,4464,4363,4237,4735,4951,3821,3121,3278,2945,3021,2904,1950,4997,4906,4654,4499,2789,2279,2401,2379,2124,2310,2472,2265,4082,4278,1867,2158,2582,2868,3399,2660,2807,3664]},\"selected\":{\"id\":\"1143\",\"type\":\"Selection\"},\"selection_policy\":{\"id\":\"1142\",\"type\":\"UnionRenderers\"}},\"id\":\"1114\",\"type\":\"ColumnDataSource\"},{\"attributes\":{\"fill_alpha\":{\"value\":0.8},\"fill_color\":{\"value\":\"orange\"},\"line_alpha\":{\"value\":0.8},\"line_color\":{\"value\":\"orange\"},\"size\":{\"units\":\"screen\",\"value\":10},\"x\":{\"field\":\"x\"},\"y\":{\"field\":\"y\"}},\"id\":\"1115\",\"type\":\"Square\"},{\"attributes\":{\"fill_alpha\":{\"value\":0.1},\"fill_color\":{\"value\":\"#1f77b4\"},\"line_alpha\":{\"value\":0.1},\"line_color\":{\"value\":\"#1f77b4\"},\"size\":{\"units\":\"screen\",\"value\":10},\"x\":{\"field\":\"x\"},\"y\":{\"field\":\"y\"}},\"id\":\"1116\",\"type\":\"Square\"},{\"attributes\":{\"children\":[[{\"id\":\"1002\",\"subtype\":\"Figure\",\"type\":\"Plot\"},0,0],[{\"id\":\"1041\",\"subtype\":\"Figure\",\"type\":\"Plot\"},0,1],[{\"id\":\"1080\",\"subtype\":\"Figure\",\"type\":\"Plot\"},1,1]]},\"id\":\"1146\",\"type\":\"GridBox\"},{\"attributes\":{\"data_source\":{\"id\":\"1114\",\"type\":\"ColumnDataSource\"},\"glyph\":{\"id\":\"1115\",\"type\":\"Square\"},\"hover_glyph\":null,\"muted_glyph\":null,\"nonselection_glyph\":{\"id\":\"1116\",\"type\":\"Square\"},\"selection_glyph\":null,\"view\":{\"id\":\"1118\",\"type\":\"CDSView\"}},\"id\":\"1117\",\"type\":\"GlyphRenderer\"},{\"attributes\":{},\"id\":\"1101\",\"type\":\"PanTool\"},{\"attributes\":{\"callback\":null},\"id\":\"1007\",\"type\":\"DataRange1d\"},{\"attributes\":{},\"id\":\"1102\",\"type\":\"WheelZoomTool\"},{\"attributes\":{},\"id\":\"1011\",\"type\":\"LinearScale\"},{\"attributes\":{},\"id\":\"1014\",\"type\":\"BasicTicker\"},{\"attributes\":{\"formatter\":{\"id\":\"1123\",\"type\":\"BasicTickFormatter\"},\"ticker\":{\"id\":\"1014\",\"type\":\"BasicTicker\"}},\"id\":\"1013\",\"type\":\"LinearAxis\"}],\"root_ids\":[\"1149\"]},\"title\":\"Bokeh Application\",\"version\":\"1.3.4\"}};\n",
       "  var render_items = [{\"docid\":\"13a2af20-5934-49d3-a724-589c3b94a020\",\"roots\":{\"1149\":\"27014e8c-58bb-404a-a812-d631a20b87ea\"}}];\n",
       "  root.Bokeh.embed.embed_items_notebook(docs_json, render_items);\n",
       "\n",
       "  }\n",
       "  if (root.Bokeh !== undefined) {\n",
       "    embed_document(root);\n",
       "  } else {\n",
       "    var attempts = 0;\n",
       "    var timer = setInterval(function(root) {\n",
       "      if (root.Bokeh !== undefined) {\n",
       "        embed_document(root);\n",
       "        clearInterval(timer);\n",
       "      }\n",
       "      attempts++;\n",
       "      if (attempts > 100) {\n",
       "        console.log(\"Bokeh: ERROR: Unable to run BokehJS code because BokehJS library is missing\");\n",
       "        clearInterval(timer);\n",
       "      }\n",
       "    }, 10, root)\n",
       "  }\n",
       "})(window);"
      ],
      "application/vnd.bokehjs_exec.v0+json": ""
     },
     "metadata": {
      "application/vnd.bokehjs_exec.v0+json": {
       "id": "1149"
      }
     },
     "output_type": "display_data"
    }
   ],
   "source": [
    "auto_70 = autompg[autompg.yr == 70]\n",
    "f0 = figure(width = 300, plot_height = 300, title = 'Circles')\n",
    "f0.circle(x = auto_70.hp, y = auto_70.weight, \n",
    "          size = 10, color = 'navy', alpha = 0.8)\n",
    "\n",
    "auto_72 = autompg[autompg.yr == 72]\n",
    "f2 = figure(width = 300, plot_height = 300, title = 'Triangles')\n",
    "f2.triangle(x = auto_72.hp, y = auto_72.weight, \n",
    "          size = 10, color = 'red', alpha = 0.8)\n",
    "\n",
    "auto_73 = autompg[autompg.yr == 73]\n",
    "f3 = figure(width = 300, plot_height = 300, title = 'Squares')\n",
    "f3.square(x = auto_73.hp, y = auto_73.weight, \n",
    "          size = 10, color = 'orange', alpha = 0.8)\n",
    "\n",
    "# Put all plots in a grid layout\n",
    "f = gridplot([[f0, f2], [None, f3]])\n",
    "\n",
    "show(f)"
   ]
  },
  {
   "cell_type": "markdown",
   "metadata": {},
   "source": [
    "## By rows"
   ]
  },
  {
   "cell_type": "code",
   "execution_count": 4,
   "metadata": {},
   "outputs": [
    {
     "data": {
      "text/html": [
       "\n",
       "\n",
       "\n",
       "\n",
       "\n",
       "\n",
       "  <div class=\"bk-root\" id=\"55f2d6ce-57e8-4632-b9f6-0e8f8fb0b0a7\" data-root-id=\"1318\"></div>\n"
      ]
     },
     "metadata": {},
     "output_type": "display_data"
    },
    {
     "data": {
      "application/javascript": [
       "(function(root) {\n",
       "  function embed_document(root) {\n",
       "    \n",
       "  var docs_json = {\"0a30fb00-2fef-4763-bd9d-0b812cd74e2b\":{\"roots\":{\"references\":[{\"attributes\":{\"children\":[{\"id\":\"1002\",\"subtype\":\"Figure\",\"type\":\"Plot\"},{\"id\":\"1080\",\"subtype\":\"Figure\",\"type\":\"Plot\"}],\"sizing_mode\":\"scale_both\"},\"id\":\"1318\",\"type\":\"Row\"},{\"attributes\":{\"ticker\":{\"id\":\"1014\",\"type\":\"BasicTicker\"}},\"id\":\"1017\",\"type\":\"Grid\"},{\"attributes\":{\"data_source\":{\"id\":\"1036\",\"type\":\"ColumnDataSource\"},\"glyph\":{\"id\":\"1037\",\"type\":\"Circle\"},\"hover_glyph\":null,\"muted_glyph\":null,\"nonselection_glyph\":{\"id\":\"1038\",\"type\":\"Circle\"},\"selection_glyph\":null,\"view\":{\"id\":\"1040\",\"type\":\"CDSView\"}},\"id\":\"1039\",\"type\":\"GlyphRenderer\"},{\"attributes\":{\"callback\":null},\"id\":\"1083\",\"type\":\"DataRange1d\"},{\"attributes\":{},\"id\":\"1104\",\"type\":\"SaveTool\"},{\"attributes\":{},\"id\":\"1087\",\"type\":\"LinearScale\"},{\"attributes\":{},\"id\":\"1019\",\"type\":\"BasicTicker\"},{\"attributes\":{},\"id\":\"1105\",\"type\":\"ResetTool\"},{\"attributes\":{\"active_drag\":\"auto\",\"active_inspect\":\"auto\",\"active_multi\":null,\"active_scroll\":\"auto\",\"active_tap\":\"auto\",\"tools\":[{\"id\":\"1023\",\"type\":\"PanTool\"},{\"id\":\"1024\",\"type\":\"WheelZoomTool\"},{\"id\":\"1025\",\"type\":\"BoxZoomTool\"},{\"id\":\"1026\",\"type\":\"SaveTool\"},{\"id\":\"1027\",\"type\":\"ResetTool\"},{\"id\":\"1028\",\"type\":\"HelpTool\"}]},\"id\":\"1029\",\"type\":\"Toolbar\"},{\"attributes\":{\"source\":{\"id\":\"1036\",\"type\":\"ColumnDataSource\"}},\"id\":\"1040\",\"type\":\"CDSView\"},{\"attributes\":{\"dimension\":1,\"ticker\":{\"id\":\"1019\",\"type\":\"BasicTicker\"}},\"id\":\"1022\",\"type\":\"Grid\"},{\"attributes\":{\"callback\":null},\"id\":\"1085\",\"type\":\"DataRange1d\"},{\"attributes\":{\"formatter\":{\"id\":\"1121\",\"type\":\"BasicTickFormatter\"},\"ticker\":{\"id\":\"1019\",\"type\":\"BasicTicker\"}},\"id\":\"1018\",\"type\":\"LinearAxis\"},{\"attributes\":{},\"id\":\"1014\",\"type\":\"BasicTicker\"},{\"attributes\":{},\"id\":\"1106\",\"type\":\"HelpTool\"},{\"attributes\":{},\"id\":\"1089\",\"type\":\"LinearScale\"},{\"attributes\":{\"active_drag\":\"auto\",\"active_inspect\":\"auto\",\"active_multi\":null,\"active_scroll\":\"auto\",\"active_tap\":\"auto\",\"tools\":[{\"id\":\"1101\",\"type\":\"PanTool\"},{\"id\":\"1102\",\"type\":\"WheelZoomTool\"},{\"id\":\"1103\",\"type\":\"BoxZoomTool\"},{\"id\":\"1104\",\"type\":\"SaveTool\"},{\"id\":\"1105\",\"type\":\"ResetTool\"},{\"id\":\"1106\",\"type\":\"HelpTool\"}]},\"id\":\"1107\",\"type\":\"Toolbar\"},{\"attributes\":{\"formatter\":{\"id\":\"1141\",\"type\":\"BasicTickFormatter\"},\"ticker\":{\"id\":\"1092\",\"type\":\"BasicTicker\"}},\"id\":\"1091\",\"type\":\"LinearAxis\"},{\"attributes\":{\"fill_alpha\":{\"value\":0.8},\"fill_color\":{\"value\":\"navy\"},\"line_alpha\":{\"value\":0.8},\"line_color\":{\"value\":\"navy\"},\"size\":{\"units\":\"screen\",\"value\":10},\"x\":{\"field\":\"x\"},\"y\":{\"field\":\"y\"}},\"id\":\"1037\",\"type\":\"Circle\"},{\"attributes\":{},\"id\":\"1097\",\"type\":\"BasicTicker\"},{\"attributes\":{},\"id\":\"1139\",\"type\":\"BasicTickFormatter\"},{\"attributes\":{},\"id\":\"1092\",\"type\":\"BasicTicker\"},{\"attributes\":{},\"id\":\"1141\",\"type\":\"BasicTickFormatter\"},{\"attributes\":{\"fill_alpha\":{\"value\":0.1},\"fill_color\":{\"value\":\"#1f77b4\"},\"line_alpha\":{\"value\":0.1},\"line_color\":{\"value\":\"#1f77b4\"},\"size\":{\"units\":\"screen\",\"value\":10},\"x\":{\"field\":\"x\"},\"y\":{\"field\":\"y\"}},\"id\":\"1038\",\"type\":\"Circle\"},{\"attributes\":{},\"id\":\"1142\",\"type\":\"UnionRenderers\"},{\"attributes\":{\"ticker\":{\"id\":\"1092\",\"type\":\"BasicTicker\"}},\"id\":\"1095\",\"type\":\"Grid\"},{\"attributes\":{\"callback\":null,\"data\":{\"x\":[130,165,150,150,140,198,220,215,225,190,170,160,150,225,95,95,97,85,88,46,87,90,95,113,90,215,200,210,193],\"y\":[3504,3693,3436,3433,3449,4341,4354,4312,4425,3850,3563,3609,3761,3086,2372,2833,2774,2587,2130,1835,2672,2430,2375,2234,2648,4615,4376,4382,4732]},\"selected\":{\"id\":\"1125\",\"type\":\"Selection\"},\"selection_policy\":{\"id\":\"1124\",\"type\":\"UnionRenderers\"}},\"id\":\"1036\",\"type\":\"ColumnDataSource\"},{\"attributes\":{},\"id\":\"1024\",\"type\":\"WheelZoomTool\"},{\"attributes\":{\"source\":{\"id\":\"1114\",\"type\":\"ColumnDataSource\"}},\"id\":\"1118\",\"type\":\"CDSView\"},{\"attributes\":{},\"id\":\"1143\",\"type\":\"Selection\"},{\"attributes\":{\"dimension\":1,\"ticker\":{\"id\":\"1097\",\"type\":\"BasicTicker\"}},\"id\":\"1100\",\"type\":\"Grid\"},{\"attributes\":{\"formatter\":{\"id\":\"1139\",\"type\":\"BasicTickFormatter\"},\"ticker\":{\"id\":\"1097\",\"type\":\"BasicTicker\"}},\"id\":\"1096\",\"type\":\"LinearAxis\"},{\"attributes\":{},\"id\":\"1023\",\"type\":\"PanTool\"},{\"attributes\":{\"bottom_units\":\"screen\",\"fill_alpha\":{\"value\":0.5},\"fill_color\":{\"value\":\"lightgrey\"},\"left_units\":\"screen\",\"level\":\"overlay\",\"line_alpha\":{\"value\":1.0},\"line_color\":{\"value\":\"black\"},\"line_dash\":[4,4],\"line_width\":{\"value\":2},\"render_mode\":\"css\",\"right_units\":\"screen\",\"top_units\":\"screen\"},\"id\":\"1144\",\"type\":\"BoxAnnotation\"},{\"attributes\":{},\"id\":\"1121\",\"type\":\"BasicTickFormatter\"},{\"attributes\":{\"overlay\":{\"id\":\"1126\",\"type\":\"BoxAnnotation\"}},\"id\":\"1025\",\"type\":\"BoxZoomTool\"},{\"attributes\":{},\"id\":\"1009\",\"type\":\"LinearScale\"},{\"attributes\":{\"below\":[{\"id\":\"1013\",\"type\":\"LinearAxis\"}],\"center\":[{\"id\":\"1017\",\"type\":\"Grid\"},{\"id\":\"1022\",\"type\":\"Grid\"}],\"left\":[{\"id\":\"1018\",\"type\":\"LinearAxis\"}],\"plot_height\":300,\"plot_width\":300,\"renderers\":[{\"id\":\"1039\",\"type\":\"GlyphRenderer\"}],\"sizing_mode\":\"scale_both\",\"title\":{\"id\":\"1003\",\"type\":\"Title\"},\"toolbar\":{\"id\":\"1029\",\"type\":\"Toolbar\"},\"toolbar_location\":null,\"x_range\":{\"id\":\"1005\",\"type\":\"DataRange1d\"},\"x_scale\":{\"id\":\"1009\",\"type\":\"LinearScale\"},\"y_range\":{\"id\":\"1007\",\"type\":\"DataRange1d\"},\"y_scale\":{\"id\":\"1011\",\"type\":\"LinearScale\"}},\"id\":\"1002\",\"subtype\":\"Figure\",\"type\":\"Plot\"},{\"attributes\":{\"callback\":null,\"data\":{\"x\":[175,150,145,137,150,198,150,158,150,215,225,175,105,100,100,88,95,46,150,167,170,180,100,88,72,94,90,85,107,90,145,230,49,75,91,112,150,110,122,180],\"y\":[4100,3672,3988,4042,3777,4952,4464,4363,4237,4735,4951,3821,3121,3278,2945,3021,2904,1950,4997,4906,4654,4499,2789,2279,2401,2379,2124,2310,2472,2265,4082,4278,1867,2158,2582,2868,3399,2660,2807,3664]},\"selected\":{\"id\":\"1143\",\"type\":\"Selection\"},\"selection_policy\":{\"id\":\"1142\",\"type\":\"UnionRenderers\"}},\"id\":\"1114\",\"type\":\"ColumnDataSource\"},{\"attributes\":{},\"id\":\"1026\",\"type\":\"SaveTool\"},{\"attributes\":{\"fill_alpha\":{\"value\":0.8},\"fill_color\":{\"value\":\"orange\"},\"line_alpha\":{\"value\":0.8},\"line_color\":{\"value\":\"orange\"},\"size\":{\"units\":\"screen\",\"value\":10},\"x\":{\"field\":\"x\"},\"y\":{\"field\":\"y\"}},\"id\":\"1115\",\"type\":\"Square\"},{\"attributes\":{\"overlay\":{\"id\":\"1144\",\"type\":\"BoxAnnotation\"}},\"id\":\"1103\",\"type\":\"BoxZoomTool\"},{\"attributes\":{},\"id\":\"1123\",\"type\":\"BasicTickFormatter\"},{\"attributes\":{\"text\":\"Squares\"},\"id\":\"1081\",\"type\":\"Title\"},{\"attributes\":{},\"id\":\"1027\",\"type\":\"ResetTool\"},{\"attributes\":{\"fill_alpha\":{\"value\":0.1},\"fill_color\":{\"value\":\"#1f77b4\"},\"line_alpha\":{\"value\":0.1},\"line_color\":{\"value\":\"#1f77b4\"},\"size\":{\"units\":\"screen\",\"value\":10},\"x\":{\"field\":\"x\"},\"y\":{\"field\":\"y\"}},\"id\":\"1116\",\"type\":\"Square\"},{\"attributes\":{},\"id\":\"1124\",\"type\":\"UnionRenderers\"},{\"attributes\":{\"data_source\":{\"id\":\"1114\",\"type\":\"ColumnDataSource\"},\"glyph\":{\"id\":\"1115\",\"type\":\"Square\"},\"hover_glyph\":null,\"muted_glyph\":null,\"nonselection_glyph\":{\"id\":\"1116\",\"type\":\"Square\"},\"selection_glyph\":null,\"view\":{\"id\":\"1118\",\"type\":\"CDSView\"}},\"id\":\"1117\",\"type\":\"GlyphRenderer\"},{\"attributes\":{\"below\":[{\"id\":\"1091\",\"type\":\"LinearAxis\"}],\"center\":[{\"id\":\"1095\",\"type\":\"Grid\"},{\"id\":\"1100\",\"type\":\"Grid\"}],\"left\":[{\"id\":\"1096\",\"type\":\"LinearAxis\"}],\"plot_height\":300,\"plot_width\":300,\"renderers\":[{\"id\":\"1117\",\"type\":\"GlyphRenderer\"}],\"sizing_mode\":\"scale_both\",\"title\":{\"id\":\"1081\",\"type\":\"Title\"},\"toolbar\":{\"id\":\"1107\",\"type\":\"Toolbar\"},\"toolbar_location\":null,\"x_range\":{\"id\":\"1083\",\"type\":\"DataRange1d\"},\"x_scale\":{\"id\":\"1087\",\"type\":\"LinearScale\"},\"y_range\":{\"id\":\"1085\",\"type\":\"DataRange1d\"},\"y_scale\":{\"id\":\"1089\",\"type\":\"LinearScale\"}},\"id\":\"1080\",\"subtype\":\"Figure\",\"type\":\"Plot\"},{\"attributes\":{\"callback\":null},\"id\":\"1007\",\"type\":\"DataRange1d\"},{\"attributes\":{\"callback\":null},\"id\":\"1005\",\"type\":\"DataRange1d\"},{\"attributes\":{},\"id\":\"1028\",\"type\":\"HelpTool\"},{\"attributes\":{},\"id\":\"1101\",\"type\":\"PanTool\"},{\"attributes\":{},\"id\":\"1125\",\"type\":\"Selection\"},{\"attributes\":{},\"id\":\"1011\",\"type\":\"LinearScale\"},{\"attributes\":{},\"id\":\"1102\",\"type\":\"WheelZoomTool\"},{\"attributes\":{\"bottom_units\":\"screen\",\"fill_alpha\":{\"value\":0.5},\"fill_color\":{\"value\":\"lightgrey\"},\"left_units\":\"screen\",\"level\":\"overlay\",\"line_alpha\":{\"value\":1.0},\"line_color\":{\"value\":\"black\"},\"line_dash\":[4,4],\"line_width\":{\"value\":2},\"render_mode\":\"css\",\"right_units\":\"screen\",\"top_units\":\"screen\"},\"id\":\"1126\",\"type\":\"BoxAnnotation\"},{\"attributes\":{\"text\":\"Circles\"},\"id\":\"1003\",\"type\":\"Title\"},{\"attributes\":{\"formatter\":{\"id\":\"1123\",\"type\":\"BasicTickFormatter\"},\"ticker\":{\"id\":\"1014\",\"type\":\"BasicTicker\"}},\"id\":\"1013\",\"type\":\"LinearAxis\"}],\"root_ids\":[\"1318\"]},\"title\":\"Bokeh Application\",\"version\":\"1.3.4\"}};\n",
       "  var render_items = [{\"docid\":\"0a30fb00-2fef-4763-bd9d-0b812cd74e2b\",\"roots\":{\"1318\":\"55f2d6ce-57e8-4632-b9f6-0e8f8fb0b0a7\"}}];\n",
       "  root.Bokeh.embed.embed_items_notebook(docs_json, render_items);\n",
       "\n",
       "  }\n",
       "  if (root.Bokeh !== undefined) {\n",
       "    embed_document(root);\n",
       "  } else {\n",
       "    var attempts = 0;\n",
       "    var timer = setInterval(function(root) {\n",
       "      if (root.Bokeh !== undefined) {\n",
       "        embed_document(root);\n",
       "        clearInterval(timer);\n",
       "      }\n",
       "      attempts++;\n",
       "      if (attempts > 100) {\n",
       "        console.log(\"Bokeh: ERROR: Unable to run BokehJS code because BokehJS library is missing\");\n",
       "        clearInterval(timer);\n",
       "      }\n",
       "    }, 10, root)\n",
       "  }\n",
       "})(window);"
      ],
      "application/vnd.bokehjs_exec.v0+json": ""
     },
     "metadata": {
      "application/vnd.bokehjs_exec.v0+json": {
       "id": "1318"
      }
     },
     "output_type": "display_data"
    }
   ],
   "source": [
    "from bokeh.layouts import row\n",
    "show(row(f0, f3, sizing_mode = 'scale_both'))\n",
    "# row omitts the bokeh's control panel"
   ]
  },
  {
   "cell_type": "code",
   "execution_count": null,
   "metadata": {},
   "outputs": [],
   "source": []
  },
  {
   "cell_type": "code",
   "execution_count": 5,
   "metadata": {
    "scrolled": false
   },
   "outputs": [
    {
     "data": {
      "text/html": [
       "\n",
       "\n",
       "\n",
       "\n",
       "\n",
       "\n",
       "  <div class=\"bk-root\" id=\"3486a15b-2e0e-4111-8755-f0583fd20734\" data-root-id=\"1455\"></div>\n"
      ]
     },
     "metadata": {},
     "output_type": "display_data"
    },
    {
     "data": {
      "application/javascript": [
       "(function(root) {\n",
       "  function embed_document(root) {\n",
       "    \n",
       "  var docs_json = {\"8c98ddbe-d99c-420c-b518-51cea5568314\":{\"roots\":{\"references\":[{\"attributes\":{\"children\":[{\"id\":\"1002\",\"subtype\":\"Figure\",\"type\":\"Plot\"},{\"id\":\"1041\",\"subtype\":\"Figure\",\"type\":\"Plot\"}]},\"id\":\"1455\",\"type\":\"Column\"},{\"attributes\":{\"below\":[{\"id\":\"1052\",\"type\":\"LinearAxis\"}],\"center\":[{\"id\":\"1056\",\"type\":\"Grid\"},{\"id\":\"1061\",\"type\":\"Grid\"}],\"left\":[{\"id\":\"1057\",\"type\":\"LinearAxis\"}],\"plot_height\":300,\"plot_width\":300,\"renderers\":[{\"id\":\"1078\",\"type\":\"GlyphRenderer\"}],\"title\":{\"id\":\"1042\",\"type\":\"Title\"},\"toolbar\":{\"id\":\"1068\",\"type\":\"Toolbar\"},\"toolbar_location\":null,\"x_range\":{\"id\":\"1044\",\"type\":\"DataRange1d\"},\"x_scale\":{\"id\":\"1048\",\"type\":\"LinearScale\"},\"y_range\":{\"id\":\"1046\",\"type\":\"DataRange1d\"},\"y_scale\":{\"id\":\"1050\",\"type\":\"LinearScale\"}},\"id\":\"1041\",\"subtype\":\"Figure\",\"type\":\"Plot\"},{\"attributes\":{\"ticker\":{\"id\":\"1014\",\"type\":\"BasicTicker\"}},\"id\":\"1017\",\"type\":\"Grid\"},{\"attributes\":{\"data_source\":{\"id\":\"1036\",\"type\":\"ColumnDataSource\"},\"glyph\":{\"id\":\"1037\",\"type\":\"Circle\"},\"hover_glyph\":null,\"muted_glyph\":null,\"nonselection_glyph\":{\"id\":\"1038\",\"type\":\"Circle\"},\"selection_glyph\":null,\"view\":{\"id\":\"1040\",\"type\":\"CDSView\"}},\"id\":\"1039\",\"type\":\"GlyphRenderer\"},{\"attributes\":{},\"id\":\"1130\",\"type\":\"BasicTickFormatter\"},{\"attributes\":{},\"id\":\"1019\",\"type\":\"BasicTicker\"},{\"attributes\":{\"fill_alpha\":{\"value\":0.1},\"fill_color\":{\"value\":\"#1f77b4\"},\"line_alpha\":{\"value\":0.1},\"line_color\":{\"value\":\"#1f77b4\"},\"size\":{\"units\":\"screen\",\"value\":10},\"x\":{\"field\":\"x\"},\"y\":{\"field\":\"y\"}},\"id\":\"1077\",\"type\":\"Triangle\"},{\"attributes\":{},\"id\":\"1133\",\"type\":\"UnionRenderers\"},{\"attributes\":{\"active_drag\":\"auto\",\"active_inspect\":\"auto\",\"active_multi\":null,\"active_scroll\":\"auto\",\"active_tap\":\"auto\",\"tools\":[{\"id\":\"1023\",\"type\":\"PanTool\"},{\"id\":\"1024\",\"type\":\"WheelZoomTool\"},{\"id\":\"1025\",\"type\":\"BoxZoomTool\"},{\"id\":\"1026\",\"type\":\"SaveTool\"},{\"id\":\"1027\",\"type\":\"ResetTool\"},{\"id\":\"1028\",\"type\":\"HelpTool\"}]},\"id\":\"1029\",\"type\":\"Toolbar\"},{\"attributes\":{\"active_drag\":\"auto\",\"active_inspect\":\"auto\",\"active_multi\":null,\"active_scroll\":\"auto\",\"active_tap\":\"auto\",\"tools\":[{\"id\":\"1062\",\"type\":\"PanTool\"},{\"id\":\"1063\",\"type\":\"WheelZoomTool\"},{\"id\":\"1064\",\"type\":\"BoxZoomTool\"},{\"id\":\"1065\",\"type\":\"SaveTool\"},{\"id\":\"1066\",\"type\":\"ResetTool\"},{\"id\":\"1067\",\"type\":\"HelpTool\"}]},\"id\":\"1068\",\"type\":\"Toolbar\"},{\"attributes\":{\"source\":{\"id\":\"1036\",\"type\":\"ColumnDataSource\"}},\"id\":\"1040\",\"type\":\"CDSView\"},{\"attributes\":{},\"id\":\"1134\",\"type\":\"Selection\"},{\"attributes\":{\"dimension\":1,\"ticker\":{\"id\":\"1019\",\"type\":\"BasicTicker\"}},\"id\":\"1022\",\"type\":\"Grid\"},{\"attributes\":{\"callback\":null,\"data\":{\"x\":[95,80,54,90,86,165,175,150,153,150,208,155,160,190,97,150,130,140,150,112,76,87,69,86,92,97,80,88],\"y\":[2278,2126,2254,2408,2226,4274,4385,4135,4129,3672,4633,4502,4456,4422,2330,3892,4098,4294,4077,2933,2511,2979,2189,2395,2288,2506,2164,2100]},\"selected\":{\"id\":\"1134\",\"type\":\"Selection\"},\"selection_policy\":{\"id\":\"1133\",\"type\":\"UnionRenderers\"}},\"id\":\"1075\",\"type\":\"ColumnDataSource\"},{\"attributes\":{\"data_source\":{\"id\":\"1075\",\"type\":\"ColumnDataSource\"},\"glyph\":{\"id\":\"1076\",\"type\":\"Triangle\"},\"hover_glyph\":null,\"muted_glyph\":null,\"nonselection_glyph\":{\"id\":\"1077\",\"type\":\"Triangle\"},\"selection_glyph\":null,\"view\":{\"id\":\"1079\",\"type\":\"CDSView\"}},\"id\":\"1078\",\"type\":\"GlyphRenderer\"},{\"attributes\":{\"formatter\":{\"id\":\"1121\",\"type\":\"BasicTickFormatter\"},\"ticker\":{\"id\":\"1019\",\"type\":\"BasicTicker\"}},\"id\":\"1018\",\"type\":\"LinearAxis\"},{\"attributes\":{},\"id\":\"1014\",\"type\":\"BasicTicker\"},{\"attributes\":{\"fill_alpha\":{\"value\":0.8},\"fill_color\":{\"value\":\"red\"},\"line_alpha\":{\"value\":0.8},\"line_color\":{\"value\":\"red\"},\"size\":{\"units\":\"screen\",\"value\":10},\"x\":{\"field\":\"x\"},\"y\":{\"field\":\"y\"}},\"id\":\"1076\",\"type\":\"Triangle\"},{\"attributes\":{\"text\":\"Triangles\"},\"id\":\"1042\",\"type\":\"Title\"},{\"attributes\":{},\"id\":\"1062\",\"type\":\"PanTool\"},{\"attributes\":{\"bottom_units\":\"screen\",\"fill_alpha\":{\"value\":0.5},\"fill_color\":{\"value\":\"lightgrey\"},\"left_units\":\"screen\",\"level\":\"overlay\",\"line_alpha\":{\"value\":1.0},\"line_color\":{\"value\":\"black\"},\"line_dash\":[4,4],\"line_width\":{\"value\":2},\"render_mode\":\"css\",\"right_units\":\"screen\",\"top_units\":\"screen\"},\"id\":\"1135\",\"type\":\"BoxAnnotation\"},{\"attributes\":{},\"id\":\"1063\",\"type\":\"WheelZoomTool\"},{\"attributes\":{\"fill_alpha\":{\"value\":0.8},\"fill_color\":{\"value\":\"navy\"},\"line_alpha\":{\"value\":0.8},\"line_color\":{\"value\":\"navy\"},\"size\":{\"units\":\"screen\",\"value\":10},\"x\":{\"field\":\"x\"},\"y\":{\"field\":\"y\"}},\"id\":\"1037\",\"type\":\"Circle\"},{\"attributes\":{\"overlay\":{\"id\":\"1135\",\"type\":\"BoxAnnotation\"}},\"id\":\"1064\",\"type\":\"BoxZoomTool\"},{\"attributes\":{\"fill_alpha\":{\"value\":0.1},\"fill_color\":{\"value\":\"#1f77b4\"},\"line_alpha\":{\"value\":0.1},\"line_color\":{\"value\":\"#1f77b4\"},\"size\":{\"units\":\"screen\",\"value\":10},\"x\":{\"field\":\"x\"},\"y\":{\"field\":\"y\"}},\"id\":\"1038\",\"type\":\"Circle\"},{\"attributes\":{\"callback\":null},\"id\":\"1044\",\"type\":\"DataRange1d\"},{\"attributes\":{\"callback\":null,\"data\":{\"x\":[130,165,150,150,140,198,220,215,225,190,170,160,150,225,95,95,97,85,88,46,87,90,95,113,90,215,200,210,193],\"y\":[3504,3693,3436,3433,3449,4341,4354,4312,4425,3850,3563,3609,3761,3086,2372,2833,2774,2587,2130,1835,2672,2430,2375,2234,2648,4615,4376,4382,4732]},\"selected\":{\"id\":\"1125\",\"type\":\"Selection\"},\"selection_policy\":{\"id\":\"1124\",\"type\":\"UnionRenderers\"}},\"id\":\"1036\",\"type\":\"ColumnDataSource\"},{\"attributes\":{},\"id\":\"1024\",\"type\":\"WheelZoomTool\"},{\"attributes\":{},\"id\":\"1065\",\"type\":\"SaveTool\"},{\"attributes\":{},\"id\":\"1048\",\"type\":\"LinearScale\"},{\"attributes\":{},\"id\":\"1066\",\"type\":\"ResetTool\"},{\"attributes\":{},\"id\":\"1023\",\"type\":\"PanTool\"},{\"attributes\":{},\"id\":\"1132\",\"type\":\"BasicTickFormatter\"},{\"attributes\":{\"callback\":null},\"id\":\"1046\",\"type\":\"DataRange1d\"},{\"attributes\":{},\"id\":\"1121\",\"type\":\"BasicTickFormatter\"},{\"attributes\":{\"overlay\":{\"id\":\"1126\",\"type\":\"BoxAnnotation\"}},\"id\":\"1025\",\"type\":\"BoxZoomTool\"},{\"attributes\":{},\"id\":\"1067\",\"type\":\"HelpTool\"},{\"attributes\":{},\"id\":\"1009\",\"type\":\"LinearScale\"},{\"attributes\":{},\"id\":\"1050\",\"type\":\"LinearScale\"},{\"attributes\":{\"below\":[{\"id\":\"1013\",\"type\":\"LinearAxis\"}],\"center\":[{\"id\":\"1017\",\"type\":\"Grid\"},{\"id\":\"1022\",\"type\":\"Grid\"}],\"left\":[{\"id\":\"1018\",\"type\":\"LinearAxis\"}],\"plot_height\":300,\"plot_width\":300,\"renderers\":[{\"id\":\"1039\",\"type\":\"GlyphRenderer\"}],\"sizing_mode\":\"scale_both\",\"title\":{\"id\":\"1003\",\"type\":\"Title\"},\"toolbar\":{\"id\":\"1029\",\"type\":\"Toolbar\"},\"toolbar_location\":null,\"x_range\":{\"id\":\"1005\",\"type\":\"DataRange1d\"},\"x_scale\":{\"id\":\"1009\",\"type\":\"LinearScale\"},\"y_range\":{\"id\":\"1007\",\"type\":\"DataRange1d\"},\"y_scale\":{\"id\":\"1011\",\"type\":\"LinearScale\"}},\"id\":\"1002\",\"subtype\":\"Figure\",\"type\":\"Plot\"},{\"attributes\":{\"formatter\":{\"id\":\"1132\",\"type\":\"BasicTickFormatter\"},\"ticker\":{\"id\":\"1053\",\"type\":\"BasicTicker\"}},\"id\":\"1052\",\"type\":\"LinearAxis\"},{\"attributes\":{},\"id\":\"1026\",\"type\":\"SaveTool\"},{\"attributes\":{},\"id\":\"1123\",\"type\":\"BasicTickFormatter\"},{\"attributes\":{},\"id\":\"1058\",\"type\":\"BasicTicker\"},{\"attributes\":{},\"id\":\"1027\",\"type\":\"ResetTool\"},{\"attributes\":{},\"id\":\"1053\",\"type\":\"BasicTicker\"},{\"attributes\":{},\"id\":\"1124\",\"type\":\"UnionRenderers\"},{\"attributes\":{\"ticker\":{\"id\":\"1053\",\"type\":\"BasicTicker\"}},\"id\":\"1056\",\"type\":\"Grid\"},{\"attributes\":{\"callback\":null},\"id\":\"1007\",\"type\":\"DataRange1d\"},{\"attributes\":{\"callback\":null},\"id\":\"1005\",\"type\":\"DataRange1d\"},{\"attributes\":{},\"id\":\"1028\",\"type\":\"HelpTool\"},{\"attributes\":{},\"id\":\"1125\",\"type\":\"Selection\"},{\"attributes\":{\"dimension\":1,\"ticker\":{\"id\":\"1058\",\"type\":\"BasicTicker\"}},\"id\":\"1061\",\"type\":\"Grid\"},{\"attributes\":{\"source\":{\"id\":\"1075\",\"type\":\"ColumnDataSource\"}},\"id\":\"1079\",\"type\":\"CDSView\"},{\"attributes\":{},\"id\":\"1011\",\"type\":\"LinearScale\"},{\"attributes\":{\"formatter\":{\"id\":\"1130\",\"type\":\"BasicTickFormatter\"},\"ticker\":{\"id\":\"1058\",\"type\":\"BasicTicker\"}},\"id\":\"1057\",\"type\":\"LinearAxis\"},{\"attributes\":{\"bottom_units\":\"screen\",\"fill_alpha\":{\"value\":0.5},\"fill_color\":{\"value\":\"lightgrey\"},\"left_units\":\"screen\",\"level\":\"overlay\",\"line_alpha\":{\"value\":1.0},\"line_color\":{\"value\":\"black\"},\"line_dash\":[4,4],\"line_width\":{\"value\":2},\"render_mode\":\"css\",\"right_units\":\"screen\",\"top_units\":\"screen\"},\"id\":\"1126\",\"type\":\"BoxAnnotation\"},{\"attributes\":{\"text\":\"Circles\"},\"id\":\"1003\",\"type\":\"Title\"},{\"attributes\":{\"formatter\":{\"id\":\"1123\",\"type\":\"BasicTickFormatter\"},\"ticker\":{\"id\":\"1014\",\"type\":\"BasicTicker\"}},\"id\":\"1013\",\"type\":\"LinearAxis\"}],\"root_ids\":[\"1455\"]},\"title\":\"Bokeh Application\",\"version\":\"1.3.4\"}};\n",
       "  var render_items = [{\"docid\":\"8c98ddbe-d99c-420c-b518-51cea5568314\",\"roots\":{\"1455\":\"3486a15b-2e0e-4111-8755-f0583fd20734\"}}];\n",
       "  root.Bokeh.embed.embed_items_notebook(docs_json, render_items);\n",
       "\n",
       "  }\n",
       "  if (root.Bokeh !== undefined) {\n",
       "    embed_document(root);\n",
       "  } else {\n",
       "    var attempts = 0;\n",
       "    var timer = setInterval(function(root) {\n",
       "      if (root.Bokeh !== undefined) {\n",
       "        embed_document(root);\n",
       "        clearInterval(timer);\n",
       "      }\n",
       "      attempts++;\n",
       "      if (attempts > 100) {\n",
       "        console.log(\"Bokeh: ERROR: Unable to run BokehJS code because BokehJS library is missing\");\n",
       "        clearInterval(timer);\n",
       "      }\n",
       "    }, 10, root)\n",
       "  }\n",
       "})(window);"
      ],
      "application/vnd.bokehjs_exec.v0+json": ""
     },
     "metadata": {
      "application/vnd.bokehjs_exec.v0+json": {
       "id": "1455"
      }
     },
     "output_type": "display_data"
    }
   ],
   "source": [
    "from bokeh.layouts import column\n",
    "show(column(f0, f2))"
   ]
  },
  {
   "cell_type": "markdown",
   "metadata": {},
   "source": [
    "## Parsing more arguments"
   ]
  },
  {
   "cell_type": "code",
   "execution_count": 6,
   "metadata": {},
   "outputs": [],
   "source": [
    "year = 71\n",
    "auto_71 = autompg[autompg.yr == year]\n",
    "f1 = figure(width = 300, plot_height = 300, title = 'Squares')\n",
    "f1.diamond(x = auto_71.hp, y = auto_71.weight, \n",
    "          size = 10, color = 'green', alpha = 0.8);"
   ]
  },
  {
   "cell_type": "code",
   "execution_count": 7,
   "metadata": {},
   "outputs": [
    {
     "data": {
      "text/html": [
       "\n",
       "\n",
       "\n",
       "\n",
       "\n",
       "\n",
       "  <div class=\"bk-root\" id=\"d56df96b-3de4-4c9e-9d01-34c4b04ef071\" data-root-id=\"1686\"></div>\n"
      ]
     },
     "metadata": {},
     "output_type": "display_data"
    },
    {
     "data": {
      "application/javascript": [
       "(function(root) {\n",
       "  function embed_document(root) {\n",
       "    \n",
       "  var docs_json = {\"4e458bd3-a83a-4d1b-b801-43c62c4cee24\":{\"roots\":{\"references\":[{\"attributes\":{\"children\":[{\"id\":\"1685\",\"type\":\"ToolbarBox\"},{\"id\":\"1683\",\"type\":\"GridBox\"}]},\"id\":\"1686\",\"type\":\"Column\"},{\"attributes\":{\"ticker\":{\"id\":\"1014\",\"type\":\"BasicTicker\"}},\"id\":\"1017\",\"type\":\"Grid\"},{\"attributes\":{},\"id\":\"1630\",\"type\":\"WheelZoomTool\"},{\"attributes\":{},\"id\":\"1019\",\"type\":\"BasicTicker\"},{\"attributes\":{\"overlay\":{\"id\":\"1663\",\"type\":\"BoxAnnotation\"}},\"id\":\"1631\",\"type\":\"BoxZoomTool\"},{\"attributes\":{\"active_drag\":\"auto\",\"active_inspect\":\"auto\",\"active_multi\":null,\"active_scroll\":\"auto\",\"active_tap\":\"auto\",\"tools\":[{\"id\":\"1023\",\"type\":\"PanTool\"},{\"id\":\"1024\",\"type\":\"WheelZoomTool\"},{\"id\":\"1025\",\"type\":\"BoxZoomTool\"},{\"id\":\"1026\",\"type\":\"SaveTool\"},{\"id\":\"1027\",\"type\":\"ResetTool\"},{\"id\":\"1028\",\"type\":\"HelpTool\"}]},\"id\":\"1029\",\"type\":\"Toolbar\"},{\"attributes\":{},\"id\":\"1617\",\"type\":\"LinearScale\"},{\"attributes\":{},\"id\":\"1632\",\"type\":\"SaveTool\"},{\"attributes\":{\"dimension\":1,\"ticker\":{\"id\":\"1019\",\"type\":\"BasicTicker\"}},\"id\":\"1022\",\"type\":\"Grid\"},{\"attributes\":{\"formatter\":{\"id\":\"1121\",\"type\":\"BasicTickFormatter\"},\"ticker\":{\"id\":\"1019\",\"type\":\"BasicTicker\"}},\"id\":\"1018\",\"type\":\"LinearAxis\"},{\"attributes\":{},\"id\":\"1633\",\"type\":\"ResetTool\"},{\"attributes\":{\"formatter\":{\"id\":\"1658\",\"type\":\"BasicTickFormatter\"},\"ticker\":{\"id\":\"1625\",\"type\":\"BasicTicker\"}},\"id\":\"1624\",\"type\":\"LinearAxis\"},{\"attributes\":{},\"id\":\"1634\",\"type\":\"HelpTool\"},{\"attributes\":{\"fill_alpha\":{\"value\":0.8},\"fill_color\":{\"value\":\"navy\"},\"line_alpha\":{\"value\":0.8},\"line_color\":{\"value\":\"navy\"},\"size\":{\"units\":\"screen\",\"value\":10},\"x\":{\"field\":\"x\"},\"y\":{\"field\":\"y\"}},\"id\":\"1037\",\"type\":\"Circle\"},{\"attributes\":{\"active_drag\":\"auto\",\"active_inspect\":\"auto\",\"active_multi\":null,\"active_scroll\":\"auto\",\"active_tap\":\"auto\",\"tools\":[{\"id\":\"1629\",\"type\":\"PanTool\"},{\"id\":\"1630\",\"type\":\"WheelZoomTool\"},{\"id\":\"1631\",\"type\":\"BoxZoomTool\"},{\"id\":\"1632\",\"type\":\"SaveTool\"},{\"id\":\"1633\",\"type\":\"ResetTool\"},{\"id\":\"1634\",\"type\":\"HelpTool\"}]},\"id\":\"1635\",\"type\":\"Toolbar\"},{\"attributes\":{\"fill_alpha\":{\"value\":0.1},\"fill_color\":{\"value\":\"#1f77b4\"},\"line_alpha\":{\"value\":0.1},\"line_color\":{\"value\":\"#1f77b4\"},\"size\":{\"units\":\"screen\",\"value\":10},\"x\":{\"field\":\"x\"},\"y\":{\"field\":\"y\"}},\"id\":\"1038\",\"type\":\"Circle\"},{\"attributes\":{\"callback\":null,\"data\":{\"x\":[130,165,150,150,140,198,220,215,225,190,170,160,150,225,95,95,97,85,88,46,87,90,95,113,90,215,200,210,193],\"y\":[3504,3693,3436,3433,3449,4341,4354,4312,4425,3850,3563,3609,3761,3086,2372,2833,2774,2587,2130,1835,2672,2430,2375,2234,2648,4615,4376,4382,4732]},\"selected\":{\"id\":\"1125\",\"type\":\"Selection\"},\"selection_policy\":{\"id\":\"1124\",\"type\":\"UnionRenderers\"}},\"id\":\"1036\",\"type\":\"ColumnDataSource\"},{\"attributes\":{},\"id\":\"1023\",\"type\":\"PanTool\"},{\"attributes\":{\"overlay\":{\"id\":\"1126\",\"type\":\"BoxAnnotation\"}},\"id\":\"1025\",\"type\":\"BoxZoomTool\"},{\"attributes\":{\"below\":[{\"id\":\"1013\",\"type\":\"LinearAxis\"}],\"center\":[{\"id\":\"1017\",\"type\":\"Grid\"},{\"id\":\"1022\",\"type\":\"Grid\"}],\"left\":[{\"id\":\"1018\",\"type\":\"LinearAxis\"}],\"plot_height\":200,\"plot_width\":300,\"renderers\":[{\"id\":\"1039\",\"type\":\"GlyphRenderer\"}],\"sizing_mode\":\"scale_both\",\"title\":{\"id\":\"1003\",\"type\":\"Title\"},\"toolbar\":{\"id\":\"1029\",\"type\":\"Toolbar\"},\"toolbar_location\":null,\"x_range\":{\"id\":\"1005\",\"type\":\"DataRange1d\"},\"x_scale\":{\"id\":\"1009\",\"type\":\"LinearScale\"},\"y_range\":{\"id\":\"1007\",\"type\":\"DataRange1d\"},\"y_scale\":{\"id\":\"1011\",\"type\":\"LinearScale\"}},\"id\":\"1002\",\"subtype\":\"Figure\",\"type\":\"Plot\"},{\"attributes\":{\"source\":{\"id\":\"1642\",\"type\":\"ColumnDataSource\"}},\"id\":\"1646\",\"type\":\"CDSView\"},{\"attributes\":{},\"id\":\"1661\",\"type\":\"UnionRenderers\"},{\"attributes\":{},\"id\":\"1026\",\"type\":\"SaveTool\"},{\"attributes\":{},\"id\":\"1027\",\"type\":\"ResetTool\"},{\"attributes\":{},\"id\":\"1028\",\"type\":\"HelpTool\"},{\"attributes\":{\"callback\":null},\"id\":\"1005\",\"type\":\"DataRange1d\"},{\"attributes\":{\"callback\":null,\"data\":{\"x\":[88,90,95,100,105,100,88,100,165,175,153,150,180,170,175,110,72,100,88,86,90,70,76,65,69,60,70],\"y\":[2130,2264,2228,2634,3439,3329,3302,3288,4209,4464,4154,4096,4955,4746,5140,2962,2408,3282,3139,2220,2123,2074,2065,1773,1613,1834,1955]},\"selected\":{\"id\":\"1662\",\"type\":\"Selection\"},\"selection_policy\":{\"id\":\"1661\",\"type\":\"UnionRenderers\"}},\"id\":\"1642\",\"type\":\"ColumnDataSource\"},{\"attributes\":{\"text\":\"Circles\"},\"id\":\"1003\",\"type\":\"Title\"},{\"attributes\":{\"below\":[{\"id\":\"1052\",\"type\":\"LinearAxis\"}],\"center\":[{\"id\":\"1056\",\"type\":\"Grid\"},{\"id\":\"1061\",\"type\":\"Grid\"}],\"left\":[{\"id\":\"1057\",\"type\":\"LinearAxis\"}],\"plot_height\":200,\"plot_width\":300,\"renderers\":[{\"id\":\"1078\",\"type\":\"GlyphRenderer\"}],\"title\":{\"id\":\"1042\",\"type\":\"Title\"},\"toolbar\":{\"id\":\"1068\",\"type\":\"Toolbar\"},\"toolbar_location\":null,\"x_range\":{\"id\":\"1044\",\"type\":\"DataRange1d\"},\"x_scale\":{\"id\":\"1048\",\"type\":\"LinearScale\"},\"y_range\":{\"id\":\"1046\",\"type\":\"DataRange1d\"},\"y_scale\":{\"id\":\"1050\",\"type\":\"LinearScale\"}},\"id\":\"1041\",\"subtype\":\"Figure\",\"type\":\"Plot\"},{\"attributes\":{},\"id\":\"1658\",\"type\":\"BasicTickFormatter\"},{\"attributes\":{\"data_source\":{\"id\":\"1036\",\"type\":\"ColumnDataSource\"},\"glyph\":{\"id\":\"1037\",\"type\":\"Circle\"},\"hover_glyph\":null,\"muted_glyph\":null,\"nonselection_glyph\":{\"id\":\"1038\",\"type\":\"Circle\"},\"selection_glyph\":null,\"view\":{\"id\":\"1040\",\"type\":\"CDSView\"}},\"id\":\"1039\",\"type\":\"GlyphRenderer\"},{\"attributes\":{\"dimension\":1,\"ticker\":{\"id\":\"1625\",\"type\":\"BasicTicker\"}},\"id\":\"1628\",\"type\":\"Grid\"},{\"attributes\":{\"below\":[{\"id\":\"1619\",\"type\":\"LinearAxis\"}],\"center\":[{\"id\":\"1623\",\"type\":\"Grid\"},{\"id\":\"1628\",\"type\":\"Grid\"}],\"left\":[{\"id\":\"1624\",\"type\":\"LinearAxis\"}],\"plot_height\":200,\"plot_width\":300,\"renderers\":[{\"id\":\"1645\",\"type\":\"GlyphRenderer\"}],\"title\":{\"id\":\"1609\",\"type\":\"Title\"},\"toolbar\":{\"id\":\"1635\",\"type\":\"Toolbar\"},\"toolbar_location\":null,\"x_range\":{\"id\":\"1611\",\"type\":\"DataRange1d\"},\"x_scale\":{\"id\":\"1615\",\"type\":\"LinearScale\"},\"y_range\":{\"id\":\"1613\",\"type\":\"DataRange1d\"},\"y_scale\":{\"id\":\"1617\",\"type\":\"LinearScale\"}},\"id\":\"1608\",\"subtype\":\"Figure\",\"type\":\"Plot\"},{\"attributes\":{\"source\":{\"id\":\"1036\",\"type\":\"ColumnDataSource\"}},\"id\":\"1040\",\"type\":\"CDSView\"},{\"attributes\":{},\"id\":\"1620\",\"type\":\"BasicTicker\"},{\"attributes\":{\"fill_alpha\":{\"value\":0.8},\"fill_color\":{\"value\":\"red\"},\"line_alpha\":{\"value\":0.8},\"line_color\":{\"value\":\"red\"},\"size\":{\"units\":\"screen\",\"value\":10},\"x\":{\"field\":\"x\"},\"y\":{\"field\":\"y\"}},\"id\":\"1076\",\"type\":\"Triangle\"},{\"attributes\":{\"text\":\"Triangles\"},\"id\":\"1042\",\"type\":\"Title\"},{\"attributes\":{},\"id\":\"1660\",\"type\":\"BasicTickFormatter\"},{\"attributes\":{\"text\":\"Squares\"},\"id\":\"1609\",\"type\":\"Title\"},{\"attributes\":{},\"id\":\"1024\",\"type\":\"WheelZoomTool\"},{\"attributes\":{\"callback\":null},\"id\":\"1044\",\"type\":\"DataRange1d\"},{\"attributes\":{},\"id\":\"1048\",\"type\":\"LinearScale\"},{\"attributes\":{\"formatter\":{\"id\":\"1660\",\"type\":\"BasicTickFormatter\"},\"ticker\":{\"id\":\"1620\",\"type\":\"BasicTicker\"}},\"id\":\"1619\",\"type\":\"LinearAxis\"},{\"attributes\":{\"callback\":null},\"id\":\"1046\",\"type\":\"DataRange1d\"},{\"attributes\":{},\"id\":\"1050\",\"type\":\"LinearScale\"},{\"attributes\":{\"fill_alpha\":{\"value\":0.8},\"fill_color\":{\"value\":\"green\"},\"line_alpha\":{\"value\":0.8},\"line_color\":{\"value\":\"green\"},\"size\":{\"units\":\"screen\",\"value\":10},\"x\":{\"field\":\"x\"},\"y\":{\"field\":\"y\"}},\"id\":\"1643\",\"type\":\"Diamond\"},{\"attributes\":{\"formatter\":{\"id\":\"1132\",\"type\":\"BasicTickFormatter\"},\"ticker\":{\"id\":\"1053\",\"type\":\"BasicTicker\"}},\"id\":\"1052\",\"type\":\"LinearAxis\"},{\"attributes\":{},\"id\":\"1625\",\"type\":\"BasicTicker\"},{\"attributes\":{},\"id\":\"1058\",\"type\":\"BasicTicker\"},{\"attributes\":{},\"id\":\"1053\",\"type\":\"BasicTicker\"},{\"attributes\":{},\"id\":\"1615\",\"type\":\"LinearScale\"},{\"attributes\":{\"callback\":null},\"id\":\"1611\",\"type\":\"DataRange1d\"},{\"attributes\":{\"ticker\":{\"id\":\"1053\",\"type\":\"BasicTicker\"}},\"id\":\"1056\",\"type\":\"Grid\"},{\"attributes\":{\"ticker\":{\"id\":\"1620\",\"type\":\"BasicTicker\"}},\"id\":\"1623\",\"type\":\"Grid\"},{\"attributes\":{\"dimension\":1,\"ticker\":{\"id\":\"1058\",\"type\":\"BasicTicker\"}},\"id\":\"1061\",\"type\":\"Grid\"},{\"attributes\":{\"callback\":null},\"id\":\"1613\",\"type\":\"DataRange1d\"},{\"attributes\":{\"formatter\":{\"id\":\"1130\",\"type\":\"BasicTickFormatter\"},\"ticker\":{\"id\":\"1058\",\"type\":\"BasicTicker\"}},\"id\":\"1057\",\"type\":\"LinearAxis\"},{\"attributes\":{\"toolbar\":{\"id\":\"1684\",\"type\":\"ProxyToolbar\"},\"toolbar_location\":\"above\"},\"id\":\"1685\",\"type\":\"ToolbarBox\"},{\"attributes\":{},\"id\":\"1104\",\"type\":\"SaveTool\"},{\"attributes\":{},\"id\":\"1105\",\"type\":\"ResetTool\"},{\"attributes\":{\"active_drag\":\"auto\",\"active_inspect\":\"auto\",\"active_multi\":null,\"active_scroll\":\"auto\",\"active_tap\":\"auto\",\"tools\":[{\"id\":\"1062\",\"type\":\"PanTool\"},{\"id\":\"1063\",\"type\":\"WheelZoomTool\"},{\"id\":\"1064\",\"type\":\"BoxZoomTool\"},{\"id\":\"1065\",\"type\":\"SaveTool\"},{\"id\":\"1066\",\"type\":\"ResetTool\"},{\"id\":\"1067\",\"type\":\"HelpTool\"}]},\"id\":\"1068\",\"type\":\"Toolbar\"},{\"attributes\":{\"callback\":null,\"data\":{\"x\":[95,80,54,90,86,165,175,150,153,150,208,155,160,190,97,150,130,140,150,112,76,87,69,86,92,97,80,88],\"y\":[2278,2126,2254,2408,2226,4274,4385,4135,4129,3672,4633,4502,4456,4422,2330,3892,4098,4294,4077,2933,2511,2979,2189,2395,2288,2506,2164,2100]},\"selected\":{\"id\":\"1134\",\"type\":\"Selection\"},\"selection_policy\":{\"id\":\"1133\",\"type\":\"UnionRenderers\"}},\"id\":\"1075\",\"type\":\"ColumnDataSource\"},{\"attributes\":{},\"id\":\"1106\",\"type\":\"HelpTool\"},{\"attributes\":{\"data_source\":{\"id\":\"1075\",\"type\":\"ColumnDataSource\"},\"glyph\":{\"id\":\"1076\",\"type\":\"Triangle\"},\"hover_glyph\":null,\"muted_glyph\":null,\"nonselection_glyph\":{\"id\":\"1077\",\"type\":\"Triangle\"},\"selection_glyph\":null,\"view\":{\"id\":\"1079\",\"type\":\"CDSView\"}},\"id\":\"1078\",\"type\":\"GlyphRenderer\"},{\"attributes\":{},\"id\":\"1062\",\"type\":\"PanTool\"},{\"attributes\":{\"active_drag\":\"auto\",\"active_inspect\":\"auto\",\"active_multi\":null,\"active_scroll\":\"auto\",\"active_tap\":\"auto\",\"tools\":[{\"id\":\"1101\",\"type\":\"PanTool\"},{\"id\":\"1102\",\"type\":\"WheelZoomTool\"},{\"id\":\"1103\",\"type\":\"BoxZoomTool\"},{\"id\":\"1104\",\"type\":\"SaveTool\"},{\"id\":\"1105\",\"type\":\"ResetTool\"},{\"id\":\"1106\",\"type\":\"HelpTool\"}]},\"id\":\"1107\",\"type\":\"Toolbar\"},{\"attributes\":{},\"id\":\"1063\",\"type\":\"WheelZoomTool\"},{\"attributes\":{\"overlay\":{\"id\":\"1135\",\"type\":\"BoxAnnotation\"}},\"id\":\"1064\",\"type\":\"BoxZoomTool\"},{\"attributes\":{},\"id\":\"1141\",\"type\":\"BasicTickFormatter\"},{\"attributes\":{\"tools\":[{\"id\":\"1023\",\"type\":\"PanTool\"},{\"id\":\"1024\",\"type\":\"WheelZoomTool\"},{\"id\":\"1025\",\"type\":\"BoxZoomTool\"},{\"id\":\"1026\",\"type\":\"SaveTool\"},{\"id\":\"1027\",\"type\":\"ResetTool\"},{\"id\":\"1028\",\"type\":\"HelpTool\"},{\"id\":\"1629\",\"type\":\"PanTool\"},{\"id\":\"1630\",\"type\":\"WheelZoomTool\"},{\"id\":\"1631\",\"type\":\"BoxZoomTool\"},{\"id\":\"1632\",\"type\":\"SaveTool\"},{\"id\":\"1633\",\"type\":\"ResetTool\"},{\"id\":\"1634\",\"type\":\"HelpTool\"},{\"id\":\"1062\",\"type\":\"PanTool\"},{\"id\":\"1063\",\"type\":\"WheelZoomTool\"},{\"id\":\"1064\",\"type\":\"BoxZoomTool\"},{\"id\":\"1065\",\"type\":\"SaveTool\"},{\"id\":\"1066\",\"type\":\"ResetTool\"},{\"id\":\"1067\",\"type\":\"HelpTool\"},{\"id\":\"1101\",\"type\":\"PanTool\"},{\"id\":\"1102\",\"type\":\"WheelZoomTool\"},{\"id\":\"1103\",\"type\":\"BoxZoomTool\"},{\"id\":\"1104\",\"type\":\"SaveTool\"},{\"id\":\"1105\",\"type\":\"ResetTool\"},{\"id\":\"1106\",\"type\":\"HelpTool\"}]},\"id\":\"1684\",\"type\":\"ProxyToolbar\"},{\"attributes\":{},\"id\":\"1065\",\"type\":\"SaveTool\"},{\"attributes\":{\"source\":{\"id\":\"1114\",\"type\":\"ColumnDataSource\"}},\"id\":\"1118\",\"type\":\"CDSView\"},{\"attributes\":{\"bottom_units\":\"screen\",\"fill_alpha\":{\"value\":0.5},\"fill_color\":{\"value\":\"lightgrey\"},\"left_units\":\"screen\",\"level\":\"overlay\",\"line_alpha\":{\"value\":1.0},\"line_color\":{\"value\":\"black\"},\"line_dash\":[4,4],\"line_width\":{\"value\":2},\"render_mode\":\"css\",\"right_units\":\"screen\",\"top_units\":\"screen\"},\"id\":\"1663\",\"type\":\"BoxAnnotation\"},{\"attributes\":{},\"id\":\"1066\",\"type\":\"ResetTool\"},{\"attributes\":{},\"id\":\"1132\",\"type\":\"BasicTickFormatter\"},{\"attributes\":{},\"id\":\"1067\",\"type\":\"HelpTool\"},{\"attributes\":{},\"id\":\"1121\",\"type\":\"BasicTickFormatter\"},{\"attributes\":{},\"id\":\"1123\",\"type\":\"BasicTickFormatter\"},{\"attributes\":{\"text\":\"Squares\"},\"id\":\"1081\",\"type\":\"Title\"},{\"attributes\":{},\"id\":\"1124\",\"type\":\"UnionRenderers\"},{\"attributes\":{\"below\":[{\"id\":\"1091\",\"type\":\"LinearAxis\"}],\"center\":[{\"id\":\"1095\",\"type\":\"Grid\"},{\"id\":\"1100\",\"type\":\"Grid\"}],\"left\":[{\"id\":\"1096\",\"type\":\"LinearAxis\"}],\"plot_height\":200,\"plot_width\":300,\"renderers\":[{\"id\":\"1117\",\"type\":\"GlyphRenderer\"}],\"sizing_mode\":\"scale_both\",\"title\":{\"id\":\"1081\",\"type\":\"Title\"},\"toolbar\":{\"id\":\"1107\",\"type\":\"Toolbar\"},\"toolbar_location\":null,\"x_range\":{\"id\":\"1083\",\"type\":\"DataRange1d\"},\"x_scale\":{\"id\":\"1087\",\"type\":\"LinearScale\"},\"y_range\":{\"id\":\"1085\",\"type\":\"DataRange1d\"},\"y_scale\":{\"id\":\"1089\",\"type\":\"LinearScale\"}},\"id\":\"1080\",\"subtype\":\"Figure\",\"type\":\"Plot\"},{\"attributes\":{},\"id\":\"1125\",\"type\":\"Selection\"},{\"attributes\":{\"source\":{\"id\":\"1075\",\"type\":\"ColumnDataSource\"}},\"id\":\"1079\",\"type\":\"CDSView\"},{\"attributes\":{\"bottom_units\":\"screen\",\"fill_alpha\":{\"value\":0.5},\"fill_color\":{\"value\":\"lightgrey\"},\"left_units\":\"screen\",\"level\":\"overlay\",\"line_alpha\":{\"value\":1.0},\"line_color\":{\"value\":\"black\"},\"line_dash\":[4,4],\"line_width\":{\"value\":2},\"render_mode\":\"css\",\"right_units\":\"screen\",\"top_units\":\"screen\"},\"id\":\"1126\",\"type\":\"BoxAnnotation\"},{\"attributes\":{},\"id\":\"1662\",\"type\":\"Selection\"},{\"attributes\":{\"callback\":null},\"id\":\"1083\",\"type\":\"DataRange1d\"},{\"attributes\":{},\"id\":\"1130\",\"type\":\"BasicTickFormatter\"},{\"attributes\":{},\"id\":\"1087\",\"type\":\"LinearScale\"},{\"attributes\":{\"fill_alpha\":{\"value\":0.1},\"fill_color\":{\"value\":\"#1f77b4\"},\"line_alpha\":{\"value\":0.1},\"line_color\":{\"value\":\"#1f77b4\"},\"size\":{\"units\":\"screen\",\"value\":10},\"x\":{\"field\":\"x\"},\"y\":{\"field\":\"y\"}},\"id\":\"1077\",\"type\":\"Triangle\"},{\"attributes\":{},\"id\":\"1133\",\"type\":\"UnionRenderers\"},{\"attributes\":{},\"id\":\"1134\",\"type\":\"Selection\"},{\"attributes\":{\"callback\":null},\"id\":\"1085\",\"type\":\"DataRange1d\"},{\"attributes\":{\"bottom_units\":\"screen\",\"fill_alpha\":{\"value\":0.5},\"fill_color\":{\"value\":\"lightgrey\"},\"left_units\":\"screen\",\"level\":\"overlay\",\"line_alpha\":{\"value\":1.0},\"line_color\":{\"value\":\"black\"},\"line_dash\":[4,4],\"line_width\":{\"value\":2},\"render_mode\":\"css\",\"right_units\":\"screen\",\"top_units\":\"screen\"},\"id\":\"1135\",\"type\":\"BoxAnnotation\"},{\"attributes\":{},\"id\":\"1014\",\"type\":\"BasicTicker\"},{\"attributes\":{},\"id\":\"1089\",\"type\":\"LinearScale\"},{\"attributes\":{\"formatter\":{\"id\":\"1141\",\"type\":\"BasicTickFormatter\"},\"ticker\":{\"id\":\"1092\",\"type\":\"BasicTicker\"}},\"id\":\"1091\",\"type\":\"LinearAxis\"},{\"attributes\":{},\"id\":\"1097\",\"type\":\"BasicTicker\"},{\"attributes\":{\"children\":[[{\"id\":\"1002\",\"subtype\":\"Figure\",\"type\":\"Plot\"},0,0],[{\"id\":\"1608\",\"subtype\":\"Figure\",\"type\":\"Plot\"},0,1],[{\"id\":\"1041\",\"subtype\":\"Figure\",\"type\":\"Plot\"},0,2],[{\"id\":\"1080\",\"subtype\":\"Figure\",\"type\":\"Plot\"},1,0]]},\"id\":\"1683\",\"type\":\"GridBox\"},{\"attributes\":{},\"id\":\"1139\",\"type\":\"BasicTickFormatter\"},{\"attributes\":{},\"id\":\"1092\",\"type\":\"BasicTicker\"},{\"attributes\":{},\"id\":\"1142\",\"type\":\"UnionRenderers\"},{\"attributes\":{\"ticker\":{\"id\":\"1092\",\"type\":\"BasicTicker\"}},\"id\":\"1095\",\"type\":\"Grid\"},{\"attributes\":{},\"id\":\"1143\",\"type\":\"Selection\"},{\"attributes\":{\"dimension\":1,\"ticker\":{\"id\":\"1097\",\"type\":\"BasicTicker\"}},\"id\":\"1100\",\"type\":\"Grid\"},{\"attributes\":{\"formatter\":{\"id\":\"1139\",\"type\":\"BasicTickFormatter\"},\"ticker\":{\"id\":\"1097\",\"type\":\"BasicTicker\"}},\"id\":\"1096\",\"type\":\"LinearAxis\"},{\"attributes\":{\"bottom_units\":\"screen\",\"fill_alpha\":{\"value\":0.5},\"fill_color\":{\"value\":\"lightgrey\"},\"left_units\":\"screen\",\"level\":\"overlay\",\"line_alpha\":{\"value\":1.0},\"line_color\":{\"value\":\"black\"},\"line_dash\":[4,4],\"line_width\":{\"value\":2},\"render_mode\":\"css\",\"right_units\":\"screen\",\"top_units\":\"screen\"},\"id\":\"1144\",\"type\":\"BoxAnnotation\"},{\"attributes\":{\"fill_alpha\":{\"value\":0.1},\"fill_color\":{\"value\":\"#1f77b4\"},\"line_alpha\":{\"value\":0.1},\"line_color\":{\"value\":\"#1f77b4\"},\"size\":{\"units\":\"screen\",\"value\":10},\"x\":{\"field\":\"x\"},\"y\":{\"field\":\"y\"}},\"id\":\"1644\",\"type\":\"Diamond\"},{\"attributes\":{},\"id\":\"1009\",\"type\":\"LinearScale\"},{\"attributes\":{},\"id\":\"1629\",\"type\":\"PanTool\"},{\"attributes\":{\"callback\":null,\"data\":{\"x\":[175,150,145,137,150,198,150,158,150,215,225,175,105,100,100,88,95,46,150,167,170,180,100,88,72,94,90,85,107,90,145,230,49,75,91,112,150,110,122,180],\"y\":[4100,3672,3988,4042,3777,4952,4464,4363,4237,4735,4951,3821,3121,3278,2945,3021,2904,1950,4997,4906,4654,4499,2789,2279,2401,2379,2124,2310,2472,2265,4082,4278,1867,2158,2582,2868,3399,2660,2807,3664]},\"selected\":{\"id\":\"1143\",\"type\":\"Selection\"},\"selection_policy\":{\"id\":\"1142\",\"type\":\"UnionRenderers\"}},\"id\":\"1114\",\"type\":\"ColumnDataSource\"},{\"attributes\":{\"fill_alpha\":{\"value\":0.8},\"fill_color\":{\"value\":\"orange\"},\"line_alpha\":{\"value\":0.8},\"line_color\":{\"value\":\"orange\"},\"size\":{\"units\":\"screen\",\"value\":10},\"x\":{\"field\":\"x\"},\"y\":{\"field\":\"y\"}},\"id\":\"1115\",\"type\":\"Square\"},{\"attributes\":{\"fill_alpha\":{\"value\":0.1},\"fill_color\":{\"value\":\"#1f77b4\"},\"line_alpha\":{\"value\":0.1},\"line_color\":{\"value\":\"#1f77b4\"},\"size\":{\"units\":\"screen\",\"value\":10},\"x\":{\"field\":\"x\"},\"y\":{\"field\":\"y\"}},\"id\":\"1116\",\"type\":\"Square\"},{\"attributes\":{\"data_source\":{\"id\":\"1114\",\"type\":\"ColumnDataSource\"},\"glyph\":{\"id\":\"1115\",\"type\":\"Square\"},\"hover_glyph\":null,\"muted_glyph\":null,\"nonselection_glyph\":{\"id\":\"1116\",\"type\":\"Square\"},\"selection_glyph\":null,\"view\":{\"id\":\"1118\",\"type\":\"CDSView\"}},\"id\":\"1117\",\"type\":\"GlyphRenderer\"},{\"attributes\":{},\"id\":\"1101\",\"type\":\"PanTool\"},{\"attributes\":{\"callback\":null},\"id\":\"1007\",\"type\":\"DataRange1d\"},{\"attributes\":{\"data_source\":{\"id\":\"1642\",\"type\":\"ColumnDataSource\"},\"glyph\":{\"id\":\"1643\",\"type\":\"Diamond\"},\"hover_glyph\":null,\"muted_glyph\":null,\"nonselection_glyph\":{\"id\":\"1644\",\"type\":\"Diamond\"},\"selection_glyph\":null,\"view\":{\"id\":\"1646\",\"type\":\"CDSView\"}},\"id\":\"1645\",\"type\":\"GlyphRenderer\"},{\"attributes\":{},\"id\":\"1102\",\"type\":\"WheelZoomTool\"},{\"attributes\":{},\"id\":\"1011\",\"type\":\"LinearScale\"},{\"attributes\":{\"overlay\":{\"id\":\"1144\",\"type\":\"BoxAnnotation\"}},\"id\":\"1103\",\"type\":\"BoxZoomTool\"},{\"attributes\":{\"formatter\":{\"id\":\"1123\",\"type\":\"BasicTickFormatter\"},\"ticker\":{\"id\":\"1014\",\"type\":\"BasicTicker\"}},\"id\":\"1013\",\"type\":\"LinearAxis\"}],\"root_ids\":[\"1686\"]},\"title\":\"Bokeh Application\",\"version\":\"1.3.4\"}};\n",
       "  var render_items = [{\"docid\":\"4e458bd3-a83a-4d1b-b801-43c62c4cee24\",\"roots\":{\"1686\":\"d56df96b-3de4-4c9e-9d01-34c4b04ef071\"}}];\n",
       "  root.Bokeh.embed.embed_items_notebook(docs_json, render_items);\n",
       "\n",
       "  }\n",
       "  if (root.Bokeh !== undefined) {\n",
       "    embed_document(root);\n",
       "  } else {\n",
       "    var attempts = 0;\n",
       "    var timer = setInterval(function(root) {\n",
       "      if (root.Bokeh !== undefined) {\n",
       "        embed_document(root);\n",
       "        clearInterval(timer);\n",
       "      }\n",
       "      attempts++;\n",
       "      if (attempts > 100) {\n",
       "        console.log(\"Bokeh: ERROR: Unable to run BokehJS code because BokehJS library is missing\");\n",
       "        clearInterval(timer);\n",
       "      }\n",
       "    }, 10, root)\n",
       "  }\n",
       "})(window);"
      ],
      "application/vnd.bokehjs_exec.v0+json": ""
     },
     "metadata": {
      "application/vnd.bokehjs_exec.v0+json": {
       "id": "1686"
      }
     },
     "output_type": "display_data"
    }
   ],
   "source": [
    "grid = gridplot([f0, f1, f2, f3], ncols = 3, \n",
    "                plot_height= 200, plot_width=300)\n",
    "show(grid)"
   ]
  },
  {
   "cell_type": "markdown",
   "metadata": {},
   "source": [
    "## General Grid Layout"
   ]
  },
  {
   "cell_type": "markdown",
   "metadata": {},
   "source": [
    "The layout() funtion can be used to arrange both plots and widgets in a grid, generating the necessart row() and column() layouts atonatically."
   ]
  },
  {
   "cell_type": "code",
   "execution_count": 8,
   "metadata": {},
   "outputs": [],
   "source": [
    "from bokeh.models import ColumnDataSource\n",
    "import numpy as np\n",
    "import pandas as pd"
   ]
  },
  {
   "cell_type": "code",
   "execution_count": 9,
   "metadata": {},
   "outputs": [],
   "source": [
    "# creating the histogram\n",
    "car_hist, edges = np.histogram(autompg.weight, bins = 18)"
   ]
  },
  {
   "cell_type": "code",
   "execution_count": 10,
   "metadata": {},
   "outputs": [],
   "source": [
    "df_car_hist = pd.DataFrame({'hist': car_hist, 'left': edges[:-1], 'right': edges[1:]})\n",
    "\n",
    "p = figure(title = 'Histogram', width = 700, plot_height = 200)\n",
    "\n",
    "data = ColumnDataSource(df_car_hist)\n",
    "p.quad(bottom = 0, top = df_car_hist['hist'], \n",
    "       left = df_car_hist['left'], right = df_car_hist['right'],\n",
    "       fill_color = '#FF4A44', line_color = 'black', line_width = 3);"
   ]
  },
  {
   "cell_type": "code",
   "execution_count": 11,
   "metadata": {},
   "outputs": [],
   "source": [
    "### Ploting the grid"
   ]
  },
  {
   "cell_type": "code",
   "execution_count": 12,
   "metadata": {},
   "outputs": [
    {
     "data": {
      "text/html": [
       "\n",
       "\n",
       "\n",
       "\n",
       "\n",
       "\n",
       "  <div class=\"bk-root\" id=\"ca7beb65-90bc-4a0d-b753-7d0997927db0\" data-root-id=\"2009\"></div>\n"
      ]
     },
     "metadata": {},
     "output_type": "display_data"
    },
    {
     "data": {
      "application/javascript": [
       "(function(root) {\n",
       "  function embed_document(root) {\n",
       "    \n",
       "  var docs_json = {\"0d770a31-c38c-4f98-88b8-bea612ed1ffe\":{\"roots\":{\"references\":[{\"attributes\":{\"children\":[{\"id\":\"2007\",\"type\":\"Row\"},{\"id\":\"2008\",\"type\":\"Row\"}],\"height\":500,\"sizing_mode\":\"scale_both\",\"width\":800},\"id\":\"2009\",\"type\":\"Column\"},{\"attributes\":{\"ticker\":{\"id\":\"1014\",\"type\":\"BasicTicker\"}},\"id\":\"1017\",\"type\":\"Grid\"},{\"attributes\":{},\"id\":\"1019\",\"type\":\"BasicTicker\"},{\"attributes\":{\"active_drag\":\"auto\",\"active_inspect\":\"auto\",\"active_multi\":null,\"active_scroll\":\"auto\",\"active_tap\":\"auto\",\"tools\":[{\"id\":\"1023\",\"type\":\"PanTool\"},{\"id\":\"1024\",\"type\":\"WheelZoomTool\"},{\"id\":\"1025\",\"type\":\"BoxZoomTool\"},{\"id\":\"1026\",\"type\":\"SaveTool\"},{\"id\":\"1027\",\"type\":\"ResetTool\"},{\"id\":\"1028\",\"type\":\"HelpTool\"}]},\"id\":\"1029\",\"type\":\"Toolbar\"},{\"attributes\":{\"dimension\":1,\"ticker\":{\"id\":\"1019\",\"type\":\"BasicTicker\"}},\"id\":\"1022\",\"type\":\"Grid\"},{\"attributes\":{\"source\":{\"id\":\"2002\",\"type\":\"ColumnDataSource\"}},\"id\":\"2006\",\"type\":\"CDSView\"},{\"attributes\":{\"formatter\":{\"id\":\"1121\",\"type\":\"BasicTickFormatter\"},\"ticker\":{\"id\":\"1019\",\"type\":\"BasicTicker\"}},\"id\":\"1018\",\"type\":\"LinearAxis\"},{\"attributes\":{\"text\":\"Histogram\"},\"id\":\"1968\",\"type\":\"Title\"},{\"attributes\":{\"callback\":null,\"data\":{\"left\":{\"__ndarray__\":\"AAAAAAA0mUAcx3Ecx0OcQDmO4ziOU59Aq6qqqqoxoUA5juM4jrmiQMdxHMdxQaRAVlVVVVXJpUDkOI7jOFGnQHIcx3Ec2ahAAAAAAABhqkCO4ziO4+irQB3HcRzHcK1Aq6qqqqr4rkAcx3EcR0CwQOQ4juM4BLFAq6qqqirIsUByHMdxHIyyQDmO4zgOULNA\",\"dtype\":\"float64\",\"shape\":[18]},\"right\":{\"__ndarray__\":\"HMdxHMdDnEA5juM4jlOfQKuqqqqqMaFAOY7jOI65okDHcRzHcUGkQFZVVVVVyaVA5DiO4zhRp0ByHMdxHNmoQAAAAAAAYapAjuM4juPoq0Adx3Ecx3CtQKuqqqqq+K5AHMdxHEdAsEDkOI7jOASxQKuqqqoqyLFAchzHcRyMskA5juM4DlCzQAAAAAAAFLRA\",\"dtype\":\"float64\",\"shape\":[18]},\"top\":[9,35,46,41,29,32,32,19,22,25,19,18,16,17,16,10,1,5]},\"selected\":{\"id\":\"2119\",\"type\":\"Selection\"},\"selection_policy\":{\"id\":\"2118\",\"type\":\"UnionRenderers\"}},\"id\":\"2002\",\"type\":\"ColumnDataSource\"},{\"attributes\":{\"fill_alpha\":{\"value\":0.8},\"fill_color\":{\"value\":\"navy\"},\"line_alpha\":{\"value\":0.8},\"line_color\":{\"value\":\"navy\"},\"size\":{\"units\":\"screen\",\"value\":10},\"x\":{\"field\":\"x\"},\"y\":{\"field\":\"y\"}},\"id\":\"1037\",\"type\":\"Circle\"},{\"attributes\":{\"fill_alpha\":{\"value\":0.1},\"fill_color\":{\"value\":\"#1f77b4\"},\"line_alpha\":{\"value\":0.1},\"line_color\":{\"value\":\"#1f77b4\"},\"size\":{\"units\":\"screen\",\"value\":10},\"x\":{\"field\":\"x\"},\"y\":{\"field\":\"y\"}},\"id\":\"1038\",\"type\":\"Circle\"},{\"attributes\":{\"callback\":null,\"data\":{\"x\":[130,165,150,150,140,198,220,215,225,190,170,160,150,225,95,95,97,85,88,46,87,90,95,113,90,215,200,210,193],\"y\":[3504,3693,3436,3433,3449,4341,4354,4312,4425,3850,3563,3609,3761,3086,2372,2833,2774,2587,2130,1835,2672,2430,2375,2234,2648,4615,4376,4382,4732]},\"selected\":{\"id\":\"1125\",\"type\":\"Selection\"},\"selection_policy\":{\"id\":\"1124\",\"type\":\"UnionRenderers\"}},\"id\":\"1036\",\"type\":\"ColumnDataSource\"},{\"attributes\":{\"callback\":null},\"id\":\"1970\",\"type\":\"DataRange1d\"},{\"attributes\":{},\"id\":\"1023\",\"type\":\"PanTool\"},{\"attributes\":{\"overlay\":{\"id\":\"1126\",\"type\":\"BoxAnnotation\"}},\"id\":\"1025\",\"type\":\"BoxZoomTool\"},{\"attributes\":{\"below\":[{\"id\":\"1013\",\"type\":\"LinearAxis\"}],\"center\":[{\"id\":\"1017\",\"type\":\"Grid\"},{\"id\":\"1022\",\"type\":\"Grid\"}],\"left\":[{\"id\":\"1018\",\"type\":\"LinearAxis\"}],\"plot_height\":200,\"plot_width\":300,\"renderers\":[{\"id\":\"1039\",\"type\":\"GlyphRenderer\"}],\"sizing_mode\":\"scale_both\",\"title\":{\"id\":\"1003\",\"type\":\"Title\"},\"toolbar\":{\"id\":\"1029\",\"type\":\"Toolbar\"},\"toolbar_location\":null,\"x_range\":{\"id\":\"1005\",\"type\":\"DataRange1d\"},\"x_scale\":{\"id\":\"1009\",\"type\":\"LinearScale\"},\"y_range\":{\"id\":\"1007\",\"type\":\"DataRange1d\"},\"y_scale\":{\"id\":\"1011\",\"type\":\"LinearScale\"}},\"id\":\"1002\",\"subtype\":\"Figure\",\"type\":\"Plot\"},{\"attributes\":{\"callback\":null},\"id\":\"1972\",\"type\":\"DataRange1d\"},{\"attributes\":{},\"id\":\"1026\",\"type\":\"SaveTool\"},{\"attributes\":{},\"id\":\"1974\",\"type\":\"LinearScale\"},{\"attributes\":{},\"id\":\"1027\",\"type\":\"ResetTool\"},{\"attributes\":{},\"id\":\"1976\",\"type\":\"LinearScale\"},{\"attributes\":{\"formatter\":{\"id\":\"2105\",\"type\":\"BasicTickFormatter\"},\"ticker\":{\"id\":\"1979\",\"type\":\"BasicTicker\"}},\"id\":\"1978\",\"type\":\"LinearAxis\"},{\"attributes\":{\"callback\":null},\"id\":\"1005\",\"type\":\"DataRange1d\"},{\"attributes\":{},\"id\":\"1028\",\"type\":\"HelpTool\"},{\"attributes\":{},\"id\":\"1984\",\"type\":\"BasicTicker\"},{\"attributes\":{},\"id\":\"1979\",\"type\":\"BasicTicker\"},{\"attributes\":{\"text\":\"Circles\"},\"id\":\"1003\",\"type\":\"Title\"},{\"attributes\":{\"ticker\":{\"id\":\"1979\",\"type\":\"BasicTicker\"}},\"id\":\"1982\",\"type\":\"Grid\"},{\"attributes\":{\"below\":[{\"id\":\"1052\",\"type\":\"LinearAxis\"}],\"center\":[{\"id\":\"1056\",\"type\":\"Grid\"},{\"id\":\"1061\",\"type\":\"Grid\"}],\"left\":[{\"id\":\"1057\",\"type\":\"LinearAxis\"}],\"plot_height\":200,\"plot_width\":300,\"renderers\":[{\"id\":\"1078\",\"type\":\"GlyphRenderer\"}],\"sizing_mode\":\"scale_both\",\"title\":{\"id\":\"1042\",\"type\":\"Title\"},\"toolbar\":{\"id\":\"1068\",\"type\":\"Toolbar\"},\"toolbar_location\":null,\"x_range\":{\"id\":\"1044\",\"type\":\"DataRange1d\"},\"x_scale\":{\"id\":\"1048\",\"type\":\"LinearScale\"},\"y_range\":{\"id\":\"1046\",\"type\":\"DataRange1d\"},\"y_scale\":{\"id\":\"1050\",\"type\":\"LinearScale\"}},\"id\":\"1041\",\"subtype\":\"Figure\",\"type\":\"Plot\"},{\"attributes\":{\"dimension\":1,\"ticker\":{\"id\":\"1984\",\"type\":\"BasicTicker\"}},\"id\":\"1987\",\"type\":\"Grid\"},{\"attributes\":{\"formatter\":{\"id\":\"2103\",\"type\":\"BasicTickFormatter\"},\"ticker\":{\"id\":\"1984\",\"type\":\"BasicTicker\"}},\"id\":\"1983\",\"type\":\"LinearAxis\"},{\"attributes\":{\"data_source\":{\"id\":\"1036\",\"type\":\"ColumnDataSource\"},\"glyph\":{\"id\":\"1037\",\"type\":\"Circle\"},\"hover_glyph\":null,\"muted_glyph\":null,\"nonselection_glyph\":{\"id\":\"1038\",\"type\":\"Circle\"},\"selection_glyph\":null,\"view\":{\"id\":\"1040\",\"type\":\"CDSView\"}},\"id\":\"1039\",\"type\":\"GlyphRenderer\"},{\"attributes\":{\"below\":[{\"id\":\"1978\",\"type\":\"LinearAxis\"}],\"center\":[{\"id\":\"1982\",\"type\":\"Grid\"},{\"id\":\"1987\",\"type\":\"Grid\"}],\"left\":[{\"id\":\"1983\",\"type\":\"LinearAxis\"}],\"plot_height\":200,\"plot_width\":700,\"renderers\":[{\"id\":\"2005\",\"type\":\"GlyphRenderer\"}],\"sizing_mode\":\"scale_both\",\"title\":{\"id\":\"1968\",\"type\":\"Title\"},\"toolbar\":{\"id\":\"1994\",\"type\":\"Toolbar\"},\"x_range\":{\"id\":\"1970\",\"type\":\"DataRange1d\"},\"x_scale\":{\"id\":\"1974\",\"type\":\"LinearScale\"},\"y_range\":{\"id\":\"1972\",\"type\":\"DataRange1d\"},\"y_scale\":{\"id\":\"1976\",\"type\":\"LinearScale\"}},\"id\":\"1967\",\"subtype\":\"Figure\",\"type\":\"Plot\"},{\"attributes\":{\"bottom\":{\"value\":0},\"fill_color\":{\"value\":\"#FF4A44\"},\"left\":{\"field\":\"left\"},\"line_width\":{\"value\":3},\"right\":{\"field\":\"right\"},\"top\":{\"field\":\"top\"}},\"id\":\"2003\",\"type\":\"Quad\"},{\"attributes\":{\"source\":{\"id\":\"1036\",\"type\":\"ColumnDataSource\"}},\"id\":\"1040\",\"type\":\"CDSView\"},{\"attributes\":{\"fill_alpha\":{\"value\":0.8},\"fill_color\":{\"value\":\"red\"},\"line_alpha\":{\"value\":0.8},\"line_color\":{\"value\":\"red\"},\"size\":{\"units\":\"screen\",\"value\":10},\"x\":{\"field\":\"x\"},\"y\":{\"field\":\"y\"}},\"id\":\"1076\",\"type\":\"Triangle\"},{\"attributes\":{\"text\":\"Triangles\"},\"id\":\"1042\",\"type\":\"Title\"},{\"attributes\":{\"active_drag\":\"auto\",\"active_inspect\":\"auto\",\"active_multi\":null,\"active_scroll\":\"auto\",\"active_tap\":\"auto\",\"tools\":[{\"id\":\"1988\",\"type\":\"PanTool\"},{\"id\":\"1989\",\"type\":\"WheelZoomTool\"},{\"id\":\"1990\",\"type\":\"BoxZoomTool\"},{\"id\":\"1991\",\"type\":\"SaveTool\"},{\"id\":\"1992\",\"type\":\"ResetTool\"},{\"id\":\"1993\",\"type\":\"HelpTool\"}]},\"id\":\"1994\",\"type\":\"Toolbar\"},{\"attributes\":{},\"id\":\"1988\",\"type\":\"PanTool\"},{\"attributes\":{\"callback\":null},\"id\":\"1044\",\"type\":\"DataRange1d\"},{\"attributes\":{},\"id\":\"1989\",\"type\":\"WheelZoomTool\"},{\"attributes\":{},\"id\":\"1024\",\"type\":\"WheelZoomTool\"},{\"attributes\":{},\"id\":\"1048\",\"type\":\"LinearScale\"},{\"attributes\":{\"overlay\":{\"id\":\"2120\",\"type\":\"BoxAnnotation\"}},\"id\":\"1990\",\"type\":\"BoxZoomTool\"},{\"attributes\":{\"callback\":null},\"id\":\"1046\",\"type\":\"DataRange1d\"},{\"attributes\":{},\"id\":\"1991\",\"type\":\"SaveTool\"},{\"attributes\":{\"children\":[{\"id\":\"1967\",\"subtype\":\"Figure\",\"type\":\"Plot\"}],\"sizing_mode\":\"scale_both\"},\"id\":\"2007\",\"type\":\"Row\"},{\"attributes\":{},\"id\":\"1050\",\"type\":\"LinearScale\"},{\"attributes\":{},\"id\":\"1992\",\"type\":\"ResetTool\"},{\"attributes\":{\"formatter\":{\"id\":\"1132\",\"type\":\"BasicTickFormatter\"},\"ticker\":{\"id\":\"1053\",\"type\":\"BasicTicker\"}},\"id\":\"1052\",\"type\":\"LinearAxis\"},{\"attributes\":{},\"id\":\"1993\",\"type\":\"HelpTool\"},{\"attributes\":{},\"id\":\"1058\",\"type\":\"BasicTicker\"},{\"attributes\":{},\"id\":\"1053\",\"type\":\"BasicTicker\"},{\"attributes\":{\"ticker\":{\"id\":\"1053\",\"type\":\"BasicTicker\"}},\"id\":\"1056\",\"type\":\"Grid\"},{\"attributes\":{\"data_source\":{\"id\":\"2002\",\"type\":\"ColumnDataSource\"},\"glyph\":{\"id\":\"2003\",\"type\":\"Quad\"},\"hover_glyph\":null,\"muted_glyph\":null,\"nonselection_glyph\":{\"id\":\"2004\",\"type\":\"Quad\"},\"selection_glyph\":null,\"view\":{\"id\":\"2006\",\"type\":\"CDSView\"}},\"id\":\"2005\",\"type\":\"GlyphRenderer\"},{\"attributes\":{\"dimension\":1,\"ticker\":{\"id\":\"1058\",\"type\":\"BasicTicker\"}},\"id\":\"1061\",\"type\":\"Grid\"},{\"attributes\":{\"formatter\":{\"id\":\"1130\",\"type\":\"BasicTickFormatter\"},\"ticker\":{\"id\":\"1058\",\"type\":\"BasicTicker\"}},\"id\":\"1057\",\"type\":\"LinearAxis\"},{\"attributes\":{\"bottom\":{\"value\":0},\"fill_alpha\":{\"value\":0.1},\"fill_color\":{\"value\":\"#1f77b4\"},\"left\":{\"field\":\"left\"},\"line_alpha\":{\"value\":0.1},\"line_color\":{\"value\":\"#1f77b4\"},\"line_width\":{\"value\":3},\"right\":{\"field\":\"right\"},\"top\":{\"field\":\"top\"}},\"id\":\"2004\",\"type\":\"Quad\"},{\"attributes\":{\"overlay\":{\"id\":\"1144\",\"type\":\"BoxAnnotation\"}},\"id\":\"1103\",\"type\":\"BoxZoomTool\"},{\"attributes\":{},\"id\":\"1104\",\"type\":\"SaveTool\"},{\"attributes\":{},\"id\":\"1105\",\"type\":\"ResetTool\"},{\"attributes\":{\"active_drag\":\"auto\",\"active_inspect\":\"auto\",\"active_multi\":null,\"active_scroll\":\"auto\",\"active_tap\":\"auto\",\"tools\":[{\"id\":\"1062\",\"type\":\"PanTool\"},{\"id\":\"1063\",\"type\":\"WheelZoomTool\"},{\"id\":\"1064\",\"type\":\"BoxZoomTool\"},{\"id\":\"1065\",\"type\":\"SaveTool\"},{\"id\":\"1066\",\"type\":\"ResetTool\"},{\"id\":\"1067\",\"type\":\"HelpTool\"}]},\"id\":\"1068\",\"type\":\"Toolbar\"},{\"attributes\":{\"callback\":null,\"data\":{\"x\":[95,80,54,90,86,165,175,150,153,150,208,155,160,190,97,150,130,140,150,112,76,87,69,86,92,97,80,88],\"y\":[2278,2126,2254,2408,2226,4274,4385,4135,4129,3672,4633,4502,4456,4422,2330,3892,4098,4294,4077,2933,2511,2979,2189,2395,2288,2506,2164,2100]},\"selected\":{\"id\":\"1134\",\"type\":\"Selection\"},\"selection_policy\":{\"id\":\"1133\",\"type\":\"UnionRenderers\"}},\"id\":\"1075\",\"type\":\"ColumnDataSource\"},{\"attributes\":{\"data_source\":{\"id\":\"1075\",\"type\":\"ColumnDataSource\"},\"glyph\":{\"id\":\"1076\",\"type\":\"Triangle\"},\"hover_glyph\":null,\"muted_glyph\":null,\"nonselection_glyph\":{\"id\":\"1077\",\"type\":\"Triangle\"},\"selection_glyph\":null,\"view\":{\"id\":\"1079\",\"type\":\"CDSView\"}},\"id\":\"1078\",\"type\":\"GlyphRenderer\"},{\"attributes\":{},\"id\":\"1106\",\"type\":\"HelpTool\"},{\"attributes\":{},\"id\":\"1062\",\"type\":\"PanTool\"},{\"attributes\":{\"active_drag\":\"auto\",\"active_inspect\":\"auto\",\"active_multi\":null,\"active_scroll\":\"auto\",\"active_tap\":\"auto\",\"tools\":[{\"id\":\"1101\",\"type\":\"PanTool\"},{\"id\":\"1102\",\"type\":\"WheelZoomTool\"},{\"id\":\"1103\",\"type\":\"BoxZoomTool\"},{\"id\":\"1104\",\"type\":\"SaveTool\"},{\"id\":\"1105\",\"type\":\"ResetTool\"},{\"id\":\"1106\",\"type\":\"HelpTool\"}]},\"id\":\"1107\",\"type\":\"Toolbar\"},{\"attributes\":{},\"id\":\"1063\",\"type\":\"WheelZoomTool\"},{\"attributes\":{\"overlay\":{\"id\":\"1135\",\"type\":\"BoxAnnotation\"}},\"id\":\"1064\",\"type\":\"BoxZoomTool\"},{\"attributes\":{},\"id\":\"1141\",\"type\":\"BasicTickFormatter\"},{\"attributes\":{},\"id\":\"1065\",\"type\":\"SaveTool\"},{\"attributes\":{\"source\":{\"id\":\"1114\",\"type\":\"ColumnDataSource\"}},\"id\":\"1118\",\"type\":\"CDSView\"},{\"attributes\":{},\"id\":\"1066\",\"type\":\"ResetTool\"},{\"attributes\":{},\"id\":\"1132\",\"type\":\"BasicTickFormatter\"},{\"attributes\":{},\"id\":\"1121\",\"type\":\"BasicTickFormatter\"},{\"attributes\":{},\"id\":\"1067\",\"type\":\"HelpTool\"},{\"attributes\":{},\"id\":\"1123\",\"type\":\"BasicTickFormatter\"},{\"attributes\":{\"text\":\"Squares\"},\"id\":\"1081\",\"type\":\"Title\"},{\"attributes\":{},\"id\":\"1124\",\"type\":\"UnionRenderers\"},{\"attributes\":{\"below\":[{\"id\":\"1091\",\"type\":\"LinearAxis\"}],\"center\":[{\"id\":\"1095\",\"type\":\"Grid\"},{\"id\":\"1100\",\"type\":\"Grid\"}],\"left\":[{\"id\":\"1096\",\"type\":\"LinearAxis\"}],\"plot_height\":200,\"plot_width\":300,\"renderers\":[{\"id\":\"1117\",\"type\":\"GlyphRenderer\"}],\"sizing_mode\":\"scale_both\",\"title\":{\"id\":\"1081\",\"type\":\"Title\"},\"toolbar\":{\"id\":\"1107\",\"type\":\"Toolbar\"},\"toolbar_location\":null,\"x_range\":{\"id\":\"1083\",\"type\":\"DataRange1d\"},\"x_scale\":{\"id\":\"1087\",\"type\":\"LinearScale\"},\"y_range\":{\"id\":\"1085\",\"type\":\"DataRange1d\"},\"y_scale\":{\"id\":\"1089\",\"type\":\"LinearScale\"}},\"id\":\"1080\",\"subtype\":\"Figure\",\"type\":\"Plot\"},{\"attributes\":{},\"id\":\"1125\",\"type\":\"Selection\"},{\"attributes\":{\"source\":{\"id\":\"1075\",\"type\":\"ColumnDataSource\"}},\"id\":\"1079\",\"type\":\"CDSView\"},{\"attributes\":{\"bottom_units\":\"screen\",\"fill_alpha\":{\"value\":0.5},\"fill_color\":{\"value\":\"lightgrey\"},\"left_units\":\"screen\",\"level\":\"overlay\",\"line_alpha\":{\"value\":1.0},\"line_color\":{\"value\":\"black\"},\"line_dash\":[4,4],\"line_width\":{\"value\":2},\"render_mode\":\"css\",\"right_units\":\"screen\",\"top_units\":\"screen\"},\"id\":\"1126\",\"type\":\"BoxAnnotation\"},{\"attributes\":{\"children\":[{\"id\":\"1002\",\"subtype\":\"Figure\",\"type\":\"Plot\"},{\"id\":\"1041\",\"subtype\":\"Figure\",\"type\":\"Plot\"},{\"id\":\"1080\",\"subtype\":\"Figure\",\"type\":\"Plot\"}],\"sizing_mode\":\"scale_both\"},\"id\":\"2008\",\"type\":\"Row\"},{\"attributes\":{\"callback\":null},\"id\":\"1083\",\"type\":\"DataRange1d\"},{\"attributes\":{},\"id\":\"1130\",\"type\":\"BasicTickFormatter\"},{\"attributes\":{},\"id\":\"1087\",\"type\":\"LinearScale\"},{\"attributes\":{\"fill_alpha\":{\"value\":0.1},\"fill_color\":{\"value\":\"#1f77b4\"},\"line_alpha\":{\"value\":0.1},\"line_color\":{\"value\":\"#1f77b4\"},\"size\":{\"units\":\"screen\",\"value\":10},\"x\":{\"field\":\"x\"},\"y\":{\"field\":\"y\"}},\"id\":\"1077\",\"type\":\"Triangle\"},{\"attributes\":{},\"id\":\"1133\",\"type\":\"UnionRenderers\"},{\"attributes\":{},\"id\":\"1134\",\"type\":\"Selection\"},{\"attributes\":{\"callback\":null},\"id\":\"1085\",\"type\":\"DataRange1d\"},{\"attributes\":{\"bottom_units\":\"screen\",\"fill_alpha\":{\"value\":0.5},\"fill_color\":{\"value\":\"lightgrey\"},\"left_units\":\"screen\",\"level\":\"overlay\",\"line_alpha\":{\"value\":1.0},\"line_color\":{\"value\":\"black\"},\"line_dash\":[4,4],\"line_width\":{\"value\":2},\"render_mode\":\"css\",\"right_units\":\"screen\",\"top_units\":\"screen\"},\"id\":\"1135\",\"type\":\"BoxAnnotation\"},{\"attributes\":{},\"id\":\"1089\",\"type\":\"LinearScale\"},{\"attributes\":{\"formatter\":{\"id\":\"1141\",\"type\":\"BasicTickFormatter\"},\"ticker\":{\"id\":\"1092\",\"type\":\"BasicTicker\"}},\"id\":\"1091\",\"type\":\"LinearAxis\"},{\"attributes\":{},\"id\":\"1097\",\"type\":\"BasicTicker\"},{\"attributes\":{},\"id\":\"2118\",\"type\":\"UnionRenderers\"},{\"attributes\":{},\"id\":\"1139\",\"type\":\"BasicTickFormatter\"},{\"attributes\":{},\"id\":\"1092\",\"type\":\"BasicTicker\"},{\"attributes\":{},\"id\":\"1142\",\"type\":\"UnionRenderers\"},{\"attributes\":{\"ticker\":{\"id\":\"1092\",\"type\":\"BasicTicker\"}},\"id\":\"1095\",\"type\":\"Grid\"},{\"attributes\":{},\"id\":\"1143\",\"type\":\"Selection\"},{\"attributes\":{\"dimension\":1,\"ticker\":{\"id\":\"1097\",\"type\":\"BasicTicker\"}},\"id\":\"1100\",\"type\":\"Grid\"},{\"attributes\":{\"formatter\":{\"id\":\"1139\",\"type\":\"BasicTickFormatter\"},\"ticker\":{\"id\":\"1097\",\"type\":\"BasicTicker\"}},\"id\":\"1096\",\"type\":\"LinearAxis\"},{\"attributes\":{\"bottom_units\":\"screen\",\"fill_alpha\":{\"value\":0.5},\"fill_color\":{\"value\":\"lightgrey\"},\"left_units\":\"screen\",\"level\":\"overlay\",\"line_alpha\":{\"value\":1.0},\"line_color\":{\"value\":\"black\"},\"line_dash\":[4,4],\"line_width\":{\"value\":2},\"render_mode\":\"css\",\"right_units\":\"screen\",\"top_units\":\"screen\"},\"id\":\"1144\",\"type\":\"BoxAnnotation\"},{\"attributes\":{},\"id\":\"1009\",\"type\":\"LinearScale\"},{\"attributes\":{\"callback\":null,\"data\":{\"x\":[175,150,145,137,150,198,150,158,150,215,225,175,105,100,100,88,95,46,150,167,170,180,100,88,72,94,90,85,107,90,145,230,49,75,91,112,150,110,122,180],\"y\":[4100,3672,3988,4042,3777,4952,4464,4363,4237,4735,4951,3821,3121,3278,2945,3021,2904,1950,4997,4906,4654,4499,2789,2279,2401,2379,2124,2310,2472,2265,4082,4278,1867,2158,2582,2868,3399,2660,2807,3664]},\"selected\":{\"id\":\"1143\",\"type\":\"Selection\"},\"selection_policy\":{\"id\":\"1142\",\"type\":\"UnionRenderers\"}},\"id\":\"1114\",\"type\":\"ColumnDataSource\"},{\"attributes\":{\"bottom_units\":\"screen\",\"fill_alpha\":{\"value\":0.5},\"fill_color\":{\"value\":\"lightgrey\"},\"left_units\":\"screen\",\"level\":\"overlay\",\"line_alpha\":{\"value\":1.0},\"line_color\":{\"value\":\"black\"},\"line_dash\":[4,4],\"line_width\":{\"value\":2},\"render_mode\":\"css\",\"right_units\":\"screen\",\"top_units\":\"screen\"},\"id\":\"2120\",\"type\":\"BoxAnnotation\"},{\"attributes\":{\"fill_alpha\":{\"value\":0.8},\"fill_color\":{\"value\":\"orange\"},\"line_alpha\":{\"value\":0.8},\"line_color\":{\"value\":\"orange\"},\"size\":{\"units\":\"screen\",\"value\":10},\"x\":{\"field\":\"x\"},\"y\":{\"field\":\"y\"}},\"id\":\"1115\",\"type\":\"Square\"},{\"attributes\":{},\"id\":\"2119\",\"type\":\"Selection\"},{\"attributes\":{\"fill_alpha\":{\"value\":0.1},\"fill_color\":{\"value\":\"#1f77b4\"},\"line_alpha\":{\"value\":0.1},\"line_color\":{\"value\":\"#1f77b4\"},\"size\":{\"units\":\"screen\",\"value\":10},\"x\":{\"field\":\"x\"},\"y\":{\"field\":\"y\"}},\"id\":\"1116\",\"type\":\"Square\"},{\"attributes\":{\"data_source\":{\"id\":\"1114\",\"type\":\"ColumnDataSource\"},\"glyph\":{\"id\":\"1115\",\"type\":\"Square\"},\"hover_glyph\":null,\"muted_glyph\":null,\"nonselection_glyph\":{\"id\":\"1116\",\"type\":\"Square\"},\"selection_glyph\":null,\"view\":{\"id\":\"1118\",\"type\":\"CDSView\"}},\"id\":\"1117\",\"type\":\"GlyphRenderer\"},{\"attributes\":{},\"id\":\"2105\",\"type\":\"BasicTickFormatter\"},{\"attributes\":{\"callback\":null},\"id\":\"1007\",\"type\":\"DataRange1d\"},{\"attributes\":{},\"id\":\"1101\",\"type\":\"PanTool\"},{\"attributes\":{},\"id\":\"2103\",\"type\":\"BasicTickFormatter\"},{\"attributes\":{},\"id\":\"1011\",\"type\":\"LinearScale\"},{\"attributes\":{},\"id\":\"1102\",\"type\":\"WheelZoomTool\"},{\"attributes\":{},\"id\":\"1014\",\"type\":\"BasicTicker\"},{\"attributes\":{\"formatter\":{\"id\":\"1123\",\"type\":\"BasicTickFormatter\"},\"ticker\":{\"id\":\"1014\",\"type\":\"BasicTicker\"}},\"id\":\"1013\",\"type\":\"LinearAxis\"}],\"root_ids\":[\"2009\"]},\"title\":\"Bokeh Application\",\"version\":\"1.3.4\"}};\n",
       "  var render_items = [{\"docid\":\"0d770a31-c38c-4f98-88b8-bea612ed1ffe\",\"roots\":{\"2009\":\"ca7beb65-90bc-4a0d-b753-7d0997927db0\"}}];\n",
       "  root.Bokeh.embed.embed_items_notebook(docs_json, render_items);\n",
       "\n",
       "  }\n",
       "  if (root.Bokeh !== undefined) {\n",
       "    embed_document(root);\n",
       "  } else {\n",
       "    var attempts = 0;\n",
       "    var timer = setInterval(function(root) {\n",
       "      if (root.Bokeh !== undefined) {\n",
       "        embed_document(root);\n",
       "        clearInterval(timer);\n",
       "      }\n",
       "      attempts++;\n",
       "      if (attempts > 100) {\n",
       "        console.log(\"Bokeh: ERROR: Unable to run BokehJS code because BokehJS library is missing\");\n",
       "        clearInterval(timer);\n",
       "      }\n",
       "    }, 10, root)\n",
       "  }\n",
       "})(window);"
      ],
      "application/vnd.bokehjs_exec.v0+json": ""
     },
     "metadata": {
      "application/vnd.bokehjs_exec.v0+json": {
       "id": "2009"
      }
     },
     "output_type": "display_data"
    }
   ],
   "source": [
    "from bokeh.layouts import layout\n",
    "\n",
    "l = layout([p],\n",
    "      [f0, f2, f3],\n",
    "          sizing_mode='scale_both',\n",
    "          width = 800, height = 500)\n",
    "\n",
    "show(l)"
   ]
  },
  {
   "cell_type": "markdown",
   "metadata": {},
   "source": [
    "## Adding annotations"
   ]
  },
  {
   "cell_type": "code",
   "execution_count": 13,
   "metadata": {},
   "outputs": [
    {
     "data": {
      "text/html": [
       "\n",
       "\n",
       "\n",
       "\n",
       "\n",
       "\n",
       "  <div class=\"bk-root\" id=\"de27d4bc-b24b-4536-910d-1bcf19d09b48\" data-root-id=\"1608\"></div>\n"
      ]
     },
     "metadata": {},
     "output_type": "display_data"
    },
    {
     "data": {
      "application/javascript": [
       "(function(root) {\n",
       "  function embed_document(root) {\n",
       "    \n",
       "  var docs_json = {\"6e153a52-6675-41ca-9d6c-2c169c76acc2\":{\"roots\":{\"references\":[{\"attributes\":{\"below\":[{\"id\":\"1619\",\"type\":\"LinearAxis\"}],\"center\":[{\"id\":\"1623\",\"type\":\"Grid\"},{\"id\":\"1628\",\"type\":\"Grid\"},{\"id\":\"2322\",\"type\":\"Span\"},{\"id\":\"2323\",\"type\":\"Span\"},{\"id\":\"2564\",\"type\":\"BoxAnnotation\"}],\"left\":[{\"id\":\"1624\",\"type\":\"LinearAxis\"}],\"plot_height\":200,\"plot_width\":600,\"renderers\":[{\"id\":\"1645\",\"type\":\"GlyphRenderer\"}],\"title\":{\"id\":\"1609\",\"type\":\"Title\"},\"toolbar\":{\"id\":\"1635\",\"type\":\"Toolbar\"},\"toolbar_location\":null,\"x_range\":{\"id\":\"1611\",\"type\":\"DataRange1d\"},\"x_scale\":{\"id\":\"1615\",\"type\":\"LinearScale\"},\"y_range\":{\"id\":\"1613\",\"type\":\"DataRange1d\"},\"y_scale\":{\"id\":\"1617\",\"type\":\"LinearScale\"}},\"id\":\"1608\",\"subtype\":\"Figure\",\"type\":\"Plot\"},{\"attributes\":{},\"id\":\"1658\",\"type\":\"BasicTickFormatter\"},{\"attributes\":{\"dimension\":1,\"ticker\":{\"id\":\"1625\",\"type\":\"BasicTicker\"}},\"id\":\"1628\",\"type\":\"Grid\"},{\"attributes\":{},\"id\":\"1630\",\"type\":\"WheelZoomTool\"},{\"attributes\":{\"dimension\":\"height\",\"line_color\":{\"value\":\"gray\"},\"line_width\":{\"value\":2.5},\"location\":100},\"id\":\"2322\",\"type\":\"Span\"},{\"attributes\":{\"overlay\":{\"id\":\"1663\",\"type\":\"BoxAnnotation\"}},\"id\":\"1631\",\"type\":\"BoxZoomTool\"},{\"attributes\":{},\"id\":\"1617\",\"type\":\"LinearScale\"},{\"attributes\":{},\"id\":\"1620\",\"type\":\"BasicTicker\"},{\"attributes\":{},\"id\":\"1632\",\"type\":\"SaveTool\"},{\"attributes\":{\"line_color\":{\"value\":\"gray\"},\"line_width\":{\"value\":2.5},\"location\":3000},\"id\":\"2323\",\"type\":\"Span\"},{\"attributes\":{},\"id\":\"1633\",\"type\":\"ResetTool\"},{\"attributes\":{\"formatter\":{\"id\":\"1658\",\"type\":\"BasicTickFormatter\"},\"ticker\":{\"id\":\"1625\",\"type\":\"BasicTicker\"}},\"id\":\"1624\",\"type\":\"LinearAxis\"},{\"attributes\":{},\"id\":\"1660\",\"type\":\"BasicTickFormatter\"},{\"attributes\":{},\"id\":\"1634\",\"type\":\"HelpTool\"},{\"attributes\":{\"text\":\"Ploting annotations\"},\"id\":\"1609\",\"type\":\"Title\"},{\"attributes\":{\"active_drag\":\"auto\",\"active_inspect\":\"auto\",\"active_multi\":null,\"active_scroll\":\"auto\",\"active_tap\":\"auto\",\"tools\":[{\"id\":\"1629\",\"type\":\"PanTool\"},{\"id\":\"1630\",\"type\":\"WheelZoomTool\"},{\"id\":\"1631\",\"type\":\"BoxZoomTool\"},{\"id\":\"1632\",\"type\":\"SaveTool\"},{\"id\":\"1633\",\"type\":\"ResetTool\"},{\"id\":\"1634\",\"type\":\"HelpTool\"}]},\"id\":\"1635\",\"type\":\"Toolbar\"},{\"attributes\":{},\"id\":\"1662\",\"type\":\"Selection\"},{\"attributes\":{\"bottom_units\":\"screen\",\"fill_alpha\":{\"value\":0.5},\"fill_color\":{\"value\":\"lightgrey\"},\"left_units\":\"screen\",\"level\":\"overlay\",\"line_alpha\":{\"value\":1.0},\"line_color\":{\"value\":\"black\"},\"line_dash\":[4,4],\"line_width\":{\"value\":2},\"render_mode\":\"css\",\"right_units\":\"screen\",\"top_units\":\"screen\"},\"id\":\"1663\",\"type\":\"BoxAnnotation\"},{\"attributes\":{\"formatter\":{\"id\":\"1660\",\"type\":\"BasicTickFormatter\"},\"ticker\":{\"id\":\"1620\",\"type\":\"BasicTicker\"}},\"id\":\"1619\",\"type\":\"LinearAxis\"},{\"attributes\":{\"fill_alpha\":{\"value\":0.1},\"fill_color\":{\"value\":\"#1f77b4\"},\"line_alpha\":{\"value\":0.1},\"line_color\":{\"value\":\"#1f77b4\"},\"size\":{\"units\":\"screen\",\"value\":10},\"x\":{\"field\":\"x\"},\"y\":{\"field\":\"y\"}},\"id\":\"1644\",\"type\":\"Diamond\"},{\"attributes\":{\"fill_alpha\":{\"value\":0.8},\"fill_color\":{\"value\":\"green\"},\"line_alpha\":{\"value\":0.8},\"line_color\":{\"value\":\"green\"},\"size\":{\"units\":\"screen\",\"value\":10},\"x\":{\"field\":\"x\"},\"y\":{\"field\":\"y\"}},\"id\":\"1643\",\"type\":\"Diamond\"},{\"attributes\":{\"source\":{\"id\":\"1642\",\"type\":\"ColumnDataSource\"}},\"id\":\"1646\",\"type\":\"CDSView\"},{\"attributes\":{},\"id\":\"1629\",\"type\":\"PanTool\"},{\"attributes\":{},\"id\":\"1661\",\"type\":\"UnionRenderers\"},{\"attributes\":{},\"id\":\"1625\",\"type\":\"BasicTicker\"},{\"attributes\":{},\"id\":\"1615\",\"type\":\"LinearScale\"},{\"attributes\":{\"callback\":null},\"id\":\"1611\",\"type\":\"DataRange1d\"},{\"attributes\":{\"ticker\":{\"id\":\"1620\",\"type\":\"BasicTicker\"}},\"id\":\"1623\",\"type\":\"Grid\"},{\"attributes\":{\"callback\":null,\"data\":{\"x\":[88,90,95,100,105,100,88,100,165,175,153,150,180,170,175,110,72,100,88,86,90,70,76,65,69,60,70],\"y\":[2130,2264,2228,2634,3439,3329,3302,3288,4209,4464,4154,4096,4955,4746,5140,2962,2408,3282,3139,2220,2123,2074,2065,1773,1613,1834,1955]},\"selected\":{\"id\":\"1662\",\"type\":\"Selection\"},\"selection_policy\":{\"id\":\"1661\",\"type\":\"UnionRenderers\"}},\"id\":\"1642\",\"type\":\"ColumnDataSource\"},{\"attributes\":{\"data_source\":{\"id\":\"1642\",\"type\":\"ColumnDataSource\"},\"glyph\":{\"id\":\"1643\",\"type\":\"Diamond\"},\"hover_glyph\":null,\"muted_glyph\":null,\"nonselection_glyph\":{\"id\":\"1644\",\"type\":\"Diamond\"},\"selection_glyph\":null,\"view\":{\"id\":\"1646\",\"type\":\"CDSView\"}},\"id\":\"1645\",\"type\":\"GlyphRenderer\"},{\"attributes\":{\"callback\":null},\"id\":\"1613\",\"type\":\"DataRange1d\"},{\"attributes\":{\"fill_color\":{\"value\":\"firebrick\"},\"left\":90,\"right\":110},\"id\":\"2564\",\"type\":\"BoxAnnotation\"}],\"root_ids\":[\"1608\"]},\"title\":\"Bokeh Application\",\"version\":\"1.3.4\"}};\n",
       "  var render_items = [{\"docid\":\"6e153a52-6675-41ca-9d6c-2c169c76acc2\",\"roots\":{\"1608\":\"de27d4bc-b24b-4536-910d-1bcf19d09b48\"}}];\n",
       "  root.Bokeh.embed.embed_items_notebook(docs_json, render_items);\n",
       "\n",
       "  }\n",
       "  if (root.Bokeh !== undefined) {\n",
       "    embed_document(root);\n",
       "  } else {\n",
       "    var attempts = 0;\n",
       "    var timer = setInterval(function(root) {\n",
       "      if (root.Bokeh !== undefined) {\n",
       "        embed_document(root);\n",
       "        clearInterval(timer);\n",
       "      }\n",
       "      attempts++;\n",
       "      if (attempts > 100) {\n",
       "        console.log(\"Bokeh: ERROR: Unable to run BokehJS code because BokehJS library is missing\");\n",
       "        clearInterval(timer);\n",
       "      }\n",
       "    }, 10, root)\n",
       "  }\n",
       "})(window);"
      ],
      "application/vnd.bokehjs_exec.v0+json": ""
     },
     "metadata": {
      "application/vnd.bokehjs_exec.v0+json": {
       "id": "1608"
      }
     },
     "output_type": "display_data"
    }
   ],
   "source": [
    "from bokeh.models import Span, BoxAnnotation\n",
    "\n",
    "# Adding lines\n",
    "span_v = Span(location = 100, dimension = 'height', line_color = 'gray', line_width = 2.5)\n",
    "span_h = Span(location = 3000, dimension = 'width', line_color = 'gray', line_width = 2.5)\n",
    "\n",
    "f1.add_layout(span_v)\n",
    "f1.add_layout(span_h)\n",
    "f1.plot_height = 200\n",
    "f1.plot_width = 600\n",
    "\n",
    "f1.title.text = 'Ploting annotations'\n",
    "\n",
    "# Creating a box annotation\n",
    "box_annotation = BoxAnnotation(left = 90, right = 110, fill_color = 'firebrick')\n",
    "f1.add_layout(box_annotation)\n",
    "\n",
    "show(f1)"
   ]
  },
  {
   "cell_type": "markdown",
   "metadata": {},
   "source": [
    "## Labels and LabelSets"
   ]
  },
  {
   "cell_type": "code",
   "execution_count": 23,
   "metadata": {},
   "outputs": [],
   "source": [
    "from bokeh.models import Label"
   ]
  },
  {
   "cell_type": "code",
   "execution_count": 75,
   "metadata": {},
   "outputs": [
    {
     "data": {
      "text/html": [
       "\n",
       "\n",
       "\n",
       "\n",
       "\n",
       "\n",
       "  <div class=\"bk-root\" id=\"9aeee037-cc12-4c06-a053-586de83021ec\" data-root-id=\"24657\"></div>\n"
      ]
     },
     "metadata": {},
     "output_type": "display_data"
    },
    {
     "data": {
      "application/javascript": [
       "(function(root) {\n",
       "  function embed_document(root) {\n",
       "    \n",
       "  var docs_json = {\"2431869c-3ee9-4e89-9ced-ae18b2ec550f\":{\"roots\":{\"references\":[{\"attributes\":{\"below\":[{\"id\":\"24666\",\"type\":\"CategoricalAxis\"}],\"center\":[{\"id\":\"24669\",\"type\":\"Grid\"},{\"id\":\"24673\",\"type\":\"Grid\"},{\"id\":\"24687\",\"type\":\"Label\"},{\"id\":\"24688\",\"type\":\"Label\"},{\"id\":\"24719\",\"type\":\"Label\"}],\"left\":[{\"id\":\"24670\",\"type\":\"CategoricalAxis\"}],\"renderers\":[{\"id\":\"24692\",\"type\":\"GlyphRenderer\"},{\"id\":\"24697\",\"type\":\"GlyphRenderer\"},{\"id\":\"24702\",\"type\":\"GlyphRenderer\"},{\"id\":\"24707\",\"type\":\"GlyphRenderer\"},{\"id\":\"24712\",\"type\":\"GlyphRenderer\"},{\"id\":\"24717\",\"type\":\"GlyphRenderer\"}],\"title\":{\"id\":\"25443\",\"type\":\"Title\"},\"toolbar\":{\"id\":\"24680\",\"type\":\"Toolbar\"},\"x_range\":{\"id\":\"24658\",\"type\":\"FactorRange\"},\"x_scale\":{\"id\":\"24662\",\"type\":\"CategoricalScale\"},\"y_range\":{\"id\":\"24660\",\"type\":\"FactorRange\"},\"y_scale\":{\"id\":\"24664\",\"type\":\"CategoricalScale\"}},\"id\":\"24657\",\"subtype\":\"Figure\",\"type\":\"Plot\"},{\"attributes\":{},\"id\":\"24662\",\"type\":\"CategoricalScale\"},{\"attributes\":{\"source\":{\"id\":\"24714\",\"type\":\"ColumnDataSource\"}},\"id\":\"24718\",\"type\":\"CDSView\"},{\"attributes\":{},\"id\":\"24664\",\"type\":\"CategoricalScale\"},{\"attributes\":{\"fill_alpha\":{\"value\":0.1},\"fill_color\":{\"value\":\"#1f77b4\"},\"line_alpha\":{\"value\":0.1},\"line_color\":{\"value\":\"#1f77b4\"},\"line_width\":{\"value\":8},\"size\":{\"units\":\"screen\",\"value\":20},\"x\":{\"field\":\"x\"},\"y\":{\"field\":\"y\"}},\"id\":\"24711\",\"type\":\"Cross\"},{\"attributes\":{},\"id\":\"25451\",\"type\":\"UnionRenderers\"},{\"attributes\":{\"callback\":null,\"factors\":[\"a\",\"b\",\"c\",\"d\",\"e\",\"f\",\"g\",\"h\",\"i\"]},\"id\":\"24658\",\"type\":\"FactorRange\"},{\"attributes\":{\"overlay\":{\"id\":\"25461\",\"type\":\"BoxAnnotation\"}},\"id\":\"24676\",\"type\":\"BoxZoomTool\"},{\"attributes\":{},\"id\":\"24677\",\"type\":\"SaveTool\"},{\"attributes\":{\"data_source\":{\"id\":\"24709\",\"type\":\"ColumnDataSource\"},\"glyph\":{\"id\":\"24710\",\"type\":\"Cross\"},\"hover_glyph\":null,\"muted_glyph\":null,\"nonselection_glyph\":{\"id\":\"24711\",\"type\":\"Cross\"},\"selection_glyph\":null,\"view\":{\"id\":\"24713\",\"type\":\"CDSView\"}},\"id\":\"24712\",\"type\":\"GlyphRenderer\"},{\"attributes\":{\"callback\":null,\"data\":{\"x\":[1,2,3,4,5,6,7,8],\"y\":[2,2,2,2,2,2,2,2]},\"selected\":{\"id\":\"25450\",\"type\":\"Selection\"},\"selection_policy\":{\"id\":\"25449\",\"type\":\"UnionRenderers\"}},\"id\":\"24689\",\"type\":\"ColumnDataSource\"},{\"attributes\":{},\"id\":\"25452\",\"type\":\"Selection\"},{\"attributes\":{\"data_source\":{\"id\":\"24699\",\"type\":\"ColumnDataSource\"},\"glyph\":{\"id\":\"24700\",\"type\":\"InvertedTriangle\"},\"hover_glyph\":null,\"muted_glyph\":null,\"nonselection_glyph\":{\"id\":\"24701\",\"type\":\"InvertedTriangle\"},\"selection_glyph\":null,\"view\":{\"id\":\"24703\",\"type\":\"CDSView\"}},\"id\":\"24702\",\"type\":\"GlyphRenderer\"},{\"attributes\":{\"fill_color\":{\"value\":\"#1f77b4\"},\"line_color\":{\"value\":\"#1f77b4\"},\"line_width\":{\"value\":8},\"size\":{\"units\":\"screen\",\"value\":20},\"x\":{\"field\":\"x\"},\"y\":{\"field\":\"y\"}},\"id\":\"24710\",\"type\":\"Cross\"},{\"attributes\":{},\"id\":\"24678\",\"type\":\"ResetTool\"},{\"attributes\":{},\"id\":\"25453\",\"type\":\"UnionRenderers\"},{\"attributes\":{\"callback\":null,\"data\":{\"x\":[2,7],\"y\":[1,1]},\"selected\":{\"id\":\"25454\",\"type\":\"Selection\"},\"selection_policy\":{\"id\":\"25453\",\"type\":\"UnionRenderers\"}},\"id\":\"24699\",\"type\":\"ColumnDataSource\"},{\"attributes\":{},\"id\":\"24679\",\"type\":\"HelpTool\"},{\"attributes\":{},\"id\":\"25454\",\"type\":\"Selection\"},{\"attributes\":{\"source\":{\"id\":\"24699\",\"type\":\"ColumnDataSource\"}},\"id\":\"24703\",\"type\":\"CDSView\"},{\"attributes\":{\"render_mode\":\"css\",\"text\":\"This a beautifull chess board made with bokeh by Ricci! Checkmate!!!\",\"text_color\":{\"value\":\"red\"},\"x\":4,\"y\":6},\"id\":\"24719\",\"type\":\"Label\"},{\"attributes\":{\"callback\":null,\"factors\":[\"1\",\"2\",\"3\",\"4\",\"5\",\"6\",\"7\",\"8\",\"9\"]},\"id\":\"24660\",\"type\":\"FactorRange\"},{\"attributes\":{\"active_drag\":\"auto\",\"active_inspect\":\"auto\",\"active_multi\":null,\"active_scroll\":\"auto\",\"active_tap\":\"auto\",\"tools\":[{\"id\":\"24674\",\"type\":\"PanTool\"},{\"id\":\"24675\",\"type\":\"WheelZoomTool\"},{\"id\":\"24676\",\"type\":\"BoxZoomTool\"},{\"id\":\"24677\",\"type\":\"SaveTool\"},{\"id\":\"24678\",\"type\":\"ResetTool\"},{\"id\":\"24679\",\"type\":\"HelpTool\"}]},\"id\":\"24680\",\"type\":\"Toolbar\"},{\"attributes\":{},\"id\":\"25455\",\"type\":\"UnionRenderers\"},{\"attributes\":{\"source\":{\"id\":\"24694\",\"type\":\"ColumnDataSource\"}},\"id\":\"24698\",\"type\":\"CDSView\"},{\"attributes\":{\"text\":\"Ka2\",\"x\":2,\"y\":1},\"id\":\"24687\",\"type\":\"Label\"},{\"attributes\":{\"callback\":null,\"data\":{\"x\":[3,6],\"y\":[1,1]},\"selected\":{\"id\":\"25456\",\"type\":\"Selection\"},\"selection_policy\":{\"id\":\"25455\",\"type\":\"UnionRenderers\"}},\"id\":\"24704\",\"type\":\"ColumnDataSource\"},{\"attributes\":{},\"id\":\"25456\",\"type\":\"Selection\"},{\"attributes\":{\"callback\":null,\"data\":{\"x\":[1,8],\"y\":[1,1]},\"selected\":{\"id\":\"25452\",\"type\":\"Selection\"},\"selection_policy\":{\"id\":\"25451\",\"type\":\"UnionRenderers\"}},\"id\":\"24694\",\"type\":\"ColumnDataSource\"},{\"attributes\":{\"fill_alpha\":{\"value\":0.1},\"fill_color\":{\"value\":\"#1f77b4\"},\"height\":{\"units\":\"data\",\"value\":0.2},\"line_alpha\":{\"value\":0.1},\"line_color\":{\"value\":\"#1f77b4\"},\"width\":{\"units\":\"data\",\"value\":0.5},\"x\":{\"field\":\"x\"},\"y\":{\"field\":\"y\"}},\"id\":\"24716\",\"type\":\"Oval\"},{\"attributes\":{},\"id\":\"24667\",\"type\":\"CategoricalTicker\"},{\"attributes\":{},\"id\":\"25457\",\"type\":\"UnionRenderers\"},{\"attributes\":{\"data_source\":{\"id\":\"24714\",\"type\":\"ColumnDataSource\"},\"glyph\":{\"id\":\"24715\",\"type\":\"Oval\"},\"hover_glyph\":null,\"muted_glyph\":null,\"nonselection_glyph\":{\"id\":\"24716\",\"type\":\"Oval\"},\"selection_glyph\":null,\"view\":{\"id\":\"24718\",\"type\":\"CDSView\"}},\"id\":\"24717\",\"type\":\"GlyphRenderer\"},{\"attributes\":{\"fill_color\":{\"value\":\"#1f77b4\"},\"line_color\":{\"value\":\"#1f77b4\"},\"size\":{\"units\":\"screen\",\"value\":20},\"x\":{\"field\":\"x\"},\"y\":{\"field\":\"y\"}},\"id\":\"24705\",\"type\":\"Diamond\"},{\"attributes\":{},\"id\":\"25458\",\"type\":\"Selection\"},{\"attributes\":{\"data_source\":{\"id\":\"24689\",\"type\":\"ColumnDataSource\"},\"glyph\":{\"id\":\"24690\",\"type\":\"Circle\"},\"hover_glyph\":null,\"muted_glyph\":null,\"nonselection_glyph\":{\"id\":\"24691\",\"type\":\"Circle\"},\"selection_glyph\":null,\"view\":{\"id\":\"24693\",\"type\":\"CDSView\"}},\"id\":\"24692\",\"type\":\"GlyphRenderer\"},{\"attributes\":{\"formatter\":{\"id\":\"25446\",\"type\":\"CategoricalTickFormatter\"},\"ticker\":{\"id\":\"24671\",\"type\":\"CategoricalTicker\"}},\"id\":\"24670\",\"type\":\"CategoricalAxis\"},{\"attributes\":{\"text\":\"\"},\"id\":\"25443\",\"type\":\"Title\"},{\"attributes\":{},\"id\":\"25459\",\"type\":\"UnionRenderers\"},{\"attributes\":{\"fill_color\":{\"value\":\"#1f77b4\"},\"line_color\":{\"value\":\"#1f77b4\"},\"size\":{\"units\":\"screen\",\"value\":18},\"x\":{\"field\":\"x\"},\"y\":{\"field\":\"y\"}},\"id\":\"24695\",\"type\":\"Square\"},{\"attributes\":{\"fill_alpha\":{\"value\":0.1},\"fill_color\":{\"value\":\"#1f77b4\"},\"line_alpha\":{\"value\":0.1},\"line_color\":{\"value\":\"#1f77b4\"},\"size\":{\"units\":\"screen\",\"value\":18},\"x\":{\"field\":\"x\"},\"y\":{\"field\":\"y\"}},\"id\":\"24701\",\"type\":\"InvertedTriangle\"},{\"attributes\":{\"text\":\"Queen\",\"x\":5,\"y\":1},\"id\":\"24688\",\"type\":\"Label\"},{\"attributes\":{\"fill_alpha\":{\"value\":0.1},\"fill_color\":{\"value\":\"#1f77b4\"},\"line_alpha\":{\"value\":0.1},\"line_color\":{\"value\":\"#1f77b4\"},\"size\":{\"units\":\"screen\",\"value\":18},\"x\":{\"field\":\"x\"},\"y\":{\"field\":\"y\"}},\"id\":\"24696\",\"type\":\"Square\"},{\"attributes\":{},\"id\":\"25448\",\"type\":\"CategoricalTickFormatter\"},{\"attributes\":{},\"id\":\"25460\",\"type\":\"Selection\"},{\"attributes\":{\"data_source\":{\"id\":\"24694\",\"type\":\"ColumnDataSource\"},\"glyph\":{\"id\":\"24695\",\"type\":\"Square\"},\"hover_glyph\":null,\"muted_glyph\":null,\"nonselection_glyph\":{\"id\":\"24696\",\"type\":\"Square\"},\"selection_glyph\":null,\"view\":{\"id\":\"24698\",\"type\":\"CDSView\"}},\"id\":\"24697\",\"type\":\"GlyphRenderer\"},{\"attributes\":{\"callback\":null,\"data\":{\"x\":[4],\"y\":[1]},\"selected\":{\"id\":\"25458\",\"type\":\"Selection\"},\"selection_policy\":{\"id\":\"25457\",\"type\":\"UnionRenderers\"}},\"id\":\"24709\",\"type\":\"ColumnDataSource\"},{\"attributes\":{\"bottom_units\":\"screen\",\"fill_alpha\":{\"value\":0.5},\"fill_color\":{\"value\":\"lightgrey\"},\"left_units\":\"screen\",\"level\":\"overlay\",\"line_alpha\":{\"value\":1.0},\"line_color\":{\"value\":\"black\"},\"line_dash\":[4,4],\"line_width\":{\"value\":2},\"render_mode\":\"css\",\"right_units\":\"screen\",\"top_units\":\"screen\"},\"id\":\"25461\",\"type\":\"BoxAnnotation\"},{\"attributes\":{},\"id\":\"24675\",\"type\":\"WheelZoomTool\"},{\"attributes\":{\"source\":{\"id\":\"24689\",\"type\":\"ColumnDataSource\"}},\"id\":\"24693\",\"type\":\"CDSView\"},{\"attributes\":{\"fill_alpha\":{\"value\":0.1},\"fill_color\":{\"value\":\"#1f77b4\"},\"line_alpha\":{\"value\":0.1},\"line_color\":{\"value\":\"#1f77b4\"},\"size\":{\"units\":\"screen\",\"value\":20},\"x\":{\"field\":\"x\"},\"y\":{\"field\":\"y\"}},\"id\":\"24706\",\"type\":\"Diamond\"},{\"attributes\":{},\"id\":\"25446\",\"type\":\"CategoricalTickFormatter\"},{\"attributes\":{},\"id\":\"24674\",\"type\":\"PanTool\"},{\"attributes\":{},\"id\":\"25450\",\"type\":\"Selection\"},{\"attributes\":{\"data_source\":{\"id\":\"24704\",\"type\":\"ColumnDataSource\"},\"glyph\":{\"id\":\"24705\",\"type\":\"Diamond\"},\"hover_glyph\":null,\"muted_glyph\":null,\"nonselection_glyph\":{\"id\":\"24706\",\"type\":\"Diamond\"},\"selection_glyph\":null,\"view\":{\"id\":\"24708\",\"type\":\"CDSView\"}},\"id\":\"24707\",\"type\":\"GlyphRenderer\"},{\"attributes\":{\"formatter\":{\"id\":\"25448\",\"type\":\"CategoricalTickFormatter\"},\"ticker\":{\"id\":\"24667\",\"type\":\"CategoricalTicker\"}},\"id\":\"24666\",\"type\":\"CategoricalAxis\"},{\"attributes\":{\"fill_color\":{\"value\":\"#1f77b4\"},\"line_color\":{\"value\":\"#1f77b4\"},\"size\":{\"units\":\"screen\",\"value\":18},\"x\":{\"field\":\"x\"},\"y\":{\"field\":\"y\"}},\"id\":\"24700\",\"type\":\"InvertedTriangle\"},{\"attributes\":{\"fill_color\":{\"value\":\"#1f77b4\"},\"height\":{\"units\":\"data\",\"value\":0.2},\"line_color\":{\"value\":\"#1f77b4\"},\"width\":{\"units\":\"data\",\"value\":0.5},\"x\":{\"field\":\"x\"},\"y\":{\"field\":\"y\"}},\"id\":\"24715\",\"type\":\"Oval\"},{\"attributes\":{\"fill_alpha\":{\"value\":0.1},\"fill_color\":{\"value\":\"#1f77b4\"},\"line_alpha\":{\"value\":0.1},\"line_color\":{\"value\":\"#1f77b4\"},\"size\":{\"units\":\"screen\",\"value\":15},\"x\":{\"field\":\"x\"},\"y\":{\"field\":\"y\"}},\"id\":\"24691\",\"type\":\"Circle\"},{\"attributes\":{\"source\":{\"id\":\"24704\",\"type\":\"ColumnDataSource\"}},\"id\":\"24708\",\"type\":\"CDSView\"},{\"attributes\":{},\"id\":\"24671\",\"type\":\"CategoricalTicker\"},{\"attributes\":{},\"id\":\"25449\",\"type\":\"UnionRenderers\"},{\"attributes\":{\"dimension\":1,\"ticker\":{\"id\":\"24671\",\"type\":\"CategoricalTicker\"}},\"id\":\"24673\",\"type\":\"Grid\"},{\"attributes\":{\"source\":{\"id\":\"24709\",\"type\":\"ColumnDataSource\"}},\"id\":\"24713\",\"type\":\"CDSView\"},{\"attributes\":{\"callback\":null,\"data\":{\"x\":[5],\"y\":[1]},\"selected\":{\"id\":\"25460\",\"type\":\"Selection\"},\"selection_policy\":{\"id\":\"25459\",\"type\":\"UnionRenderers\"}},\"id\":\"24714\",\"type\":\"ColumnDataSource\"},{\"attributes\":{\"ticker\":{\"id\":\"24667\",\"type\":\"CategoricalTicker\"}},\"id\":\"24669\",\"type\":\"Grid\"},{\"attributes\":{\"fill_color\":{\"value\":\"#1f77b4\"},\"line_color\":{\"value\":\"#1f77b4\"},\"size\":{\"units\":\"screen\",\"value\":15},\"x\":{\"field\":\"x\"},\"y\":{\"field\":\"y\"}},\"id\":\"24690\",\"type\":\"Circle\"}],\"root_ids\":[\"24657\"]},\"title\":\"Bokeh Application\",\"version\":\"1.3.4\"}};\n",
       "  var render_items = [{\"docid\":\"2431869c-3ee9-4e89-9ced-ae18b2ec550f\",\"roots\":{\"24657\":\"9aeee037-cc12-4c06-a053-586de83021ec\"}}];\n",
       "  root.Bokeh.embed.embed_items_notebook(docs_json, render_items);\n",
       "\n",
       "  }\n",
       "  if (root.Bokeh !== undefined) {\n",
       "    embed_document(root);\n",
       "  } else {\n",
       "    var attempts = 0;\n",
       "    var timer = setInterval(function(root) {\n",
       "      if (root.Bokeh !== undefined) {\n",
       "        embed_document(root);\n",
       "        clearInterval(timer);\n",
       "      }\n",
       "      attempts++;\n",
       "      if (attempts > 100) {\n",
       "        console.log(\"Bokeh: ERROR: Unable to run BokehJS code because BokehJS library is missing\");\n",
       "        clearInterval(timer);\n",
       "      }\n",
       "    }, 10, root)\n",
       "  }\n",
       "})(window);"
      ],
      "application/vnd.bokehjs_exec.v0+json": ""
     },
     "metadata": {
      "application/vnd.bokehjs_exec.v0+json": {
       "id": "24657"
      }
     },
     "output_type": "display_data"
    }
   ],
   "source": [
    "f = figure(x_range = ['a', 'b', 'c', 'd', 'e', 'f', 'g', 'h', 'i'],\n",
    "           y_range = ['1', '2', '3', '4', '5', '6', '7', '8', '9'])\n",
    "\n",
    "knight = Label(x = 2, y = 1, text = 'Ka2')\n",
    "queen = Label(x = 5, y = 1, text = 'Queen')\n",
    "f.add_layout(knight)\n",
    "f.add_layout(queen)\n",
    "\n",
    "# pawns\n",
    "f.circle(x= range(1, 9), y = [2]*8, size = 15)\n",
    "# rocks\n",
    "f.square(x = [1, 8], y = [1, 1], size = 18)\n",
    "# knights\n",
    "f.inverted_triangle(x = [2,7], y = [1, 1], size = 18)\n",
    "# bishops\n",
    "f.diamond(x = [3, 6], y = [1, 1], size = 20)\n",
    "# king\n",
    "f.cross(x= [4], y = [1], size = 20, line_width = 8)\n",
    "# queen\n",
    "f.oval(x = [5], y = [1], width = 0.5, height = 0.2)\n",
    "\n",
    "# extra annotation\n",
    "f.add_layout(\n",
    "    Label(x = 4, y = 6, \n",
    "          text = 'This a beautifull chess board made with bokeh by Ricci! Checkmate!!!',\n",
    "         render_mode = 'css',\n",
    "         text_color = 'red'\n",
    "         )\n",
    ")\n",
    "\n",
    "show(f)"
   ]
  },
  {
   "cell_type": "markdown",
   "metadata": {},
   "source": [
    "### LabelSets"
   ]
  },
  {
   "cell_type": "code",
   "execution_count": 83,
   "metadata": {},
   "outputs": [],
   "source": [
    "from bokeh.sampledata.periodic_table import elements\n",
    "from bokeh.models import LabelSet"
   ]
  },
  {
   "cell_type": "code",
   "execution_count": 85,
   "metadata": {},
   "outputs": [
    {
     "data": {
      "text/html": [
       "\n",
       "\n",
       "\n",
       "\n",
       "\n",
       "\n",
       "  <div class=\"bk-root\" id=\"a856cc48-060b-4658-b802-489cd5e1c0bd\" data-root-id=\"28244\"></div>\n"
      ]
     },
     "metadata": {},
     "output_type": "display_data"
    },
    {
     "data": {
      "application/javascript": [
       "(function(root) {\n",
       "  function embed_document(root) {\n",
       "    \n",
       "  var docs_json = {\"360be6b0-6be4-4ba0-b01f-9a94475a6285\":{\"roots\":{\"references\":[{\"attributes\":{\"below\":[{\"id\":\"28253\",\"type\":\"LinearAxis\"}],\"center\":[{\"id\":\"28257\",\"type\":\"Grid\"},{\"id\":\"28262\",\"type\":\"Grid\"},{\"id\":\"28283\",\"type\":\"LabelSet\"}],\"left\":[{\"id\":\"28258\",\"type\":\"LinearAxis\"}],\"renderers\":[{\"id\":\"28281\",\"type\":\"GlyphRenderer\"}],\"title\":{\"id\":\"28276\",\"type\":\"Title\"},\"toolbar\":{\"id\":\"28269\",\"type\":\"Toolbar\"},\"x_range\":{\"id\":\"28245\",\"type\":\"DataRange1d\"},\"x_scale\":{\"id\":\"28249\",\"type\":\"LinearScale\"},\"y_range\":{\"id\":\"28247\",\"type\":\"DataRange1d\"},\"y_scale\":{\"id\":\"28251\",\"type\":\"LinearScale\"}},\"id\":\"28244\",\"subtype\":\"Figure\",\"type\":\"Plot\"},{\"attributes\":{\"source\":{\"id\":\"28277\",\"type\":\"ColumnDataSource\"}},\"id\":\"28282\",\"type\":\"CDSView\"},{\"attributes\":{\"fill_color\":{\"value\":\"#1f77b4\"},\"line_color\":{\"value\":\"#1f77b4\"},\"size\":{\"units\":\"screen\",\"value\":8},\"x\":{\"field\":\"atomic radius\"},\"y\":{\"field\":\"electronegativity\"}},\"id\":\"28279\",\"type\":\"Scatter\"},{\"attributes\":{},\"id\":\"28267\",\"type\":\"ResetTool\"},{\"attributes\":{\"callback\":null},\"id\":\"28247\",\"type\":\"DataRange1d\"},{\"attributes\":{\"overlay\":{\"id\":\"29062\",\"type\":\"BoxAnnotation\"}},\"id\":\"28265\",\"type\":\"BoxZoomTool\"},{\"attributes\":{\"active_drag\":\"auto\",\"active_inspect\":\"auto\",\"active_multi\":null,\"active_scroll\":\"auto\",\"active_tap\":\"auto\",\"tools\":[{\"id\":\"28263\",\"type\":\"PanTool\"},{\"id\":\"28264\",\"type\":\"WheelZoomTool\"},{\"id\":\"28265\",\"type\":\"BoxZoomTool\"},{\"id\":\"28266\",\"type\":\"SaveTool\"},{\"id\":\"28267\",\"type\":\"ResetTool\"},{\"id\":\"28268\",\"type\":\"HelpTool\"}]},\"id\":\"28269\",\"type\":\"Toolbar\"},{\"attributes\":{},\"id\":\"29059\",\"type\":\"BasicTickFormatter\"},{\"attributes\":{\"data_source\":{\"id\":\"28277\",\"type\":\"ColumnDataSource\"},\"glyph\":{\"id\":\"28279\",\"type\":\"Scatter\"},\"hover_glyph\":null,\"muted_glyph\":null,\"nonselection_glyph\":{\"id\":\"28280\",\"type\":\"Scatter\"},\"selection_glyph\":null,\"view\":{\"id\":\"28282\",\"type\":\"CDSView\"}},\"id\":\"28281\",\"type\":\"GlyphRenderer\"},{\"attributes\":{\"ticker\":{\"id\":\"28254\",\"type\":\"BasicTicker\"}},\"id\":\"28257\",\"type\":\"Grid\"},{\"attributes\":{\"source\":{\"id\":\"28277\",\"type\":\"ColumnDataSource\"},\"text\":{\"field\":\"symbol\"},\"x\":{\"field\":\"atomic radius\"},\"y\":{\"field\":\"electronegativity\"}},\"id\":\"28283\",\"type\":\"LabelSet\"},{\"attributes\":{},\"id\":\"29057\",\"type\":\"BasicTickFormatter\"},{\"attributes\":{},\"id\":\"28263\",\"type\":\"PanTool\"},{\"attributes\":{\"bottom_units\":\"screen\",\"fill_alpha\":{\"value\":0.5},\"fill_color\":{\"value\":\"lightgrey\"},\"left_units\":\"screen\",\"level\":\"overlay\",\"line_alpha\":{\"value\":1.0},\"line_color\":{\"value\":\"black\"},\"line_dash\":[4,4],\"line_width\":{\"value\":2},\"render_mode\":\"css\",\"right_units\":\"screen\",\"top_units\":\"screen\"},\"id\":\"29062\",\"type\":\"BoxAnnotation\"},{\"attributes\":{\"dimension\":1,\"ticker\":{\"id\":\"28259\",\"type\":\"BasicTicker\"}},\"id\":\"28262\",\"type\":\"Grid\"},{\"attributes\":{\"fill_alpha\":{\"value\":0.1},\"fill_color\":{\"value\":\"#1f77b4\"},\"line_alpha\":{\"value\":0.1},\"line_color\":{\"value\":\"#1f77b4\"},\"size\":{\"units\":\"screen\",\"value\":8},\"x\":{\"field\":\"atomic radius\"},\"y\":{\"field\":\"electronegativity\"}},\"id\":\"28280\",\"type\":\"Scatter\"},{\"attributes\":{\"callback\":null,\"data\":{\"CPK\":[\"#FFFFFF\",\"#D9FFFF\",\"#CC80FF\",\"#C2FF00\",\"#FFB5B5\",\"#909090\",\"#3050F8\",\"#FF0D0D\",\"#90E050\",\"#B3E3F5\",\"#AB5CF2\",\"#8AFF00\",\"#BFA6A6\",\"#F0C8A0\",\"#FF8000\",\"#FFFF30\",\"#1FF01F\",\"#80D1E3\",\"#8F40D4\",\"#3DFF00\",\"#E6E6E6\",\"#BFC2C7\",\"#A6A6AB\",\"#8A99C7\",\"#9C7AC7\",\"#E06633\",\"#F090A0\",\"#50D050\",\"#C88033\",\"#7D80B0\",\"#C28F8F\",\"#668F8F\",\"#BD80E3\",\"#FFA100\",\"#A62929\",\"#5CB8D1\",\"#702EB0\",\"#00FF00\",\"#94FFFF\",\"#94E0E0\",\"#73C2C9\",\"#54B5B5\",\"#3B9E9E\",\"#248F8F\",\"#0A7D8C\",\"#006985\",\"#C0C0C0\",\"#FFD98F\",\"#A67573\",\"#668080\",\"#9E63B5\",\"#D47A00\",\"#940094\",\"#429EB0\",\"#57178F\",\"#00C900\",\"#70D4FF\",\"#FFFFC7\",\"#D9FFC7\",\"#C7FFC7\",\"#A3FFC7\",\"#8FFFC7\",\"#61FFC7\",\"#45FFC7\",\"#30FFC7\",\"#1FFFC7\",\"#00FF9C\",\"#00E675\",\"#00D452\",\"#00BF38\",\"#00AB24\",\"#4DC2FF\",\"#4DA6FF\",\"#2194D6\",\"#267DAB\",\"#266696\",\"#175487\",\"#D0D0E0\",\"#FFD123\",\"#B8B8D0\",\"#A6544D\",\"#575961\",\"#9E4FB5\",\"#AB5C00\",\"#754F45\",\"#428296\",\"#420066\",\"#007D00\",\"#70ABFA\",\"#00BAFF\",\"#00A1FF\",\"#008FFF\",\"#0080FF\",\"#006BFF\",\"#545CF2\",\"#785CE3\",\"#8A4FE3\",\"#A136D4\",\"#B31FD4\",\"#B31FBA\",\"#B30DA6\",\"#BD0D87\",\"#C70066\",\"#CC0059\",\"#D1004F\",\"#D90045\",\"#E00038\",\"#E6002E\",\"#EB0026\",\"#FF1493\",\"#FF1493\",\"#FF1493\",\"#FF1493\",\"#FF1493\",\"#FF1493\",\"#FF1493\",\"#FF1493\",\"#FF1493\"],\"EA\":{\"__ndarray__\":\"AAAAAABAUsAAAAAAAAAAAAAAAAAAAE7AAAAAAAAAAAAAAAAAAAA7wAAAAAAAQGPAAAAAAAAAHMAAAAAAAKBhwAAAAAAAgHTAAAAAAAAAAAAAAAAAAIBKwAAAAAAAAAAAAAAAAACARcAAAAAAAMBgwAAAAAAAAFLAAAAAAAAAacAAAAAAANB1wAAAAAAAAAAAAAAAAAAASMAAAAAAAAAAwAAAAAAAADLAAAAAAAAAIMAAAAAAAIBJwAAAAAAAAFDAAAAAAAAAAAAAAAAAAAAwwAAAAAAAAFDAAAAAAAAAXMAAAAAAAIBdwAAAAAAAAAAAAAAAAAAAPcAAAAAAAMBdwAAAAAAAgFPAAAAAAABgaMAAAAAAAFB0wAAAAAAAAAAAAAAAAACAR8AAAAAAAAAUwAAAAAAAAD7AAAAAAACARMAAAAAAAIBVwAAAAAAAAFLAAAAAAACASsAAAAAAAEBZwAAAAAAAgFvAAAAAAAAAS8AAAAAAAIBfwAAAAAAAAAAAAAAAAAAAPcAAAAAAAMBawAAAAAAAwFnAAAAAAADAZ8AAAAAAAHBywAAAAAAAAAAAAAAAAAAAR8AAAAAAAAAswAAAAAAAAEjAAAAAAAAAScAAAAAAAABJwAAAAAAAAEnAAAAAAAAAScAAAAAAAABJwAAAAAAAAEnAAAAAAAAAScAAAAAAAABJwAAAAAAAAEnAAAAAAAAAScAAAAAAAABJwAAAAAAAAEnAAAAAAAAAScAAAAAAAABJwAAAAAAAAAAAAAAAAAAAP8AAAAAAAMBTwAAAAAAAAC7AAAAAAACAWsAAAAAAAOBiwAAAAAAAoGnAAAAAAADga8AAAAAAAAAAAAAAAAAAADPAAAAAAACAQcAAAAAAAMBWwAAAAAAA4GbAAAAAAADgcMAAAAAAAAD4fwAAAAAAAPh/AAAAAAAA+H8AAAAAAAD4fwAAAAAAAPh/AAAAAAAA+H8AAAAAAAD4fwAAAAAAAPh/AAAAAAAA+H8AAAAAAAD4fwAAAAAAAPh/AAAAAAAA+H8AAAAAAAD4fwAAAAAAAPh/AAAAAAAA+H8AAAAAAAD4fwAAAAAAAPh/AAAAAAAA+H8AAAAAAAD4fwAAAAAAAPh/AAAAAAAA+H8AAAAAAAD4fwAAAAAAAPh/AAAAAAAA+H8AAAAAAAD4fwAAAAAAAPh/AAAAAAAA+H8AAAAAAAD4fwAAAAAAAPh/AAAAAAAA+H8AAAAAAAD4fwAAAAAAAPh/AAAAAAAA+H8=\",\"dtype\":\"float64\",\"shape\":[118]},\"IE-1\":{\"__ndarray__\":\"AAAAAACAlEAAAAAAAIiiQAAAAAAAQIBAAAAAAAAgjEAAAAAAAAiJQAAAAAAA/JBAAAAAAADolUAAAAAAAIiUQAAAAAAARJpAAAAAAABCoEAAAAAAAAB/QAAAAAAAEIdAAAAAAAAQgkAAAAAAAJiIQAAAAAAAoI9AAAAAAABAj0AAAAAAAIyTQAAAAAAAxJdAAAAAAAAwekAAAAAAAHCCQAAAAAAAyINAAAAAAACYhEAAAAAAAFiEQAAAAAAAaIRAAAAAAABohkAAAAAAANiHQAAAAAAAwIdAAAAAAAAIh0AAAAAAAFCHQAAAAAAAUIxAAAAAAAAYgkAAAAAAANCHQAAAAAAAmI1AAAAAAABojUAAAAAAANCRQAAAAAAAHJVAAAAAAAAweUAAAAAAADCBQAAAAAAAwIJAAAAAAAAAhEAAAAAAAGCEQAAAAAAAYIVAAAAAAADwhUAAAAAAADCGQAAAAAAAgIZAAAAAAAAgiUAAAAAAANiGQAAAAAAAIItAAAAAAABwgUAAAAAAACiGQAAAAAAAEIpAAAAAAAAoi0AAAAAAAICPQAAAAAAASJJAAAAAAACAd0AAAAAAAHB/QAAAAAAA0IBAAAAAAACwgEAAAAAAAHiAQAAAAAAAqIBAAAAAAADggEAAAAAAAAiBQAAAAAAAGIFAAAAAAACIgkAAAAAAALCBQAAAAAAA6IFAAAAAAAAogkAAAAAAAGiCQAAAAAAAqIJAAAAAAADYgkAAAAAAAGCAQAAAAAAAmIRAAAAAAADIh0AAAAAAABCIQAAAAAAAwIdAAAAAAABAikAAAAAAAICLQAAAAAAAMItAAAAAAADQi0AAAAAAAHiPQAAAAAAAaIJAAAAAAABghkAAAAAAAPiFQAAAAAAAYIlAAAAAAADAjEAAAAAAADSQQAAAAAAAwHdAAAAAAADQf0AAAAAAADB/QAAAAAAAWIJAAAAAAADAgUAAAAAAALCCQAAAAAAA6IJAAAAAAABIgkAAAAAAABCCQAAAAAAAKIJAAAAAAADIgkAAAAAAAACDQAAAAAAAWINAAAAAAACYg0AAAAAAANiDQAAAAAAAEIRAAAAAAAAA+H8AAAAAAAD4fwAAAAAAAPh/AAAAAAAA+H8AAAAAAAD4fwAAAAAAAPh/AAAAAAAA+H8AAAAAAAD4fwAAAAAAAPh/AAAAAAAA+H8AAAAAAAD4fwAAAAAAAPh/AAAAAAAA+H8AAAAAAAD4fwAAAAAAAPh/AAAAAAAA+H8=\",\"dtype\":\"float64\",\"shape\":[118]},\"atomic mass\":[\"1.00794\",\"4.002602\",\"6.941\",\"9.012182\",\"10.811\",\"12.0107\",\"14.0067\",\"15.9994\",\"18.9984032\",\"20.1797\",\"22.98976928\",\"24.3050\",\"26.9815386\",\"28.0855\",\"30.973762\",\"32.065\",\"35.453\",\"39.948\",\"39.0983\",\"40.078\",\"44.955912\",\"47.867\",\"50.9415\",\"51.9961\",\"54.938045\",\"55.845\",\"58.933195\",\"58.6934\",\"63.546\",\"65.38\",\"69.723\",\"72.64\",\"74.92160\",\"78.96\",\"79.904\",\"83.798\",\"85.4678\",\"87.62\",\"88.90585\",\"91.224\",\"92.90638\",\"95.96\",\"[98]\",\"101.07\",\"102.90550\",\"106.42\",\"107.8682\",\"112.411\",\"114.818\",\"118.710\",\"121.760\",\"127.60\",\"126.90447\",\"131.293\",\"132.9054519\",\"137.327\",\"138.90547\",\"140.116\",\"140.90765\",\"144.242\",\"[145]\",\"150.36\",\"151.964\",\"157.25\",\"158.92535\",\"162.500\",\"164.93032\",\"167.259\",\"168.93421\",\"173.054\",\"174.9668\",\"178.49\",\"180.94788\",\"183.84\",\"186.207\",\"190.23\",\"192.217\",\"195.084\",\"196.966569\",\"200.59\",\"204.3833\",\"207.2\",\"208.98040\",\"[209]\",\"[210]\",\"[222]\",\"[223]\",\"[226]\",\"[227]\",\"232.03806\",\"231.03588\",\"238.02891\",\"[237]\",\"[244]\",\"[243]\",\"[247]\",\"[247]\",\"[251]\",\"[252]\",\"[257]\",\"[258]\",\"[259]\",\"[262]\",\"[267]\",\"[268]\",\"[271]\",\"[272]\",\"[270]\",\"[276]\",\"[281]\",\"[280]\",\"[285]\",\"[284]\",\"[289]\",\"[288]\",\"[293]\",\"[294]\",\"[294]\"],\"atomic number\":[1,2,3,4,5,6,7,8,9,10,11,12,13,14,15,16,17,18,19,20,21,22,23,24,25,26,27,28,29,30,31,32,33,34,35,36,37,38,39,40,41,42,43,44,45,46,47,48,49,50,51,52,53,54,55,56,57,58,59,60,61,62,63,64,65,66,67,68,69,70,71,72,73,74,75,76,77,78,79,80,81,82,83,84,85,86,87,88,89,90,91,92,93,94,95,96,97,98,99,100,101,102,103,104,105,106,107,108,109,110,111,112,113,114,115,116,117,118],\"atomic radius\":{\"__ndarray__\":\"AAAAAACAQkAAAAAAAABAQAAAAAAAwGBAAAAAAACAVkAAAAAAAIBUQAAAAAAAQFNAAAAAAADAUkAAAAAAAEBSQAAAAAAAwFFAAAAAAABAUUAAAAAAAEBjQAAAAAAAQGBAAAAAAACAXUAAAAAAAMBbQAAAAAAAgFpAAAAAAACAWUAAAAAAAMBYQAAAAAAAQFhAAAAAAACAaEAAAAAAAMBlQAAAAAAAAGJAAAAAAAAAYUAAAAAAAEBfQAAAAAAAwF9AAAAAAABgYUAAAAAAAEBfQAAAAAAAgF9AAAAAAABAXkAAAAAAAEBhQAAAAAAAYGBAAAAAAACAX0AAAAAAAIBeQAAAAAAAwF1AAAAAAAAAXUAAAAAAAIBcQAAAAAAAgFtAAAAAAABgakAAAAAAAABoQAAAAAAAQGRAAAAAAACAYkAAAAAAACBhQAAAAAAAIGJAAAAAAACAY0AAAAAAAIBfQAAAAAAA4GBAAAAAAABgYEAAAAAAACBjQAAAAAAAgGJAAAAAAAAAYkAAAAAAAKBhQAAAAAAAQGFAAAAAAADgYEAAAAAAAKBgQAAAAAAAQGBAAAAAAAAgbEAAAAAAAMBoQAAAAAAAIGVAAAAAAAAA+H8AAAAAAAD4fwAAAAAAAPh/AAAAAAAA+H8AAAAAAAD4fwAAAAAAAPh/AAAAAAAA+H8AAAAAAAD4fwAAAAAAAPh/AAAAAAAA+H8AAAAAAAD4fwAAAAAAAPh/AAAAAAAA+H8AAAAAAABkQAAAAAAAwGJAAAAAAABAYUAAAAAAAEBiQAAAAAAA4GNAAAAAAAAAYEAAAAAAACBhQAAAAAAAAGBAAAAAAAAAYkAAAAAAAKBiQAAAAAAAgGJAAAAAAABgYkAAAAAAAEBiQAAAAAAAAPh/AAAAAAAA+H8AAAAAACBiQAAAAAAAAPh/AAAAAAAA+H8AAAAAAAD4fwAAAAAAAPh/AAAAAAAA+H8AAAAAAAD4fwAAAAAAAPh/AAAAAAAA+H8AAAAAAAD4fwAAAAAAAPh/AAAAAAAA+H8AAAAAAAD4fwAAAAAAAPh/AAAAAAAA+H8AAAAAAAD4fwAAAAAAAPh/AAAAAAAA+H8AAAAAAAD4fwAAAAAAAPh/AAAAAAAA+H8AAAAAAAD4fwAAAAAAAPh/AAAAAAAA+H8AAAAAAAD4fwAAAAAAAPh/AAAAAAAA+H8AAAAAAAD4fwAAAAAAAPh/AAAAAAAA+H8AAAAAAAD4fwAAAAAAAPh/AAAAAAAA+H8=\",\"dtype\":\"float64\",\"shape\":[118]},\"boiling point\":{\"__ndarray__\":\"AAAAAAAANEAAAAAAAAAQQAAAAAAAPJlAAAAAAABupUAAAAAAALGwQAAAAAAAzLBAAAAAAABAU0AAAAAAAIBWQAAAAAAAQFVAAAAAAAAAO0AAAAAAABCSQAAAAAAATJVAAAAAAADQpUAAAAAAAMqoQAAAAAAAUIFAAAAAAABwhkAAAAAAAOBtQAAAAAAAwFVAAAAAAAAgkEAAAAAAAHSbQAAAAAAAPqhAAAAAAADQq0AAAAAAAMCsQAAAAAAAAKdAAAAAAAA8okAAAAAAAHyoQAAAAAAAAKlAAAAAAADkqEAAAAAAAACpQAAAAAAAcJJAAAAAAABao0AAAAAAACqoQAAAAAAAuItAAAAAAADwjUAAAAAAAMB0QAAAAAAAAF5AAAAAAAAIjkAAAAAAANyZQAAAAAAARKxAAAAAAABKskAAAAAAAJmzQAAAAAAAMLNAAAAAAAC6sUAAAAAAAEexQAAAAAAAAK9AAAAAAABIqUAAAAAAAAajQAAAAAAAQJBAAAAAAABSokAAAAAAAHamQAAAAAAAEJ1AAAAAAAC0k0AAAAAAAJB8QAAAAAAAoGRAAAAAAACAjUAAAAAAAL6gQAAAAAAAMq1AAAAAAABirEAAAAAAANarQAAAAAAAWqpAAAAAAACSqUAAAAAAADigQAAAAAAAIJxAAAAAAACGq0AAAAAAAF6rQAAAAAAAMKZAAAAAAAA6p0AAAAAAAIqoQAAAAAAAXqFAAAAAAAD0lkAAAAAAALasQAAAAAAADLNAAAAAAABjtkAAAAAAAMS2QAAAAAAA7bZAAAAAAACltEAAAAAAAF2yQAAAAAAAArBAAAAAAAByqEAAAAAAALCDQAAAAAAASJtAAAAAAACYn0AAAAAAALScQAAAAAAATJNAAAAAAAAA+H8AAAAAAGBqQAAAAAAAAPh/AAAAAABon0AAAAAAACKrQAAAAAAA5bNAAAAAAACxsEAAAAAAAGiwQAAAAAAAsbBAAAAAAABeq0AAAAAAANihQAAAAAAAbqpAAAAAAAAA+H8AAAAAAAD4fwAAAAAAAPh/AAAAAAAA+H8AAAAAAAD4fwAAAAAAAPh/AAAAAAAA+H8AAAAAAAD4fwAAAAAAAPh/AAAAAAAA+H8AAAAAAAD4fwAAAAAAAPh/AAAAAAAA+H8AAAAAAAD4fwAAAAAAAPh/AAAAAAAA+H8AAAAAAAD4fwAAAAAAAPh/AAAAAAAA+H8AAAAAAAD4fwAAAAAAAPh/AAAAAAAA+H8=\",\"dtype\":\"float64\",\"shape\":[118]},\"bonding type\":[\"diatomic\",\"atomic\",\"metallic\",\"metallic\",\"covalent network\",\"covalent network\",\"diatomic\",\"diatomic\",\"atomic\",\"atomic\",\"metallic\",\"metallic\",\"metallic\",\"metallic\",\"covalent network\",\"covalent network\",\"covalent network\",\"atomic\",\"metallic\",\"metallic\",\"metallic\",\"metallic\",\"metallic\",\"metallic\",\"metallic\",\"metallic\",\"metallic\",\"metallic\",\"metallic\",\"metallic\",\"metallic\",\"metallic\",\"metallic\",\"metallic\",\"covalent network\",\"atomic\",\"metallic\",\"metallic\",\"metallic\",\"metallic\",\"metallic\",\"metallic\",\"metallic\",\"metallic\",\"metallic\",\"metallic\",\"metallic\",\"metallic\",\"metallic\",\"metallic\",\"metallic\",\"metallic\",\"covalent network\",\"atomic\",\"metallic\",\"metallic\",\"metallic\",\"metallic\",\"metallic\",\"metallic\",\"metallic\",\"metallic\",\"metallic\",\"metallic\",\"metallic\",\"metallic\",\"metallic\",\"metallic\",\"metallic\",\"metallic\",\"metallic\",\"metallic\",\"metallic\",\"metallic\",\"metallic\",\"metallic\",\"metallic\",\"metallic\",\"metallic\",\"metallic\",\"metallic\",\"metallic\",\"metallic\",\"metallic\",\"covalent network\",\"atomic\",\"metallic\",\"metallic\",\"metallic\",\"metallic\",\"metallic\",\"metallic\",\"metallic\",\"metallic\",\"metallic\",\"metallic\",\"metallic\",\"metallic\",\"NaN\",\"NaN\",\"NaN\",\"NaN\",\"NaN\",\"NaN\",\"NaN\",\"NaN\",\"NaN\",\"NaN\",\"NaN\",\"NaN\",\"NaN\",\"NaN\",\"NaN\",\"NaN\",\"NaN\",\"NaN\",\"NaN\",\"NaN\"],\"density\":{\"__ndarray__\":\"4yZZPRaRFz8AAAAAAAAAAEjhehSuR+E/mpmZmZmZ/T+uR+F6FK4DQBSuR+F6FAJAAAAAAAAAAAAAAAAAAAAAAAAAAAAAAAAAAAAAAAAAAAAK16NwPQrvP9ejcD0K1/s/mpmZmZmZBUCkcD0K16MCQB+F61G4Hv0/XI/C9Shc/z8AAAAAAAAAAAAAAAAAAAAAhetRuB6F6z/NzMzMzMz4P+xRuB6F6wdACtejcD0KEkBxPQrXo3AYQI/C9ShcjxxA4XoUrkfhHUB7FK5H4XofQM3MzMzMzCFAUrgehevRIUDXo3A9CtchQI/C9ShcjxxAmpmZmZmZF0BI4XoUrkcVQOxRuB6F6xZASOF6FK5HE0D2KFyPwvUIQAAAAAAAAAAAexSuR+F6+D8K16NwPQoFQOF6FK5H4RFACtejcD0KGkCkcD0K1yMhQI/C9ShcjyRAAAAAAAAAJ0A9CtejcL0oQGZmZmZm5ihACtejcD0KKEB7FK5H4fokQM3MzMzMTCFAPQrXo3A9HUA9CtejcD0dQM3MzMzMzBpA9ihcj8L1GEDD9Shcj8ITQHsUrkfheoQ/FK5H4XoU/j8UrkfhehQMQJqZmZmZmRhAw/UoXI/CGkCPwvUoXI8aQArXo3A9ChxACtejcD0KHUBmZmZmZmYdQPYoXI/C9RRAmpmZmZmZH0BxPQrXo3AgQJqZmZmZGSFAmpmZmZmZIUCkcD0K1yMiQKRwPQrXoyJASOF6FK5HGkCuR+F6FK4jQB+F61G4nipAZmZmZmamMEAAAAAAAEAzQIXrUbgeBTVA16NwPQqXNkCPwvUoXI82QNejcD0KFzVAzczMzMxMM0CPwvUoXA8rQDMzMzMzsydArkfhehSuJkCPwvUoXI8jQGZmZmZmZiJAAAAAAAAA+H97FK5H4XqEPwAAAAAAAPh/AAAAAAAAFECkcD0K1yMkQHE9CtejcCdAPQrXo3C9LkDNzMzMzAwzQDMzMzMzczRAUrgehevRM0DXo3A9ClcrQIXrUbgeBStAj8L1KFyPLUAzMzMzMzMuQAAAAAAAAPh/AAAAAAAA+H8AAAAAAAD4fwAAAAAAAPh/AAAAAAAA+H8AAAAAAAD4fwAAAAAAAPh/AAAAAAAA+H8AAAAAAAD4fwAAAAAAAPh/AAAAAAAA+H8AAAAAAAD4fwAAAAAAAPh/AAAAAAAA+H8AAAAAAAD4fwAAAAAAAPh/AAAAAAAA+H8AAAAAAAD4fwAAAAAAAPh/AAAAAAAA+H8=\",\"dtype\":\"float64\",\"shape\":[118]},\"electronegativity\":{\"__ndarray__\":\"mpmZmZmZAUAAAAAAAAD4f1yPwvUoXO8/H4XrUbge+T9SuB6F61EAQGZmZmZmZgRAUrgehetRCECF61G4HoULQNejcD0K1w9AAAAAAAAA+H/D9Shcj8LtP/YoXI/C9fQ/w/UoXI/C+T9mZmZmZmb+P4XrUbgehQFApHA9CtejBEBI4XoUrkcJQAAAAAAAAPh/PQrXo3A96j8AAAAAAADwP8P1KFyPwvU/pHA9Ctej+D8UrkfhehT6P4/C9Shcj/o/zczMzMzM+D9I4XoUrkf9PxSuR+F6FP4/j8L1KFyP/j9mZmZmZmb+P2ZmZmZmZvo/9ihcj8L1/D8UrkfhehQAQHE9CtejcAFAZmZmZmZmBECuR+F6FK4HQAAAAAAAAPh/PQrXo3A96j9mZmZmZmbuP4XrUbgehfM/SOF6FK5H9T+amZmZmZn5P0jhehSuRwFAZmZmZmZm/j+amZmZmZkBQD0K16NwPQJAmpmZmZmZAUDhehSuR+H+PwrXo3A9Cvs/exSuR+F6/D9cj8L1KFz/P2ZmZmZmZgBAzczMzMzMAEBI4XoUrkcFQAAAAAAAAPh/SOF6FK5H6T97FK5H4XrsP5qZmZmZmfE/7FG4HoXr8T8UrkfhehTyPz0K16NwPfI/FK5H4XoU8j+4HoXrUbjyPzMzMzMzM/M/MzMzMzMz8z8zMzMzMzPzP4XrUbgehfM/rkfhehSu8z/Xo3A9CtfzPwAAAAAAAPQ/mpmZmZmZ8T9SuB6F61H0P83MzMzMzPQ/AAAAAAAA+D/hehSuR+ECQGZmZmZmZv4/mpmZmZmZAUCamZmZmZkBQD0K16NwPQJAUrgehetRBEAAAAAAAAAAQFK4HoXrUQBApHA9CtejAkApXI/C9SgAQAAAAAAAAABAmpmZmZmZAUAAAAAAAAD4f2ZmZmZmZuY/zczMzMzM7D+amZmZmZnxP83MzMzMzPQ/AAAAAAAA+D8UrkfhehT2P8P1KFyPwvU/exSuR+F69D/NzMzMzMz0P83MzMzMzPQ/zczMzMzM9D/NzMzMzMz0P83MzMzMzPQ/zczMzMzM9D/NzMzMzMz0P83MzMzMzPQ/zczMzMzM9D8AAAAAAAD4fwAAAAAAAPh/AAAAAAAA+H8AAAAAAAD4fwAAAAAAAPh/AAAAAAAA+H8AAAAAAAD4fwAAAAAAAPh/AAAAAAAA+H8AAAAAAAD4fwAAAAAAAPh/AAAAAAAA+H8AAAAAAAD4fwAAAAAAAPh/AAAAAAAA+H8=\",\"dtype\":\"float64\",\"shape\":[118]},\"electronic configuration\":[\"1s1\",\"1s2\",\"[He] 2s1\",\"[He] 2s2\",\"[He] 2s2 2p1\",\"[He] 2s2 2p2\",\"[He] 2s2 2p3\",\"[He] 2s2 2p4\",\"[He] 2s2 2p5\",\"[He] 2s2 2p6\",\"[Ne] 3s1\",\"[Ne] 3s2\",\"[Ne] 3s2 3p1\",\"[Ne] 3s2 3p2\",\"[Ne] 3s2 3p3\",\"[Ne] 3s2 3p4\",\"[Ne] 3s2 3p5\",\"[Ne] 3s2 3p6\",\"[Ar] 4s1\",\"[Ar] 4s2\",\"[Ar] 3d1 4s2\",\"[Ar] 3d2 4s2\",\"[Ar] 3d3 4s2\",\"[Ar] 3d5 4s1\",\"[Ar] 3d5 4s2\",\"[Ar] 3d6 4s2\",\"[Ar] 3d7 4s2\",\"[Ar] 3d8 4s2\",\"[Ar] 3d10 4s1\",\"[Ar] 3d10 4s2\",\"[Ar] 3d10 4s2 4p1\",\"[Ar] 3d10 4s2 4p2\",\"[Ar] 3d10 4s2 4p3\",\"[Ar] 3d10 4s2 4p4\",\"[Ar] 3d10 4s2 4p5\",\"[Ar] 3d10 4s2 4p6\",\"[Kr] 5s1\",\"[Kr] 5s2\",\"[Kr] 4d1 5s2\",\"[Kr] 4d2 5s2\",\"[Kr] 4d4 5s1\",\"[Kr] 4d5 5s1\",\"[Kr] 4d5 5s2\",\"[Kr] 4d7 5s1\",\"[Kr] 4d8 5s1\",\"[Kr] 4d10\",\"[Kr] 4d10 5s1\",\"[Kr] 4d10 5s2\",\"[Kr] 4d10 5s2 5p1\",\"[Kr] 4d10 5s2 5p2\",\"[Kr] 4d10 5s2 5p3\",\"[Kr] 4d10 5s2 5p4\",\"[Kr] 4d10 5s2 5p5\",\"[Kr] 4d10 5s2 5p6\",\"[Xe] 6s1\",\"[Xe] 6s2\",\"[Xe] 5d1 6s2\",\"[Xe] 4f1 5d1 6s2\",\"[Xe] 4f3 6s2\",\"[Xe] 4f4 6s2\",\"[Xe] 4f5 6s2\",\"[Xe] 4f6 6s2\",\"[Xe] 4f7 6s2\",\"[Xe] 4f7 5d1 6s2\",\"[Xe] 4f9 6s2\",\"[Xe] 4f10 6s2\",\"[Xe] 4f11 6s2\",\"[Xe] 4f12 6s2\",\"[Xe] 4f13 6s2\",\"[Xe] 4f14 6s2\",\"[Xe] 4f14 5d1 6s2\",\"[Xe] 4f14 5d2 6s2\",\"[Xe] 4f14 5d3 6s2\",\"[Xe] 4f14 5d4 6s2\",\"[Xe] 4f14 5d5 6s2\",\"[Xe] 4f14 5d6 6s2\",\"[Xe] 4f14 5d7 6s2\",\"[Xe] 4f14 5d9 6s1\",\"[Xe] 4f14 5d10 6s1\",\"[Xe] 4f14 5d10 6s2\",\"[Xe] 4f14 5d10 6s2 6p1\",\"[Xe] 4f14 5d10 6s2 6p2\",\"[Xe] 4f14 5d10 6s2 6p3\",\"[Xe] 4f14 5d10 6s2 6p4\",\"[Xe] 4f14 5d10 6s2 6p5\",\"[Xe] 4f14 5d10 6s2 6p6\",\"[Rn] 7s1\",\"[Rn] 7s2\",\"[Rn] 6d1 7s2\",\"[Rn] 6d2 7s2\",\"[Rn] 5f2 6d1 7s2\",\"[Rn] 5f3 6d1 7s2\",\"[Rn] 5f4 6d1 7s2\",\"[Rn] 5f6 7s2\",\"[Rn] 5f7 7s2\",\"[Rn] 5f7 6d1 7s2\",\"[Rn] 5f9 7s2\",\"[Rn] 5f10 7s2\",\"[Rn] 5f11 7s2\",\"[Rn] 5f12 7s2\",\"[Rn] 5f13 7s2\",\"[Rn] 5f14 7s2\",\"[Rn] 5f14 7s2 7p1\",\"[Rn] 5f14 6d2 7s2\",\"[Rn].5f14.6d3.7s2\",\"[Rn].5f14.6d4.7s2\",\"[Rn].5f14.6d5.7s2\",\"[Rn].5f14.6d6.7s2\",\"[Rn].5f14.6d7.7s2\",\"[Rn].5f14.6d9.7s1\",\"[Rn].5f14.6d10.7s1\",\"[Rn].5f14.6d10.7s2\",\"[Rn].5f14.6d10.7s2.7p1\",\"[Rn].5f14.6d10.7s2.7p2\",\"[Rn].5f14.6d10.7s2.7p3\",\"[Rn].5f14.6d10.7s2.7p4\",\"[Rn].5f14.6d10.7s2.7p5\",\"[Rn].5f14.6d10.7s2.7p6\"],\"group\":[\"1\",\"18\",\"1\",\"2\",\"13\",\"14\",\"15\",\"16\",\"17\",\"18\",\"1\",\"2\",\"13\",\"14\",\"15\",\"16\",\"17\",\"18\",\"1\",\"2\",\"3\",\"4\",\"5\",\"6\",\"7\",\"8\",\"9\",\"10\",\"11\",\"12\",\"13\",\"14\",\"15\",\"16\",\"17\",\"18\",\"1\",\"2\",\"3\",\"4\",\"5\",\"6\",\"7\",\"8\",\"9\",\"10\",\"11\",\"12\",\"13\",\"14\",\"15\",\"16\",\"17\",\"18\",\"1\",\"2\",\"-\",\"-\",\"-\",\"-\",\"-\",\"-\",\"-\",\"-\",\"-\",\"-\",\"-\",\"-\",\"-\",\"-\",\"3\",\"4\",\"5\",\"6\",\"7\",\"8\",\"9\",\"10\",\"11\",\"12\",\"13\",\"14\",\"15\",\"16\",\"17\",\"18\",\"1\",\"2\",\"-\",\"-\",\"-\",\"-\",\"-\",\"-\",\"-\",\"-\",\"-\",\"-\",\"-\",\"-\",\"-\",\"-\",\"3\",\"4\",\"5\",\"6\",\"7\",\"8\",\"9\",\"10\",\"11\",\"12\",\"13\",\"14\",\"15\",\"16\",\"17\",\"18\"],\"index\":[0,1,2,3,4,5,6,7,8,9,10,11,12,13,14,15,16,17,18,19,20,21,22,23,24,25,26,27,28,29,30,31,32,33,34,35,36,37,38,39,40,41,42,43,44,45,46,47,48,49,50,51,52,53,54,55,56,57,58,59,60,61,62,63,64,65,66,67,68,69,70,71,72,73,74,75,76,77,78,79,80,81,82,83,84,85,86,87,88,89,90,91,92,93,94,95,96,97,98,99,100,101,102,103,104,105,106,107,108,109,110,111,112,113,114,115,116,117],\"ion radius\":[\"NaN\",\"NaN\",\"76 (+1)\",\"45 (+2)\",\"27 (+3)\",\"16 (+4)\",\"146 (-3)\",\"140 (-2)\",\"133 (-1)\",\"NaN\",\"102 (+1)\",\"72 (+2)\",\"53.5 (+3)\",\"40 (+4)\",\"44 (+3)\",\"184 (-2)\",\"181 (-1)\",\"NaN\",\"138 (+1)\",\"100 (+2)\",\"74.5 (+3)\",\"86 (+2)\",\"79 (+2)\",\"80 (+2*)\",\"67 (+2)\",\"78 (+2*)\",\"74.5 (+2*)\",\"69 (+2)\",\"77 (+1)\",\"74 (+2)\",\"62 (+3)\",\"73 (+2)\",\"58 (+3)\",\"198 (-2)\",\"196 (-1)\",\"NaN\",\"152 (+1)\",\"118 (+2)\",\"90 (+3)\",\"72 (+4)\",\"72 (+3)\",\"69 (+3)\",\"64.5 (+4)\",\"68 (+3)\",\"66.5 (+3)\",\"59 (+1)\",\"115 (+1)\",\"95 (+2)\",\"80 (+3)\",\"112 (+2)\",\"76 (+3)\",\"221 (-2)\",\"220 (-1)\",\"48 (+8)\",\"167 (+1)\",\"135 (+2)\",\"103.2 (+3)\",\"102 (+3)\",\"99 (+3)\",\"129 (+2)\",\"97 (+3)\",\"122 (+2)\",\"117 (+2)\",\"93.8 (+3)\",\"92.3 (+3)\",\"107 (+2)\",\"90.1 (+3)\",\"89 (+3)\",\"103 (+2)\",\"102 (+2)\",\"86.1 (+3)\",\"71 (+4)\",\"72 (+3)\",\"66 (+4)\",\"63 (+4)\",\"63 (+4)\",\"68 (+3)\",\"86 (+2)\",\"137 (+1)\",\"119 (+1)\",\"150 (+1)\",\"119 (+2)\",\"103 (+3)\",\"94 (+4)\",\"62 (+7)\",\"NaN\",\"180 (+1)\",\"148 (+2)\",\"112 (+3)\",\"94 (+4)\",\"104 (+3)\",\"102.5 (+3)\",\"110 (+2)\",\"100 (+3)\",\"126 (+2)\",\"97 (+3)\",\"96 (+3)\",\"95 (+3)\",\"NaN\",\"NaN\",\"NaN\",\"NaN\",\"NaN\",\"NaN\",\"NaN\",\"NaN\",\"NaN\",\"NaN\",\"NaN\",\"NaN\",\"NaN\",\"NaN\",\"NaN\",\"NaN\",\"NaN\",\"NaN\",\"NaN\",\"NaN\"],\"melting point\":{\"__ndarray__\":\"AAAAAAAALEAAAAAAAAD4fwAAAAAAYHxAAAAAAABgmEAAAAAAAFiiQAAAAAAA3q1AAAAAAACAT0AAAAAAAIBLQAAAAAAAAEtAAAAAAAAAOUAAAAAAADB3QAAAAAAA2IxAAAAAAAAojUAAAAAAAFyaQAAAAAAA0HNAAAAAAABAeEAAAAAAAIBlQAAAAAAAAFVAAAAAAAAQdUAAAAAAAGyRQAAAAAAAWJxAAAAAAABUnkAAAAAAAA6hQAAAAAAACKFAAAAAAAC8l0AAAAAAAEycQAAAAAAAoJtAAAAAAAAAm0AAAAAAADiVQAAAAAAAqIVAAAAAAADwckAAAAAAAOySQAAAAAAACJFAAAAAAADgfkAAAAAAAKBwQAAAAAAAAF1AAAAAAACAc0AAAAAAAGiQQAAAAAAAHJxAAAAAAACgoEAAAAAAAHylQAAAAAAAoKZAAAAAAAD8okAAAAAAAF6kQAAAAAAAeqFAAAAAAACQnEAAAAAAAEyTQAAAAAAAkIJAAAAAAADgekAAAAAAAJB/QAAAAAAAQIxAAAAAAACYhkAAAAAAADB4QAAAAAAAIGRAAAAAAADgckAAAAAAAECPQAAAAAAApJJAAAAAAAC8kEAAAAAAANCSQAAAAAAAOJRAAAAAAAB0lUAAAAAAAASVQAAAAAAAHJFAAAAAAADImEAAAAAAAHSZQAAAAAAAVJpAAAAAAABMm0AAAAAAAKibQAAAAAAAaJxAAAAAAAAQkUAAAAAAAECeQAAAAAAAlKNAAAAAAAC0qUAAAAAAAN6sQAAAAAAABqtAAAAAAADUqUAAAAAAAGalQAAAAAAA5J9AAAAAAADklEAAAAAAAEBtQAAAAAAACIJAAAAAAADIgkAAAAAAAACBQAAAAAAAeIBAAAAAAAD4gUAAAAAAAEBpQAAAAAAAAPh/AAAAAABojkAAAAAAAKyUQAAAAAAAnJ9AAAAAAADUnEAAAAAAAACWQAAAAAAAqIxAAAAAAACIjEAAAAAAAKSWQAAAAAAASJlAAAAAAACslEAAAAAAAFSSQAAAAAAAtJFAAAAAAAAgnEAAAAAAADCRQAAAAAAAMJFAAAAAAACwnUAAAAAAAAD4fwAAAAAAAPh/AAAAAAAA+H8AAAAAAAD4fwAAAAAAAPh/AAAAAAAA+H8AAAAAAAD4fwAAAAAAAPh/AAAAAAAA+H8AAAAAAAD4fwAAAAAAAPh/AAAAAAAA+H8AAAAAAAD4fwAAAAAAAPh/AAAAAAAA+H8=\",\"dtype\":\"float64\",\"shape\":[118]},\"metal\":[\"nonmetal\",\"noble gas\",\"alkali metal\",\"alkaline earth metal\",\"metalloid\",\"nonmetal\",\"nonmetal\",\"nonmetal\",\"halogen\",\"noble gas\",\"alkali metal\",\"alkaline earth metal\",\"metal\",\"metalloid\",\"nonmetal\",\"nonmetal\",\"halogen\",\"noble gas\",\"alkali metal\",\"alkaline earth metal\",\"transition metal\",\"transition metal\",\"transition metal\",\"transition metal\",\"transition metal\",\"transition metal\",\"transition metal\",\"transition metal\",\"transition metal\",\"transition metal\",\"metal\",\"metalloid\",\"metalloid\",\"nonmetal\",\"halogen\",\"noble gas\",\"alkali metal\",\"alkaline earth metal\",\"transition metal\",\"transition metal\",\"transition metal\",\"transition metal\",\"transition metal\",\"transition metal\",\"transition metal\",\"transition metal\",\"transition metal\",\"transition metal\",\"metal\",\"metal\",\"metalloid\",\"metalloid\",\"halogen\",\"noble gas\",\"alkali metal\",\"alkaline earth metal\",\"lanthanoid\",\"lanthanoid\",\"lanthanoid\",\"lanthanoid\",\"lanthanoid\",\"lanthanoid\",\"lanthanoid\",\"lanthanoid\",\"lanthanoid\",\"lanthanoid\",\"lanthanoid\",\"lanthanoid\",\"lanthanoid\",\"lanthanoid\",\"transition metal\",\"transition metal\",\"transition metal\",\"transition metal\",\"transition metal\",\"transition metal\",\"transition metal\",\"transition metal\",\"transition metal\",\"transition metal\",\"metal\",\"metal\",\"metal\",\"metalloid\",\"halogen\",\"noble gas\",\"alkali metal\",\"alkaline earth metal\",\"actinoid\",\"actinoid\",\"actinoid\",\"actinoid\",\"actinoid\",\"actinoid\",\"actinoid\",\"actinoid\",\"actinoid\",\"actinoid\",\"actinoid\",\"actinoid\",\"actinoid\",\"actinoid\",\"transition metal\",\"transition metal\",\"transition metal\",\"transition metal\",\"transition metal\",\"transition metal\",\"transition metal\",\"transition metal\",\"transition metal\",\"transition metal\",\"metal\",\"metal\",\"metal\",\"metal\",\"halogen\",\"noble gas\"],\"name\":[\"Hydrogen\",\"Helium\",\"Lithium\",\"Beryllium\",\"Boron\",\"Carbon\",\"Nitrogen\",\"Oxygen\",\"Fluorine\",\"Neon\",\"Sodium\",\"Magnesium\",\"Aluminum\",\"Silicon\",\"Phosphorus\",\"Sulfur\",\"Chlorine\",\"Argon\",\"Potassium\",\"Calcium\",\"Scandium\",\"Titanium\",\"Vanadium\",\"Chromium\",\"Manganese\",\"Iron\",\"Cobalt\",\"Nickel\",\"Copper\",\"Zinc\",\"Gallium\",\"Germanium\",\"Arsenic\",\"Selenium\",\"Bromine\",\"Krypton\",\"Rubidium\",\"Strontium\",\"Yttrium\",\"Zirconium\",\"Niobium\",\"Molybdenum\",\"Technetium\",\"Ruthenium\",\"Rhodium\",\"Palladium\",\"Silver\",\"Cadmium\",\"Indium\",\"Tin\",\"Antimony\",\"Tellurium\",\"Iodine\",\"Xenon\",\"Cesium\",\"Barium\",\"Lanthanum\",\"Cerium\",\"Praseodymium\",\"Neodymium\",\"Promethium\",\"Samarium\",\"Europium\",\"Gadolinium\",\"Terbium\",\"Dysprosium\",\"Holmium\",\"Erbium\",\"Thulium\",\"Ytterbium\",\"Lutetium\",\"Hafnium\",\"Tantalum\",\"Tungsten\",\"Rhenium\",\"Osmium\",\"Iridium\",\"Platinum\",\"Gold\",\"Mercury\",\"Thallium\",\"Lead\",\"Bismuth\",\"Polonium\",\"Astatine\",\"Radon\",\"Francium\",\"Radium\",\"Actinium\",\"Thorium\",\"Protactinium\",\"Uranium\",\"Neptunium\",\"Plutonium\",\"Americium\",\"Curium\",\"Berkelium\",\"Californium\",\"Einsteinium\",\"Fermium\",\"Mendelevium\",\"Nobelium\",\"Lawrencium\",\"Rutherfordium\",\"Dubnium\",\"Seaborgium\",\"Bohrium\",\"Hassium\",\"Meitnerium\",\"Darmstadtium\",\"Roentgenium\",\"Copernicium\",\"Nihomium\",\"Flerovium\",\"Moscovium\",\"Livermorium\",\"Tennessine\",\"Oganesson\"],\"period\":[1,1,2,2,2,2,2,2,2,2,3,3,3,3,3,3,3,3,4,4,4,4,4,4,4,4,4,4,4,4,4,4,4,4,4,4,5,5,5,5,5,5,5,5,5,5,5,5,5,5,5,5,5,5,6,6,6,6,6,6,6,6,6,6,6,6,6,6,6,6,6,6,6,6,6,6,6,6,6,6,6,6,6,6,6,6,7,7,7,7,7,7,7,7,7,7,7,7,7,7,7,7,7,7,7,7,7,7,7,7,7,7,7,7,7,7,7,7],\"standard state\":[\"gas\",\"gas\",\"solid\",\"solid\",\"solid\",\"solid\",\"gas\",\"gas\",\"gas\",\"gas\",\"solid\",\"solid\",\"solid\",\"solid\",\"solid\",\"solid\",\"gas\",\"gas\",\"solid\",\"solid\",\"solid\",\"solid\",\"solid\",\"solid\",\"solid\",\"solid\",\"solid\",\"solid\",\"solid\",\"solid\",\"solid\",\"solid\",\"solid\",\"solid\",\"liquid\",\"gas\",\"solid\",\"solid\",\"solid\",\"solid\",\"solid\",\"solid\",\"solid\",\"solid\",\"solid\",\"solid\",\"solid\",\"solid\",\"solid\",\"solid\",\"solid\",\"solid\",\"solid\",\"gas\",\"solid\",\"solid\",\"solid\",\"solid\",\"solid\",\"solid\",\"solid\",\"solid\",\"solid\",\"solid\",\"solid\",\"solid\",\"solid\",\"solid\",\"solid\",\"solid\",\"solid\",\"solid\",\"solid\",\"solid\",\"solid\",\"solid\",\"solid\",\"solid\",\"solid\",\"liquid\",\"solid\",\"solid\",\"solid\",\"solid\",\"solid\",\"gas\",\"solid\",\"solid\",\"solid\",\"solid\",\"solid\",\"solid\",\"solid\",\"solid\",\"solid\",\"solid\",\"solid\",\"solid\",\"solid\",\"NaN\",\"NaN\",\"NaN\",\"NaN\",\"NaN\",\"NaN\",\"NaN\",\"NaN\",\"NaN\",\"NaN\",\"NaN\",\"NaN\",\"NaN\",\"NaN\",\"NaN\",\"NaN\",\"NaN\",\"NaN\",\"NaN\"],\"symbol\":[\"H\",\"He\",\"Li\",\"Be\",\"B\",\"C\",\"N\",\"O\",\"F\",\"Ne\",\"Na\",\"Mg\",\"Al\",\"Si\",\"P\",\"S\",\"Cl\",\"Ar\",\"K\",\"Ca\",\"Sc\",\"Ti\",\"V\",\"Cr\",\"Mn\",\"Fe\",\"Co\",\"Ni\",\"Cu\",\"Zn\",\"Ga\",\"Ge\",\"As\",\"Se\",\"Br\",\"Kr\",\"Rb\",\"Sr\",\"Y\",\"Zr\",\"Nb\",\"Mo\",\"Tc\",\"Ru\",\"Rh\",\"Pd\",\"Ag\",\"Cd\",\"In\",\"Sn\",\"Sb\",\"Te\",\"I\",\"Xe\",\"Cs\",\"Ba\",\"La\",\"Ce\",\"Pr\",\"Nd\",\"Pm\",\"Sm\",\"Eu\",\"Gd\",\"Tb\",\"Dy\",\"Ho\",\"Er\",\"Tm\",\"Yb\",\"Lu\",\"Hf\",\"Ta\",\"W\",\"Re\",\"Os\",\"Ir\",\"Pt\",\"Au\",\"Hg\",\"Tl\",\"Pb\",\"Bi\",\"Po\",\"At\",\"Rn\",\"Fr\",\"Ra\",\"Ac\",\"Th\",\"Pa\",\"U\",\"Np\",\"Pu\",\"Am\",\"Cm\",\"Bk\",\"Cf\",\"Es\",\"Fm\",\"Md\",\"No\",\"Lr\",\"Rf\",\"Db\",\"Sg\",\"Bh\",\"Hs\",\"Mt\",\"Ds\",\"Rg\",\"Cn\",\"Nh\",\"Fl\",\"Mc\",\"Lv\",\"Ts\",\"Og\"],\"van der Waals radius\":{\"__ndarray__\":\"AAAAAAAAXkAAAAAAAIBhQAAAAAAAwGZAAAAAAAAA+H8AAAAAAAD4fwAAAAAAQGVAAAAAAABgY0AAAAAAAABjQAAAAAAAYGJAAAAAAABAY0AAAAAAAGBsQAAAAAAAoGVAAAAAAAAA+H8AAAAAAEBqQAAAAAAAgGZAAAAAAACAZkAAAAAAAOBlQAAAAAAAgGdAAAAAAAAwcUAAAAAAAAD4fwAAAAAAAPh/AAAAAAAA+H8AAAAAAAD4fwAAAAAAAPh/AAAAAAAA+H8AAAAAAAD4fwAAAAAAAPh/AAAAAABgZEAAAAAAAIBhQAAAAAAAYGFAAAAAAABgZ0AAAAAAAAD4fwAAAAAAIGdAAAAAAADAZ0AAAAAAACBnQAAAAAAAQGlAAAAAAAAA+H8AAAAAAAD4fwAAAAAAAPh/AAAAAAAA+H8AAAAAAAD4fwAAAAAAAPh/AAAAAAAA+H8AAAAAAAD4fwAAAAAAAPh/AAAAAABgZEAAAAAAAIBlQAAAAAAAwGNAAAAAAAAgaEAAAAAAACBrQAAAAAAAAPh/AAAAAADAaUAAAAAAAMBoQAAAAAAAAGtAAAAAAAAA+H8AAAAAAAD4fwAAAAAAAPh/AAAAAAAA+H8AAAAAAAD4fwAAAAAAAPh/AAAAAAAA+H8AAAAAAAD4fwAAAAAAAPh/AAAAAAAA+H8AAAAAAAD4fwAAAAAAAPh/AAAAAAAA+H8AAAAAAAD4fwAAAAAAAPh/AAAAAAAA+H8AAAAAAAD4fwAAAAAAAPh/AAAAAAAA+H8AAAAAAAD4fwAAAAAAAPh/AAAAAAAA+H8AAAAAAAD4fwAAAAAA4GVAAAAAAADAZEAAAAAAAGBjQAAAAAAAgGhAAAAAAABAaUAAAAAAAAD4fwAAAAAAAPh/AAAAAAAA+H8AAAAAAAD4fwAAAAAAAPh/AAAAAAAA+H8AAAAAAAD4fwAAAAAAAPh/AAAAAAAA+H8AAAAAAEBnQAAAAAAAAPh/AAAAAAAA+H8AAAAAAAD4fwAAAAAAAPh/AAAAAAAA+H8AAAAAAAD4fwAAAAAAAPh/AAAAAAAA+H8AAAAAAAD4fwAAAAAAAPh/AAAAAAAA+H8AAAAAAAD4fwAAAAAAAPh/AAAAAAAA+H8AAAAAAAD4fwAAAAAAAPh/AAAAAAAA+H8AAAAAAAD4fwAAAAAAAPh/AAAAAAAA+H8AAAAAAAD4fwAAAAAAAPh/AAAAAAAA+H8AAAAAAAD4fwAAAAAAAPh/AAAAAAAA+H8=\",\"dtype\":\"float64\",\"shape\":[118]},\"year discovered\":[\"1766\",\"1868\",\"1817\",\"1798\",\"1807\",\"Ancient\",\"1772\",\"1774\",\"1670\",\"1898\",\"1807\",\"1808\",\"Ancient\",\"1854\",\"1669\",\"Ancient\",\"1774\",\"1894\",\"1807\",\"Ancient\",\"1876\",\"1791\",\"1803\",\"Ancient\",\"1774\",\"Ancient\",\"Ancient\",\"1751\",\"Ancient\",\"1746\",\"1875\",\"1886\",\"Ancient\",\"1817\",\"1826\",\"1898\",\"1861\",\"1790\",\"1794\",\"1789\",\"1801\",\"1778\",\"1937\",\"1827\",\"1803\",\"1803\",\"Ancient\",\"1817\",\"1863\",\"Ancient\",\"Ancient\",\"1782\",\"1811\",\"1898\",\"1860\",\"1808\",\"1839\",\"1803\",\"1885\",\"1885\",\"1947\",\"1853\",\"1901\",\"1880\",\"1843\",\"1886\",\"1878\",\"1842\",\"1879\",\"1878\",\"1907\",\"1923\",\"1802\",\"1783\",\"1925\",\"1803\",\"1803\",\"Ancient\",\"Ancient\",\"Ancient\",\"1861\",\"Ancient\",\"Ancient\",\"1898\",\"1940\",\"1900\",\"1939\",\"1898\",\"1899\",\"1828\",\"1913\",\"1789\",\"1940\",\"1940\",\"1944\",\"1944\",\"1949\",\"1950\",\"1952\",\"1952\",\"1955\",\"1957\",\"1961\",\"1969\",\"1967\",\"1974\",\"1976\",\"1984\",\"1982\",\"1994\",\"1994\",\"1996\",\"2003\",\"1998\",\"2003\",\"2000\",\"2010\",\"2002\"]},\"selected\":{\"id\":\"29061\",\"type\":\"Selection\"},\"selection_policy\":{\"id\":\"29060\",\"type\":\"UnionRenderers\"}},\"id\":\"28277\",\"type\":\"ColumnDataSource\"},{\"attributes\":{},\"id\":\"28251\",\"type\":\"LinearScale\"},{\"attributes\":{\"callback\":null},\"id\":\"28245\",\"type\":\"DataRange1d\"},{\"attributes\":{},\"id\":\"28254\",\"type\":\"BasicTicker\"},{\"attributes\":{},\"id\":\"29061\",\"type\":\"Selection\"},{\"attributes\":{},\"id\":\"28264\",\"type\":\"WheelZoomTool\"},{\"attributes\":{\"formatter\":{\"id\":\"29057\",\"type\":\"BasicTickFormatter\"},\"ticker\":{\"id\":\"28259\",\"type\":\"BasicTicker\"}},\"id\":\"28258\",\"type\":\"LinearAxis\"},{\"attributes\":{},\"id\":\"28266\",\"type\":\"SaveTool\"},{\"attributes\":{\"formatter\":{\"id\":\"29059\",\"type\":\"BasicTickFormatter\"},\"ticker\":{\"id\":\"28254\",\"type\":\"BasicTicker\"}},\"id\":\"28253\",\"type\":\"LinearAxis\"},{\"attributes\":{},\"id\":\"28268\",\"type\":\"HelpTool\"},{\"attributes\":{},\"id\":\"29060\",\"type\":\"UnionRenderers\"},{\"attributes\":{},\"id\":\"28249\",\"type\":\"LinearScale\"},{\"attributes\":{\"text\":\"Periodic Table of elements\"},\"id\":\"28276\",\"type\":\"Title\"},{\"attributes\":{},\"id\":\"28259\",\"type\":\"BasicTicker\"}],\"root_ids\":[\"28244\"]},\"title\":\"Bokeh Application\",\"version\":\"1.3.4\"}};\n",
       "  var render_items = [{\"docid\":\"360be6b0-6be4-4ba0-b01f-9a94475a6285\",\"roots\":{\"28244\":\"a856cc48-060b-4658-b802-489cd5e1c0bd\"}}];\n",
       "  root.Bokeh.embed.embed_items_notebook(docs_json, render_items);\n",
       "\n",
       "  }\n",
       "  if (root.Bokeh !== undefined) {\n",
       "    embed_document(root);\n",
       "  } else {\n",
       "    var attempts = 0;\n",
       "    var timer = setInterval(function(root) {\n",
       "      if (root.Bokeh !== undefined) {\n",
       "        embed_document(root);\n",
       "        clearInterval(timer);\n",
       "      }\n",
       "      attempts++;\n",
       "      if (attempts > 100) {\n",
       "        console.log(\"Bokeh: ERROR: Unable to run BokehJS code because BokehJS library is missing\");\n",
       "        clearInterval(timer);\n",
       "      }\n",
       "    }, 10, root)\n",
       "  }\n",
       "})(window);"
      ],
      "application/vnd.bokehjs_exec.v0+json": ""
     },
     "metadata": {
      "application/vnd.bokehjs_exec.v0+json": {
       "id": "28244"
      }
     },
     "output_type": "display_data"
    }
   ],
   "source": [
    "pt = figure()\n",
    "pt.title.text = 'Periodic Table of elements'\n",
    "\n",
    "# Creating the datasource\n",
    "source_pt = ColumnDataSource(elements)\n",
    "\n",
    "# Creating the scatter plot\n",
    "pt.scatter(x = 'atomic radius', y = 'electronegativity', source = source_pt, size = 8)\n",
    "\n",
    "# creating the labels\n",
    "names = LabelSet(x = 'atomic radius', y = 'electronegativity', text = 'symbol', source = source_pt)\n",
    "pt.add_layout(names)\n",
    "\n",
    "show(pt)"
   ]
  },
  {
   "cell_type": "markdown",
   "metadata": {},
   "source": [
    "## Exercise 5: Gridplots\n",
    "### Working with new data"
   ]
  },
  {
   "cell_type": "code",
   "execution_count": 15,
   "metadata": {},
   "outputs": [
    {
     "data": {
      "text/html": [
       "<div>\n",
       "<style scoped>\n",
       "    .dataframe tbody tr th:only-of-type {\n",
       "        vertical-align: middle;\n",
       "    }\n",
       "\n",
       "    .dataframe tbody tr th {\n",
       "        vertical-align: top;\n",
       "    }\n",
       "\n",
       "    .dataframe thead th {\n",
       "        text-align: right;\n",
       "    }\n",
       "</style>\n",
       "<table border=\"1\" class=\"dataframe\">\n",
       "  <thead>\n",
       "    <tr style=\"text-align: right;\">\n",
       "      <th></th>\n",
       "      <th>atomic number</th>\n",
       "      <th>symbol</th>\n",
       "      <th>name</th>\n",
       "      <th>atomic mass</th>\n",
       "      <th>CPK</th>\n",
       "      <th>electronic configuration</th>\n",
       "      <th>electronegativity</th>\n",
       "      <th>atomic radius</th>\n",
       "      <th>ion radius</th>\n",
       "      <th>van der Waals radius</th>\n",
       "      <th>...</th>\n",
       "      <th>EA</th>\n",
       "      <th>standard state</th>\n",
       "      <th>bonding type</th>\n",
       "      <th>melting point</th>\n",
       "      <th>boiling point</th>\n",
       "      <th>density</th>\n",
       "      <th>metal</th>\n",
       "      <th>year discovered</th>\n",
       "      <th>group</th>\n",
       "      <th>period</th>\n",
       "    </tr>\n",
       "  </thead>\n",
       "  <tbody>\n",
       "    <tr>\n",
       "      <th>0</th>\n",
       "      <td>1</td>\n",
       "      <td>H</td>\n",
       "      <td>Hydrogen</td>\n",
       "      <td>1.00794</td>\n",
       "      <td>#FFFFFF</td>\n",
       "      <td>1s1</td>\n",
       "      <td>2.20</td>\n",
       "      <td>37.0</td>\n",
       "      <td>NaN</td>\n",
       "      <td>120.0</td>\n",
       "      <td>...</td>\n",
       "      <td>-73.0</td>\n",
       "      <td>gas</td>\n",
       "      <td>diatomic</td>\n",
       "      <td>14.0</td>\n",
       "      <td>20.0</td>\n",
       "      <td>0.00009</td>\n",
       "      <td>nonmetal</td>\n",
       "      <td>1766</td>\n",
       "      <td>1</td>\n",
       "      <td>1</td>\n",
       "    </tr>\n",
       "    <tr>\n",
       "      <th>1</th>\n",
       "      <td>2</td>\n",
       "      <td>He</td>\n",
       "      <td>Helium</td>\n",
       "      <td>4.002602</td>\n",
       "      <td>#D9FFFF</td>\n",
       "      <td>1s2</td>\n",
       "      <td>NaN</td>\n",
       "      <td>32.0</td>\n",
       "      <td>NaN</td>\n",
       "      <td>140.0</td>\n",
       "      <td>...</td>\n",
       "      <td>0.0</td>\n",
       "      <td>gas</td>\n",
       "      <td>atomic</td>\n",
       "      <td>NaN</td>\n",
       "      <td>4.0</td>\n",
       "      <td>0.00000</td>\n",
       "      <td>noble gas</td>\n",
       "      <td>1868</td>\n",
       "      <td>18</td>\n",
       "      <td>1</td>\n",
       "    </tr>\n",
       "    <tr>\n",
       "      <th>2</th>\n",
       "      <td>3</td>\n",
       "      <td>Li</td>\n",
       "      <td>Lithium</td>\n",
       "      <td>6.941</td>\n",
       "      <td>#CC80FF</td>\n",
       "      <td>[He] 2s1</td>\n",
       "      <td>0.98</td>\n",
       "      <td>134.0</td>\n",
       "      <td>76 (+1)</td>\n",
       "      <td>182.0</td>\n",
       "      <td>...</td>\n",
       "      <td>-60.0</td>\n",
       "      <td>solid</td>\n",
       "      <td>metallic</td>\n",
       "      <td>454.0</td>\n",
       "      <td>1615.0</td>\n",
       "      <td>0.54000</td>\n",
       "      <td>alkali metal</td>\n",
       "      <td>1817</td>\n",
       "      <td>1</td>\n",
       "      <td>2</td>\n",
       "    </tr>\n",
       "    <tr>\n",
       "      <th>3</th>\n",
       "      <td>4</td>\n",
       "      <td>Be</td>\n",
       "      <td>Beryllium</td>\n",
       "      <td>9.012182</td>\n",
       "      <td>#C2FF00</td>\n",
       "      <td>[He] 2s2</td>\n",
       "      <td>1.57</td>\n",
       "      <td>90.0</td>\n",
       "      <td>45 (+2)</td>\n",
       "      <td>NaN</td>\n",
       "      <td>...</td>\n",
       "      <td>0.0</td>\n",
       "      <td>solid</td>\n",
       "      <td>metallic</td>\n",
       "      <td>1560.0</td>\n",
       "      <td>2743.0</td>\n",
       "      <td>1.85000</td>\n",
       "      <td>alkaline earth metal</td>\n",
       "      <td>1798</td>\n",
       "      <td>2</td>\n",
       "      <td>2</td>\n",
       "    </tr>\n",
       "    <tr>\n",
       "      <th>4</th>\n",
       "      <td>5</td>\n",
       "      <td>B</td>\n",
       "      <td>Boron</td>\n",
       "      <td>10.811</td>\n",
       "      <td>#FFB5B5</td>\n",
       "      <td>[He] 2s2 2p1</td>\n",
       "      <td>2.04</td>\n",
       "      <td>82.0</td>\n",
       "      <td>27 (+3)</td>\n",
       "      <td>NaN</td>\n",
       "      <td>...</td>\n",
       "      <td>-27.0</td>\n",
       "      <td>solid</td>\n",
       "      <td>covalent network</td>\n",
       "      <td>2348.0</td>\n",
       "      <td>4273.0</td>\n",
       "      <td>2.46000</td>\n",
       "      <td>metalloid</td>\n",
       "      <td>1807</td>\n",
       "      <td>13</td>\n",
       "      <td>2</td>\n",
       "    </tr>\n",
       "  </tbody>\n",
       "</table>\n",
       "<p>5 rows × 21 columns</p>\n",
       "</div>"
      ],
      "text/plain": [
       "   atomic number symbol       name atomic mass      CPK  \\\n",
       "0              1      H   Hydrogen     1.00794  #FFFFFF   \n",
       "1              2     He     Helium    4.002602  #D9FFFF   \n",
       "2              3     Li    Lithium       6.941  #CC80FF   \n",
       "3              4     Be  Beryllium    9.012182  #C2FF00   \n",
       "4              5      B      Boron      10.811  #FFB5B5   \n",
       "\n",
       "  electronic configuration  electronegativity  atomic radius ion radius  \\\n",
       "0                      1s1               2.20           37.0        NaN   \n",
       "1                      1s2                NaN           32.0        NaN   \n",
       "2                 [He] 2s1               0.98          134.0    76 (+1)   \n",
       "3                 [He] 2s2               1.57           90.0    45 (+2)   \n",
       "4             [He] 2s2 2p1               2.04           82.0    27 (+3)   \n",
       "\n",
       "   van der Waals radius  ...    EA  standard state      bonding type  \\\n",
       "0                 120.0  ... -73.0             gas          diatomic   \n",
       "1                 140.0  ...   0.0             gas            atomic   \n",
       "2                 182.0  ... -60.0           solid          metallic   \n",
       "3                   NaN  ...   0.0           solid          metallic   \n",
       "4                   NaN  ... -27.0           solid  covalent network   \n",
       "\n",
       "  melting point  boiling point  density                 metal year discovered  \\\n",
       "0          14.0           20.0  0.00009              nonmetal            1766   \n",
       "1           NaN            4.0  0.00000             noble gas            1868   \n",
       "2         454.0         1615.0  0.54000          alkali metal            1817   \n",
       "3        1560.0         2743.0  1.85000  alkaline earth metal            1798   \n",
       "4        2348.0         4273.0  2.46000             metalloid            1807   \n",
       "\n",
       "  group period  \n",
       "0     1      1  \n",
       "1    18      1  \n",
       "2     1      2  \n",
       "3     2      2  \n",
       "4    13      2  \n",
       "\n",
       "[5 rows x 21 columns]"
      ]
     },
     "execution_count": 15,
     "metadata": {},
     "output_type": "execute_result"
    }
   ],
   "source": [
    "from bokeh.sampledata.periodic_table import elements\n",
    "elements.head()"
   ]
  },
  {
   "cell_type": "code",
   "execution_count": null,
   "metadata": {},
   "outputs": [],
   "source": []
  }
 ],
 "metadata": {
  "kernelspec": {
   "display_name": "Python 3",
   "language": "python",
   "name": "python3"
  },
  "language_info": {
   "codemirror_mode": {
    "name": "ipython",
    "version": 3
   },
   "file_extension": ".py",
   "mimetype": "text/x-python",
   "name": "python",
   "nbconvert_exporter": "python",
   "pygments_lexer": "ipython3",
   "version": "3.7.4"
  }
 },
 "nbformat": 4,
 "nbformat_minor": 2
}
